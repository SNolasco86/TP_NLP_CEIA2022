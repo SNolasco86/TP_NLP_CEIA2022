{
  "cells": [
    {
      "cell_type": "markdown",
      "metadata": {
        "id": "kBLpTr7plguX"
      },
      "source": [
        "<img src=\"https://github.com/hernancontigiani/ceia_memorias_especializacion/raw/master/Figures/logoFIUBA.jpg\" width=\"500\" align=\"center\">\n",
        "\n",
        "\n",
        "# Procesamiento de lenguaje natural\n",
        "## Sentiment analysis con Embeddings + LSTM"
      ]
    },
    {
      "cell_type": "markdown",
      "metadata": {
        "id": "9W6nuajhlqZD"
      },
      "source": [
        "### Objetivo\n",
        "El objetivo es utilizar las críticas de compradores de ropa para que el sistema determine la evaluación del comprador y su crítica (cuantas estrellas le asigna al producto)."
      ]
    },
    {
      "cell_type": "code",
      "execution_count": 1,
      "metadata": {
        "id": "i6zvzv3qZ6xS"
      },
      "outputs": [],
      "source": [
        "!pip install --upgrade --no-cache-dir gdown --quiet"
      ]
    },
    {
      "cell_type": "code",
      "execution_count": 2,
      "metadata": {
        "id": "hCpOVzJdl8_p"
      },
      "outputs": [],
      "source": [
        "import numpy as np\n",
        "import random\n",
        "import io\n",
        "import pickle\n",
        "import pandas as pd\n",
        "\n",
        "import matplotlib.pyplot as plt\n",
        "import seaborn as sns\n",
        "\n",
        "import tensorflow as tf\n",
        "from tensorflow import keras\n",
        "from tensorflow.keras import layers\n",
        "\n",
        "from keras.utils.np_utils import to_categorical\n",
        "from tensorflow.keras.utils import pad_sequences\n",
        "from keras.models import Sequential\n",
        "from keras.layers import Dense\n",
        "from keras.layers import LSTM\n",
        "from keras.layers import Embedding"
      ]
    },
    {
      "cell_type": "markdown",
      "metadata": {
        "id": "8UPeRkrAmbF3"
      },
      "source": [
        "### Datos\n",
        "Utilizaremos como dataset críticas de compradores de ropa (eCommerce) los cuales puntuaron a cada prenda con un puntaje de 1 a 5 estrellas.\\\n",
        "Referencia del dataset: [LINK](https://www.kaggle.com/nicapotato/womens-ecommerce-clothing-reviews/version/1)"
      ]
    },
    {
      "cell_type": "code",
      "execution_count": 3,
      "metadata": {
        "colab": {
          "base_uri": "https://localhost:8080/"
        },
        "id": "C7jLvTU3lSyL",
        "outputId": "ff2d00ec-e55f-4e86-8a74-87d33eefad0f"
      },
      "outputs": [
        {
          "output_type": "stream",
          "name": "stderr",
          "text": [
            "Downloading...\n",
            "From: https://drive.google.com/uc?id=1Urn1UFSrodN5BuW6-sc_igtaySGRwhV8\n",
            "To: /content/clothing_ecommerce_reviews.csv\n",
            "100%|██████████| 8.48M/8.48M [00:00<00:00, 31.5MB/s]\n"
          ]
        }
      ],
      "source": [
        "# Descargar la carpeta de dataset\n",
        "import os\n",
        "import gdown\n",
        "if os.access('clothing_ecommerce_reviews.csv', os.F_OK) is False:\n",
        "    url = 'https://drive.google.com/uc?id=1Urn1UFSrodN5BuW6-sc_igtaySGRwhV8'\n",
        "    output = 'clothing_ecommerce_reviews.csv'\n",
        "    gdown.download(url, output, quiet=False)\n",
        "else:\n",
        "    print(\"El dataset ya se encuentra descargado\")"
      ]
    },
    {
      "cell_type": "code",
      "execution_count": 4,
      "metadata": {
        "colab": {
          "base_uri": "https://localhost:8080/",
          "height": 302
        },
        "id": "o-SV1P3dnD1J",
        "outputId": "106bffe3-e304-4547-ffff-aa0a6a460585"
      },
      "outputs": [
        {
          "output_type": "execute_result",
          "data": {
            "text/plain": [
              "   Clothing ID  Age                    Title  \\\n",
              "0          767   33                      NaN   \n",
              "1         1080   34                      NaN   \n",
              "2         1077   60  Some major design flaws   \n",
              "3         1049   50         My favorite buy!   \n",
              "4          847   47         Flattering shirt   \n",
              "\n",
              "                                         Review Text  Rating  Recommended IND  \\\n",
              "0  Absolutely wonderful - silky and sexy and comf...       4                1   \n",
              "1  Love this dress!  it's sooo pretty.  i happene...       5                1   \n",
              "2  I had such high hopes for this dress and reall...       3                0   \n",
              "3  I love, love, love this jumpsuit. it's fun, fl...       5                1   \n",
              "4  This shirt is very flattering to all due to th...       5                1   \n",
              "\n",
              "   Positive Feedback Count   Division Name Department Name Class Name  \n",
              "0                        0       Initmates        Intimate  Intimates  \n",
              "1                        4         General         Dresses    Dresses  \n",
              "2                        0         General         Dresses    Dresses  \n",
              "3                        0  General Petite         Bottoms      Pants  \n",
              "4                        6         General            Tops    Blouses  "
            ],
            "text/html": [
              "\n",
              "  <div id=\"df-d9665c24-2a77-439e-8ca0-878a71ed8c41\">\n",
              "    <div class=\"colab-df-container\">\n",
              "      <div>\n",
              "<style scoped>\n",
              "    .dataframe tbody tr th:only-of-type {\n",
              "        vertical-align: middle;\n",
              "    }\n",
              "\n",
              "    .dataframe tbody tr th {\n",
              "        vertical-align: top;\n",
              "    }\n",
              "\n",
              "    .dataframe thead th {\n",
              "        text-align: right;\n",
              "    }\n",
              "</style>\n",
              "<table border=\"1\" class=\"dataframe\">\n",
              "  <thead>\n",
              "    <tr style=\"text-align: right;\">\n",
              "      <th></th>\n",
              "      <th>Clothing ID</th>\n",
              "      <th>Age</th>\n",
              "      <th>Title</th>\n",
              "      <th>Review Text</th>\n",
              "      <th>Rating</th>\n",
              "      <th>Recommended IND</th>\n",
              "      <th>Positive Feedback Count</th>\n",
              "      <th>Division Name</th>\n",
              "      <th>Department Name</th>\n",
              "      <th>Class Name</th>\n",
              "    </tr>\n",
              "  </thead>\n",
              "  <tbody>\n",
              "    <tr>\n",
              "      <th>0</th>\n",
              "      <td>767</td>\n",
              "      <td>33</td>\n",
              "      <td>NaN</td>\n",
              "      <td>Absolutely wonderful - silky and sexy and comf...</td>\n",
              "      <td>4</td>\n",
              "      <td>1</td>\n",
              "      <td>0</td>\n",
              "      <td>Initmates</td>\n",
              "      <td>Intimate</td>\n",
              "      <td>Intimates</td>\n",
              "    </tr>\n",
              "    <tr>\n",
              "      <th>1</th>\n",
              "      <td>1080</td>\n",
              "      <td>34</td>\n",
              "      <td>NaN</td>\n",
              "      <td>Love this dress!  it's sooo pretty.  i happene...</td>\n",
              "      <td>5</td>\n",
              "      <td>1</td>\n",
              "      <td>4</td>\n",
              "      <td>General</td>\n",
              "      <td>Dresses</td>\n",
              "      <td>Dresses</td>\n",
              "    </tr>\n",
              "    <tr>\n",
              "      <th>2</th>\n",
              "      <td>1077</td>\n",
              "      <td>60</td>\n",
              "      <td>Some major design flaws</td>\n",
              "      <td>I had such high hopes for this dress and reall...</td>\n",
              "      <td>3</td>\n",
              "      <td>0</td>\n",
              "      <td>0</td>\n",
              "      <td>General</td>\n",
              "      <td>Dresses</td>\n",
              "      <td>Dresses</td>\n",
              "    </tr>\n",
              "    <tr>\n",
              "      <th>3</th>\n",
              "      <td>1049</td>\n",
              "      <td>50</td>\n",
              "      <td>My favorite buy!</td>\n",
              "      <td>I love, love, love this jumpsuit. it's fun, fl...</td>\n",
              "      <td>5</td>\n",
              "      <td>1</td>\n",
              "      <td>0</td>\n",
              "      <td>General Petite</td>\n",
              "      <td>Bottoms</td>\n",
              "      <td>Pants</td>\n",
              "    </tr>\n",
              "    <tr>\n",
              "      <th>4</th>\n",
              "      <td>847</td>\n",
              "      <td>47</td>\n",
              "      <td>Flattering shirt</td>\n",
              "      <td>This shirt is very flattering to all due to th...</td>\n",
              "      <td>5</td>\n",
              "      <td>1</td>\n",
              "      <td>6</td>\n",
              "      <td>General</td>\n",
              "      <td>Tops</td>\n",
              "      <td>Blouses</td>\n",
              "    </tr>\n",
              "  </tbody>\n",
              "</table>\n",
              "</div>\n",
              "      <button class=\"colab-df-convert\" onclick=\"convertToInteractive('df-d9665c24-2a77-439e-8ca0-878a71ed8c41')\"\n",
              "              title=\"Convert this dataframe to an interactive table.\"\n",
              "              style=\"display:none;\">\n",
              "        \n",
              "  <svg xmlns=\"http://www.w3.org/2000/svg\" height=\"24px\"viewBox=\"0 0 24 24\"\n",
              "       width=\"24px\">\n",
              "    <path d=\"M0 0h24v24H0V0z\" fill=\"none\"/>\n",
              "    <path d=\"M18.56 5.44l.94 2.06.94-2.06 2.06-.94-2.06-.94-.94-2.06-.94 2.06-2.06.94zm-11 1L8.5 8.5l.94-2.06 2.06-.94-2.06-.94L8.5 2.5l-.94 2.06-2.06.94zm10 10l.94 2.06.94-2.06 2.06-.94-2.06-.94-.94-2.06-.94 2.06-2.06.94z\"/><path d=\"M17.41 7.96l-1.37-1.37c-.4-.4-.92-.59-1.43-.59-.52 0-1.04.2-1.43.59L10.3 9.45l-7.72 7.72c-.78.78-.78 2.05 0 2.83L4 21.41c.39.39.9.59 1.41.59.51 0 1.02-.2 1.41-.59l7.78-7.78 2.81-2.81c.8-.78.8-2.07 0-2.86zM5.41 20L4 18.59l7.72-7.72 1.47 1.35L5.41 20z\"/>\n",
              "  </svg>\n",
              "      </button>\n",
              "      \n",
              "  <style>\n",
              "    .colab-df-container {\n",
              "      display:flex;\n",
              "      flex-wrap:wrap;\n",
              "      gap: 12px;\n",
              "    }\n",
              "\n",
              "    .colab-df-convert {\n",
              "      background-color: #E8F0FE;\n",
              "      border: none;\n",
              "      border-radius: 50%;\n",
              "      cursor: pointer;\n",
              "      display: none;\n",
              "      fill: #1967D2;\n",
              "      height: 32px;\n",
              "      padding: 0 0 0 0;\n",
              "      width: 32px;\n",
              "    }\n",
              "\n",
              "    .colab-df-convert:hover {\n",
              "      background-color: #E2EBFA;\n",
              "      box-shadow: 0px 1px 2px rgba(60, 64, 67, 0.3), 0px 1px 3px 1px rgba(60, 64, 67, 0.15);\n",
              "      fill: #174EA6;\n",
              "    }\n",
              "\n",
              "    [theme=dark] .colab-df-convert {\n",
              "      background-color: #3B4455;\n",
              "      fill: #D2E3FC;\n",
              "    }\n",
              "\n",
              "    [theme=dark] .colab-df-convert:hover {\n",
              "      background-color: #434B5C;\n",
              "      box-shadow: 0px 1px 3px 1px rgba(0, 0, 0, 0.15);\n",
              "      filter: drop-shadow(0px 1px 2px rgba(0, 0, 0, 0.3));\n",
              "      fill: #FFFFFF;\n",
              "    }\n",
              "  </style>\n",
              "\n",
              "      <script>\n",
              "        const buttonEl =\n",
              "          document.querySelector('#df-d9665c24-2a77-439e-8ca0-878a71ed8c41 button.colab-df-convert');\n",
              "        buttonEl.style.display =\n",
              "          google.colab.kernel.accessAllowed ? 'block' : 'none';\n",
              "\n",
              "        async function convertToInteractive(key) {\n",
              "          const element = document.querySelector('#df-d9665c24-2a77-439e-8ca0-878a71ed8c41');\n",
              "          const dataTable =\n",
              "            await google.colab.kernel.invokeFunction('convertToInteractive',\n",
              "                                                     [key], {});\n",
              "          if (!dataTable) return;\n",
              "\n",
              "          const docLinkHtml = 'Like what you see? Visit the ' +\n",
              "            '<a target=\"_blank\" href=https://colab.research.google.com/notebooks/data_table.ipynb>data table notebook</a>'\n",
              "            + ' to learn more about interactive tables.';\n",
              "          element.innerHTML = '';\n",
              "          dataTable['output_type'] = 'display_data';\n",
              "          await google.colab.output.renderOutput(dataTable, element);\n",
              "          const docLink = document.createElement('div');\n",
              "          docLink.innerHTML = docLinkHtml;\n",
              "          element.appendChild(docLink);\n",
              "        }\n",
              "      </script>\n",
              "    </div>\n",
              "  </div>\n",
              "  "
            ]
          },
          "metadata": {},
          "execution_count": 4
        }
      ],
      "source": [
        "# Armar el dataset\n",
        "df = pd.read_csv('clothing_ecommerce_reviews.csv')\n",
        "df.drop(columns = ['Unnamed: 0'], inplace = True)\n",
        "df.head()"
      ]
    },
    {
      "cell_type": "markdown",
      "metadata": {
        "id": "q-OwSePKm-FK"
      },
      "source": [
        "### 1 - Limpieza de datos\n",
        "Alumno:\n",
        "- Del dataset unicamente utilizar las columnas \"Review Text\" y \"Rating.\n",
        "- Tranformar el rating 1-5 a una escala numérica de 0 a 4.\n",
        "\n"
      ]
    },
    {
      "cell_type": "code",
      "execution_count": 5,
      "metadata": {
        "colab": {
          "base_uri": "https://localhost:8080/",
          "height": 206
        },
        "id": "-hc7-AmYnPC3",
        "outputId": "12b2cd76-c5c0-4383-df60-6477c68233cf"
      },
      "outputs": [
        {
          "output_type": "execute_result",
          "data": {
            "text/plain": [
              "                                         Review Text  Rating\n",
              "0  Absolutely wonderful - silky and sexy and comf...       3\n",
              "1  Love this dress!  it's sooo pretty.  i happene...       4\n",
              "2  I had such high hopes for this dress and reall...       2\n",
              "3  I love, love, love this jumpsuit. it's fun, fl...       4\n",
              "4  This shirt is very flattering to all due to th...       4"
            ],
            "text/html": [
              "\n",
              "  <div id=\"df-63727459-d5c2-468a-bbd3-f5f7d0f6f166\">\n",
              "    <div class=\"colab-df-container\">\n",
              "      <div>\n",
              "<style scoped>\n",
              "    .dataframe tbody tr th:only-of-type {\n",
              "        vertical-align: middle;\n",
              "    }\n",
              "\n",
              "    .dataframe tbody tr th {\n",
              "        vertical-align: top;\n",
              "    }\n",
              "\n",
              "    .dataframe thead th {\n",
              "        text-align: right;\n",
              "    }\n",
              "</style>\n",
              "<table border=\"1\" class=\"dataframe\">\n",
              "  <thead>\n",
              "    <tr style=\"text-align: right;\">\n",
              "      <th></th>\n",
              "      <th>Review Text</th>\n",
              "      <th>Rating</th>\n",
              "    </tr>\n",
              "  </thead>\n",
              "  <tbody>\n",
              "    <tr>\n",
              "      <th>0</th>\n",
              "      <td>Absolutely wonderful - silky and sexy and comf...</td>\n",
              "      <td>3</td>\n",
              "    </tr>\n",
              "    <tr>\n",
              "      <th>1</th>\n",
              "      <td>Love this dress!  it's sooo pretty.  i happene...</td>\n",
              "      <td>4</td>\n",
              "    </tr>\n",
              "    <tr>\n",
              "      <th>2</th>\n",
              "      <td>I had such high hopes for this dress and reall...</td>\n",
              "      <td>2</td>\n",
              "    </tr>\n",
              "    <tr>\n",
              "      <th>3</th>\n",
              "      <td>I love, love, love this jumpsuit. it's fun, fl...</td>\n",
              "      <td>4</td>\n",
              "    </tr>\n",
              "    <tr>\n",
              "      <th>4</th>\n",
              "      <td>This shirt is very flattering to all due to th...</td>\n",
              "      <td>4</td>\n",
              "    </tr>\n",
              "  </tbody>\n",
              "</table>\n",
              "</div>\n",
              "      <button class=\"colab-df-convert\" onclick=\"convertToInteractive('df-63727459-d5c2-468a-bbd3-f5f7d0f6f166')\"\n",
              "              title=\"Convert this dataframe to an interactive table.\"\n",
              "              style=\"display:none;\">\n",
              "        \n",
              "  <svg xmlns=\"http://www.w3.org/2000/svg\" height=\"24px\"viewBox=\"0 0 24 24\"\n",
              "       width=\"24px\">\n",
              "    <path d=\"M0 0h24v24H0V0z\" fill=\"none\"/>\n",
              "    <path d=\"M18.56 5.44l.94 2.06.94-2.06 2.06-.94-2.06-.94-.94-2.06-.94 2.06-2.06.94zm-11 1L8.5 8.5l.94-2.06 2.06-.94-2.06-.94L8.5 2.5l-.94 2.06-2.06.94zm10 10l.94 2.06.94-2.06 2.06-.94-2.06-.94-.94-2.06-.94 2.06-2.06.94z\"/><path d=\"M17.41 7.96l-1.37-1.37c-.4-.4-.92-.59-1.43-.59-.52 0-1.04.2-1.43.59L10.3 9.45l-7.72 7.72c-.78.78-.78 2.05 0 2.83L4 21.41c.39.39.9.59 1.41.59.51 0 1.02-.2 1.41-.59l7.78-7.78 2.81-2.81c.8-.78.8-2.07 0-2.86zM5.41 20L4 18.59l7.72-7.72 1.47 1.35L5.41 20z\"/>\n",
              "  </svg>\n",
              "      </button>\n",
              "      \n",
              "  <style>\n",
              "    .colab-df-container {\n",
              "      display:flex;\n",
              "      flex-wrap:wrap;\n",
              "      gap: 12px;\n",
              "    }\n",
              "\n",
              "    .colab-df-convert {\n",
              "      background-color: #E8F0FE;\n",
              "      border: none;\n",
              "      border-radius: 50%;\n",
              "      cursor: pointer;\n",
              "      display: none;\n",
              "      fill: #1967D2;\n",
              "      height: 32px;\n",
              "      padding: 0 0 0 0;\n",
              "      width: 32px;\n",
              "    }\n",
              "\n",
              "    .colab-df-convert:hover {\n",
              "      background-color: #E2EBFA;\n",
              "      box-shadow: 0px 1px 2px rgba(60, 64, 67, 0.3), 0px 1px 3px 1px rgba(60, 64, 67, 0.15);\n",
              "      fill: #174EA6;\n",
              "    }\n",
              "\n",
              "    [theme=dark] .colab-df-convert {\n",
              "      background-color: #3B4455;\n",
              "      fill: #D2E3FC;\n",
              "    }\n",
              "\n",
              "    [theme=dark] .colab-df-convert:hover {\n",
              "      background-color: #434B5C;\n",
              "      box-shadow: 0px 1px 3px 1px rgba(0, 0, 0, 0.15);\n",
              "      filter: drop-shadow(0px 1px 2px rgba(0, 0, 0, 0.3));\n",
              "      fill: #FFFFFF;\n",
              "    }\n",
              "  </style>\n",
              "\n",
              "      <script>\n",
              "        const buttonEl =\n",
              "          document.querySelector('#df-63727459-d5c2-468a-bbd3-f5f7d0f6f166 button.colab-df-convert');\n",
              "        buttonEl.style.display =\n",
              "          google.colab.kernel.accessAllowed ? 'block' : 'none';\n",
              "\n",
              "        async function convertToInteractive(key) {\n",
              "          const element = document.querySelector('#df-63727459-d5c2-468a-bbd3-f5f7d0f6f166');\n",
              "          const dataTable =\n",
              "            await google.colab.kernel.invokeFunction('convertToInteractive',\n",
              "                                                     [key], {});\n",
              "          if (!dataTable) return;\n",
              "\n",
              "          const docLinkHtml = 'Like what you see? Visit the ' +\n",
              "            '<a target=\"_blank\" href=https://colab.research.google.com/notebooks/data_table.ipynb>data table notebook</a>'\n",
              "            + ' to learn more about interactive tables.';\n",
              "          element.innerHTML = '';\n",
              "          dataTable['output_type'] = 'display_data';\n",
              "          await google.colab.output.renderOutput(dataTable, element);\n",
              "          const docLink = document.createElement('div');\n",
              "          docLink.innerHTML = docLinkHtml;\n",
              "          element.appendChild(docLink);\n",
              "        }\n",
              "      </script>\n",
              "    </div>\n",
              "  </div>\n",
              "  "
            ]
          },
          "metadata": {},
          "execution_count": 5
        }
      ],
      "source": [
        "df_reviews = df.loc[:, ['Review Text', 'Rating']].dropna()\n",
        "df_reviews['Rating'] = df_reviews['Rating'] - 1\n",
        "df_reviews.head()"
      ]
    },
    {
      "cell_type": "code",
      "source": [
        "np.unique(df_reviews['Rating'])"
      ],
      "metadata": {
        "colab": {
          "base_uri": "https://localhost:8080/"
        },
        "id": "Fh7LT1-J3iGH",
        "outputId": "b0336559-e370-4284-a79e-9bc4036bd81e"
      },
      "execution_count": 6,
      "outputs": [
        {
          "output_type": "execute_result",
          "data": {
            "text/plain": [
              "array([0, 1, 2, 3, 4])"
            ]
          },
          "metadata": {},
          "execution_count": 6
        }
      ]
    },
    {
      "cell_type": "code",
      "execution_count": 7,
      "metadata": {
        "id": "sZtvASVOn3ty"
      },
      "outputs": [],
      "source": [
        "# Alumno: Observar como está distribuido el dataset respecto a la columna Rating\n",
        "# es decir, observar que tan balanceado se encuentra respecot a cada clase"
      ]
    },
    {
      "cell_type": "markdown",
      "source": [
        "Procentajes"
      ],
      "metadata": {
        "id": "QQLWC5Nb8PBY"
      }
    },
    {
      "cell_type": "code",
      "execution_count": 8,
      "metadata": {
        "colab": {
          "base_uri": "https://localhost:8080/"
        },
        "id": "IzqnIi2A2OnV",
        "outputId": "39c1c502-bb53-4c6e-80f2-2f08337b7b1b"
      },
      "outputs": [
        {
          "output_type": "execute_result",
          "data": {
            "text/plain": [
              "4    55.386246\n",
              "3    21.677488\n",
              "2    12.468531\n",
              "1     6.841571\n",
              "0     3.626165\n",
              "Name: Rating, dtype: float64"
            ]
          },
          "metadata": {},
          "execution_count": 8
        }
      ],
      "source": [
        "rows, columns = df_reviews.shape\n",
        "100*df_reviews['Rating'].value_counts()/(rows)"
      ]
    },
    {
      "cell_type": "markdown",
      "source": [
        "Valores totales"
      ],
      "metadata": {
        "id": "3U28xe1Y8RRm"
      }
    },
    {
      "cell_type": "code",
      "execution_count": 9,
      "metadata": {
        "colab": {
          "base_uri": "https://localhost:8080/"
        },
        "id": "7JOtufHe3G-R",
        "outputId": "831c9c90-bfd8-47f3-d00f-77195632cf10"
      },
      "outputs": [
        {
          "output_type": "execute_result",
          "data": {
            "text/plain": [
              "4    12540\n",
              "3     4908\n",
              "2     2823\n",
              "1     1549\n",
              "0      821\n",
              "Name: Rating, dtype: int64"
            ]
          },
          "metadata": {},
          "execution_count": 9
        }
      ],
      "source": [
        "df_reviews.Rating.value_counts()"
      ]
    },
    {
      "cell_type": "markdown",
      "source": [
        "Balanceo, tomamos como referencia n= 2500 para bajar los rantings 3 y 4"
      ],
      "metadata": {
        "id": "9roKHN3K8513"
      }
    },
    {
      "cell_type": "code",
      "source": [
        "rating_4 = df_reviews[df_reviews.Rating ==4]\n",
        "rating_3 = df_reviews[df_reviews.Rating ==3]\n",
        "rating_2 = df_reviews[df_reviews.Rating ==2]\n",
        "rating_1 = df_reviews[df_reviews.Rating ==1]\n",
        "rating_0 = df_reviews[df_reviews.Rating ==0]\n",
        "rating_4_sample = rating_4.sample(n=2500)\n",
        "rating_3_sample = rating_3.sample(n=2500)"
      ],
      "metadata": {
        "id": "8DhDXXPP9U5r"
      },
      "execution_count": 10,
      "outputs": []
    },
    {
      "cell_type": "code",
      "source": [
        "df_data_reviews = pd.concat([rating_4_sample, rating_3_sample, rating_2, rating_1, rating_0 ], axis=0)\n",
        "#Balanced data_fraud\n",
        "df_data_reviews.Rating.value_counts()"
      ],
      "metadata": {
        "colab": {
          "base_uri": "https://localhost:8080/"
        },
        "id": "PNUAoZw9-Omi",
        "outputId": "3b52490a-3112-46be-dd2e-198ccaab3119"
      },
      "execution_count": 11,
      "outputs": [
        {
          "output_type": "execute_result",
          "data": {
            "text/plain": [
              "2    2823\n",
              "4    2500\n",
              "3    2500\n",
              "1    1549\n",
              "0     821\n",
              "Name: Rating, dtype: int64"
            ]
          },
          "metadata": {},
          "execution_count": 11
        }
      ]
    },
    {
      "cell_type": "code",
      "source": [
        "df_data_reviews.head()"
      ],
      "metadata": {
        "colab": {
          "base_uri": "https://localhost:8080/",
          "height": 206
        },
        "id": "oB7KpQpEAlsi",
        "outputId": "f2dd4f41-09ad-49d8-aaef-22a0e2ec0b69"
      },
      "execution_count": 12,
      "outputs": [
        {
          "output_type": "execute_result",
          "data": {
            "text/plain": [
              "                                             Review Text  Rating\n",
              "3379   I love this top! the arms fit slender but the ...       4\n",
              "21225  The pullover is very light weight material so ...       4\n",
              "20047  I am in love with these. bought the regular le...       4\n",
              "11501  Love love love this sweater! lots of complimen...       4\n",
              "9070   So happy with this jacket! i have looked for w...       4"
            ],
            "text/html": [
              "\n",
              "  <div id=\"df-d64b0d73-6613-45c4-a61c-1bf432938bad\">\n",
              "    <div class=\"colab-df-container\">\n",
              "      <div>\n",
              "<style scoped>\n",
              "    .dataframe tbody tr th:only-of-type {\n",
              "        vertical-align: middle;\n",
              "    }\n",
              "\n",
              "    .dataframe tbody tr th {\n",
              "        vertical-align: top;\n",
              "    }\n",
              "\n",
              "    .dataframe thead th {\n",
              "        text-align: right;\n",
              "    }\n",
              "</style>\n",
              "<table border=\"1\" class=\"dataframe\">\n",
              "  <thead>\n",
              "    <tr style=\"text-align: right;\">\n",
              "      <th></th>\n",
              "      <th>Review Text</th>\n",
              "      <th>Rating</th>\n",
              "    </tr>\n",
              "  </thead>\n",
              "  <tbody>\n",
              "    <tr>\n",
              "      <th>3379</th>\n",
              "      <td>I love this top! the arms fit slender but the ...</td>\n",
              "      <td>4</td>\n",
              "    </tr>\n",
              "    <tr>\n",
              "      <th>21225</th>\n",
              "      <td>The pullover is very light weight material so ...</td>\n",
              "      <td>4</td>\n",
              "    </tr>\n",
              "    <tr>\n",
              "      <th>20047</th>\n",
              "      <td>I am in love with these. bought the regular le...</td>\n",
              "      <td>4</td>\n",
              "    </tr>\n",
              "    <tr>\n",
              "      <th>11501</th>\n",
              "      <td>Love love love this sweater! lots of complimen...</td>\n",
              "      <td>4</td>\n",
              "    </tr>\n",
              "    <tr>\n",
              "      <th>9070</th>\n",
              "      <td>So happy with this jacket! i have looked for w...</td>\n",
              "      <td>4</td>\n",
              "    </tr>\n",
              "  </tbody>\n",
              "</table>\n",
              "</div>\n",
              "      <button class=\"colab-df-convert\" onclick=\"convertToInteractive('df-d64b0d73-6613-45c4-a61c-1bf432938bad')\"\n",
              "              title=\"Convert this dataframe to an interactive table.\"\n",
              "              style=\"display:none;\">\n",
              "        \n",
              "  <svg xmlns=\"http://www.w3.org/2000/svg\" height=\"24px\"viewBox=\"0 0 24 24\"\n",
              "       width=\"24px\">\n",
              "    <path d=\"M0 0h24v24H0V0z\" fill=\"none\"/>\n",
              "    <path d=\"M18.56 5.44l.94 2.06.94-2.06 2.06-.94-2.06-.94-.94-2.06-.94 2.06-2.06.94zm-11 1L8.5 8.5l.94-2.06 2.06-.94-2.06-.94L8.5 2.5l-.94 2.06-2.06.94zm10 10l.94 2.06.94-2.06 2.06-.94-2.06-.94-.94-2.06-.94 2.06-2.06.94z\"/><path d=\"M17.41 7.96l-1.37-1.37c-.4-.4-.92-.59-1.43-.59-.52 0-1.04.2-1.43.59L10.3 9.45l-7.72 7.72c-.78.78-.78 2.05 0 2.83L4 21.41c.39.39.9.59 1.41.59.51 0 1.02-.2 1.41-.59l7.78-7.78 2.81-2.81c.8-.78.8-2.07 0-2.86zM5.41 20L4 18.59l7.72-7.72 1.47 1.35L5.41 20z\"/>\n",
              "  </svg>\n",
              "      </button>\n",
              "      \n",
              "  <style>\n",
              "    .colab-df-container {\n",
              "      display:flex;\n",
              "      flex-wrap:wrap;\n",
              "      gap: 12px;\n",
              "    }\n",
              "\n",
              "    .colab-df-convert {\n",
              "      background-color: #E8F0FE;\n",
              "      border: none;\n",
              "      border-radius: 50%;\n",
              "      cursor: pointer;\n",
              "      display: none;\n",
              "      fill: #1967D2;\n",
              "      height: 32px;\n",
              "      padding: 0 0 0 0;\n",
              "      width: 32px;\n",
              "    }\n",
              "\n",
              "    .colab-df-convert:hover {\n",
              "      background-color: #E2EBFA;\n",
              "      box-shadow: 0px 1px 2px rgba(60, 64, 67, 0.3), 0px 1px 3px 1px rgba(60, 64, 67, 0.15);\n",
              "      fill: #174EA6;\n",
              "    }\n",
              "\n",
              "    [theme=dark] .colab-df-convert {\n",
              "      background-color: #3B4455;\n",
              "      fill: #D2E3FC;\n",
              "    }\n",
              "\n",
              "    [theme=dark] .colab-df-convert:hover {\n",
              "      background-color: #434B5C;\n",
              "      box-shadow: 0px 1px 3px 1px rgba(0, 0, 0, 0.15);\n",
              "      filter: drop-shadow(0px 1px 2px rgba(0, 0, 0, 0.3));\n",
              "      fill: #FFFFFF;\n",
              "    }\n",
              "  </style>\n",
              "\n",
              "      <script>\n",
              "        const buttonEl =\n",
              "          document.querySelector('#df-d64b0d73-6613-45c4-a61c-1bf432938bad button.colab-df-convert');\n",
              "        buttonEl.style.display =\n",
              "          google.colab.kernel.accessAllowed ? 'block' : 'none';\n",
              "\n",
              "        async function convertToInteractive(key) {\n",
              "          const element = document.querySelector('#df-d64b0d73-6613-45c4-a61c-1bf432938bad');\n",
              "          const dataTable =\n",
              "            await google.colab.kernel.invokeFunction('convertToInteractive',\n",
              "                                                     [key], {});\n",
              "          if (!dataTable) return;\n",
              "\n",
              "          const docLinkHtml = 'Like what you see? Visit the ' +\n",
              "            '<a target=\"_blank\" href=https://colab.research.google.com/notebooks/data_table.ipynb>data table notebook</a>'\n",
              "            + ' to learn more about interactive tables.';\n",
              "          element.innerHTML = '';\n",
              "          dataTable['output_type'] = 'display_data';\n",
              "          await google.colab.output.renderOutput(dataTable, element);\n",
              "          const docLink = document.createElement('div');\n",
              "          docLink.innerHTML = docLinkHtml;\n",
              "          element.appendChild(docLink);\n",
              "        }\n",
              "      </script>\n",
              "    </div>\n",
              "  </div>\n",
              "  "
            ]
          },
          "metadata": {},
          "execution_count": 12
        }
      ]
    },
    {
      "cell_type": "code",
      "execution_count": 13,
      "metadata": {
        "id": "gVJ_RVi4o1h3"
      },
      "outputs": [],
      "source": [
        "# Alumno: tomar la columna de las review y almacenarlo todo en un vector numpy de reviews"
      ]
    },
    {
      "cell_type": "code",
      "source": [
        "vect = df_data_reviews['Review Text'].values\n",
        "vect.shape"
      ],
      "metadata": {
        "colab": {
          "base_uri": "https://localhost:8080/"
        },
        "id": "H-ag0GwlNm-U",
        "outputId": "68c35afd-73bc-4c71-ecd5-7c8a3befabad"
      },
      "execution_count": 14,
      "outputs": [
        {
          "output_type": "execute_result",
          "data": {
            "text/plain": [
              "(10193,)"
            ]
          },
          "metadata": {},
          "execution_count": 14
        }
      ]
    },
    {
      "cell_type": "code",
      "execution_count": 15,
      "metadata": {
        "colab": {
          "base_uri": "https://localhost:8080/"
        },
        "id": "g656iu6e5hZc",
        "outputId": "1ced35fb-30fa-4801-c7f6-6e074c89e86c"
      },
      "outputs": [
        {
          "output_type": "stream",
          "name": "stdout",
          "text": [
            "['I love this top! the arms fit slender but the rest of the top is a nice loose fit. i love the navy blue one with the print, i normally don&#39;t like long tunics but it&#39;s so flattering even for my short frame! i&#39;m usually a medium on top and bought the medium which was perfect.'\n",
            " 'The pullover is very light weight material so great for fall or spring. it hangs nicely in front and back and is slimming. i ordered a medium other than the sleeves are not as long on me as the model it fits perfectly.'\n",
            " 'I am in love with these. bought the regular length last year and loved them despite the shortness (hit right above the ankle). that length looks good with ballet flats or tucked into boots. this year i bought the burgundy and the teal in the long length. i am 5\\'7\" and the long fit perfectly! they come to the bottom of my ankle without extra fabric. \\r\\nplease restock the \"carbon\" in the long length! i want to buy my 4th pair!'\n",
            " ...\n",
            " 'I loved the print and fabric of this dress when i first saw it, but trying it on was a very different story! the photo seems to show a wider, more well-defined waist, with just a small amount of \"blousing\" on top, but this was not the case. yes, the waist fit, but it is a narrow band that was covered completely by the hanging over of the ill-fitting top, turning the entire look into a shapeless and very unattractive fit. sadly, this is going right back!'\n",
            " 'I was very excited to find a fun and lightweight white dress for spring/summer. for the past two years i have found two of my favorite white dresses. the material that this dress is made out of did not look high quality at all. the fit looked more like that of an old nightgown. this dress has no shape to it, although probably comfortable, not flattering. i had high hopes for this dress and wish that it looked like it does in the picture, in person.'\n",
            " 'I was surprised at the positive reviews for this product. its terrible! it cuts you in a weird place to make you look wide. the skirt is also not like the picture. its darker and heavier. the material isnt great. i had to return.']\n"
          ]
        }
      ],
      "source": [
        "print(vect)"
      ]
    },
    {
      "cell_type": "code",
      "execution_count": 16,
      "metadata": {
        "id": "4nT5Un_co65Q"
      },
      "outputs": [],
      "source": [
        "# Alumno: Cuantas reviews (rows) hay para evaluar?"
      ]
    },
    {
      "cell_type": "code",
      "execution_count": 17,
      "metadata": {
        "colab": {
          "base_uri": "https://localhost:8080/"
        },
        "id": "OzrmXzM95uAf",
        "outputId": "e93ebd68-94ea-461b-8187-5f0c6dd77421"
      },
      "outputs": [
        {
          "output_type": "execute_result",
          "data": {
            "text/plain": [
              "10193"
            ]
          },
          "metadata": {},
          "execution_count": 17
        }
      ],
      "source": [
        "len(vect)"
      ]
    },
    {
      "cell_type": "code",
      "execution_count": 18,
      "metadata": {
        "id": "HP5uN9tqpHu_"
      },
      "outputs": [],
      "source": [
        "# Alumno: Concatenar todas las reviews para armar el corpus"
      ]
    },
    {
      "cell_type": "code",
      "source": [
        "# Concatenar todas las reviews para armar el corpus\n",
        "corpus = ' '.join(vect)"
      ],
      "metadata": {
        "id": "Dx7_pdu_OAeR"
      },
      "execution_count": 19,
      "outputs": []
    },
    {
      "cell_type": "code",
      "execution_count": 20,
      "metadata": {
        "id": "FEzmePgdpf74"
      },
      "outputs": [],
      "source": [
        "# Alumno: ¿Cuál es la longitud de ese corpus?"
      ]
    },
    {
      "cell_type": "code",
      "execution_count": 21,
      "metadata": {
        "colab": {
          "base_uri": "https://localhost:8080/"
        },
        "id": "xw9lZhgEMHjl",
        "outputId": "dab54695-9373-45ce-9cdb-714e608efe45"
      },
      "outputs": [
        {
          "output_type": "execute_result",
          "data": {
            "text/plain": [
              "3224698"
            ]
          },
          "metadata": {},
          "execution_count": 21
        }
      ],
      "source": [
        "len(corpus)"
      ]
    },
    {
      "cell_type": "code",
      "execution_count": 22,
      "metadata": {
        "colab": {
          "base_uri": "https://localhost:8080/"
        },
        "id": "CMsvpNIpbr-3",
        "outputId": "06246359-794f-47e0-e188-d2e9ba60c166"
      },
      "outputs": [
        {
          "output_type": "stream",
          "name": "stdout",
          "text": [
            "I \n"
          ]
        }
      ],
      "source": [
        "print(corpus[:2])"
      ]
    },
    {
      "cell_type": "code",
      "execution_count": 23,
      "metadata": {
        "id": "MYeJLdDmpvOe"
      },
      "outputs": [],
      "source": [
        "# Alumno: Utilizar \"text_to_word_sequence\" para separar las palabras en tokens\n",
        "# recordar que text_to_word_sequence automaticamente quita los signos de puntuacion y pasa el texto a lowercase\n",
        "from keras.preprocessing.text import text_to_word_sequence"
      ]
    },
    {
      "cell_type": "code",
      "execution_count": 24,
      "metadata": {
        "id": "lwv5IbdsM9jj"
      },
      "outputs": [],
      "source": [
        "tokens = text_to_word_sequence(corpus, filters='!\"\\'#$%&()*+,-./:;<=>?@[\\\\]^_`{|}~\\t\\n', lower=True, split=' ')"
      ]
    },
    {
      "cell_type": "code",
      "execution_count": 25,
      "metadata": {
        "id": "M6L-fnWAp_lA"
      },
      "outputs": [],
      "source": [
        "# Alumno: Dar un vistazo a los primeros 20 tokens/palabras"
      ]
    },
    {
      "cell_type": "code",
      "execution_count": 26,
      "metadata": {
        "colab": {
          "base_uri": "https://localhost:8080/"
        },
        "id": "DaAFrxnAoLp_",
        "outputId": "a41cb877-fda0-44c6-da98-314a143688a3"
      },
      "outputs": [
        {
          "output_type": "stream",
          "name": "stdout",
          "text": [
            "['i', 'love', 'this', 'top', 'the', 'arms', 'fit', 'slender', 'but', 'the', 'rest', 'of', 'the', 'top', 'is', 'a', 'nice', 'loose', 'fit', 'i']\n"
          ]
        }
      ],
      "source": [
        "print(tokens[:20])"
      ]
    },
    {
      "cell_type": "code",
      "execution_count": 27,
      "metadata": {
        "id": "-8QgwwMUqG0d"
      },
      "outputs": [],
      "source": [
        "# Alumno: ¿Cuántos tokens/palabras hay?"
      ]
    },
    {
      "cell_type": "code",
      "execution_count": 28,
      "metadata": {
        "colab": {
          "base_uri": "https://localhost:8080/"
        },
        "id": "DGWU4u0voqi3",
        "outputId": "5b635665-ef63-453d-fcf8-d37bde434aee"
      },
      "outputs": [
        {
          "output_type": "stream",
          "name": "stdout",
          "text": [
            "645249\n"
          ]
        }
      ],
      "source": [
        "print(len(tokens))"
      ]
    },
    {
      "cell_type": "code",
      "execution_count": 29,
      "metadata": {
        "id": "TFukNZdOsZ8_"
      },
      "outputs": [],
      "source": [
        "# Alumno: Tokenizar las palabras con el Tokenizer de Keras\n",
        "# Definir una máxima cantidad de palabras a utilizar:\n",
        "# num_words --> the maximum number of words to keep, based on word frequency.\n",
        "# Only the most common num_words-1 words will be kept.\n",
        "from keras.preprocessing.text import Tokenizer\n",
        "num_words = 2000\n",
        "vocab_size = num_words"
      ]
    },
    {
      "cell_type": "code",
      "execution_count": 30,
      "metadata": {
        "id": "rg1QuYYmqfyG"
      },
      "outputs": [],
      "source": [
        "t  = Tokenizer(\n",
        "num_words= vocab_size,\n",
        "    filters='!\"#$%&()*+,-./:;<=>?@[\\\\]^_`{|}~\\t\\n',\n",
        "    lower=True,\n",
        "    split=' ',\n",
        "    char_level=False,\n",
        "    oov_token=None,\n",
        "    analyzer=None)"
      ]
    },
    {
      "cell_type": "code",
      "execution_count": 31,
      "metadata": {
        "id": "vVRp1Jq1s98u"
      },
      "outputs": [],
      "source": [
        "t.fit_on_texts(tokens)"
      ]
    },
    {
      "cell_type": "code",
      "execution_count": 32,
      "metadata": {
        "id": "JnR1tlqZy94X"
      },
      "outputs": [],
      "source": [
        "# Alumno: Obtener el diccionario de palabra (word) a índice\n",
        "# y observar la cantidad total del vocabulario"
      ]
    },
    {
      "cell_type": "markdown",
      "source": [
        "Cantidad de palabras 10617"
      ],
      "metadata": {
        "id": "LgMmhqpBKAB3"
      }
    },
    {
      "cell_type": "code",
      "execution_count": 33,
      "metadata": {
        "colab": {
          "base_uri": "https://localhost:8080/"
        },
        "id": "cEntRCcXpYhd",
        "outputId": "3c37924b-285d-47c6-81d6-f4f6779ab650"
      },
      "outputs": [
        {
          "output_type": "stream",
          "name": "stdout",
          "text": [
            "{'the': 1, 'i': 2, 'it': 3, 'and': 4, 'a': 5, 'is': 6, 'this': 7, 'to': 8, 'in': 9, 'but': 10, 'on': 11, 'was': 12, 'of': 13, 'for': 14, 'so': 15, 'not': 16, 'with': 17, 'my': 18, 'dress': 19, 'that': 20, 't': 21, 's': 22, 'have': 23, 'very': 24, 'size': 25, 'like': 26, 'top': 27, 'me': 28, 'be': 29, 'fit': 30, 'love': 31, 'are': 32, 'too': 33, 'as': 34, 'm': 35, 'just': 36, 'would': 37, 'you': 38, 'fabric': 39, 'wear': 40, 'am': 41, 'they': 42, '5': 43, 'at': 44, 'small': 45, 'or': 46, 'great': 47, 'if': 48, 'up': 49, 'color': 50, 'ordered': 51, 'really': 52, 'look': 53, 'back': 54, 'more': 55, 'had': 56, 'an': 57, 'because': 58, 'out': 59, 'one': 60, 'will': 61, 'these': 62, 'when': 63, 'little': 64, '\\r': 65, 'can': 66, 'than': 67, 'material': 68, 'cute': 69, 'shirt': 70, 'large': 71, 'much': 72, 'all': 73, 'well': 74, 'looks': 75, 'nice': 76, 'flattering': 77, 'also': 78, 'beautiful': 79, 'which': 80, 'soft': 81, 'bit': 82, 'them': 83, 'down': 84, 'sweater': 85, 'waist': 86, 'perfect': 87, 'even': 88, 'quality': 89, 'way': 90, 'there': 91, 'length': 92, 'work': 93, 'bought': 94, 'has': 95, 'were': 96, 'pretty': 97, 'long': 98, 'didn': 99, 'petite': 100, 'tried': 101, 'made': 102, 'from': 103, 'comfortable': 104, 'short': 105, 'could': 106, 'big': 107, 'think': 108, 'xs': 109, 'retailer': 110, 'got': 111, 'medium': 112, 'good': 113, 'however': 114, 'colors': 115, 'cut': 116, 'other': 117, 'fits': 118, 'looked': 119, 'usually': 120, 'see': 121, '4': 122, 'only': 123, 'did': 124, 'don': 125, 'no': 126, 'about': 127, 'get': 128, 'design': 129, 'store': 130, 'jeans': 131, 'skirt': 132, 'model': 133, 'off': 134, 'pants': 135, 'style': 136, '2': 137, 'runs': 138, 'sleeves': 139, 'right': 140, 'still': 141, 'online': 142, 'tight': 143, 'wanted': 144, 'do': 145, 'loved': 146, 'going': 147, 'front': 148, '6': 149, 'what': 150, 'does': 151, 'price': 152, 'been': 153, 'super': 154, 'though': 155, 'white': 156, 'black': 157, 'wearing': 158, 'thought': 159, 'better': 160, 'bottom': 161, 'thin': 162, 'body': 163, 'over': 164, 'true': 165, 'feel': 166, 'chest': 167, 'arms': 168, 'shape': 169, 'person': 170, 'go': 171, 'return': 172, 'purchased': 173, 'around': 174, 'how': 175, 'try': 176, 'first': 177, 'bust': 178, 'definitely': 179, 'high': 180, 'sale': 181, 'lbs': 182, 'your': 183, 'loose': 184, 'some': 185, 'through': 186, 'summer': 187, 'blue': 188, 'after': 189, '8': 190, 'looking': 191, 'shoulders': 192, 'enough': 193, 'unfortunately': 194, 'picture': 195, 'hips': 196, 'doesn': 197, 'lovely': 198, 'disappointed': 199, 'felt': 200, 'reviews': 201, 'pattern': 202, 'time': 203, 'both': 204, 'make': 205, 've': 206, 'side': 207, 'wide': 208, 'need': 209, 'regular': 210, 'overall': 211, 'blouse': 212, 'boxy': 213, 'sure': 214, 'bra': 215, '3': 216, 'jacket': 217, 'light': 218, 'huge': 219, 'makes': 220, 'gorgeous': 221, 'keep': 222, 'found': 223, 'quite': 224, 'wish': 225, 'worn': 226, 'saw': 227, 'two': 228, 'then': 229, 'lot': 230, 'piece': 231, 'print': 232, 'perfectly': 233, 'went': 234, 'since': 235, 'run': 236, 'tops': 237, 'want': 238, 'by': 239, 'returned': 240, 'wasn': 241, 'recommend': 242, 'order': 243, 'different': 244, 'being': 245, 'casual': 246, 'find': 247, 'd': 248, 'might': 249, 'may': 250, '10': 251, 'while': 252, 'area': 253, 'normally': 254, 'dresses': 255, 'photo': 256, 'fall': 257, 'neck': 258, 'received': 259, 'under': 260, 'sizes': 261, 'usual': 262, 'longer': 263, 'its': 264, 'without': 265, 'wore': 266, 'probably': 267, 'any': 268, 'many': 269, 'returning': 270, 'maybe': 271, 'smaller': 272, 'sizing': 273, 're': 274, 'fitted': 275, 'buy': 276, 'something': 277, 'another': 278, 'most': 279, 'extra': 280, 'pair': 281, 'slightly': 282, 'sheer': 283, 'underneath': 284, 'low': 285, 'almost': 286, 'put': 287, 'should': 288, 'weight': 289, 'excited': 290, 'liked': 291, 'detail': 292, 'nicely': 293, 'now': 294, 'lace': 295, 'stretch': 296, 'same': 297, 'fine': 298, 'problem': 299, 'absolutely': 300, 'shorter': 301, 'part': 302, 'actually': 303, 'larger': 304, 'said': 305, 'red': 306, 'tall': 307, '1': 308, 'll': 309, 'day': 310, 'such': 311, 'green': 312, 'say': 313, 'cheap': 314, 'sized': 315, 'into': 316, 'bad': 317, 'couldn': 318, 'comfy': 319, 'unflattering': 320, 'wash': 321, 'feels': 322, 'seems': 323, 'unique': 324, 'leggings': 325, 'full': 326, 'worth': 327, 'sadly': 328, 'came': 329, 'where': 330, 'reference': 331, 'especially': 332, 'someone': 333, 'buttons': 334, 'line': 335, 'figure': 336, 'tank': 337, 'expected': 338, 'pockets': 339, 'isn': 340, 'flowy': 341, 'arm': 342, 'reviewers': 343, 'neckline': 344, 'fitting': 345, 'kind': 346, 'give': 347, 'warm': 348, 'slip': 349, 'pictured': 350, 'compliments': 351, 'between': 352, 'decided': 353, 'frame': 354, 'heavy': 355, 'thick': 356, 'take': 357, 'torso': 358, 'thing': 359, 'above': 360, 'adorable': 361, 'washed': 362, 'easy': 363, 'easily': 364, 'fun': 365, 'coat': 366, '12': 367, 'tee': 368, 'every': 369, 'everything': 370, 'purchase': 371, 'extremely': 372, 'button': 373, 'l': 374, 'arrived': 375, 'know': 376, 'xl': 377, 'normal': 378, 'once': 379, 'hit': 380, 'lining': 381, 'although': 382, 'cotton': 383, 'hem': 384, 'skinny': 385, 'zipper': 386, 'who': 387, 'navy': 388, 'photos': 389, 'happy': 390, 'tunic': 391, 'yet': 392, 'pink': 393, 'holes': 394, 'room': 395, 'shown': 396, 'otherwise': 397, 'details': 398, 'reviewer': 399, 'issue': 400, 'nothing': 401, 'few': 402, 'always': 403, 'legs': 404, 'cami': 405, '0': 406, 'snug': 407, 'hoping': 408, 'lined': 409, 'knit': 410, 'before': 411, 'tts': 412, '7': 413, 'ran': 414, 'either': 415, 'least': 416, 'xxs': 417, 'already': 418, 'grey': 419, 'denim': 420, 'belt': 421, 'curvy': 422, 'rather': 423, 'wouldn': 424, 'seemed': 425, 'typically': 426, 'type': 427, 'why': 428, 'able': 429, 'sleeve': 430, 'goes': 431, 'shoulder': 432, 'those': 433, 'below': 434, 'shorts': 435, 'lightweight': 436, 'inches': 437, 'trying': 438, 'sides': 439, 'dressed': 440, 'across': 441, 'spring': 442, 'cardigan': 443, 'wait': 444, 'best': 445, 'suit': 446, 'away': 447, 'embroidery': 448, 'took': 449, 'show': 450, 'ended': 451, 'dark': 452, 'anything': 453, 'glad': 454, 'winter': 455, 'amazing': 456, 'tie': 457, 'knee': 458, 'never': 459, 'favorite': 460, 'hits': 461, 'odd': 462, 'agree': 463, 'less': 464, 'versatile': 465, 'straight': 466, 'due': 467, 'weird': 468, 'keeping': 469, 'today': 470, 'again': 471, 'sold': 472, 'dry': 473, 'itchy': 474, 'stretchy': 475, 'hard': 476, 'completely': 477, 'brand': 478, 'baggy': 479, 'layer': 480, 'item': 481, 'come': 482, 'needed': 483, 'seem': 484, 'swing': 485, 'flat': 486, 'pull': 487, 'pictures': 488, 'others': 489, 'sad': 490, 'kept': 491, 'instead': 492, 'orange': 493, 'things': 494, 'year': 495, '26': 496, 'waisted': 497, 'skin': 498, 'stiff': 499, 'last': 500, 'straps': 501, 'fell': 502, '9': 503, 'open': 504, 'boots': 505, 'feminine': 506, 'vest': 507, 'plus': 508, 'end': 509, 'maternity': 510, 'elastic': 511, 'exactly': 512, 'half': 513, 'hangs': 514, 'making': 515, 'worked': 516, 'wrong': 517, 'must': 518, 'delicate': 519, 'slim': 520, 'shows': 521, 'drape': 522, 'based': 523, 'use': 524, 'weather': 525, 'new': 526, 'version': 527, 'bigger': 528, 'ordering': 529, 'pounds': 530, 'cool': 531, 'vibrant': 532, 'several': 533, 'strange': 534, 'idea': 535, 'works': 536, 'here': 537, 'mentioned': 538, 'beautifully': 539, 'else': 540, 'awkward': 541, 'ok': 542, 'collar': 543, 'read': 544, 'review': 545, 'local': 546, 'oversized': 547, 'wool': 548, 'cold': 549, 'tad': 550, 'previous': 551, 'having': 552, 'seam': 553, 'hung': 554, 'hot': 555, 'bright': 556, 'getting': 557, 'their': 558, 'tent': 559, 'ivory': 560, 'lay': 561, 'far': 562, 'days': 563, 'cozy': 564, 'cropped': 565, 'busty': 566, 'armholes': 567, 'bulky': 568, 'v': 569, 'immediately': 570, 'surprised': 571, 'shirts': 572, 'except': 573, 'mail': 574, 'she': 575, 'athletic': 576, 'roomy': 577, 'gray': 578, 'yellow': 579, 'mid': 580, 'perhaps': 581, 'plan': 582, 'used': 583, 'appears': 584, 'mine': 585, 'lower': 586, 'product': 587, 'point': 588, 'second': 589, 'ever': 590, 'add': 591, 'tiny': 592, 'similar': 593, 'curves': 594, 'washing': 595, 'barely': 596, 'knees': 597, 'pilcro': 598, 'sometimes': 599, 'myself': 600, 'people': 601, 'available': 602, 'leg': 603, 'reason': 604, 'hourglass': 605, 'totally': 606, 'won': 607, 'cover': 608, 'disappointing': 609, '115': 610, 'stunning': 611, 'texture': 612, 'comes': 613, 'close': 614, '120': 615, '30': 616, 'wonderful': 617, 'home': 618, 'fact': 619, 'imagine': 620, 'upper': 621, 'falls': 622, 'stylish': 623, 'tag': 624, 'somewhat': 625, 'thinking': 626, 'hand': 627, 'middle': 628, 'inside': 629, 'clothes': 630, 'wardrobe': 631, 'unless': 632, 'wedding': 633, 'knew': 634, 'touch': 635, 'clothing': 636, 'incredibly': 637, 'gave': 638, 'taller': 639, '27': 640, 'lots': 641, 'years': 642, 'expecting': 643, 'flare': 644, 'simple': 645, 'broad': 646, 'real': 647, 'her': 648, 'hip': 649, 'times': 650, 'mind': 651, 'anyone': 652, 'sack': 653, 'poor': 654, 'expect': 655, 'own': 656, 'buying': 657, 'hang': 658, 'tell': 659, 'past': 660, 'sewn': 661, 'highly': 662, 'ankle': 663, 'build': 664, 'exchange': 665, 'higher': 666, 'thighs': 667, 'scratchy': 668, 'skirts': 669, 'stripes': 670, 'months': 671, 'b': 672, 'form': 673, 'c': 674, 'seams': 675, 'hole': 676, 'rest': 677, 'sort': 678, 'finally': 679, 'flow': 680, 'hold': 681, 'itself': 682, 'place': 683, 'everywhere': 684, 'pulled': 685, 'interesting': 686, 'cream': 687, 'classic': 688, 'narrow': 689, 'thicker': 690, 'fan': 691, 'adds': 692, 'old': 693, 'heels': 694, 'soon': 695, 'noticed': 696, 'pregnant': 697, 'left': 698, 'drapes': 699, 'special': 700, 'whole': 701, 'bag': 702, 'swimming': 703, '28': 704, 'frumpy': 705, 'next': 706, 'layering': 707, 'couple': 708, 'fairly': 709, 'wider': 710, 'amount': 711, 'deep': 712, 'help': 713, 'peplum': 714, 'deal': 715, 'jumpsuit': 716, 'pant': 717, 'until': 718, 'maeve': 719, 'shapeless': 720, 'send': 721, 'season': 722, 'money': 723, 'needs': 724, 'waistband': 725, 'portion': 726, 'shrunk': 727, 'three': 728, 'band': 729, 'darker': 730, 'worried': 731, 'night': 732, 'gotten': 733, 'basic': 734, 'cup': 735, 'we': 736, 'brown': 737, 'colored': 738, 'hope': 739, 'silk': 740, '14': 741, 'heavier': 742, 'romper': 743, 'case': 744, 'gives': 745, 'cannot': 746, 'stitching': 747, 'bodice': 748, '25': 749, 'truly': 750, 'jean': 751, 'polyester': 752, '125': 753, 'feeling': 754, 'chested': 755, 'along': 756, 'eye': 757, 'places': 758, 'substantial': 759, 'awful': 760, 'given': 761, 'opinion': 762, 'appropriate': 763, 'thigh': 764, 'sent': 765, 'addition': 766, 'reading': 767, 'sweaters': 768, 'issues': 769, 'hopes': 770, 'spot': 771, 'rise': 772, 'sexy': 773, 'during': 774, 'prefer': 775, 'tights': 776, 'staple': 777, 'added': 778, 'terrible': 779, 'okay': 780, 'linen': 781, 'often': 782, '34b': 783, 'depending': 784, 'zip': 785, 'stay': 786, 'slimming': 787, 'forward': 788, 'sweatshirt': 789, 'nude': 790, 'women': 791, 'gone': 792, 'complaint': 793, '100': 794, 'pieces': 795, 'blazer': 796, 'detailing': 797, 'together': 798, 'believe': 799, 'description': 800, 'guess': 801, 'typical': 802, 'generally': 803, 'paired': 804, 'lighter': 805, 'dressy': 806, 'looser': 807, 'bottoms': 808, 'package': 809, 'showing': 810, '34c': 811, 'stars': 812, 'inch': 813, 'seen': 814, 'done': 815, 'items': 816, 'motif': 817, 'butt': 818, '130': 819, 'receive': 820, 'sandals': 821, '34d': 822, 'neutral': 823, 'difficult': 824, 'baby': 825, 'says': 826, '135': 827, 'outfit': 828, 'haven': 829, 'awesome': 830, 'flatter': 831, 'purple': 832, 'uncomfortable': 833, 'literally': 834, 'woman': 835, '34': 836, 'lines': 837, 'stomach': 838, 'slight': 839, 'hanging': 840, 'house': 841, 'anyway': 842, 'pleats': 843, 'despite': 844, 'water': 845, '140': 846, 'let': 847, 'rich': 848, 'height': 849, 'throw': 850, 'clean': 851, 'yes': 852, 'sit': 853, 'life': 854, 'tailored': 855, 'elegant': 856, 'belly': 857, 'disappointment': 858, 'stretched': 859, 'girls': 860, 'office': 861, 'husband': 862, 'sending': 863, 'slender': 864, 'pairs': 865, 'girl': 866, 'expensive': 867, 'relaxed': 868, 'styling': 869, 'hanger': 870, 'shaped': 871, '20': 872, 'meant': 873, 'plain': 874, 'simply': 875, 'stock': 876, 'beach': 877, 'each': 878, 'care': 879, 'appear': 880, '39': 881, 'pass': 882, 'floral': 883, 'tummy': 884, 'billowy': 885, 'flats': 886, 'threads': 887, 'slits': 888, 'live': 889, 'option': 890, '36c': 891, 'w': 892, 'silhouette': 893, 'ruffle': 894, 'apart': 895, 'tucked': 896, 'aren': 897, '40': 898, 'pear': 899, 'please': 900, 'camisole': 901, 'maxi': 902, 'average': 903, 'transition': 904, 'coming': 905, 'designed': 906, 'attached': 907, 'subtle': 908, 'bummed': 909, 'stated': 910, 'afraid': 911, '38': 912, '29': 913, 'taking': 914, 'flimsy': 915, 'flares': 916, 'shame': 917, 'garment': 918, 'weekend': 919, 'consider': 920, 'attractive': 921, 'running': 922, 'clingy': 923, 'sloppy': 924, 'taken': 925, 'closet': 926, 'head': 927, 'coverage': 928, 'thread': 929, 'ridiculous': 930, 'pay': 931, 'beige': 932, 'crazy': 933, 'wrinkled': 934, 'bummer': 935, 'showed': 936, 'justice': 937, 'effect': 938, 'flows': 939, 'excellent': 940, 'move': 941, 'ago': 942, 'snag': 943, 'entire': 944, 'booties': 945, 'daughter': 946, 'center': 947, 'solid': 948, 'chance': 949, '32': 950, 'compared': 951, 'wrinkles': 952, 'us': 953, 'wow': 954, 'etc': 955, 'against': 956, 'pilling': 957, 'width': 958, 'finding': 959, 'feet': 960, 'areas': 961, 'p': 962, 'swingy': 963, 'purchasing': 964, 'section': 965, 'supposed': 966, 'hate': 967, 'construction': 968, 'near': 969, 'leather': 970, 'note': 971, 'oh': 972, 'outside': 973, 'everyone': 974, 'wears': 975, 'stick': 976, 'shrink': 977, 'careful': 978, 'patterns': 979, 'hoped': 980, 'website': 981, 'bell': 982, 'fix': 983, 'oddly': 984, 'wrap': 985, 'airy': 986, 'lost': 987, 'bc': 988, '36d': 989, 'twice': 990, 'gold': 991, 'flowing': 992, 'ag': 993, 'opening': 994, 'paid': 995, 'pleased': 996, 'dinner': 997, 'tighter': 998, 'movement': 999, 'gets': 1000, 'forgiving': 1001, 'natural': 1002, 'plaid': 1003, 'thinner': 1004, 'opened': 1005, 'shade': 1006, 'pale': 1007, '36': 1008, 'mostly': 1009, 'silky': 1010, 'noted': 1011, 'pulling': 1012, 'pricey': 1013, 'weeks': 1014, 'coral': 1015, 'funny': 1016, 'boobs': 1017, 'keeper': 1018, 'means': 1019, 'chic': 1020, 'whether': 1021, 'slit': 1022, 'falling': 1023, 'layers': 1024, 'th': 1025, 'flowers': 1026, 'caught': 1027, 'stuck': 1028, 'comfort': 1029, 'poorly': 1030, 'fantastic': 1031, 'throughout': 1032, 'likely': 1033, 'styles': 1034, 'giving': 1035, 'rayon': 1036, 'wrinkle': 1037, 'necklace': 1038, '00': 1039, 'considering': 1040, 'covered': 1041, 'ladies': 1042, 'instructions': 1043, 'started': 1044, 'anywhere': 1045, 'glove': 1046, 'structured': 1047, 'yesterday': 1048, 'party': 1049, 'stripe': 1050, 'embroidered': 1051, 'match': 1052, 'classy': 1053, 'ish': 1054, 'crotch': 1055, 'fabulous': 1056, 'beading': 1057, 'fence': 1058, 'originally': 1059, 'star': 1060, 'hide': 1061, 'plenty': 1062, 'start': 1063, 'fabrics': 1064, 'flared': 1065, 'bother': 1066, 'turned': 1067, 'behind': 1068, 'hour': 1069, 'xsp': 1070, 'suggest': 1071, '16': 1072, 'choice': 1073, 'muted': 1074, 'overwhelming': 1075, 'difference': 1076, 'seeing': 1077, 'problems': 1078, 'shipping': 1079, 'week': 1080, 'notice': 1081, 'dots': 1082, 'leave': 1083, 'faded': 1084, 'layered': 1085, 'designer': 1086, 'basically': 1087, 'unusual': 1088, 'support': 1089, 'dressing': 1090, 'turtleneck': 1091, 'combination': 1092, 'upon': 1093, 'petites': 1094, 'recently': 1095, 'waistline': 1096, 'particular': 1097, 'velvet': 1098, 'trouble': 1099, 'hemline': 1100, 'particularly': 1101, 'ruffles': 1102, 'pocket': 1103, 'horrible': 1104, 'muscular': 1105, 'med': 1106, 'busted': 1107, 'decide': 1108, 'tied': 1109, 'trim': 1110, 'round': 1111, 'unlike': 1112, 'weren': 1113, 'hopefully': 1114, 'tan': 1115, 'stand': 1116, 'volume': 1117, 'understand': 1118, 'considered': 1119, 'adore': 1120, 'seasons': 1121, 'cooler': 1122, 'surprise': 1123, 'attention': 1124, 'tend': 1125, 'jersey': 1126, 'tuck': 1127, 'types': 1128, 'brands': 1129, 'badly': 1130, 'beyond': 1131, 'taste': 1132, 'actual': 1133, 'ripped': 1134, 'tone': 1135, 'happened': 1136, 'bow': 1137, 'realize': 1138, 'keeps': 1139, 'prettier': 1140, 'dd': 1141, 'constructed': 1142, 'pros': 1143, 'shot': 1144, '0p': 1145, 'jackets': 1146, 'properly': 1147, 'miss': 1148, 'roll': 1149, 'structure': 1150, 'weigh': 1151, 'hides': 1152, 'mean': 1153, 'rough': 1154, 'pic': 1155, 'honestly': 1156, 'hook': 1157, 'sweet': 1158, 'trend': 1159, 'quickly': 1160, '110': 1161, 'o': 1162, 'pulls': 1163, 'putting': 1164, 'altered': 1165, 'puffy': 1166, 'voluminous': 1167, 'thrilled': 1168, 'everyday': 1169, 'ways': 1170, 'ones': 1171, 'nearly': 1172, 'closure': 1173, 'holiday': 1174, 'washes': 1175, 'moss': 1176, 'flaws': 1177, 'stores': 1178, 'exchanged': 1179, '145': 1180, 'rack': 1181, 'im': 1182, 'he': 1183, 'xxsp': 1184, 'within': 1185, 'saying': 1186, 'beware': 1187, 'romantic': 1188, 'walk': 1189, 'brighter': 1190, 'lays': 1191, 'set': 1192, 'pencil': 1193, 'wine': 1194, 'covers': 1195, 'tees': 1196, 'lounge': 1197, 'cowl': 1198, 'hemmed': 1199, 'bulk': 1200, 'hair': 1201, 'non': 1202, 'outer': 1203, 'nicer': 1204, 'strap': 1205, 'pop': 1206, 'helps': 1207, 'shoes': 1208, 'overly': 1209, 'lavender': 1210, 'drawn': 1211, 'course': 1212, 'initially': 1213, 'measurements': 1214, 'softer': 1215, 'minute': 1216, 'machine': 1217, 'crop': 1218, 'empire': 1219, 'metallic': 1220, 'box': 1221, 'unlined': 1222, 'helped': 1223, 'teal': 1224, 'event': 1225, 'realized': 1226, 'scarf': 1227, 'ties': 1228, 'mention': 1229, 'thanks': 1230, 'figured': 1231, 'gift': 1232, 'cuffs': 1233, 'bum': 1234, 'sturdy': 1235, 'combo': 1236, 'built': 1237, 'dye': 1238, 'fully': 1239, 'tailor': 1240, 'boyfriend': 1241, 'flaw': 1242, '150': 1243, 'mess': 1244, 'label': 1245, 'concept': 1246, 'possible': 1247, '50': 1248, 'cuter': 1249, 'accurate': 1250, 'lady': 1251, '00p': 1252, 'rib': 1253, 'swimsuit': 1254, 'vibe': 1255, 'gaping': 1256, 'edge': 1257, 'vintage': 1258, 'peach': 1259, 'christmas': 1260, 'holding': 1261, 'snap': 1262, 'matter': 1263, 'softness': 1264, '24': 1265, 'inseam': 1266, 'rose': 1267, 'breaker': 1268, 'breasts': 1269, 'lb': 1270, 'shopping': 1271, 'dried': 1272, 'waste': 1273, 'hours': 1274, 'double': 1275, 'missing': 1276, 'poncho': 1277, 'minutes': 1278, 'potential': 1279, 'smell': 1280, 'snags': 1281, 'spend': 1282, 'change': 1283, 'wearable': 1284, 'cleavage': 1285, '31': 1286, '135lbs': 1287, 'striped': 1288, 'spandex': 1289, 'breezy': 1290, 'cost': 1291, 'ribbon': 1292, 'discount': 1293, 'comfortably': 1294, 'mixed': 1295, 'materials': 1296, 'stone': 1297, 'snagged': 1298, 'revealing': 1299, 'cuff': 1300, 'strapless': 1301, 'fuller': 1302, 'ft': 1303, 'bathing': 1304, 'trip': 1305, 'chose': 1306, 'waited': 1307, 'exposed': 1308, 'alas': 1309, 'surprisingly': 1310, 'x': 1311, 'mustard': 1312, 'prints': 1313, 'exception': 1314, 'evening': 1315, 'correct': 1316, 'pick': 1317, 'possibly': 1318, 'working': 1319, 'main': 1320, 'cups': 1321, 'cage': 1322, 'inner': 1323, 'blend': 1324, 'certainly': 1325, 'twist': 1326, 'cashmere': 1327, 'cloth': 1328, 'positive': 1329, 'pics': 1330, '35': 1331, 'therefore': 1332, 'smooth': 1333, 'check': 1334, 'olive': 1335, 'bring': 1336, 'buttoned': 1337, 'gathered': 1338, 'proportions': 1339, 'alone': 1340, '34dd': 1341, 'worst': 1342, 'worse': 1343, 'adjustable': 1344, 'planning': 1345, 'chinos': 1346, 'require': 1347, 'blouses': 1348, 'warmer': 1349, 'preferred': 1350, 'contrast': 1351, 'sleeveless': 1352, 'yoga': 1353, 'tons': 1354, 'drapey': 1355, 'sleep': 1356, 'lack': 1357, '32d': 1358, 'picked': 1359, 'flower': 1360, 'placed': 1361, 'mom': 1362, 'rolled': 1363, 'free': 1364, 'concerned': 1365, '32dd': 1366, 'kimono': 1367, 'yarn': 1368, 'edges': 1369, 'wonder': 1370, 'bump': 1371, 'ankles': 1372, 'pregnancy': 1373, 'zipped': 1374, 'panels': 1375, 'shift': 1376, 'ultimately': 1377, 'enormous': 1378, 'ruined': 1379, 'terribly': 1380, 'hesitant': 1381, 'vacation': 1382, 'liner': 1383, 'modern': 1384, 'interest': 1385, 'our': 1386, 'become': 1387, 'lose': 1388, 'held': 1389, 'personally': 1390, 'luckily': 1391, 'y': 1392, 'floor': 1393, 'dryer': 1394, 'biggest': 1395, 'thru': 1396, 'pajama': 1397, 'drop': 1398, 'air': 1399, 'pinned': 1400, 'lift': 1401, 'assumed': 1402, 'visible': 1403, 'reminded': 1404, 'square': 1405, 'mother': 1406, 'multiple': 1407, 'sz': 1408, 'weave': 1409, 'closer': 1410, 'cycle': 1411, 'turquoise': 1412, 'mix': 1413, 'later': 1414, 'dream': 1415, 'worry': 1416, 'avoid': 1417, 'coloring': 1418, 'post': 1419, 'taupe': 1420, 'lately': 1421, 'seriously': 1422, 'create': 1423, 'catalog': 1424, 'justify': 1425, 'fyi': 1426, 'instantly': 1427, 'polka': 1428, 'disappoint': 1429, '2p': 1430, 'cling': 1431, 'takes': 1432, 'negative': 1433, 'ill': 1434, 'laid': 1435, 'receiving': 1436, 'midsection': 1437, 'options': 1438, 'calf': 1439, 'snaps': 1440, '11': 1441, 'hte': 1442, 'liking': 1443, 'luck': 1444, 'pleat': 1445, 'spots': 1446, 'noticeable': 1447, 'placement': 1448, 'strangely': 1449, 'pxs': 1450, 'breast': 1451, 'bunched': 1452, 'described': 1453, 'occasions': 1454, 'general': 1455, 'fat': 1456, 'appeared': 1457, 'dolman': 1458, 'split': 1459, 'pullover': 1460, 'kinda': 1461, 'date': 1462, '15': 1463, 'impressed': 1464, 'moment': 1465, 'ton': 1466, 'neither': 1467, 'level': 1468, 'grabbed': 1469, 'friends': 1470, 'single': 1471, 'wonderfully': 1472, 'dressier': 1473, 'statement': 1474, 'sales': 1475, 'describe': 1476, 'closely': 1477, 'third': 1478, 'occasion': 1479, 'xsmall': 1480, '32c': 1481, 'sitting': 1482, 'month': 1483, '36dd': 1484, 'torn': 1485, 'reminds': 1486, 'errands': 1487, 'willing': 1488, 'swallowed': 1489, 'loosely': 1490, 'sits': 1491, 'curvier': 1492, 'mistake': 1493, 'calves': 1494, 'doing': 1495, 'awkwardly': 1496, 'gap': 1497, 'offered': 1498, 'ride': 1499, 'ends': 1500, 'standard': 1501, 'fixed': 1502, 'armhole': 1503, 'expectations': 1504, 'draped': 1505, 'giant': 1506, 'wise': 1507, 'regret': 1508, 'plum': 1509, 'slimmer': 1510, 'jewelry': 1511, 'feature': 1512, 'cons': 1513, 'carry': 1514, 'hug': 1515, 'background': 1516, 'sorry': 1517, 'aware': 1518, 'warmth': 1519, 'age': 1520, 'robe': 1521, 'leaves': 1522, 'slouchy': 1523, 'mark': 1524, 'sense': 1525, 'gentle': 1526, '105': 1527, 'appreciate': 1528, 'waiting': 1529, 'followed': 1530, 'amp': 1531, 'clearly': 1532, '118': 1533, 'burgundy': 1534, 'additional': 1535, 'wrist': 1536, 'midi': 1537, 'bunch': 1538, 'cause': 1539, 'colder': 1540, 'hei': 1541, 'chambray': 1542, 'drawstring': 1543, '34a': 1544, '30dd': 1545, 'cords': 1546, 'fear': 1547, 'legging': 1548, 'rear': 1549, 'number': 1550, 'per': 1551, 'owned': 1552, 'impossible': 1553, 'panel': 1554, 'perfection': 1555, 'closed': 1556, 'early': 1557, 'bumps': 1558, 'pleated': 1559, 'lean': 1560, 'caused': 1561, 'sooo': 1562, 'doubt': 1563, 'smallest': 1564, 'gal': 1565, 'flirty': 1566, 'recommended': 1567, 'meet': 1568, 'parts': 1569, 'terms': 1570, 'crochet': 1571, 'checked': 1572, 'arrive': 1573, 'funky': 1574, 'armpits': 1575, 'using': 1576, 'blah': 1577, 'reality': 1578, 'hidden': 1579, 'boring': 1580, 'soooo': 1581, 'became': 1582, 'joggers': 1583, 'exchanging': 1584, 'heel': 1585, 'wished': 1586, 'transparent': 1587, 'trendy': 1588, 'darling': 1589, 'asymmetrical': 1590, 'anticipated': 1591, 'sheen': 1592, 'eyeing': 1593, 'happen': 1594, 'chunky': 1595, 'obviously': 1596, 'cleaned': 1597, 'winner': 1598, 'stevie': 1599, 'stretches': 1600, 'hugs': 1601, 'colorful': 1602, 'stain': 1603, 'fold': 1604, 'five': 1605, 'zero': 1606, 'relatively': 1607, 'ironing': 1608, 'call': 1609, 'models': 1610, 'ridiculously': 1611, 'excess': 1612, 'mirror': 1613, 'poofy': 1614, 'listened': 1615, 'cross': 1616, 'styled': 1617, 'upcoming': 1618, '36b': 1619, '33': 1620, 'cinch': 1621, 'pin': 1622, 'according': 1623, 'flair': 1624, 'including': 1625, 'fast': 1626, 'generous': 1627, 'comment': 1628, 'sensitive': 1629, 'space': 1630, 'beauty': 1631, 'paying': 1632, 'trousers': 1633, 'purpose': 1634, 'thank': 1635, 'printed': 1636, 'fair': 1637, 'blousy': 1638, 'write': 1639, 'formal': 1640, 'matching': 1641, 'nightgown': 1642, 'known': 1643, 'shiny': 1644, 'armpit': 1645, 'endowed': 1646, 'mint': 1647, '32b': 1648, 'matronly': 1649, 'decent': 1650, 'drab': 1651, 'dull': 1652, 'unwearable': 1653, 'appearance': 1654, 'wedges': 1655, 'elbow': 1656, 'polished': 1657, 'somehow': 1658, 'luxurious': 1659, 'tends': 1660, 'begin': 1661, '130lbs': 1662, 'job': 1663, 'business': 1664, 'wants': 1665, 'variety': 1666, 'cuts': 1667, 'shipped': 1668, 'friend': 1669, 'con': 1670, 'boho': 1671, 'advice': 1672, 'currently': 1673, 'purchases': 1674, 'six': 1675, 'tanks': 1676, 'mauve': 1677, 'sleeved': 1678, 'passed': 1679, 'heat': 1680, 'significantly': 1681, 'recent': 1682, 'removed': 1683, 'crisp': 1684, 'brought': 1685, 'further': 1686, 'leaving': 1687, 'obvious': 1688, 'underwear': 1689, 'e': 1690, 'younger': 1691, 'image': 1692, 'needless': 1693, 'hadn': 1694, 'wondering': 1695, 'view': 1696, 'outfits': 1697, 'bill': 1698, 'dot': 1699, 'versatility': 1700, 'nor': 1701, 'suited': 1702, 'adding': 1703, 'massive': 1704, 'complaints': 1705, 'socks': 1706, 'priced': 1707, 'frayed': 1708, '115lbs': 1709, 'reasons': 1710, 'cardi': 1711, 'modest': 1712, 'constantly': 1713, 'scoop': 1714, 'hitting': 1715, 'young': 1716, 'fraying': 1717, 'mesh': 1718, 'bohemian': 1719, 'sequins': 1720, 'rarely': 1721, 'earlier': 1722, 'provide': 1723, 'comments': 1724, 'bunching': 1725, 'suits': 1726, 'semi': 1727, 'raw': 1728, 'called': 1729, 'designs': 1730, 'allow': 1731, 'pill': 1732, 'onto': 1733, 'raise': 1734, 'aesthetic': 1735, 'customer': 1736, 'belted': 1737, 'entirely': 1738, 'seamstress': 1739, 'correctly': 1740, 'fuzzy': 1741, 'whatever': 1742, 'matches': 1743, 'unfortunate': 1744, 'overpriced': 1745, 'suppose': 1746, 'tear': 1747, 'weirdly': 1748, 'wanting': 1749, 'broke': 1750, 'horizontal': 1751, 'string': 1752, 'spare': 1753, 'four': 1754, 'paige': 1755, 'cutouts': 1756, 'loving': 1757, 'shop': 1758, 'woven': 1759, 'tricky': 1760, 'concern': 1761, 'functional': 1762, 'stitched': 1763, 'annoying': 1764, 'complements': 1765, 'ps': 1766, 'cleaning': 1767, 'required': 1768, 'experience': 1769, 'fleece': 1770, 'late': 1771, 'events': 1772, 'hands': 1773, 'attracted': 1774, 'striking': 1775, 'holidays': 1776, 'foot': 1777, '128': 1778, 'choose': 1779, 'silver': 1780, 'retro': 1781, 'booty': 1782, 'folded': 1783, 'asked': 1784, 'tired': 1785, 'risk': 1786, 'save': 1787, 'searching': 1788, 'turns': 1789, 'sp': 1790, 'stands': 1791, 'sewing': 1792, 'mock': 1793, 'itch': 1794, 'gaps': 1795, 'potato': 1796, 'rip': 1797, 'defective': 1798, 'walked': 1799, 'halter': 1800, 'timeless': 1801, 'school': 1802, 'stop': 1803, 'major': 1804, 'whim': 1805, 'remove': 1806, '4p': 1807, 'birthday': 1808, 'ahead': 1809, 'blanket': 1810, 'walking': 1811, 'practical': 1812, 'professional': 1813, 'stylist': 1814, 'sister': 1815, 'ribbed': 1816, 'tshirt': 1817, 'beads': 1818, 'creates': 1819, 'ruching': 1820, 'stopped': 1821, 'ready': 1822, 'hint': 1823, 'florida': 1824, 'ground': 1825, 'yay': 1826, 'drawback': 1827, 'horribly': 1828, 'downside': 1829, 'flannel': 1830, 'thus': 1831, 'knowing': 1832, 'pajamas': 1833, 'washable': 1834, 'kids': 1835, 'fringe': 1836, 'opted': 1837, 'shrank': 1838, '120lbs': 1839, 'imagined': 1840, '140lbs': 1841, 'ribbing': 1842, 'lint': 1843, 'sew': 1844, 'travel': 1845, 'towards': 1846, 'hemming': 1847, 'asap': 1848, 'padding': 1849, '6p': 1850, 'eyelet': 1851, 'f': 1852, 'anymore': 1853, 'original': 1854, 'forever': 1855, 'quirky': 1856, 'features': 1857, 'draw': 1858, 'gals': 1859, 'coats': 1860, 'traditional': 1861, 'sparkle': 1862, 'cinched': 1863, 'arrival': 1864, 'hi': 1865, 'execution': 1866, 'turn': 1867, 'pleasantly': 1868, 'depicted': 1869, 'knot': 1870, 'slacks': 1871, 'hyphen': 1872, 'sewed': 1873, 'enjoy': 1874, 'wasted': 1875, 'horses': 1876, 'standing': 1877, 'textured': 1878, 'culottes': 1879, 'faux': 1880, 'allows': 1881, 'mini': 1882, 'conservative': 1883, 'prior': 1884, '90': 1885, 'holds': 1886, 'regarding': 1887, 'tucking': 1888, 'appealing': 1889, 'alternative': 1890, 'missed': 1891, 'sm': 1892, 'strings': 1893, 'tough': 1894, 'silly': 1895, 'iron': 1896, 'breathable': 1897, 'debating': 1898, 'pure': 1899, 'sticks': 1900, 'uneven': 1901, 'overwhelmed': 1902, 'likes': 1903, 'shouldn': 1904, 'loops': 1905, 'popped': 1906, 'ample': 1907, 'undergarments': 1908, 'control': 1909, 'cap': 1910, 'unfinished': 1911, 'fill': 1912, 'catching': 1913, 'tailoring': 1914, 'trench': 1915, 'accentuated': 1916, 'patterned': 1917, 'whimsical': 1918, 'suggested': 1919, 'boxier': 1920, 'interested': 1921, 'detailed': 1922, 'shouldered': 1923, 'directions': 1924, 'indeed': 1925, 'fancy': 1926, 'stretching': 1927, 'gathering': 1928, 'acrylic': 1929, 'shower': 1930, 'site': 1931, 'deciding': 1932, 'cardigans': 1933, 'bib': 1934, 'n': 1935, 'rating': 1936, 'dowdy': 1937, 'transitional': 1938, 'fur': 1939, 'hood': 1940, 'softest': 1941, 'accommodate': 1942, 'factor': 1943, 'boiled': 1944, 'cuffed': 1945, 'changed': 1946, 'suede': 1947, 'moo': 1948, 'break': 1949, 'ideal': 1950, 'alterations': 1951, 'jumper': 1952, 'gently': 1953, 'accurately': 1954, 'none': 1955, 'contrasting': 1956, 'range': 1957, 'jumpsuits': 1958, 'skinnies': 1959, 'combined': 1960, 'personal': 1961, 'wrinkly': 1962, 'step': 1963, 'cape': 1964, 'sweat': 1965, 'poof': 1966, 'awhile': 1967, 'boy': 1968, 'lounging': 1969, 'static': 1970, 'notch': 1971, 'moving': 1972, 'stet': 1973, 'sat': 1974, 'doll': 1975, 'figures': 1976, 'total': 1977, 'backside': 1978, 'balloon': 1979, 'intricate': 1980, 'pilled': 1981, 'cheaply': 1982, 'fresh': 1983, '37': 1984, 'tightly': 1985, 'packaging': 1986, 'hiding': 1987, 'debated': 1988, 'aside': 1989, 'paper': 1990, 'loves': 1991, 'accessories': 1992, 'man': 1993, 'suspect': 1994, 'bras': 1995, 'town': 1996, 'certain': 1997, 'grab': 1998, 'mainly': 1999, 'burnt': 2000, 'obsessed': 2001, 'distressed': 2002, 'tempted': 2003, 'result': 2004, 'knitted': 2005, 'definition': 2006, 'draping': 2007, 'his': 2008, 'future': 2009, 'zippers': 2010, 'happier': 2011, 'hd': 2012, 'photograph': 2013, 'cant': 2014, 'flatters': 2015, 'fashion': 2016, '138': 2017, 'broader': 2018, 'plastic': 2019, 'poly': 2020, 'crops': 2021, 'heart': 2022, 'starting': 2023, 'summery': 2024, 'thickness': 2025, 'shocked': 2026, 'sheath': 2027, '34ddd': 2028, 'promo': 2029, 'stains': 2030, 'prepared': 2031, 'finished': 2032, '125lbs': 2033, 'busy': 2034, 'sheerness': 2035, 'strong': 2036, 'sheds': 2037, 'yourself': 2038, 'ruin': 2039, 'happens': 2040, 'bunches': 2041, 'emphasized': 2042, 'misleading': 2043, 'ugly': 2044, '160': 2045, 'lol': 2046, 'prevent': 2047, 'older': 2048, 'offer': 2049, 'commented': 2050, 'spent': 2051, 'peasant': 2052, 'favorites': 2053, 'sophisticated': 2054, 'workout': 2055, 'complete': 2056, 'wings': 2057, 'accentuates': 2058, 'casually': 2059, 'drying': 2060, 'unexpected': 2061, 'toward': 2062, 'h': 2063, 'touched': 2064, 'steal': 2065, 'gauze': 2066, 'play': 2067, 'thankfully': 2068, 'stained': 2069, 'multi': 2070, 'current': 2071, 'undone': 2072, 'ease': 2073, 'products': 2074, '60': 2075, 'bronze': 2076, 'differently': 2077, 'definite': 2078, 'dropped': 2079, 'fault': 2080, 'lilac': 2081, 'struggle': 2082, 'preference': 2083, 'crooked': 2084, 'bothered': 2085, 'shell': 2086, 'clear': 2087, 'opposite': 2088, 'consistent': 2089, 'hated': 2090, 'intended': 2091, 'child': 2092, 'bed': 2093, 'wrists': 2094, 'continue': 2095, 'seat': 2096, 'nope': 2097, 'gape': 2098, 'stuff': 2099, 'damaged': 2100, 'costume': 2101, 'unattractive': 2102, 'dirty': 2103, 'ugh': 2104, 'additionally': 2105, 'desired': 2106, 'didnt': 2107, 'hardly': 2108, 'skims': 2109, 'dumpy': 2110, 'makeup': 2111, '108': 2112, 'lie': 2113, 'autumn': 2114, 'apparently': 2115, 'clearance': 2116, 'unstructured': 2117, 'easier': 2118, 'smalls': 2119, 'sun': 2120, 'amazingly': 2121, '155': 2122, 'word': 2123, 'images': 2124, 'rare': 2125, 'tassels': 2126, 'tones': 2127, 'eyes': 2128, 'plunge': 2129, 'padded': 2130, 'chilly': 2131, 'bet': 2132, 'created': 2133, 'flip': 2134, 'holly': 2135, 'accentuate': 2136, 'nervous': 2137, 'caution': 2138, 'hue': 2139, 'surprising': 2140, 'unbuttoned': 2141, 'requires': 2142, 'vs': 2143, 'carefully': 2144, 'si': 2145, 'reach': 2146, 'durable': 2147, 'textures': 2148, 'sports': 2149, 'pre': 2150, 'exact': 2151, 'following': 2152, 'nursing': 2153, 'darts': 2154, 'adjust': 2155, 'overlay': 2156, 'lumps': 2157, 'puckered': 2158, '32a': 2159, 'rotation': 2160, 'pushed': 2161, 'sticking': 2162, 'public': 2163, 'reordered': 2164, 'hugging': 2165, 'straighter': 2166, 'proportioned': 2167, 'accent': 2168, 'key': 2169, 'shimmer': 2170, 'apparent': 2171, '18': 2172, 'messy': 2173, '2nd': 2174, 'shrinkage': 2175, 'gigantic': 2176, 'handle': 2177, 'necessary': 2178, 'solved': 2179, 'proportion': 2180, 'lacy': 2181, 'shed': 2182, 'saggy': 2183, 'fragile': 2184, 'whatsoever': 2185, 'secondly': 2186, 'unraveling': 2187, 'tags': 2188, 'began': 2189, 'hopeful': 2190, 'weddings': 2191, 'teeny': 2192, 'sky': 2193, 'compare': 2194, 'placket': 2195, 'bonus': 2196, 'shapes': 2197, 'snugly': 2198, 'character': 2199, 'corduroy': 2200, 'inspired': 2201, 'thoughts': 2202, 'flutter': 2203, '145lbs': 2204, 'continues': 2205, 'important': 2206, 'lucky': 2207, 'decision': 2208, 'capris': 2209, 'rompers': 2210, 'broken': 2211, 'fray': 2212, 'dusty': 2213, 'watch': 2214, 'replacement': 2215, 'lo': 2216, 'stayed': 2217, 'posted': 2218, 'becomes': 2219, 'swim': 2220, 'unsure': 2221, 'serious': 2222, 'flops': 2223, 'keyhole': 2224, 'temps': 2225, '112': 2226, 'nature': 2227, 'consistently': 2228, 'mediums': 2229, 'loop': 2230, 'discovered': 2231, 'openings': 2232, 'featured': 2233, 'toned': 2234, 'included': 2235, 'diagonal': 2236, 'ironed': 2237, 'glass': 2238, 'tighten': 2239, 'practically': 2240, 'bridal': 2241, 'rust': 2242, 'chart': 2243, 'charcoal': 2244, 'rehearsal': 2245, 'imo': 2246, 'bend': 2247, 'stitch': 2248, 'shut': 2249, 'parties': 2250, 'triangle': 2251, 'elsewhere': 2252, 'listed': 2253, 'droopy': 2254, 'skimming': 2255, 'undershirt': 2256, 'car': 2257, 'pointed': 2258, 'search': 2259, 'comparison': 2260, 'meaning': 2261, 'pops': 2262, 'garments': 2263, 'interior': 2264, 'ref': 2265, 'shrinks': 2266, 'minor': 2267, 'beneath': 2268, 'besides': 2269, 'pleating': 2270, 'bikini': 2271, 'yikes': 2272, 'jsut': 2273, 'confused': 2274, 'bustline': 2275, 'cheaper': 2276, 'widest': 2277, 'tapered': 2278, 'boob': 2279, 'nowhere': 2280, 'theory': 2281, 'upset': 2282, 'stiffer': 2283, 'name': 2284, 'world': 2285, 'states': 2286, 'measured': 2287, 'causing': 2288, 'flap': 2289, 'clung': 2290, 'synthetic': 2291, 'tunics': 2292, 'ballet': 2293, 'self': 2294, 'starts': 2295, 'ruffled': 2296, 'humid': 2297, 'vests': 2298, 'effortless': 2299, '36ddd': 2300, 'hesitated': 2301, 'taper': 2302, 'chiffon': 2303, 'hence': 2304, 'summers': 2305, 'win': 2306, 'pairing': 2307, 'lunch': 2308, 'edgy': 2309, 'nylon': 2310, 'tissue': 2311, 'sash': 2312, 'weekends': 2313, 'imperfections': 2314, 'complimented': 2315, 'tacky': 2316, '95': 2317, 'cutest': 2318, 'hesitate': 2319, 'hassle': 2320, 'xspetite': 2321, 'regardless': 2322, 'sell': 2323, 'apple': 2324, 'paris': 2325, 'bold': 2326, 'eventually': 2327, 'ha': 2328, 'goodness': 2329, 'writing': 2330, 'brunch': 2331, 'curve': 2332, 'tracy': 2333, 'reese': 2334, 'flowed': 2335, 'meets': 2336, 'customers': 2337, 'conscious': 2338, 'criss': 2339, 'g': 2340, 'agreed': 2341, 'gathers': 2342, 'twisted': 2343, 'floreat': 2344, 'appeal': 2345, 'drowning': 2346, 'buttoning': 2347, 'fullness': 2348, 'told': 2349, 'boo': 2350, 'marked': 2351, '98': 2352, 'ten': 2353, 'ultra': 2354, 'cutout': 2355, 'sparkly': 2356, 'cobalt': 2357, 'service': 2358, 'cocktail': 2359, 'golden': 2360, 'sleek': 2361, 'lump': 2362, 'percent': 2363, 'saturated': 2364, 'folds': 2365, 'anyways': 2366, 'bat': 2367, 'book': 2368, 'drew': 2369, 'happening': 2370, 'accents': 2371, 'somewhere': 2372, 'untucked': 2373, 'shimmery': 2374, 'r': 2375, 'poofs': 2376, 'bunchy': 2377, '200': 2378, 'moved': 2379, 'uncomfortably': 2380, 'piping': 2381, 'quot': 2382, 'netting': 2383, 'spending': 2384, 'fuzz': 2385, 'coarse': 2386, 'disaster': 2387, 'generously': 2388, 'billow': 2389, 'princess': 2390, 'incredible': 2391, 'absolute': 2392, 'ask': 2393, '99': 2394, 'outdoor': 2395, 'tearing': 2396, 'dolan': 2397, 'sucker': 2398, 'cartonnier': 2399, 'blocking': 2400, 'j': 2401, 'floaty': 2402, 'gauzy': 2403, 'ti': 2404, '70': 2405, 'la': 2406, 'bent': 2407, 'exaggerated': 2408, 'coverup': 2409, 'previously': 2410, 'mp': 2411, 'strip': 2412, 'south': 2413, 'def': 2414, 'largest': 2415, 'disagree': 2416, 'penny': 2417, 'busts': 2418, 'stays': 2419, 'covering': 2420, '110lbs': 2421, 'greenish': 2422, 'deeper': 2423, 'blush': 2424, 'extreme': 2425, 'necessarily': 2426, 'wa': 2427, 'roomier': 2428, '25p': 2429, '170': 2430, 'midriff': 2431, 'seaming': 2432, 'nonetheless': 2433, 'favors': 2434, 'compliment': 2435, 'slipped': 2436, 'frames': 2437, 'wet': 2438, 'hooks': 2439, 'page': 2440, 'unraveled': 2441, '44': 2442, '80': 2443, 'usa': 2444, 'sleeping': 2445, 'sticky': 2446, 'raised': 2447, 'u': 2448, 'texas': 2449, 'depends': 2450, 'billows': 2451, 'washer': 2452, 'accidentally': 2453, 'limited': 2454, 'clipped': 2455, 'darn': 2456, 'complexion': 2457, 'slipping': 2458, 'naturally': 2459, 'shortened': 2460, 'peachy': 2461, 'lacing': 2462, 'defined': 2463, 'quick': 2464, 'alteration': 2465, 'squeeze': 2466, 'sag': 2467, 'reorder': 2468, 'undecided': 2469, 'mismatched': 2470, 'balloons': 2471, 'developed': 2472, 'clown': 2473, 'rides': 2474, 'shedding': 2475, 'fiber': 2476, 'secure': 2477, 'poofed': 2478, 'suitable': 2479, 'frustrating': 2480, 'meh': 2481, 'underwhelmed': 2482, 'stood': 2483, 'remover': 2484, 'bizarre': 2485, 'honey': 2486, 'stitches': 2487, 'illusion': 2488, 'common': 2489, 'vivid': 2490, 'minimal': 2491, 'gapping': 2492, 'expose': 2493, 'rigid': 2494, 'strangers': 2495, 'list': 2496, 'aqua': 2497, 'simplicity': 2498, 'elegance': 2499, 'gym': 2500, 'essentially': 2501, 'ripping': 2502, 'art': 2503, 'finish': 2504, 'sight': 2505, 'tacked': 2506, 'warning': 2507, 'brings': 2508, 'sa': 2509, '123lbs': 2510, 'tulle': 2511, 'whenever': 2512, 'speak': 2513, 'underwire': 2514, '117': 2515, 'tail': 2516, 'pooch': 2517, 'graduation': 2518, 'friendly': 2519, 'convinced': 2520, 'contemporary': 2521, 'setting': 2522, 'traveling': 2523, 'knotted': 2524, 'complimentary': 2525, 'fallen': 2526, 'bustier': 2527, 'billowed': 2528, 'selling': 2529, 'state': 2530, 'door': 2531, 'bringing': 2532, 'canvas': 2533, 'coh': 2534, 'wedge': 2535, 'family': 2536, 'bandeau': 2537, 'trouser': 2538, '150lbs': 2539, 'balance': 2540, 'tweed': 2541, 'wrapped': 2542, 'blonde': 2543, '107': 2544, 'creative': 2545, 'manage': 2546, 'delivered': 2547, 'associate': 2548, 'yoke': 2549, 'importantly': 2550, 'question': 2551, 'ordinary': 2552, 'thi': 2553, 'differences': 2554, 'replace': 2555, 'muffin': 2556, 'planned': 2557, '5ft': 2558, 'base': 2559, 'confident': 2560, 'stops': 2561, 'adn': 2562, 'ruched': 2563, 'bulge': 2564, 'unbutton': 2565, 'charm': 2566, 'intense': 2567, 'snagging': 2568, '155lbs': 2569, 'shades': 2570, 'kid': 2571, 'screen': 2572, 'halfway': 2573, 'trapeze': 2574, 'maroon': 2575, 'investment': 2576, 'safe': 2577, 'chemise': 2578, 'pj': 2579, 'wind': 2580, 'define': 2581, 'bordeaux': 2582, 'advertised': 2583, 'designers': 2584, 'experienced': 2585, 'slightest': 2586, 'matched': 2587, 'separate': 2588, 'grayish': 2589, 'hoodie': 2590, 'window': 2591, 'detergent': 2592, 'lazy': 2593, 'angles': 2594, 'exposing': 2595, 'salesperson': 2596, 'random': 2597, 'tha': 2598, 'promotion': 2599, 'oversize': 2600, 'profile': 2601, 'guessing': 2602, 'vary': 2603, '8p': 2604, '34g': 2605, 'web': 2606, 'beaded': 2607, 'bubble': 2608, 'narrower': 2609, 'raspberry': 2610, 'neat': 2611, 'pressed': 2612, 'achieve': 2613, 'gain': 2614, 'crossed': 2615, 'warned': 2616, 'gapes': 2617, 'gown': 2618, 'chemical': 2619, 'unnecessary': 2620, 'gripe': 2621, 'lg': 2622, 'bird': 2623, 'grandma': 2624, 'creating': 2625, 'shortness': 2626, 'vegan': 2627, 'pinkish': 2628, 'diamond': 2629, 'gather': 2630, 'appreciated': 2631, 'floppy': 2632, 'fluid': 2633, 'uniqueness': 2634, 'rated': 2635, 'serif': 2636, 'daughters': 2637, 'example': 2638, 'striping': 2639, '134': 2640, 'metal': 2641, 'invisible': 2642, 'soo': 2643, 'cart': 2644, 'meadow': 2645, 'rue': 2646, 'temperatures': 2647, 'wrote': 2648, 'reaching': 2649, 'adjusting': 2650, 'visual': 2651, 'replaced': 2652, 'girly': 2653, 'content': 2654, 'exceptionally': 2655, 'slide': 2656, 'church': 2657, 'lifestyle': 2658, 'instagram': 2659, 'untied': 2660, 'honest': 2661, 'push': 2662, 'mislabeled': 2663, 'carrying': 2664, 'baggier': 2665, 'managed': 2666, 'boot': 2667, 'boned': 2668, '6ft': 2669, 'offers': 2670, 'defeats': 2671, 'california': 2672, 'saturday': 2673, 'li': 2674, 'boat': 2675, 'friday': 2676, 'laundering': 2677, 'waffle': 2678, 'muddy': 2679, 'caveat': 2680, 'reg': 2681, 'frustrated': 2682, 'smocking': 2683, 'trick': 2684, 'edging': 2685, 'breath': 2686, 'versions': 2687, 'kidding': 2688, 'shorten': 2689, 'ribcage': 2690, 'class': 2691, 'bralette': 2692, 'losing': 2693, 'helpful': 2694, '42': 2695, 'sneakers': 2696, 'till': 2697, 'southern': 2698, 'skeptical': 2699, 'terrific': 2700, 'share': 2701, 'heather': 2702, 'market': 2703, 'upside': 2704, 'stress': 2705, 'flounce': 2706, 'teh': 2707, 'seconds': 2708, 'puff': 2709, 'resist': 2710, 'downfall': 2711, 'shoe': 2712, 'jumped': 2713, 'assume': 2714, 'morning': 2715, 'touching': 2716, 'lets': 2717, 'orangey': 2718, 'esp': 2719, 'picky': 2720, 'jump': 2721, 'lover': 2722, 'geometric': 2723, 'popular': 2724, '70s': 2725, 'moth': 2726, 'provides': 2727, 'various': 2728, 'rolls': 2729, 'clasp': 2730, 'distracting': 2731, 'salmon': 2732, 'advantage': 2733, 'exciting': 2734, 'variation': 2735, 'restrictive': 2736, 'bu': 2737, 'words': 2738, 'lingerie': 2739, 'effort': 2740, 'brownish': 2741, 'test': 2742, 'bucks': 2743, 'curious': 2744, 'wing': 2745, 'rounder': 2746, 'fingers': 2747, 'emphasizes': 2748, 'backwards': 2749, 'mannequin': 2750, 'sigh': 2751, 'pills': 2752, 'dingy': 2753, 'staying': 2754, 'decorative': 2755, 'impression': 2756, 'football': 2757, 'rounded': 2758, 'reservations': 2759, 'annoyed': 2760, 'significant': 2761, 'fail': 2762, 'causes': 2763, 'prone': 2764, 'deletta': 2765, 'underarms': 2766, 'ribs': 2767, 'acceptable': 2768, 'resembles': 2769, 'choking': 2770, 'viscose': 2771, 'displayed': 2772, 'shawl': 2773, 'sagged': 2774, 'laundry': 2775, 'title': 2776, 'bleach': 2777, '4th': 2778, 'adjusted': 2779, 'dreaded': 2780, 'hawaii': 2781, 'hat': 2782, 'ensure': 2783, 'opposed': 2784, 'written': 2785, 'sagging': 2786, 'allowing': 2787, 'remind': 2788, 'undergarment': 2789, 'personality': 2790, 'looseness': 2791, 'becoming': 2792, 'complement': 2793, '122': 2794, 'irl': 2795, 'mild': 2796, 'zipping': 2797, 'navel': 2798, 'degree': 2799, 'brocade': 2800, 'constricting': 2801, 'albeit': 2802, 'rolling': 2803, 'palette': 2804, 'cranberry': 2805, 'die': 2806, 'charlie': 2807, 'unforgiving': 2808, 'rid': 2809, 'essential': 2810, 'snuggly': 2811, 'breathing': 2812, 'depth': 2813, 'hundred': 2814, '34aa': 2815, 'yummy': 2816, 'partially': 2817, 'fussy': 2818, 'fortunately': 2819, 'postpartum': 2820, 'capri': 2821, 'slinky': 2822, 'sunday': 2823, 'thrown': 2824, 'embellishment': 2825, 'results': 2826, 'beat': 2827, 'final': 2828, 'headed': 2829, 'anyhow': 2830, 'overlook': 2831, 'panty': 2832, 'phone': 2833, 'distinctive': 2834, 'opaque': 2835, 'exquisite': 2836, '142': 2837, 'laces': 2838, 'forth': 2839, 'pjs': 2840, 'copper': 2841, 'pleasant': 2842, 'picks': 2843, 'hunt': 2844, 'steam': 2845, 'watching': 2846, 'gained': 2847, 'proportional': 2848, 'biceps': 2849, 'intrigued': 2850, 'wi': 2851, 'basics': 2852, 'touches': 2853, 'north': 2854, 'tack': 2855, 'cutting': 2856, 'men': 2857, 'mad': 2858, 'bailey': 2859, 'crushed': 2860, 'fading': 2861, 'collection': 2862, 'oatmeal': 2863, 'glittery': 2864, 'virtually': 2865, 'tomorrow': 2866, 'steep': 2867, 'directly': 2868, 'outs': 2869, 'threw': 2870, 'million': 2871, 'ness': 2872, 'tube': 2873, 'improved': 2874, 'technically': 2875, 'themselves': 2876, 'granted': 2877, 'specifically': 2878, 'dip': 2879, 'splurged': 2880, 'fluffy': 2881, 'company': 2882, 'splurge': 2883, 'useful': 2884, 'laundered': 2885, 'graphic': 2886, 'birds': 2887, 'hems': 2888, 'eat': 2889, 'harder': 2890, 'lighting': 2891, 'welcome': 2892, 'undo': 2893, 'riding': 2894, 'cleaner': 2895, 'shirtdress': 2896, 'distressing': 2897, 'anticipating': 2898, 'movie': 2899, 'bleed': 2900, 'unbuttoning': 2901, 'unzipped': 2902, 'display': 2903, 'bathrobe': 2904, 'turtle': 2905, 'prominent': 2906, 'computer': 2907, 'enhance': 2908, 'angle': 2909, 'lars': 2910, 'face': 2911, '38c': 2912, 'tho': 2913, 'condition': 2914, 'beadwork': 2915, 'de': 2916, 'fluke': 2917, 'citizens': 2918, 'catch': 2919, '105lbs': 2920, 'alter': 2921, 'region': 2922, 'modal': 2923, 'discover': 2924, 'comically': 2925, 'bones': 2926, 'scalloped': 2927, 'hav': 2928, 'dislike': 2929, 'player': 2930, 'pouch': 2931, 'elements': 2932, 'snapped': 2933, 'deceiving': 2934, 'spanx': 2935, 'bathroom': 2936, 'skip': 2937, 'altering': 2938, 'belting': 2939, 'ship': 2940, 'block': 2941, 'weighs': 2942, 'irritating': 2943, 'neon': 2944, 'unravel': 2945, 'aline': 2946, 'brick': 2947, 'approximately': 2948, 'centered': 2949, 'dollars': 2950, 'puffed': 2951, 'lifted': 2952, 'manner': 2953, 'ballooned': 2954, 'disliked': 2955, 'lastly': 2956, 'inconsistent': 2957, 'executed': 2958, 'laughing': 2959, 'envisioned': 2960, 'laughed': 2961, 'frankly': 2962, 'macrame': 2963, 'stuffed': 2964, 'carbon': 2965, 'overalls': 2966, 'nights': 2967, 'trust': 2968, '160lbs': 2969, 'doable': 2970, 'platform': 2971, 'count': 2972, 'emerald': 2973, 'amazed': 2974, 'pastel': 2975, 'superb': 2976, 'dreamy': 2977, 'underlay': 2978, 'easter': 2979, 'btw': 2980, 'goddess': 2981, 'breathtaking': 2982, 'breeze': 2983, 'laying': 2984, 'possibilities': 2985, 'winters': 2986, 'tape': 2987, 'greatly': 2988, 'shrinking': 2989, 'engagement': 2990, 'relax': 2991, 'heathered': 2992, '30s': 2993, 'tangerine': 2994, 'arrives': 2995, 'quilted': 2996, 'rock': 2997, 'ginormous': 2998, 'cargo': 2999, 'feared': 3000, 'highest': 3001, 'lightly': 3002, 'removable': 3003, '113': 3004, 'outstanding': 3005, 'chino': 3006, 'photographed': 3007, 'shine': 3008, 'blousey': 3009, 'pinch': 3010, 'rode': 3011, 'sliding': 3012, 'jeggings': 3013, '32ddd': 3014, 'noticeably': 3015, 'living': 3016, 'justifies': 3017, 'lying': 3018, 'deeply': 3019, 'sh': 3020, 'breathe': 3021, 'purse': 3022, 'rope': 3023, 'fave': 3024, 'gem': 3025, 'sea': 3026, 'bluish': 3027, 'gapped': 3028, 'turtlenecks': 3029, 'knits': 3030, 'wife': 3031, 'asking': 3032, 'pet': 3033, 'haha': 3034, 'ages': 3035, 'ponchos': 3036, 'understated': 3037, 'thanksgiving': 3038, 'pool': 3039, 'compelled': 3040, 'nubby': 3041, 'proportionate': 3042, 'poking': 3043, 'measures': 3044, 'subtly': 3045, 'id': 3046, 'delightful': 3047, 'creases': 3048, 'wo': 3049, 'retailers': 3050, 'heeled': 3051, 'hippy': 3052, 'cheapens': 3053, 'evenings': 3054, 'muumuu': 3055, 'visit': 3056, 'playing': 3057, 'peek': 3058, 'thats': 3059, 'blues': 3060, 'vanity': 3061, 'dont': 3062, 'figuring': 3063, 'streamlined': 3064, 'street': 3065, 'reddish': 3066, 'whereas': 3067, '118lbs': 3068, 'petit': 3069, 'category': 3070, 'identical': 3071, 'afternoon': 3072, 'complained': 3073, 'adored': 3074, 'ability': 3075, '130lb': 3076, 'causal': 3077, 'lived': 3078, 'prob': 3079, 'sand': 3080, 'similarly': 3081, 'flaps': 3082, 'twill': 3083, 'sundry': 3084, 'transitioning': 3085, 'fir': 3086, 'slips': 3087, 'variations': 3088, 'son': 3089, 'sooooo': 3090, 'lengths': 3091, 'potentially': 3092, 'aspect': 3093, 'safety': 3094, 'dragging': 3095, 'elasticized': 3096, 'lush': 3097, 'bothers': 3098, '128lbs': 3099, 'beginning': 3100, 'clings': 3101, 'environment': 3102, 'equally': 3103, 'hear': 3104, 'alot': 3105, 'blazers': 3106, 'alright': 3107, 'specific': 3108, 'smells': 3109, 'stevies': 3110, 'angled': 3111, 'killer': 3112, 'lacey': 3113, 'cottony': 3114, 'indoors': 3115, 'emphasize': 3116, 'talking': 3117, 'vertical': 3118, '40s': 3119, 'flouncy': 3120, 'update': 3121, 'wiggle': 3122, 'problematic': 3123, 'bells': 3124, 'richer': 3125, 'byron': 3126, 'compensate': 3127, 'popping': 3128, 'function': 3129, 'bands': 3130, 'forearm': 3131, 'tencel': 3132, 'rhinestones': 3133, 'studs': 3134, 'mango': 3135, 'assuming': 3136, 'soften': 3137, 'wonky': 3138, 'revealed': 3139, 'cleaners': 3140, 'cat': 3141, 'fake': 3142, 'drag': 3143, 'eva': 3144, 'franco': 3145, 'borderline': 3146, 'highlights': 3147, 'fo': 3148, 'board': 3149, 'piling': 3150, 'modesty': 3151, 'folks': 3152, 'sheet': 3153, 'belts': 3154, 'regularly': 3155, 'considerably': 3156, 'scratch': 3157, 'changes': 3158, 'reinforced': 3159, 'checking': 3160, 'dance': 3161, 'shaping': 3162, 'reached': 3163, 'doesnt': 3164, 'qualities': 3165, 'workmanship': 3166, 'finger': 3167, 'loses': 3168, 'failed': 3169, 'inexpensive': 3170, 'pain': 3171, 'tumble': 3172, 'belled': 3173, 'st': 3174, 'majority': 3175, 'poplin': 3176, 'unusually': 3177, 'pucker': 3178, 'elbows': 3179, 'somebody': 3180, 'plunging': 3181, 'folding': 3182, 'feelings': 3183, 'indicated': 3184, 'flattened': 3185, 'dog': 3186, 'load': 3187, 'prices': 3188, 'comical': 3189, 'nightmare': 3190, 'abdomen': 3191, 'bled': 3192, 'firstly': 3193, 'buyer': 3194, 'balls': 3195, 'lacking': 3196, 'flawed': 3197, 'impractical': 3198, 'halloween': 3199, 'refund': 3200, 'circus': 3201, 'pads': 3202, 'hideous': 3203, 'bomber': 3204, 'climate': 3205, 'excessive': 3206, 'ad': 3207, '112lbs': 3208, 'swinging': 3209, 'snugger': 3210, 'cheerful': 3211, 'card': 3212, 'clinging': 3213, 'reviewed': 3214, 'exceeded': 3215, 'zoom': 3216, 'femininity': 3217, 'confusing': 3218, 'loosen': 3219, 'underskirt': 3220, 'endless': 3221, 'impeccable': 3222, 'pumps': 3223, '132': 3224, 'bare': 3225, 'bargain': 3226, 'reasonably': 3227, 'skim': 3228, 'puts': 3229, 'forest': 3230, 'heck': 3231, 'camouflage': 3232, 'teacher': 3233, 'checkered': 3234, 'bits': 3235, 'frilly': 3236, 'dipped': 3237, 'drama': 3238, 'wire': 3239, 'uber': 3240, 'mindful': 3241, 'speaking': 3242, 'tea': 3243, 'closest': 3244, 'picking': 3245, 'misses': 3246, 'cable': 3247, 'weighty': 3248, 'foam': 3249, '136': 3250, 'concerns': 3251, 'approx': 3252, 'craftsmanship': 3253, 'remember': 3254, 'seamless': 3255, 'flash': 3256, 'wishing': 3257, 'complicated': 3258, 'sandal': 3259, 'partly': 3260, 'fab': 3261, 'firm': 3262, 'downs': 3263, 'preserve': 3264, 'plane': 3265, 'co': 3266, '58': 3267, 'strappy': 3268, 'trunk': 3269, 'degrees': 3270, 'pricy': 3271, 'sign': 3272, 'antho': 3273, 'element': 3274, 'victorian': 3275, '34f': 3276, 'di': 3277, 'symmetrical': 3278, 'daytime': 3279, 'scarves': 3280, 'cowboy': 3281, 'surely': 3282, 'relaxing': 3283, 'detract': 3284, 'unrolled': 3285, 'rushed': 3286, 'girlfriend': 3287, 'points': 3288, 'indigo': 3289, 'explain': 3290, 'maker': 3291, 'talk': 3292, 'manufacturer': 3293, 'reversible': 3294, 'teach': 3295, 'hasn': 3296, 'crosses': 3297, 'corners': 3298, 'ma': 3299, 'city': 3300, 'country': 3301, 'tucks': 3302, 'sells': 3303, 'swings': 3304, 'summertime': 3305, 'treat': 3306, 'omg': 3307, 'bias': 3308, 'dr': 3309, 'skimpy': 3310, 'worrying': 3311, 'descriptions': 3312, 'stats': 3313, '12p': 3314, 'pastels': 3315, 'clip': 3316, '28s': 3317, 'equivalent': 3318, 'cocoon': 3319, 'pointy': 3320, 'promise': 3321, 'forming': 3322, 'pm': 3323, 'slub': 3324, 'aka': 3325, 'bone': 3326, 'charming': 3327, 'zips': 3328, 'smitten': 3329, 'email': 3330, 'loosened': 3331, 'calling': 3332, 'rate': 3333, 'painful': 3334, 'situation': 3335, 'fastening': 3336, '126': 3337, 'admire': 3338, 'visited': 3339, 'struggled': 3340, 'lapel': 3341, 'damage': 3342, 'cautious': 3343, 'female': 3344, 'shortening': 3345, 'royal': 3346, 'babydoll': 3347, 'framed': 3348, 'blends': 3349, 'stunner': 3350, 'moves': 3351, 'cools': 3352, 'pa': 3353, 'seamed': 3354, 'vertically': 3355, 'dust': 3356, 'coffee': 3357, 'delight': 3358, 'seasonal': 3359, 'admit': 3360, 'minus': 3361, 'rinse': 3362, 'breasted': 3363, 'sporty': 3364, 'ca': 3365, 'june': 3366, 'latter': 3367, 'pilcros': 3368, 'ups': 3369, 'runner': 3370, 'scallop': 3371, 'steel': 3372, 'throwing': 3373, 'reinforce': 3374, 'ah': 3375, 'flight': 3376, 'wondered': 3377, 'topper': 3378, 'inappropriate': 3379, 'exposure': 3380, 'depicts': 3381, 'unable': 3382, 'legged': 3383, 'pronounced': 3384, 'toddler': 3385, 'include': 3386, 'stiffness': 3387, 'intentional': 3388, 'smidge': 3389, 'pineapple': 3390, 'overlooked': 3391, 'flowey': 3392, 'marled': 3393, 'monitor': 3394, 'feedback': 3395, 'tegan': 3396, 'learned': 3397, 'defect': 3398, '23': 3399, 'fly': 3400, 'solution': 3401, 'occasionally': 3402, 'scared': 3403, 'photographs': 3404, 'spectacular': 3405, 'rug': 3406, 'happily': 3407, 'knitting': 3408, 'maxis': 3409, 'fasten': 3410, 'undertones': 3411, 'catches': 3412, 'transfer': 3413, 'boyish': 3414, 'pxxs': 3415, 'chesty': 3416, 'ignored': 3417, 'reveals': 3418, 'hers': 3419, 'peacock': 3420, 'laughable': 3421, 'occasional': 3422, 'lengthwise': 3423, '106': 3424, 'pointelle': 3425, 'flesh': 3426, 'colour': 3427, 'hipped': 3428, 'coveted': 3429, 'cloths': 3430, 'department': 3431, 'muscles': 3432, 'loud': 3433, 'pushing': 3434, 'represented': 3435, 'lbd': 3436, '100lbs': 3437, 'bod': 3438, 'baseball': 3439, 'returns': 3440, 'carries': 3441, 'waaaaay': 3442, '90s': 3443, '5ft2in': 3444, 'odor': 3445, 'loss': 3446, 'met': 3447, 'dind': 3448, 'regrettably': 3449, '26p': 3450, 'cuz': 3451, 'circle': 3452, 'hospital': 3453, 'buyers': 3454, 'china': 3455, 'lacks': 3456, 'immediate': 3457, 'wavy': 3458, 'offering': 3459, 'heads': 3460, 'tightness': 3461, 'encountered': 3462, 'attempt': 3463, 'knows': 3464, 'whoa': 3465, 'braless': 3466, 'pins': 3467, 'fee': 3468, 'fibers': 3469, 'gonna': 3470, 'larges': 3471, 'patter': 3472, 'sharp': 3473, 'hugged': 3474, 'restroom': 3475, 'inverted': 3476, 'sections': 3477, 'incorrectly': 3478, 'reconsider': 3479, 'muscle': 3480, 'dart': 3481, 'itches': 3482, 'translucent': 3483, 'gaped': 3484, 'belonged': 3485, 'fooled': 3486, 'potatoes': 3487, 'direction': 3488, 'glowing': 3489, 'strike': 3490, 'bath': 3491, 'isnt': 3492, 'flairs': 3493, 'ruins': 3494, 'extended': 3495, 'promptly': 3496, 'dear': 3497, 'transferred': 3498, 'parachute': 3499, 'exclusive': 3500, 'increase': 3501, 'couldnt': 3502, 'overdress': 3503, 'joke': 3504, 'rag': 3505, 'unhappy': 3506, 'rave': 3507, 'expectation': 3508, 'protrude': 3509, 'actuality': 3510, 'sausage': 3511, 'lik': 3512, 'mis': 3513, 'standards': 3514, 'story': 3515, 'remotely': 3516, 'cognac': 3517, 'moderate': 3518, 'sooner': 3519, 'pit': 3520, 'solves': 3521, 'sequined': 3522, 'patches': 3523, 'elevenses': 3524, 'thinks': 3525, 'ribbons': 3526, 'changing': 3527, 'breaks': 3528, 'boxiness': 3529, 'patchwork': 3530, 'mature': 3531, 'quote': 3532, 'eh': 3533, 'opens': 3534, 'effortlessly': 3535, 'staples': 3536, 'un': 3537, 'professionally': 3538, 'playful': 3539, 'nowadays': 3540, 'teensy': 3541, 'hippie': 3542, 'fashionable': 3543, 'impressive': 3544, 'crossover': 3545, 'swimwear': 3546, 'abundance': 3547, 'plans': 3548, 'pinks': 3549, 'unevenly': 3550, 'evenly': 3551, 'loyal': 3552, 'springy': 3553, 'budget': 3554, 'bootie': 3555, 'eve': 3556, 'uncertain': 3557, 'fade': 3558, 'recommendation': 3559, 'led': 3560, 'lends': 3561, '104': 3562, 'snatch': 3563, 'fairy': 3564, 'transitions': 3565, 'berry': 3566, 'climates': 3567, 'god': 3568, 'reversed': 3569, 'gauge': 3570, 'attire': 3571, 'highlighting': 3572, '68': 3573, 'fringed': 3574, 'discounted': 3575, 'complementary': 3576, 'trimmed': 3577, 'reveal': 3578, 'garden': 3579, 'duster': 3580, 'freezing': 3581, 'forget': 3582, 'needing': 3583, 'supportive': 3584, 'hefty': 3585, 'contrary': 3586, 'spotted': 3587, 'tint': 3588, 'measurement': 3589, 'delighted': 3590, 'earrings': 3591, '36a': 3592, 'reads': 3593, 'wraps': 3594, 'obnoxious': 3595, 'fire': 3596, 'closures': 3597, 'presentation': 3598, 'glance': 3599, 'paisley': 3600, 'sets': 3601, 'drives': 3602, 'adequate': 3603, 'disproportionate': 3604, 'unbelievably': 3605, '133': 3606, 'highlight': 3607, 'corset': 3608, 'redhead': 3609, 'serve': 3610, 'initial': 3611, 'term': 3612, 'shimmy': 3613, 'tinge': 3614, 'ratio': 3615, 'closing': 3616, '24p': 3617, 'eyed': 3618, 'crew': 3619, 'army': 3620, 'error': 3621, 'regualr': 3622, 'heaven': 3623, 'khaki': 3624, 'handful': 3625, 'refreshing': 3626, 'kelly': 3627, 'combines': 3628, 'located': 3629, 'club': 3630, 'ar': 3631, 'dancing': 3632, 'relationship': 3633, 'hooked': 3634, 'driving': 3635, 'avail': 3636, 'suitcase': 3637, 'falttering': 3638, 'san': 3639, 'address': 3640, 'success': 3641, 'everybody': 3642, 'smart': 3643, 'juvenile': 3644, 'flipped': 3645, 'angel': 3646, 'intending': 3647, 'basket': 3648, 'reds': 3649, 'artistic': 3650, 'opt': 3651, 'nip': 3652, 'prettiest': 3653, 'cord': 3654, 'press': 3655, 'partum': 3656, 'insert': 3657, 'sufficient': 3658, 'handy': 3659, 'khakis': 3660, 'dad': 3661, 'knock': 3662, 'judging': 3663, 'niece': 3664, 'colorway': 3665, 'functions': 3666, 'sanctuary': 3667, 'flashy': 3668, 'neoprene': 3669, 'boys': 3670, 'em': 3671, 'wrinkling': 3672, 'regretfully': 3673, 'enhances': 3674, 'eating': 3675, 'sleev': 3676, 'poster': 3677, 'spray': 3678, 'luxe': 3679, 'sick': 3680, 'zone': 3681, 'saved': 3682, 'packing': 3683, 'squeezed': 3684, 'atleast': 3685, 'indian': 3686, 'settled': 3687, 'swallow': 3688, 'jackpot': 3689, 'marks': 3690, 'stature': 3691, 'overwhelm': 3692, 'varied': 3693, 'detachable': 3694, 'animals': 3695, '127': 3696, '32g': 3697, 'discomfort': 3698, 'representation': 3699, 'table': 3700, 'sipping': 3701, 'ot': 3702, 'accessory': 3703, 'prevents': 3704, 'shabby': 3705, '109lbs': 3706, 'deter': 3707, 'ponte': 3708, 'value': 3709, 'bodies': 3710, 'defiantly': 3711, 'nyc': 3712, '50s': 3713, '60s': 3714, 'restaurant': 3715, 'safely': 3716, 'spilled': 3717, 'tiers': 3718, 'embellishments': 3719, '38d': 3720, 'contact': 3721, 'washings': 3722, 'employee': 3723, 'limp': 3724, 'whimsy': 3725, 'substance': 3726, 'me\\r': 3727, 'kimonos': 3728, 'menswear': 3729, 'among': 3730, 'pleasing': 3731, 'appealed': 3732, 'snipped': 3733, 'implies': 3734, 'follows': 3735, 'peeking': 3736, 'camouflages': 3737, 'becasue': 3738, 'pound': 3739, 'sweetheart': 3740, 'antro': 3741, 'shear': 3742, 'fe': 3743, 'attending': 3744, 'bulkier': 3745, 'criticism': 3746, 'everytime': 3747, '3x': 3748, 'mexico': 3749, 'snatched': 3750, 'regrets': 3751, 'chevron': 3752, 'accentuating': 3753, 'negatives': 3754, 'game': 3755, 'henley': 3756, 'convenient': 3757, '21': 3758, 'vinegar': 3759, 'food': 3760, 'object': 3761, 'numerous': 3762, 'dres': 3763, 'bending': 3764, 'assets': 3765, 'verify': 3766, 'europe': 3767, 'gamble': 3768, 'complain': 3769, 'video': 3770, 'foxes': 3771, 'heading': 3772, 'italy': 3773, 'intact': 3774, 'leftover': 3775, '20s': 3776, 'cash': 3777, 'butter': 3778, 'carpet': 3779, 'provided': 3780, 'refined': 3781, 'heavily': 3782, 'fond': 3783, 'sweats': 3784, 'drapery': 3785, 'insanely': 3786, 'squeezing': 3787, 'drove': 3788, 'attend': 3789, '116': 3790, 'handkerchief': 3791, 'carried': 3792, 'purposes': 3793, 'snails': 3794, 'unflatteringly': 3795, 'animal': 3796, 'gotta': 3797, 'apply': 3798, 'uses': 3799, 'shots': 3800, 'butterflies': 3801, 'zippered': 3802, 'tightened': 3803, 'desperately': 3804, 'flashing': 3805, 'frequently': 3806, '32f': 3807, 'hid': 3808, 'ombre': 3809, 'itchiness': 3810, 'uniform': 3811, 'social': 3812, 'pom': 3813, 'al': 3814, 'scrunch': 3815, 'contains': 3816, 'digging': 3817, 'proper': 3818, 'trimester': 3819, 'mood': 3820, 'wont': 3821, 'camel': 3822, 'answer': 3823, 'sounds': 3824, 'destroyed': 3825, 'french': 3826, 'truth': 3827, 'human': 3828, 'nautical': 3829, 'popsicles': 3830, 'wh': 3831, 'position': 3832, 'curved': 3833, 'decently': 3834, 'sequin': 3835, 'disappear': 3836, 'location': 3837, 'suddenly': 3838, 'tested': 3839, 'buckle': 3840, '27p': 3841, 'represent': 3842, 'steer': 3843, 'trash': 3844, 'puckers': 3845, 'knocked': 3846, 'crinkly': 3847, 'jewel': 3848, 'embellished': 3849, 'struggling': 3850, 'draws': 3851, 'thoroughly': 3852, 'uniquely': 3853, '28p': 3854, 'yo': 3855, 'lattice': 3856, 'longest': 3857, 'messed': 3858, 'curtain': 3859, 'bear': 3860, 'border': 3861, 'batch': 3862, 'evident': 3863, 'deliver': 3864, 'derriere': 3865, 'steaming': 3866, '158': 3867, '45': 3868, 'max': 3869, '165': 3870, 'creasing': 3871, 'rougher': 3872, 'handled': 3873, 'anytime': 3874, 'access': 3875, 'threading': 3876, 'solve': 3877, 'unnatural': 3878, 'thinness': 3879, 'positives': 3880, 'ruining': 3881, 'layed': 3882, 'bodysuit': 3883, 'opinions': 3884, 'lacework': 3885, 'wld': 3886, 'ddd': 3887, 'weak': 3888, 'fa': 3889, 'coziness': 3890, 'packaged': 3891, 'jacquard': 3892, 'tastes': 3893, 'heartbroken': 3894, 'contemplating': 3895, 'ms': 3896, 'lend': 3897, 'squished': 3898, 'fabrication': 3899, 'gatherings': 3900, 'po': 3901, 'affect': 3902, 'vice': 3903, 'versa': 3904, 'labeled': 3905, 'realistic': 3906, 'road': 3907, 'primary': 3908, 'irregular': 3909, 'gingham': 3910, 'pinched': 3911, 'embarrassing': 3912, 'outline': 3913, 'tugging': 3914, 'coast': 3915, 'receipt': 3916, 'longevity': 3917, 'manufactured': 3918, '107lbs': 3919, 'functionality': 3920, 'novelty': 3921, 'billowing': 3922, 'swimmer': 3923, 'develop': 3924, 'curls': 3925, 'tore': 3926, 'wayyy': 3927, 'chair': 3928, 'starters': 3929, '103': 3930, 'spite': 3931, 'instant': 3932, 'jumpers': 3933, 'apron': 3934, 'chances': 3935, 'juts': 3936, 'shapely': 3937, 'crumpled': 3938, '80s': 3939, 'majorly': 3940, 'roller': 3941, 'sided': 3942, 'anticipation': 3943, 'puzzled': 3944, 'pirate': 3945, 'bulged': 3946, 'existent': 3947, 'floats': 3948, 'downhill': 3949, 'excessively': 3950, 'rubbed': 3951, 'media': 3952, 'distracted': 3953, 'circulation': 3954, 'pinning': 3955, 'k': 3956, 'lumpy': 3957, 'brunette': 3958, 'seemingly': 3959, 'underarm': 3960, 'tears': 3961, 'resulting': 3962, 'snake': 3963, 'breaking': 3964, 'continuous': 3965, 'thinnest': 3966, 'killed': 3967, 'paint': 3968, 'recommending': 3969, 'tying': 3970, 'pity': 3971, 'lifeless': 3972, 'horrified': 3973, 'intent': 3974, 'remained': 3975, 'attempted': 3976, 'repair': 3977, 'prairie': 3978, 'tips': 3979, 'tablecloth': 3980, 'laugh': 3981, 'strips': 3982, 'splotchy': 3983, 'mumu': 3984, 'mu': 3985, 'yuck': 3986, 'forearms': 3987, 'automatically': 3988, 'strikes': 3989, 'scream': 3990, 'heals': 3991, 'straw': 3992, 'individual': 3993, 'stuffy': 3994, 'resistant': 3995, 'mo': 3996, 'boatneck': 3997, 'ranna': 3998, 'gill': 3999, 'requiring': 4000, 'faces': 4001, '3rd': 4002, 'choosing': 4003, 'ecru': 4004, 'dealt': 4005, 'overdone': 4006, 'stinking': 4007, 'lies': 4008, 'creamy': 4009, 'superior': 4010, 'flexible': 4011, 'grecian': 4012, 'antrho': 4013, 'apprehensive': 4014, 'speed': 4015, 'teaching': 4016, 'amounts': 4017, 'accidental': 4018, 'peep': 4019, 'kicky': 4020, 'fish': 4021, 'worries': 4022, 'trimmer': 4023, 'outings': 4024, 'hardest': 4025, 'bloated': 4026, 'assured': 4027, 'squares': 4028, 'gravitate': 4029, 'challenge': 4030, 'shopper': 4031, 'shipment': 4032, 'turning': 4033, 'flecks': 4034, 'app': 4035, 'positioned': 4036, 'includes': 4037, 'fancier': 4038, 'antique': 4039, 'dimples': 4040, 'fuss': 4041, 'grabbing': 4042, 'moulinette': 4043, 'afford': 4044, 'prepare': 4045, 'ecstatic': 4046, 'strongly': 4047, 'smile': 4048, 'mornings': 4049, 'countless': 4050, 'strictly': 4051, 'knotting': 4052, 'intend': 4053, '24s': 4054, 'greatest': 4055, 'ticket': 4056, 'graceful': 4057, 'fluctuates': 4058, 'resulted': 4059, 'owning': 4060, 'yeah': 4061, 'attitude': 4062, 'exceptional': 4063, 'apricot': 4064, 'luv': 4065, 'shorty': 4066, '30e': 4067, 'braided': 4068, 'aspects': 4069, 'closes': 4070, 'banded': 4071, 'likewise': 4072, 'detect': 4073, 'speck': 4074, 'glamorous': 4075, 'ethereal': 4076, 'finishes': 4077, 'mildly': 4078, 'determine': 4079, 'pillow': 4080, 'crinkled': 4081, 'scheme': 4082, 'telling': 4083, 'squishing': 4084, 'splits': 4085, 'supple': 4086, 'military': 4087, 'durability': 4088, 'pilco': 4089, 'celebration': 4090, 'stacked': 4091, 'marrakech': 4092, 'supports': 4093, 'phenomenal': 4094, 'jeweled': 4095, 'artsy': 4096, 'pendant': 4097, 'visually': 4098, 'information': 4099, 'tiger': 4100, 'wherever': 4101, 'lipstick': 4102, 'hotel': 4103, 'tailors': 4104, 'overlap': 4105, 'jazzed': 4106, 'longtime': 4107, 'scooped': 4108, 'nye': 4109, 'wea': 4110, 'recognize': 4111, 'glam': 4112, 'ope': 4113, 'purplish': 4114, 'biased': 4115, 'te': 4116, 'college': 4117, 'advised': 4118, 'sherpa': 4119, 'studio': 4120, '137': 4121, '1920s': 4122, 'screams': 4123, 'socal': 4124, 'heights': 4125, 'partial': 4126, 'palazzo': 4127, 'thoughtful': 4128, 'grace': 4129, 'workplace': 4130, 'unwanted': 4131, 'beef': 4132, 'bug': 4133, 'inviting': 4134, 'wooden': 4135, 'peeve': 4136, 'dirt': 4137, 'caftan': 4138, 'providing': 4139, 'nine': 4140, 'fluff': 4141, 'versitile': 4142, 'finishing': 4143, 'raved': 4144, 'grabs': 4145, 'stunned': 4146, 'toe': 4147, 'informal': 4148, 'garnet': 4149, 'shall': 4150, 'suggests': 4151, 'delicately': 4152, 'francisco': 4153, 'disguises': 4154, 'twins': 4155, 'grip': 4156, 'festive': 4157, 'exclusively': 4158, 'tankini': 4159, 'beloved': 4160, 'securely': 4161, 'gladiator': 4162, 'undies': 4163, 'innocent': 4164, 'pinky': 4165, 'skewed': 4166, 'moderately': 4167, 'calls': 4168, 'fraction': 4169, 'regulars': 4170, 'minimize': 4171, 'played': 4172, 'emphasizing': 4173, 'assumption': 4174, 'butterfly': 4175, 'loo': 4176, 'ags': 4177, 'inset': 4178, 'waves': 4179, 'binding': 4180, 'bows': 4181, 'dying': 4182, 'bar': 4183, 'kick': 4184, '22': 4185, 'brushed': 4186, 'orders': 4187, 'detached': 4188, 'handles': 4189, 'grandpa': 4190, 'universally': 4191, 'exterior': 4192, 'dead': 4193, '142lbs': 4194, 'buttery': 4195, 'stroll': 4196, 'moto': 4197, 'necklaces': 4198, 'differs': 4199, 'dilemma': 4200, 'devastated': 4201, 'precious': 4202, 'babies': 4203, 'lookout': 4204, 'patiently': 4205, 'flowly': 4206, 'wasnt': 4207, 'expense': 4208, 'prefered': 4209, 'net': 4210, '128lb': 4211, 'levels': 4212, 'sleepwear': 4213, 'jogger': 4214, 'petitie': 4215, 'stumbled': 4216, 'dallas': 4217, 'houston': 4218, 'staff': 4219, 'elevates': 4220, 'tush': 4221, 'reservation': 4222, 'nicest': 4223, 'snugness': 4224, 'twin': 4225, 'nightie': 4226, 'limbs': 4227, 'slides': 4228, 'magenta': 4229, 'physique': 4230, 'sotre': 4231, 'regain': 4232, 'process': 4233, 'loungewear': 4234, 'milder': 4235, 'leaf': 4236, 'artist': 4237, 'flying': 4238, 'race': 4239, 'grommets': 4240, 'tuxedo': 4241, 'him': 4242, 'posture': 4243, 'tiered': 4244, 'affair': 4245, 'muggy': 4246, 'european': 4247, 'seldom': 4248, 'bes': 4249, 'standout': 4250, 'masculine': 4251, 'backordered': 4252, 'glitter': 4253, '110lb': 4254, 'crepe': 4255, 'meeting': 4256, 'travels': 4257, 'ceremony': 4258, 'bog': 4259, 'lead': 4260, 'empty': 4261, 'catcher': 4262, 'excitement': 4263, '170lbs': 4264, 'benefit': 4265, 'shelf': 4266, 'flexibility': 4267, 'ensures': 4268, 'compromise': 4269, '123': 4270, 'rainy': 4271, 'inserts': 4272, 'varies': 4273, 'widely': 4274, 'browns': 4275, 'present': 4276, 'doubts': 4277, 'snow': 4278, 'chunk': 4279, 'waists': 4280, 'sundress': 4281, 'wasit': 4282, 'unseamed': 4283, 'hates': 4284, 'stepped': 4285, 'dish': 4286, 'anti': 4287, 'underlayer': 4288, 'flattered': 4289, '180': 4290, '19': 4291, '185': 4292, 'cheek': 4293, 'manufacturing': 4294, '300': 4295, 'varying': 4296, 'glasses': 4297, 'enjoyed': 4298, 'neutrals': 4299, 'humidity': 4300, 'prefect': 4301, 'aesthetically': 4302, 'indicate': 4303, '124': 4304, 'umbrella': 4305, 'gracefully': 4306, 'breathes': 4307, 'positively': 4308, 'admittedly': 4309, 'stil': 4310, 'tinier': 4311, 'periwinkle': 4312, 'manages': 4313, 'stopper': 4314, 'backs': 4315, 'jade': 4316, 'chartreuse': 4317, 'limit': 4318, 'exposes': 4319, 'par': 4320, 'ensemble': 4321, 'yr': 4322, 'grass': 4323, 'sassy': 4324, 'combine': 4325, 'pearl': 4326, 'freely': 4327, 'mall': 4328, 'leaner': 4329, 'irish': 4330, 'facing': 4331, 'hemlines': 4332, 'accordingly': 4333, '138lbs': 4334, 'poufy': 4335, 'appearing': 4336, 'favor': 4337, 'referred': 4338, '13': 4339, 'associates': 4340, 'tab': 4341, 'extends': 4342, 'appropriately': 4343, 'chuckle': 4344, 'ideas': 4345, 'lesson': 4346, 'finer': 4347, 'concur': 4348, 'remain': 4349, 'groom': 4350, 'earth': 4351, 'bac': 4352, 'tr': 4353, '119': 4354, 'hints': 4355, 'guilty': 4356, 'pur': 4357, 'insets': 4358, 'textile': 4359, 'itching': 4360, 'youthful': 4361, 'droop': 4362, 'inappropriately': 4363, 'stretchier': 4364, 'related': 4365, 'dropping': 4366, 'translated': 4367, 'creep': 4368, '78': 4369, 'steamer': 4370, 'bi': 4371, 'gaudy': 4372, 'shortest': 4373, 'poppy': 4374, 'thrill': 4375, 'mentioning': 4376, 'july': 4377, 'maid': 4378, 'vein': 4379, 'gladly': 4380, 'lime': 4381, 'femine': 4382, 'nuts': 4383, 'flab': 4384, 'remaining': 4385, '31p': 4386, 'jut': 4387, 'mossy': 4388, 'bulges': 4389, 'tiniest': 4390, 'hunter': 4391, 'bough': 4392, 'bosom': 4393, 'coupled': 4394, 'snd': 4395, 'disintegrated': 4396, 'sparrow': 4397, 'tulip': 4398, 'october': 4399, 'absurd': 4400, 'portrayed': 4401, 'patten': 4402, 'racerback': 4403, 'peeked': 4404, 'cheery': 4405, 'enhancing': 4406, 'backorder': 4407, 'buttondown': 4408, 'alittle': 4409, 'beauties': 4410, 'bo': 4411, 'alternate': 4412, 'felted': 4413, 'fewer': 4414, 'formed': 4415, 'pea': 4416, 'triangles': 4417, 'fight': 4418, 'nipple': 4419, 'perspective': 4420, 'festival': 4421, 'aesthetics': 4422, '160lb': 4423, 'tendency': 4424, 'lemon': 4425, 'rub': 4426, 'yucky': 4427, 'duller': 4428, 'flop': 4429, 'suggestion': 4430, 'oop': 4431, 'smocked': 4432, 'proportionally': 4433, 'anna': 4434, 'sui': 4435, 'reluctantly': 4436, 'practice': 4437, 'comparing': 4438, 'justified': 4439, '124lbs': 4440, 'velcro': 4441, 'install': 4442, 'blessed': 4443, 'respect': 4444, 'reduce': 4445, 'dragged': 4446, 'misshapen': 4447, 'appliquã©': 4448, 'thoughtfully': 4449, 'record': 4450, 'pack': 4451, 'elevate': 4452, 'diet': 4453, 'wit': 4454, '88': 4455, 'raving': 4456, 'minimum': 4457, 'wound': 4458, 'restricting': 4459, 'dramatic': 4460, 'minded': 4461, 'puffer': 4462, 'teen': 4463, 'dogs': 4464, 'quest': 4465, 'bothersome': 4466, 'tolerable': 4467, 'drawbacks': 4468, 'hey': 4469, 'gappy': 4470, 'rubs': 4471, 'emergency': 4472, 'tonight': 4473, 'scallops': 4474, 'evanthe': 4475, 'forgot': 4476, 'transparency': 4477, 'ed': 4478, 'embroiding': 4479, 'reminiscent': 4480, 'scissors': 4481, 'contributes': 4482, 'claim': 4483, 'camis': 4484, 'flaring': 4485, 'farm': 4486, 'kangaroo': 4487, 'bagginess': 4488, 'pits': 4489, 'linings': 4490, 'claims': 4491, 'replacing': 4492, 'errand': 4493, 'tule': 4494, 'flowiness': 4495, 'australian': 4496, 'wearability': 4497, 'protect': 4498, 'burlap': 4499, 'altogether': 4500, 'darting': 4501, 'secret': 4502, 'resembling': 4503, 'brainer': 4504, 'allowed': 4505, 'bachelorette': 4506, 'yep': 4507, 'rea': 4508, 'territory': 4509, 'mankind': 4510, 'feb': 4511, 'ii': 4512, 'renaissance': 4513, 'improve': 4514, 'meaty': 4515, 'vee': 4516, 'motion': 4517, 'opportunity': 4518, 'nobody': 4519, 'lowered': 4520, 'shrug': 4521, 'prevented': 4522, 'widens': 4523, 'selected': 4524, 'piles': 4525, 'int': 4526, 'puckering': 4527, 'midweight': 4528, 'spin': 4529, 'accept': 4530, 'shifts': 4531, 'lyocell': 4532, 'slate': 4533, 'relegated': 4534, 'ver': 4535, 'unzipping': 4536, 'fashioned': 4537, '114': 4538, 'shirring': 4539, 'blades': 4540, 'bead': 4541, 'cuddly': 4542, 'baily': 4543, 'adequately': 4544, 'nevertheless': 4545, 'horse': 4546, 'brilliant': 4547, 'sideways': 4548, 'cheeks': 4549, 'steps': 4550, 'stride': 4551, 'faster': 4552, 'rely': 4553, 'subdued': 4554, 'awfully': 4555, 'scratchiness': 4556, 'tapering': 4557, 'promising': 4558, 'p0': 4559, 'children': 4560, 'strategically': 4561, 'narrowest': 4562, 'substantially': 4563, 'charge': 4564, 'yarns': 4565, 'peeks': 4566, 'distract': 4567, 'sound': 4568, 'squared': 4569, 'sunlight': 4570, 'measure': 4571, 'realizing': 4572, 'tended': 4573, 'cedar': 4574, 'softly': 4575, 'coz': 4576, 'chests': 4577, 'sacklike': 4578, 'humanity': 4579, 'underwhelming': 4580, 'tra': 4581, '3ish': 4582, 'lifting': 4583, 'retuning': 4584, 'developing': 4585, 'dim': 4586, 'vent': 4587, 'fabri': 4588, 'packed': 4589, 'dramatically': 4590, 'qu': 4591, 'collarbone': 4592, 'tapers': 4593, '10lbs': 4594, '43': 4595, 'tax': 4596, 'bland': 4597, 'spill': 4598, 'truer': 4599, 'obscene': 4600, 'puffing': 4601, 'raglan': 4602, 'bodycon': 4603, 'swishy': 4604, 'shinier': 4605, 'pro': 4606, 'budge': 4607, 'incorrect': 4608, 'boardwalk': 4609, 'horrendous': 4610, 'frills': 4611, 'lanky': 4612, 'grown': 4613, 'ratings': 4614, 'burst': 4615, 'stumpy': 4616, 'sum': 4617, 'crocheted': 4618, 'understood': 4619, 'wallpaper': 4620, 'thumbs': 4621, 'sprayed': 4622, 'looses': 4623, 'unreasonable': 4624, 'waaay': 4625, 'force': 4626, 'blood': 4627, 'tolerance': 4628, '75': 4629, 'rusty': 4630, 'diameter': 4631, 'humongous': 4632, 'completed': 4633, 'represents': 4634, 'warehouse': 4635, 'stalked': 4636, 'thinnish': 4637, 'rectangle': 4638, 'stronger': 4639, 'representative': 4640, 'ratty': 4641, 'middl': 4642, 'cinching': 4643, 'sapphire': 4644, 'shredded': 4645, 'squat': 4646, 'cracked': 4647, 'situations': 4648, 'bubbled': 4649, 'upright': 4650, 'severely': 4651, 'offset': 4652, 'shrunken': 4653, 'tented': 4654, 'stepping': 4655, 'unimpressed': 4656, 'contortionist': 4657, 'sweatshirts': 4658, 'nipples': 4659, '168': 4660, 'drooped': 4661, 'busting': 4662, 'consideration': 4663, 'elongated': 4664, 'outcome': 4665, 'grease': 4666, 'wearings': 4667, 'ball': 4668, 'useless': 4669, 'forced': 4670, 'graphics': 4671, 'skinned': 4672, 'wou': 4673, 'balled': 4674, 'overweight': 4675, 'discrepancy': 4676, 'redeeming': 4677, 'repaired': 4678, 'wowed': 4679, 'sudden': 4680, 'dips': 4681, 'listing': 4682, 'underslip': 4683, 'mih': 4684, 'rumpled': 4685, 'floored': 4686, 'smock': 4687, 'massively': 4688, 'whoever': 4689, 'garish': 4690, 'stink': 4691, 'workable': 4692, 'quilting': 4693, 'yellowish': 4694, 'deceptive': 4695, 'smelled': 4696, 'matters': 4697, 'stets': 4698, 'grandmother': 4699, 'distance': 4700, 'dismay': 4701, 'shock': 4702, 'blotchy': 4703, 'grade': 4704, 'damp': 4705, 'withstand': 4706, 'frontal': 4707, 'lambswool': 4708, 'restock': 4709, 'impact': 4710, 'adjustments': 4711, 'hover': 4712, '47': 4713, 'contain': 4714, 'begging': 4715, 'nipped': 4716, 'coolest': 4717, 'eternal': 4718, 'interview': 4719, 'eagerly': 4720, 'awaited': 4721, 'betty': 4722, 'distribution': 4723, 'ooh': 4724, 'cas': 4725, 'fluctuate': 4726, 'lives': 4727, 'hype': 4728, 'danger': 4729, 'essence': 4730, 'flawless': 4731, 'outrageously': 4732, 'decidedly': 4733, 'crown': 4734, 'bash': 4735, '17': 4736, 'tx': 4737, 'herself': 4738, 'gun': 4739, 'perf': 4740, 'constricted': 4741, 'finds': 4742, 'sucks': 4743, 'ye': 4744, 'weekly': 4745, 'thankful': 4746, 'maintaining': 4747, 'lengthens': 4748, 'overnight': 4749, 'tightening': 4750, 'divine': 4751, 'rising': 4752, 'lightness': 4753, 'bedspread': 4754, 'wobbly': 4755, 'twirls': 4756, 'mask': 4757, 'utterly': 4758, 'demon': 4759, 'rubbing': 4760, 'listening': 4761, 'attach': 4762, 'mes': 4763, 'stones': 4764, 'prongs': 4765, 'showy': 4766, 'exudes': 4767, 'astounded': 4768, 'diaper': 4769, 'mate': 4770, 'nad': 4771, 'fav': 4772, 'hurry': 4773, 'emerson': 4774, '25s': 4775, 'polish': 4776, 'soul': 4777, 'whi': 4778, 'glue': 4779, 'twirl': 4780, '52': 4781, '30d': 4782, 'reluctant': 4783, 'quibble': 4784, 'kitten': 4785, 'fleetwood': 4786, 'fortunate': 4787, 'longish': 4788, 'silicone': 4789, 'shins': 4790, 'terry': 4791, 'caved': 4792, '144': 4793, 'voluptuous': 4794, '113lbs': 4795, 'librarian': 4796, 'lil': 4797, 'script': 4798, 'reunion': 4799, '175lbs': 4800, 'construct': 4801, 'wel': 4802, 'affected': 4803, 'tempting': 4804, 'outing': 4805, 'patterning': 4806, 'battle': 4807, 'espadrilles': 4808, 'unroll': 4809, 'modeled': 4810, 'torsos': 4811, 'law': 4812, 'clingier': 4813, 'listen': 4814, 'camp': 4815, '38dd': 4816, 'workers': 4817, 'joe': 4818, 'stable': 4819, 'quicker': 4820, 'trigger': 4821, 'madras': 4822, 'elongate': 4823, 'percentage': 4824, 'seattle': 4825, 'enjoying': 4826, 'enthralled': 4827, 'pearls': 4828, '155lb': 4829, 'grow': 4830, 'cafe': 4831, 'bullet': 4832, 'impulse': 4833, 'cents': 4834, 'shocking': 4835, 'darned': 4836, 'spruce': 4837, '175': 4838, 'armed': 4839, 'str': 4840, 'crease': 4841, 'vans': 4842, 'unwrapped': 4843, 'silvery': 4844, 'skimmed': 4845, 'paring': 4846, 'impeccably': 4847, 'prove': 4848, 'successful': 4849, '1940': 4850, 'daily': 4851, 'habit': 4852, 'lvoe': 4853, 'wil': 4854, 'sport': 4855, 'slouch': 4856, 'miami': 4857, 'caramel': 4858, 'versus': 4859, 'hall': 4860, 'worthy': 4861, 'barre': 4862, 'hikes': 4863, 'instance': 4864, 'lightest': 4865, 'ths': 4866, 'roc': 4867, 'unavailable': 4868, 'ahve': 4869, 'overpower': 4870, 'worthwhile': 4871, 'accessorize': 4872, 'coordinates': 4873, 'score': 4874, 'sour': 4875, 'faced': 4876, 'sunny': 4877, 'ladder': 4878, 'act': 4879, 'accented': 4880, 'dimensional': 4881, 'drinks': 4882, 'ada': 4883, 'opportunities': 4884, 'exotic': 4885, 'member': 4886, 'chiller': 4887, 'constant': 4888, 'simplistic': 4889, 'daring': 4890, 'trenches': 4891, 'dinners': 4892, 'tropical': 4893, 'grocery': 4894, 'apt': 4895, 'feathers': 4896, 'fluttery': 4897, 'kitty': 4898, 'sweatercoat': 4899, 'cocktails': 4900, 'studied': 4901, 'wave': 4902, 'anorak': 4903, 'wildest': 4904, 'coloration': 4905, 'article': 4906, 'lightened': 4907, 'attempting': 4908, '146lbs': 4909, 'nurse': 4910, 'prefectly': 4911, 'oops': 4912, 'needle': 4913, 'tshirts': 4914, 'kicking': 4915, 'warms': 4916, 'plaids': 4917, 'guy': 4918, 'xls': 4919, 'slee': 4920, 'robes': 4921, 'assistant': 4922, 'watched': 4923, 'collected': 4924, 'peak': 4925, 'letting': 4926, 'tit': 4927, 'outerwear': 4928, 'extraordinarily': 4929, 'owner': 4930, 'spectrum': 4931, 'fullest': 4932, 'detracts': 4933, 'sateen': 4934, 'delightfully': 4935, 'til': 4936, 'punk': 4937, 'briefs': 4938, 'hipster': 4939, 'seafolly': 4940, 'drops': 4941, 'reduced': 4942, 'grad': 4943, 'com': 4944, 'taupey': 4945, 'prado': 4946, '56': 4947, 'neater': 4948, 'stretchiness': 4949, 'striations': 4950, 'named': 4951, 'manageable': 4952, 'delicacy': 4953, 'camisoles': 4954, 'substitute': 4955, 'mocha': 4956, 'polo': 4957, 'allison': 4958, 'rail': 4959, 'waht': 4960, 'summe': 4961, 'compatible': 4962, 'browse': 4963, 'err': 4964, 'tw': 4965, 'ply': 4966, 'girlfriends': 4967, 'admiring': 4968, 'overpowering': 4969, 'map': 4970, 'secured': 4971, 'accessorized': 4972, 'vpl': 4973, 'apparel': 4974, 'makers': 4975, 'balck': 4976, 'ahd': 4977, 'sal': 4978, 'mins': 4979, 'magical': 4980, 'fingertips': 4981, 'magnificent': 4982, 'natured': 4983, 'collared': 4984, 'lowest': 4985, 'scored': 4986, 'browsing': 4987, 'postcard': 4988, 'sounded': 4989, 'spokane': 4990, 'reminding': 4991, 'blown': 4992, 'born': 4993, 'breastfeeding': 4994, 'ive': 4995, 'immodest': 4996, 'powering': 4997, 'perennial': 4998, 'purchaser': 4999, 'cities': 5000, '65': 5001, 'charisma': 5002, 'traveled': 5003, 'kaki': 5004, 'risky': 5005, 'motifs': 5006, 'nape': 5007, 'stout': 5008, 'am5': 5009, 'clients': 5010, 'skort': 5011, 'active': 5012, 'expand': 5013, 'rec': 5014, 'dresser': 5015, 'maintains': 5016, 'nearby': 5017, 'outdone': 5018, 'intarsia': 5019, 'fluctuations': 5020, 'bahamas': 5021, 'pinching': 5022, 'lifts': 5023, 'track': 5024, 'lumpiness': 5025, 'splendidly': 5026, 'los': 5027, 'angeles': 5028, 'seater': 5029, 'snappy': 5030, 'greens': 5031, 'walks': 5032, 'crossing': 5033, 'blow': 5034, 'winds': 5035, 'bandage': 5036, 'softens': 5037, 'eptite': 5038, 'slig': 5039, 'neve': 5040, 'practicality': 5041, 'passes': 5042, 'confidence': 5043, 'northeast': 5044, 'puppy': 5045, '135lb': 5046, 'east': 5047, 'asia': 5048, 'sophistication': 5049, 'mar': 5050, 'dept': 5051, 'smaill': 5052, 'salon': 5053, 'xxsmall': 5054, 'crafted': 5055, 'burnout': 5056, 'park': 5057, 'forces': 5058, 'sees': 5059, 'rouching': 5060, 'deny': 5061, 'focused': 5062, 'regretted': 5063, 'seaside': 5064, 'topped': 5065, 'imply': 5066, 'sle': 5067, 'brightness': 5068, 'ne': 5069, 'clutch': 5070, 'galore': 5071, 'method': 5072, 'custom': 5073, 'bracelet': 5074, 'cats': 5075, 'poke': 5076, 'eit': 5077, 'rows': 5078, 'row': 5079, 'sheep': 5080, 'warn': 5081, 'blocked': 5082, 'fussing': 5083, '103lbs': 5084, 'solids': 5085, 'stylists': 5086, 'doe': 5087, 'suck': 5088, 'sie': 5089, 'stilts': 5090, 'airplanes': 5091, 'doorstep': 5092, 'visiting': 5093, 'wineries': 5094, 'bedtime': 5095, 'teenage': 5096, 'shimmering': 5097, 'demin': 5098, 'members': 5099, 'soaking': 5100, 'ge': 5101, 'buttonholes': 5102, 'rendition': 5103, 'ocean': 5104, 'smashing': 5105, 'ur': 5106, 'showstopper': 5107, 'petroleum': 5108, 'puffs': 5109, 'flamingos': 5110, 'tasteful': 5111, '120lb': 5112, 'comfrotable': 5113, 'skipping': 5114, '2s': 5115, 'affordable': 5116, 'verdugo': 5117, 'eliminates': 5118, 'thong': 5119, 'lengthen': 5120, 'coveting': 5121, 'snail': 5122, 'skintone': 5123, 'becaus': 5124, 'keys': 5125, 'wallet': 5126, 'ombrã©': 5127, 'repeller': 5128, 'tallest': 5129, 'preparing': 5130, 'cheese': 5131, 'plate': 5132, 'helping': 5133, 'consumers': 5134, 'clever': 5135, 'trashy': 5136, 'becau': 5137, 'mona': 5138, 'bloused': 5139, 'amazon': 5140, 'breton': 5141, 'elementary': 5142, 'spilling': 5143, 'widening': 5144, 'summed': 5145, 'leans': 5146, 'milky': 5147, 'carefree': 5148, 'crinoline': 5149, '83': 5150, 'conditioning': 5151, 'bulkiness': 5152, 'lapels': 5153, 'everleigh': 5154, 'defin': 5155, 'lov': 5156, 'bride': 5157, '115ish': 5158, 'warmed': 5159, 'beachy': 5160, 'foo': 5161, 'unmatched': 5162, 'folk': 5163, 'chopped': 5164, 'with\\r': 5165, 'magnet': 5166, 'exaggeration': 5167, 'supper': 5168, 'gypsy': 5169, 'outdoors': 5170, 'furthermore': 5171, 'conference': 5172, 'collect': 5173, 'challenged': 5174, 'deodorant': 5175, 'nauseating': 5176, 'fasteners': 5177, 'updates': 5178, 'tree': 5179, 'chill': 5180, 'wearer': 5181, 'shirtdresses': 5182, 'upgrade': 5183, 'mistaken': 5184, 'streamline': 5185, 'hesitation': 5186, 'spetite': 5187, 'pieced': 5188, 'prompted': 5189, 'handwash': 5190, 'pliable': 5191, 'whit': 5192, 'swiss': 5193, 'comfiest': 5194, 'wee': 5195, 'smooths': 5196, 'ahhh': 5197, 'former': 5198, 'spaghetti': 5199, 'kicked': 5200, 'briefly': 5201, 'batwing': 5202, 'delivery': 5203, 'catalogue': 5204, '118lb': 5205, 'bees': 5206, 'allergic': 5207, 'inevitably': 5208, 'flatering': 5209, 'serves': 5210, 'focus': 5211, 'arranged': 5212, 'transitioned': 5213, 'clogs': 5214, 'tigh': 5215, 'richly': 5216, 'swam': 5217, 'surprises': 5218, 'recieved': 5219, 'wedgie': 5220, 'popover': 5221, 'counts': 5222, 'speckled': 5223, 'kneecap': 5224, 'bagging': 5225, 'cali': 5226, 'brass': 5227, 'retu': 5228, '125lb': 5229, 'htey': 5230, 'defining': 5231, 'gaucho': 5232, '1980s': 5233, 'sexier': 5234, 'containing': 5235, 'roomie': 5236, 'accepted': 5237, 'oddity': 5238, 'forgiveness': 5239, 'leggy': 5240, 'downsize': 5241, 'deducted': 5242, 'thsi': 5243, 'wrapping': 5244, 'music': 5245, 'downsides': 5246, 'sk': 5247, 'introduced': 5248, '10p': 5249, 'meat': 5250, 'popsicle': 5251, 'covet': 5252, 'ts': 5253, 'tick': 5254, 'favorably': 5255, 'petticoat': 5256, 'objections': 5257, 'eclectic': 5258, 'whites': 5259, 'multicolor': 5260, 'ov': 5261, 'vinyasa': 5262, 'leeway': 5263, 'maize': 5264, 'heard': 5265, 'cosy': 5266, 'hubby': 5267, 'blowzy': 5268, 'reviewing': 5269, 'input': 5270, 'xlarge': 5271, 'tugged': 5272, 'buckles': 5273, 'leading': 5274, 'employees': 5275, 'filled': 5276, 'oth': 5277, '102': 5278, 'ladylike': 5279, 'getaway': 5280, 'bouncy': 5281, 'clownish': 5282, 'extraordinary': 5283, 'corner': 5284, 'integrity': 5285, 'unfamiliar': 5286, 'citizen': 5287, 'applaud': 5288, 'jutted': 5289, 'pilates': 5290, 'beforehand': 5291, 'thickish': 5292, 'genius': 5293, 'lenght': 5294, 'ike': 5295, 'favorable': 5296, 'guessed': 5297, 'sting': 5298, 'noise': 5299, 'grunge': 5300, 'ru': 5301, 'cozier': 5302, 'invest': 5303, 'postmark': 5304, 'paler': 5305, 'oil': 5306, 'mailbox': 5307, 'bday': 5308, 'stomachs': 5309, 'slick': 5310, 'settings': 5311, 'litt': 5312, 'poofing': 5313, 'purcha': 5314, 'guaranteed': 5315, 'fare': 5316, 'clashed': 5317, 'building': 5318, 'sli': 5319, 'nails': 5320, 'generic': 5321, 'watercolor': 5322, 'arc': 5323, 'stra': 5324, 'source': 5325, 'swap': 5326, 'wring': 5327, 'abstract': 5328, 'cinches': 5329, 'mexican': 5330, 'unwieldy': 5331, 'register': 5332, 'metalic': 5333, 'seersucker': 5334, 'housedress': 5335, 'yrs': 5336, 'cou': 5337, 'emb': 5338, 'trial': 5339, 'tamed': 5340, 'tennis': 5341, 'availability': 5342, 'p6': 5343, 'raising': 5344, 'siz': 5345, 'squash': 5346, 'conceal': 5347, '36aa': 5348, 'confining': 5349, 'beside': 5350, 'bugs': 5351, 'gauzey': 5352, 'capped': 5353, 'inadequate': 5354, 'op': 5355, 'drown': 5356, 'underneat': 5357, 'cruise': 5358, 'period': 5359, 'elegantly': 5360, 'backward': 5361, 'flattrering': 5362, 'stark': 5363, 'pooled': 5364, 'effective': 5365, 'ove': 5366, 'physically': 5367, '48': 5368, 'celadon': 5369, 'balanced': 5370, 'desire': 5371, 'repurchase': 5372, 'maintain': 5373, 'security': 5374, 'tassel': 5375, 'stranger': 5376, 'unzip': 5377, 'circa': 5378, 'tile': 5379, 'tremendously': 5380, 'loke': 5381, 'tattoo': 5382, 'velvety': 5383, 'unfortunatly': 5384, '127lbs': 5385, 'supply': 5386, 'hearing': 5387, 'slouchier': 5388, 'bounce': 5389, 'sham': 5390, 'reshaped': 5391, 'skirted': 5392, 'remedied': 5393, 'embroidering': 5394, 'thr': 5395, 'heavyweight': 5396, 'beautifu': 5397, 'dc': 5398, 'mixture': 5399, 'outweigh': 5400, 'shy': 5401, 'recd': 5402, 'roaming': 5403, 'moors': 5404, 'hanky': 5405, 'nit': 5406, 'derriã¨re': 5407, 'holy': 5408, 'grail': 5409, 'snakeskin': 5410, 'staticky': 5411, 'raises': 5412, 'mary': 5413, 'observation': 5414, 'willowy': 5415, 'filipino': 5416, 'ink': 5417, 'judge': 5418, 'chocolate': 5419, 'forgotten': 5420, 'mater': 5421, 'loser': 5422, 'gr': 5423, 'strands': 5424, 'reoccurring': 5425, 'fairisle': 5426, 'paranoid': 5427, 'release': 5428, 'reall': 5429, 'reflected': 5430, 'clo': 5431, 'british': 5432, 'accommodated': 5433, 'saleswoman': 5434, 'defines': 5435, 'vulgar': 5436, 'er': 5437, 'truthfully': 5438, 'solely': 5439, 'surrounding': 5440, 'anth': 5441, 'xxxl': 5442, 'dissapointed': 5443, 'bags': 5444, 'limiting': 5445, 'merely': 5446, 'slims': 5447, 'junk': 5448, 'activities': 5449, 'audrey': 5450, 'hepburn': 5451, 'genie': 5452, 'mui': 5453, 'wispy': 5454, 'chosen': 5455, 'unsightly': 5456, 'blond': 5457, 'sage': 5458, 'interestingly': 5459, 'undertone': 5460, '127lb': 5461, 'colorfast': 5462, 'pi': 5463, 'lotta': 5464, 'eek': 5465, 'august': 5466, 'trusty': 5467, 'compression': 5468, 'jogging': 5469, 'din': 5470, 'slow': 5471, 'imaging': 5472, 'unattractively': 5473, 'peplums': 5474, 'hahaha': 5475, 'rustic': 5476, 'column': 5477, 'rediculously': 5478, 'frustration': 5479, 'completel': 5480, 'rockets': 5481, 'wearin': 5482, 'cooperate': 5483, 'lycra': 5484, 'southeast': 5485, 'toes': 5486, 'fuschia': 5487, 'treated': 5488, 'flag': 5489, 'modeling': 5490, 'blocks': 5491, 'regulat': 5492, 'pilcrow': 5493, 'hmm': 5494, 'shin': 5495, 'warrant': 5496, 'translates': 5497, 'wary': 5498, 'protrusion': 5499, 'borders': 5500, 'downward': 5501, 'separating': 5502, 'dones': 5503, 'land': 5504, 'adult': 5505, 'destroying': 5506, 'boucle': 5507, 'strategic': 5508, '129lbs': 5509, 'friction': 5510, 'huuuge': 5511, 'icky': 5512, 'bulging': 5513, 'substantive': 5514, 'accident': 5515, 'juxtaposition': 5516, 'september': 5517, 'definetly': 5518, 'airing': 5519, 'neatly': 5520, 'starkly': 5521, 'squarish': 5522, 'premium': 5523, 'patch': 5524, 'reconsidered': 5525, 'arrivals': 5526, 'coul': 5527, 'plush': 5528, 'stadium': 5529, 'shou': 5530, 'vacations': 5531, 'cushy': 5532, 'roominess': 5533, 'intentionally': 5534, 'borrowed': 5535, 'camera': 5536, 'milk': 5537, 'complaining': 5538, 'readjusting': 5539, 'failing': 5540, 'sporting': 5541, 'decoration': 5542, 'congratulations': 5543, 'ludicrous': 5544, 'flattening': 5545, '148': 5546, 'contained': 5547, 'backyard': 5548, 'heavenly': 5549, 'heaviness': 5550, 'fiancã©': 5551, 'faltering': 5552, 'quit': 5553, 'bueno': 5554, 'llama': 5555, 'instructed': 5556, 'flattens': 5557, 'droops': 5558, 'starbucks': 5559, 'molded': 5560, 'whiskering': 5561, 'aforementioned': 5562, 'donating': 5563, 'volumous': 5564, 'reasonable': 5565, 'muc': 5566, 'akemi': 5567, 'kin': 5568, 'edged': 5569, 'straightening': 5570, 'grazing': 5571, 'lackluster': 5572, '122lbs': 5573, 'hurts': 5574, 'remembered': 5575, 'alternations': 5576, 'oompa': 5577, 'loompa': 5578, 'ewww': 5579, 'pressing': 5580, 'marshmallow': 5581, 'dynamite': 5582, 'thereby': 5583, 'bein': 5584, 'indicates': 5585, 'concerning': 5586, 'hunched': 5587, 'fabr': 5588, 'ice': 5589, 'convey': 5590, 'tremendous': 5591, 'expanding': 5592, 'downsized': 5593, 'esque': 5594, 'tentlike': 5595, 'twists': 5596, 'sisters': 5597, '145lb': 5598, 'grateful': 5599, 'extent': 5600, 'waif': 5601, 'mode': 5602, 'manufacturers': 5603, 'applique': 5604, 'symmetry': 5605, 'underlying': 5606, 'uppe': 5607, 'ny': 5608, 'wayyyy': 5609, 'sincerely': 5610, 'zig': 5611, 'zag': 5612, 'darted': 5613, 'lands': 5614, 'puffin': 5615, 'tents': 5616, 'sung': 5617, 'relieved': 5618, 'possibility': 5619, 'recommends': 5620, 'stunted': 5621, 'scene': 5622, 'cowboys': 5623, 'unfitted': 5624, 'finishings': 5625, 'thou': 5626, 'undressed': 5627, 'bot': 5628, 'holder': 5629, 'preggo': 5630, 'reaction': 5631, 'curly': 5632, 'disastrous': 5633, 'multicolored': 5634, 'drawing': 5635, 'snowy': 5636, 'gear': 5637, 'shearling': 5638, 'interfered': 5639, 'optimistic': 5640, 'ann': 5641, 'factors': 5642, 'bagged': 5643, 'eloise': 5644, 'drive': 5645, 'intensely': 5646, 'counted': 5647, '49': 5648, 'unshapely': 5649, 'pepto': 5650, 'retain': 5651, 'tug': 5652, 'ring': 5653, 'tire': 5654, 'convince': 5655, 'join': 5656, 'crack': 5657, 'cherry': 5658, 'murky': 5659, 'imagination': 5660, 'rarity': 5661, 'surface': 5662, 'news': 5663, 'hilarious': 5664, 'puffiness': 5665, 'clasps': 5666, 'fi': 5667, 'rings': 5668, 'appliquã©s': 5669, 'dime': 5670, 'tier': 5671, 'snowflake': 5672, 'cutesy': 5673, 'hangar': 5674, '30p': 5675, 'lopsided': 5676, 'unrealistic': 5677, 'bumped': 5678, 'painted': 5679, 'severe': 5680, 'sends': 5681, 'shoppers': 5682, 'eager': 5683, 'worsened': 5684, 'fees': 5685, 'involved': 5686, 'facebook': 5687, 'shared': 5688, 'stripped': 5689, 'mullet': 5690, 'disposable': 5691, 'elasticity': 5692, 'bonnet': 5693, 'disappoin': 5694, 'pricepoint': 5695, '2015': 5696, 'keen': 5697, 'sw': 5698, 'cohesive': 5699, 'midline': 5700, 'wideness': 5701, 'sloppiness': 5702, '250': 5703, 'hooray': 5704, 'demographic': 5705, 'unflatering': 5706, 'blousing': 5707, 'minimized': 5708, 'boning': 5709, 'unstitched': 5710, 'warranted': 5711, 'depict': 5712, 'pose': 5713, 'stamped': 5714, 'broadened': 5715, '1st': 5716, 'blankets': 5717, 'lab': 5718, 'um': 5719, 'largely': 5720, 'testing': 5721, 'uncommon': 5722, 'mod': 5723, 'monkey': 5724, 'threaded': 5725, 'ruffling': 5726, 'successfully': 5727, 'pickup': 5728, '117lbs': 5729, 'muddled': 5730, 'tangled': 5731, 'purposely': 5732, 'violet': 5733, 'furniture': 5734, 'wrestling': 5735, 'polkadots': 5736, 'gosh': 5737, 'group': 5738, 'horizontally': 5739, 'dare': 5740, 'photoshoot': 5741, 'widen': 5742, 'undoubtedly': 5743, 'eight': 5744, 'excitedly': 5745, 'streaks': 5746, 'subsequently': 5747, 'marroon': 5748, 'crumples': 5749, '116lb': 5750, 'request': 5751, 'yellowy': 5752, 'investing': 5753, 'distorted': 5754, 'discoloration': 5755, 'expe': 5756, 'liquid': 5757, 'monstrosity': 5758, 'comparable': 5759, 'trapped': 5760, 'poodle': 5761, 'plainer': 5762, 'longs': 5763, 'disgusting': 5764, 'disproportionately': 5765, 'proved': 5766, '27r': 5767, 'mega': 5768, 'unpleasant': 5769, 'doubled': 5770, 'understatement': 5771, 'pix': 5772, 'curling': 5773, 'scrubs': 5774, 'triangular': 5775, 'ta': 5776, 'ditto': 5777, 'lengthy': 5778, 'moreover': 5779, 'wri': 5780, 'sags': 5781, 'desk': 5782, 'costs': 5783, 'follow': 5784, 'unnecessarily': 5785, 'lampshade': 5786, 'translate': 5787, 'traps': 5788, 'becuase': 5789, 'unclear': 5790, 'recognized': 5791, 'swimsuits': 5792, 'presumably': 5793, 'structural': 5794, 'bicycle': 5795, '41': 5796, 'potatoe': 5797, 'heft': 5798, 'kno': 5799, 'examining': 5800, 'exacerbated': 5801, 'painfully': 5802, 'stray': 5803, 'modified': 5804, 'maintenance': 5805, 'apprx': 5806, 'lats': 5807, 'doubtful': 5808, 'geranium': 5809, 'deterred': 5810, 'outward': 5811, 'limits': 5812, '2x': 5813, 'alley': 5814, 'shadow': 5815, 'sturdier': 5816, 'gianormous': 5817, 'subpar': 5818, 'rep': 5819, 'distinct': 5820, 'starchy': 5821, 'attracting': 5822, '27s': 5823, 'br': 5824, 'begins': 5825, 'shee': 5826, 'rips': 5827, 'prettiness': 5828, 'atlanta': 5829, 'hump': 5830, 'holders': 5831, 'yup': 5832, 'trashed': 5833, 'scrub': 5834, 'glorified': 5835, 'dotted': 5836, 'mismarked': 5837, 'cast': 5838, 'costumes': 5839, 'wamp': 5840, 'climb': 5841, 'perception': 5842, 'continued': 5843, 'tweaking': 5844, 'xxl': 5845, 'amalfi': 5846, 'reported': 5847, 'mara': 5848, 'hoffman': 5849, 'moveable': 5850, 'atrocious': 5851, 'promised': 5852, 'landed': 5853, 'clumps': 5854, 'mountain': 5855, 'tells': 5856, 'fears': 5857, 'bicep': 5858, 'dresss': 5859, 'alignment': 5860, 'retur': 5861, 'linebacker': 5862, 'ashley': 5863, 'maw': 5864, 'dozen': 5865, 'relation': 5866, 'toget': 5867, 'sandpaper': 5868, 'advise': 5869, 'cleverly': 5870, 'sequence': 5871, 'towel': 5872, 'challenges': 5873, 'target': 5874, 'souers': 5875, 'recall': 5876, 'anxiously': 5877, 'boxing': 5878, 'champion': 5879, 'oranges': 5880, 'faulty': 5881, 'sorta': 5882, 'blank': 5883, 'resemble': 5884, 'chin': 5885, 'micro': 5886, '20lbs': 5887, 'poufs': 5888, 'charged': 5889, 'learning': 5890, 'newer': 5891, 'rinsed': 5892, 'angora': 5893, 'curtains': 5894, 'shaved': 5895, 'failure': 5896, 'granny': 5897, 'mohair': 5898, 'cure': 5899, 'poms': 5900, 'grandmothers': 5901, 'tedious': 5902, 'hill': 5903, 'defeated': 5904, 'garbage': 5905, 'drawstrings': 5906, 'sheerest': 5907, 'bermuda': 5908, 'riverdeck': 5909, 'ultimate': 5910, 'tolerate': 5911, 'insulting': 5912, 'internal': 5913, 'schoolmarm': 5914, 'wouldnt': 5915, 'tub': 5916, 'overpowered': 5917, 'terrycloth': 5918, 'exaggerating': 5919, 'distorts': 5920, 'charging': 5921, 'plasticy': 5922, 'sorely': 5923, 'filmy': 5924, 'heeded': 5925, 'chrolox': 5926, 'widened': 5927, 'midway': 5928, 'baffled': 5929, 'ther': 5930, 'cry': 5931, 'pillowcase': 5932, 'project': 5933, 'underside': 5934, 'declining': 5935, 'disintegrate': 5936, 'alpaca': 5937, 'wadded': 5938, 'strangest': 5939, 'appalled': 5940, 'visions': 5941, 'retailerpologist': 5942, 'splotches': 5943, 'discolored': 5944, 'binder': 5945, 'focal': 5946, 'tutu': 5947, 'sloths': 5948, 'moisture': 5949, 'crusty': 5950, 'fin': 5951, 'airport': 5952, 'ligher': 5953, 'fulfills': 5954, 'springtime': 5955, 'lai': 5956, 'expectant': 5957, 'skins': 5958, 'necklines': 5959, 'michigans': 5960, 'lookers': 5961, 'embrodering': 5962, 'tote': 5963, 'necklne': 5964, 'draper': 5965, 'teeter': 5966, 'sparklecolor': 5967, 'closets': 5968, 'historically': 5969, 'saffron': 5970, 'beautifullly': 5971, 'attentio': 5972, 'inspirational': 5973, 'theo': 5974, 'nly': 5975, 'lis': 5976, 'thorough': 5977, 'deterrent': 5978, 'cowlneck': 5979, 'relentless': 5980, 'phd': 5981, 'simpler': 5982, 'fu': 5983, 'steamed': 5984, 'afterall': 5985, 'loooove': 5986, 'avery': 5987, 'toosh': 5988, 'rhinestone': 5989, 'glams': 5990, '50th': 5991, 'pnw': 5992, 'marin': 5993, 'the10': 5994, 'knitwear': 5995, 'dominantly': 5996, 'repeated': 5997, 'tkhe': 5998, 'avid': 5999, 'yogis': 6000, 'daly': 6001, 'pallas': 6002, 'guide': 6003, 'naps': 6004, 'itt': 6005, 'tastefully': 6006, 'shapelier': 6007, 'slighty': 6008, 'picnic': 6009, 'sty': 6010, 'honeymoon': 6011, 'classes': 6012, 'sculpting': 6013, 'firming': 6014, 'legwear': 6015, 'positions': 6016, 'meetings': 6017, 'exploding': 6018, 'minimizes': 6019, 'blinded': 6020, 'weightless': 6021, 'turend': 6022, 'thanskgiving': 6023, 'regretting': 6024, 'blou': 6025, 'patience': 6026, 'organization': 6027, 'sailor': 6028, 'mommy': 6029, 'slouches': 6030, 'eased': 6031, 'asscoaites': 6032, '92lbs': 6033, 'malfun': 6034, 'measly': 6035, 'snuck': 6036, 'symptoms': 6037, 'claiming': 6038, 'soeurs': 6039, 'creations': 6040, 'breathtakingly': 6041, 'instea': 6042, 'incarnations': 6043, 'commission': 6044, 'demoiselles': 6045, 'sandels': 6046, 'grazed': 6047, 'havin': 6048, 'bejeweled': 6049, 'swayed': 6050, 'attended': 6051, 'enjoyable': 6052, 'thirst': 6053, 'cinnamon': 6054, 'tasking': 6055, 'passions': 6056, 'attest': 6057, 'multitude': 6058, 'lilt': 6059, 'howev': 6060, 'minnesota': 6061, 'tartan': 6062, '183lbs': 6063, 'bless': 6064, 'offices': 6065, 'flub': 6066, 'linger': 6067, '9lower': 6068, 'lbsm': 6069, 'loafers': 6070, 'winth': 6071, 'trepidation': 6072, 'mourn': 6073, 'pleasure': 6074, 'acquiring': 6075, 'unproportioned': 6076, 'willa': 6077, 'weighted': 6078, '106lbs': 6079, 'huit': 6080, 'eden': 6081, 'lagoon': 6082, 'shap': 6083, 'diff': 6084, 'shore': 6085, 'patchworked': 6086, '4petite': 6087, '6petite': 6088, 'stocking': 6089, 'prolong': 6090, 'advertising': 6091, 'nut': 6092, 'synched': 6093, 'quali': 6094, 'uplifting': 6095, 'gauchos': 6096, 'approaching': 6097, 'impressionist': 6098, 'stilettos': 6099, 'youth': 6100, 'lon': 6101, '95lbs': 6102, 'spirit': 6103, 'mutton': 6104, 'disguised': 6105, 'lamb': 6106, 'grable': 6107, 'cheesecake': 6108, 'grave': 6109, 'shares': 6110, 'knakis': 6111, 'lackadaisical': 6112, 'rage': 6113, 'demential': 6114, 'cellulite': 6115, 'doo': 6116, 'reccomend': 6117, 'imaginable': 6118, 'allowance': 6119, 'ithis': 6120, 'largeness': 6121, 'greatz': 6122, 'irritable': 6123, 'randomly': 6124, 'lasts': 6125, 'bustling': 6126, 'lysee': 6127, 'fasionable': 6128, 'compliant': 6129, 'deceive': 6130, 'varieties': 6131, 'aligned': 6132, 'bid': 6133, 'adieu': 6134, 'ships': 6135, 'invited': 6136, 'grommet': 6137, 'temperate': 6138, 'playa': 6139, 'circumstance': 6140, 'keer': 6141, 'asters': 6142, 'walnut': 6143, 'creek': 6144, 'storeroom': 6145, 'anniversary': 6146, '107pound': 6147, 'bottomed': 6148, 'martial': 6149, 'charleston': 6150, 'slid': 6151, 'admirable': 6152, 'au': 6153, 'lait': 6154, 'shading': 6155, 'engine': 6156, 'cris': 6157, 'forrest': 6158, 'leopards': 6159, 'anchors': 6160, 'stumped': 6161, 'regal': 6162, 'fla': 6163, 'container': 6164, 'encourage': 6165, 'ba': 6166, '2000': 6167, 'fanatic': 6168, 'blogger': 6169, 'pigmented': 6170, 'assures': 6171, 'greek': 6172, 'muse': 6173, 'enthusiast': 6174, 'umbrellas': 6175, 'textiled': 6176, 'accommodates': 6177, 'encompasses': 6178, 'rejoice': 6179, 'sandles': 6180, 'lumberjack': 6181, 'extend': 6182, 'cares': 6183, 'oft': 6184, 'overexposed': 6185, 'fiattering': 6186, 'skosh': 6187, 'cu': 6188, 'presumptive': 6189, 'intuition': 6190, 'preferences': 6191, 'coverages': 6192, 'encounter': 6193, 'machines': 6194, 'originality': 6195, 'dd34': 6196, 'onlin': 6197, 'jsutice': 6198, 'percect': 6199, 'yfit': 6200, 'styllsit': 6201, 'insiting': 6202, 'lstretch': 6203, 'shal': 6204, 'easilly': 6205, '146': 6206, 'shoeless': 6207, 'circulates': 6208, 'inquiry': 6209, 'packable': 6210, 'assessing': 6211, 'isle': 6212, 'ecause': 6213, 'dvf': 6214, 'vines': 6215, 'yellows': 6216, 'kakhi': 6217, 'fluorescent': 6218, 'penguins': 6219, 'tbale': 6220, 'elngth': 6221, 'almsot': 6222, 'referenc': 6223, 'sti': 6224, 'partway': 6225, 'rosey': 6226, 'flowery': 6227, 'hoepfulyl': 6228, 'orffice': 6229, 'pays': 6230, 'fixture': 6231, 'pantless': 6232, 'relent': 6233, 'tres': 6234, 'outweighs': 6235, 'whic': 6236, 'kansas': 6237, 'plaza': 6238, 'mediately': 6239, 'flaunt': 6240, 'bellowy': 6241, 'spins': 6242, 'ochre': 6243, 'conversation': 6244, 'hallway': 6245, 'easel': 6246, 'neighboring': 6247, 'breakers': 6248, 'heartbeat': 6249, 'reviewwers': 6250, 'biggie': 6251, 'captivating': 6252, 'spotlight': 6253, 'packs': 6254, 'quarters': 6255, 'troubadour': 6256, 'pirces': 6257, 'hink': 6258, 'nexl': 6259, 'ine': 6260, 'pcture': 6261, 'lke': 6262, 'pul': 6263, '103lb': 6264, 'smar': 6265, 'small\\r': 6266, 'sways': 6267, '140b': 6268, 'graduations': 6269, 'va': 6270, 'cations': 6271, 'offsets': 6272, 'sai': 6273, 'receptionist': 6274, 'natori': 6275, 'hipsters': 6276, 'hooded': 6277, 'sawn': 6278, 'northern': 6279, 'gamut': 6280, 'petities': 6281, 'absolutley': 6282, 'comjfortable': 6283, 'accuracy': 6284, 'punch': 6285, 'surpassed': 6286, 'cloudy': 6287, 'nyt': 6288, 'comforable': 6289, 'masterpiece': 6290, 'confection': 6291, 'flatten': 6292, 'regency': 6293, 'withou': 6294, 'bight': 6295, 'slanted': 6296, 'claire': 6297, 'underwood': 6298, 'washa': 6299, 'hanged': 6300, 'thakoon': 6301, '500': 6302, 'collarless': 6303, 'fairness': 6304, 'aded': 6305, 'mintue': 6306, 'darkler': 6307, 'mathced': 6308, 'everythiing': 6309, 'msallet': 6310, 'jkeep': 6311, 'matvehd': 6312, 'ejans': 6313, 'waas': 6314, 'mite': 6315, 'vanit': 6316, 'denimy': 6317, 'negativ': 6318, 'basement': 6319, 'swore': 6320, 'lied': 6321, 'disguising': 6322, 'loads': 6323, 'sugary': 6324, 'richness': 6325, 'pasadena': 6326, 'ping': 6327, 'consultant': 6328, 'isolated': 6329, 'sneak': 6330, 'peekaboo': 6331, 'wen': 6332, '136lbs': 6333, 'shorted': 6334, 'filigree': 6335, 'wavering': 6336, 'skimps': 6337, 'feed': 6338, 'cake': 6339, 'yield': 6340, 'cabo': 6341, 'rceived': 6342, 'weathered': 6343, 'newbury': 6344, 'boston': 6345, 'straining': 6346, 'comf': 6347, 'armhoes': 6348, 'coldest': 6349, 'cardy': 6350, 'harkened': 6351, 'pictur': 6352, 'geared': 6353, 'couture': 6354, 'recievied': 6355, 'engagements': 6356, 'clasic': 6357, 'sz26': 6358, '144lbs': 6359, 'conforms': 6360, 'sling': 6361, 'dainty': 6362, 'intexas': 6363, 'boyleg': 6364, 'editions': 6365, 'arrange': 6366, 'abt': 6367, '3c': 6368, 'temperature': 6369, 'satisfied': 6370, '30percent': 6371, 'gowns': 6372, 'ai': 6373, 'liberation': 6374, 'repairing': 6375, 'pai': 6376, 'dolor': 6377, 'sweeter': 6378, 'bored': 6379, 'death': 6380, 'soothing': 6381, 'overstated': 6382, 'mutliple': 6383, 'chanel': 6384, 'sternum': 6385, 'blew': 6386, 'isth': 6387, 'predominantly': 6388, 'weaved': 6389, 'freebird': 6390, 'buckled': 6391, 'cabernet': 6392, 'cecelia': 6393, 'throught': 6394, 'workday': 6395, 'valentino': 6396, 'aptly': 6397, 'fortune': 6398, 'sexiest': 6399, 'lengthening': 6400, 'confortable': 6401, 'contrasted': 6402, 'occassion': 6403, 'elongates': 6404, 'guarantees': 6405, 'liiiiiittle': 6406, 'supremely': 6407, 'freaking': 6408, 'materal': 6409, 'palmarosa': 6410, 'hyphens': 6411, 'fabled': 6412, 'addict': 6413, 'dusky': 6414, 'roses': 6415, 'srink': 6416, 'compete': 6417, 'often\\r': 6418, 'ban': 6419, '428': 6420, 'highland': 6421, 'village': 6422, 'woodlands': 6423, 'employing': 6424, 'haying': 6425, 'altar': 6426, 'hail': 6427, 'xsma': 6428, 'numbers': 6429, '92': 6430, 'derriã©re': 6431, 'baroque': 6432, 'flavor': 6433, 'constrictive': 6434, 'vribant': 6435, 'demonstrates': 6436, 'ads': 6437, 'sorts': 6438, 'amply': 6439, 'inspires': 6440, 'reveries': 6441, 'castles': 6442, 'legends': 6443, 'eira': 6444, 'glory': 6445, 'canna': 6446, 'complainers': 6447, 'forewarned': 6448, 'pallet': 6449, '38in': 6450, 'meal': 6451, 'gol': 6452, 'herbalist': 6453, 'seductive': 6454, 'garner': 6455, 'shortly': 6456, 'powder': 6457, 'unreliable': 6458, 'chafe': 6459, 'ceases': 6460, 'cell': 6461, 'sjut': 6462, 'braod': 6463, 'deceided': 6464, 'seriosu': 6465, 'purcahses': 6466, 'rejected': 6467, 'offerings': 6468, 'nailed': 6469, 'howe': 6470, 'sizing\\r': 6471, 'windy': 6472, 'backed': 6473, 'museum': 6474, 'district': 6475, 'experie': 6476, 'bitterly': 6477, 'dreary': 6478, 'iffy': 6479, 'frest': 6480, 'romance': 6481, '1970': 6482, 'movies': 6483, 'saleswomen': 6484, 'signed': 6485, 'informing': 6486, 'horns': 6487, 'meredith': 6488, 'format': 6489, 'seashells': 6490, 'diego': 6491, 'obsxessing': 6492, 'whcich': 6493, 'peite': 6494, 'workedc': 6495, 'seas': 6496, 'seamlessly': 6497, 'enhancement': 6498, 'christening': 6499, 'genetic': 6500, 'primas': 6501, 'restricts': 6502, 'leng': 6503, 'agreeing': 6504, 'underpinnings': 6505, 'variable': 6506, 'glow': 6507, 'composed': 6508, 'hottest': 6509, 'jessa': 6510, 'code': 6511, 'penguin': 6512, 'squealed': 6513, 'woodland': 6514, 'enamor': 6515, '14p': 6516, 'epitome': 6517, 'searched': 6518, 'span': 6519, 'biweekly': 6520, 'pause': 6521, 'yanking': 6522, 'cubanas': 6523, 'ciara': 6524, 'trusted': 6525, 'showered': 6526, 'largish': 6527, '32e': 6528, '30th': 6529, 'mirabella': 6530, 'civil': 6531, 'lit': 6532, 'elliot': 6533, 'protected': 6534, 'velour': 6535, 'pl': 6536, 'piqued': 6537, 'factored': 6538, 'butit': 6539, 'been\\r': 6540, 'roared': 6541, 'compliements': 6542, 'compliement': 6543, 'preventing': 6544, 'exist': 6545, 'nester': 6546, '2035': 6547, 'accessorizer': 6548, 'proves': 6549, 'choices': 6550, '114lbs': 6551, 'knee0': 6552, 'flirtier': 6553, 'overlying': 6554, 'dazzling': 6555, 'claws': 6556, 'paws': 6557, 'snugged': 6558, 'gourgeous': 6559, 'nary': 6560, 'sf': 6561, 'bay': 6562, 'sexiness': 6563, 'florals': 6564, 'platforms': 6565, 'drags': 6566, 'singly': 6567, 'beaches': 6568, 'mys': 6569, 'wks': 6570, 'invent': 6571, 'retirement': 6572, 'lifetime': 6573, 'talked': 6574, 'saratoga': 6575, 'american': 6576, 'uk': 6577, 'appropriarely': 6578, 'butta': 6579, 'choke': 6580, 'tropics': 6581, 'frosty': 6582, 'seated': 6583, 'unforced': 6584, 'sexified': 6585, 'toppers': 6586, 'fri': 6587, 'hess': 6588, 'association': 6589, 'candidate': 6590, 'eases': 6591, 'mn': 6592, 'claimed': 6593, 'cleans': 6594, 'dahlia': 6595, 'retired': 6596, 'mashups': 6597, 'rinestones': 6598, 'tuesday': 6599, 'reader': 6600, 'duds': 6601, 'stretchs': 6602, 'bearable': 6603, 'hacked': 6604, 'pared': 6605, 'tearoom': 6606, 'alst': 6607, 'dn': 6608, 'smae': 6609, 'ddresses': 6610, 'aprts': 6611, 'underthings': 6612, '143lb': 6613, 'eptites': 6614, 'msut': 6615, 'wrng': 6616, 'bude': 6617, 'punches': 6618, 'hoop': 6619, 'cranky': 6620, 'rocks': 6621, 'denium': 6622, 'ghis': 6623, 'probabley': 6624, 'druzy': 6625, 'ante': 6626, 'graduating': 6627, 'torsoed': 6628, 'infinity': 6629, 'nonsolid': 6630, 'whe': 6631, 'cakes': 6632, 'ri': 6633, 'luggage': 6634, 'lofty': 6635, 'colros': 6636, 'rpetty': 6637, 'eprson': 6638, 'dawn': 6639, 'hydrogen': 6640, 'peroxide': 6641, 'warrants': 6642, 'port': 6643, 'lively': 6644, 'underdress': 6645, 'difficulty': 6646, 'tennies': 6647, 'growing': 6648, 'liittle': 6649, 'knocks': 6650, 'sensual': 6651, 'purr': 6652, 'dimpling': 6653, 'existed': 6654, '98lbs': 6655, 'crowns': 6656, 'nifty': 6657, 'strolls': 6658, 'restaurants': 6659, 'sunblock': 6660, 'pancho': 6661, 'shooties': 6662, 'melange': 6663, 'twirling': 6664, 'peaking': 6665, 'conceptualizing': 6666, 'pizzaz': 6667, 'retailerpo': 6668, 'usable': 6669, 'cherish': 6670, 'svelte': 6671, 'vowed': 6672, 'obligated': 6673, 'chlorine': 6674, 'salt': 6675, 'adjustment': 6676, 'casua': 6677, 'georgia': 6678, 'pippa': 6679, 'scale': 6680, 'pommed': 6681, 'santuary': 6682, 'dies': 6683, 'nail': 6684, 'lists': 6685, 'hipbone': 6686, 'the150': 6687, 'rehemmed': 6688, 'digan': 6689, 'quirkiness': 6690, 'continuity': 6691, '124lb': 6692, 'fifty': 6693, 'recurrent': 6694, 'excuses': 6695, 'anoth': 6696, 'exercises': 6697, 'impending': 6698, 'fuchsia': 6699, 'stilt': 6700, 'disappoints': 6701, 'converse': 6702, 'upgraded': 6703, 'tankinis': 6704, 'obese': 6705, 'jelly': 6706, 'tt': 6707, 'htough': 6708, 'greay': 6709, 'lcan': 6710, 'rt': 6711, 'daughte': 6712, 'freeze': 6713, 'sisterhood': 6714, 'analogy': 6715, 'artwork': 6716, 'wais': 6717, 'beautiful\\r': 6718, 'trailered': 6719, 'decid': 6720, '31st': 6721, 'combed': 6722, 'justifying': 6723, 'drip': 6724, 'toposition': 6725, 'crisscrossed': 6726, '03dd': 6727, 'coastal': 6728, 'runching': 6729, 'marking': 6730, 'indecent': 6731, 'champagne': 6732, 'butts': 6733, 'buttah': 6734, 'linking': 6735, '33b': 6736, 'bett': 6737, 'conformable': 6738, '95lb': 6739, 'colsely': 6740, 'mentione': 6741, 'conceals': 6742, 'commercial': 6743, 'ands': 6744, 'suggesting': 6745, 'az': 6746, 'overt': 6747, 'stared': 6748, 'cloud': 6749, 'fluffiest': 6750, 'fest': 6751, 'descent': 6752, 'nicley': 6753, 'horseshoe': 6754, 'conformed': 6755, 'collections': 6756, 'toenails': 6757, 'pierce': 6758, 'sock': 6759, 'spa': 6760, 'garter': 6761, 'completly': 6762, '149': 6763, 'sufficiently': 6764, 'cinchable': 6765, 'swimmers': 6766, 'served': 6767, 'irresistible': 6768, 'maui': 6769, 'hiking': 6770, 'officewear': 6771, 'huuuuggge': 6772, 'unheard': 6773, 'highl': 6774, 'goldenrod': 6775, 'sallow': 6776, 'bombshell': 6777, '117bl': 6778, 'antheropologie': 6779, 'praise': 6780, 'assistance': 6781, 'sinched': 6782, 'pos': 6783, 'feast': 6784, 'sushi': 6785, 'hostess': 6786, 'awed': 6787, '8in': 6788, 'groups': 6789, 'affords': 6790, 'clerk': 6791, 'alerted': 6792, 'complimenting': 6793, 'potbellied': 6794, 'itried': 6795, 'keeo': 6796, 'deresses': 6797, 'commet': 6798, 'recommendations': 6799, 'cleave': 6800, 'insisted': 6801, 'wintry': 6802, 'lovethis': 6803, 'swear': 6804, 'sore': 6805, 'manipulating': 6806, 'melodist': 6807, 'stirrup': 6808, 'fisherman': 6809, 'eying': 6810, 'mulit': 6811, 'myriad': 6812, 'fearful': 6813, 'brisk': 6814, 'descriptor': 6815, 'lucy': 6816, 'lui': 6817, 'dummy': 6818, 'flo': 6819, '130ibs': 6820, 'irons': 6821, 'pixie': 6822, 'en': 6823, 'survive': 6824, 'hedging': 6825, 'bets': 6826, 'whats': 6827, 'december': 6828, 'louisiana': 6829, 'deserve': 6830, 'ple': 6831, 'fox': 6832, 'getter': 6833, 'museums': 6834, 'churches': 6835, 'abs': 6836, 'motorcycle': 6837, 'eri': 6838, 'ali': 6839, 'lululemons': 6840, 'bla': 6841, 'separately': 6842, 'pushes': 6843, 'acrossed': 6844, 'bryon': 6845, '190lbs': 6846, 'catchc': 6847, '35c': 6848, 'netted': 6849, '5ft8inches': 6850, 'rackerback': 6851, 'loca': 6852, 'leisure': 6853, 'gorgeus': 6854, 'recipient': 6855, 'wynwood': 6856, 'playfulness': 6857, 'libs': 6858, 'treasure': 6859, 'rosettes': 6860, 'extensively': 6861, 'revisiting': 6862, 'dishes': 6863, 'athro': 6864, 'notches': 6865, 'missoni': 6866, 'flawy': 6867, '34ff': 6868, 'vividly': 6869, 'pining': 6870, 'dwarfed': 6871, 'discuss': 6872, 'imp': 6873, 'xspwas': 6874, 'ripple': 6875, 'newest': 6876, 'retained': 6877, 'shouts': 6878, 'laws': 6879, 'perky': 6880, 'openly': 6881, 'foxy': 6882, 'pokes': 6883, 'struggles': 6884, 'perfume': 6885, 'george': 6886, 'venson': 6887, 'vousta': 6888, 'polar': 6889, 'bears': 6890, 'deer': 6891, 'branches': 6892, 'reissued': 6893, 'hues': 6894, 'fifteen': 6895, 'snuggles': 6896, 'orangutan': 6897, 'shortish': 6898, 'rosie': 6899, 'neira': 6900, 'weght': 6901, 'cutewith': 6902, 'farrah': 6903, 'balances': 6904, 'gala': 6905, 'nanette': 6906, 'lepore': 6907, 'perspiring': 6908, 'cornflower': 6909, 'endlessly': 6910, 'complexions': 6911, 'gar': 6912, 'coziest': 6913, 'overtly': 6914, 'honolulu': 6915, 'materia': 6916, 'nick': 6917, 'defe': 6918, 'purcahse': 6919, 'striked': 6920, 'priority': 6921, 'carolyn': 6922, 'blair': 6923, 'helpfu': 6924, 'inadvertently': 6925, 'typica': 6926, 'chairs': 6927, 'marian': 6928, 'alexandria': 6929, 'ttt': 6930, 'sable': 6931, 'duty': 6932, 'express': 6933, 'spice': 6934, 'minuet': 6935, 'cartwheels': 6936, 'retailerpolgy': 6937, 'meanings': 6938, 'cucumber': 6939, 'action': 6940, 'vinta': 6941, 'prewashed': 6942, 'royalty': 6943, 'fluttering': 6944, 'goofy': 6945, 'limitless': 6946, 'slende': 6947, 'deliciously': 6948, 'expertly': 6949, 'derby': 6950, 'limbed': 6951, '35x27x36': 6952, 'boyshort': 6953, 'cheeky': 6954, 'shoot': 6955, 'nbeed': 6956, 'nay': 6957, 'hybrid': 6958, 'blessing': 6959, 'rotating': 6960, 'bind': 6961, 'coordinate': 6962, 'afterwards': 6963, 'restocked': 6964, 'submerge': 6965, 'poses': 6966, 'yogini': 6967, 'cutaway': 6968, 'tanktop': 6969, 'coworkers': 6970, 'ladybugs': 6971, 'introduction': 6972, 'talented': 6973, 'spirited': 6974, 'contort': 6975, 'argument': 6976, 'goldish': 6977, 'aleardy': 6978, 'su': 6979, 'pie': 6980, 'fitter': 6981, 'shirter': 6982, 'melita': 6983, 'surpasses': 6984, 'windowpane': 6985, 'epic': 6986, '7months': 6987, 'preggars': 6988, '133lbs': 6989, 'warmers': 6990, 'roughly': 6991, 'winning': 6992, 'amidst': 6993, 'shapewear': 6994, 'flatforms': 6995, 'workw': 6996, 'collapses': 6997, 'tech': 6998, 'doenst': 6999, 'greyish': 7000, 'counterbalance': 7001, 'thinne': 7002, 'airier': 7003, 'prep': 7004, 'nylons': 7005, 'pinup': 7006, 'juuuust': 7007, 'choker': 7008, 'reattach': 7009, 'sympath': 7010, 'concealed': 7011, 'flipp': 7012, 'c34': 7013, 'spoilers': 7014, 'traverse': 7015, 'unassuming': 7016, 'shyle': 7017, 'bressay': 7018, 'squats': 7019, 'roof': 7020, 'shingles': 7021, 'iop': 7022, 'ned': 7023, 'sofy': 7024, 'nexk': 7025, 'redeemed': 7026, 'fundraiser': 7027, '5in': 7028, 'advantages': 7029, 'innovative': 7030, 'iris': 7031, 'bloom': 7032, 'slouched': 7033, 'sneaker': 7034, 'camoflage': 7035, 'unco': 7036, 'trusting': 7037, 'uptown': 7038, 'spattering': 7039, 'fiends': 7040, 'grays': 7041, 'fr': 7042, 'wayyyyy': 7043, 'zigzag': 7044, 'hundo': 7045, 'overshadow': 7046, 'simpleness': 7047, 'pillowy': 7048, 'occurred': 7049, 'thrift': 7050, 'ecept': 7051, 'uncuff': 7052, 'flatting': 7053, 'anthletic': 7054, 'tendencies': 7055, 'disneyland': 7056, '800': 7057, 'resources': 7058, 'fuscia': 7059, 'purpleish': 7060, 'peony': 7061, 'acid': 7062, 'splash': 7063, 'mi': 7064, 'fixes': 7065, 'fills': 7066, 'scrolling': 7067, 'foundation': 7068, 'corduroys': 7069, 'attack': 7070, 'chore': 7071, 'magnification': 7072, 'upstairs': 7073, 'relaxes': 7074, 'departure': 7075, '0verall': 7076, 'nto': 7077, 'sued': 7078, 'appeals': 7079, 'oceanside': 7080, 'entry': 7081, 'upto': 7082, 'outweighed': 7083, '501': 7084, 'insane': 7085, 'mat': 7086, 'oood': 7087, 'erin': 7088, 'fetherston': 7089, 'rtw': 7090, 'knockoff': 7091, 'spreads': 7092, 'swamp': 7093, 'limps': 7094, 'shirtwaist': 7095, 'als': 7096, 'triple': 7097, 'digit': 7098, 'community': 7099, '39ish': 7100, 'camos': 7101, 'boxes': 7102, 'readjust': 7103, 'elaborate': 7104, 'pelvis': 7105, 'prickling': 7106, 'colorblock': 7107, 'arrangement': 7108, 'lp': 7109, 'crowd': 7110, 'pleaser': 7111, 'disposed': 7112, '8s': 7113, 'tease': 7114, 'davy': 7115, 'crockett': 7116, 'lurex': 7117, 'aztec': 7118, 'switch': 7119, 'clevage': 7120, 'armscye': 7121, 'sensati': 7122, 'peaches': 7123, 'dissuade': 7124, 'unsuited': 7125, 'launderings': 7126, 'overjoyed': 7127, 'gifted': 7128, 'safari': 7129, 'practices': 7130, 'involve': 7131, 'produce': 7132, 'debate': 7133, 'accomadate': 7134, 'gender': 7135, 'irresistibly': 7136, 'inlet': 7137, 'assoc': 7138, 'mailed': 7139, 'gameday': 7140, 'bette': 7141, 'abck': 7142, 'botto': 7143, 'thinki': 7144, 'ears': 7145, 'nose': 7146, 'winking': 7147, 'inter': 7148, 'guard': 7149, 'differ': 7150, 'reviewe': 7151, 'fl': 7152, 'experiencing': 7153, 'pouf': 7154, 'ig': 7155, 'tap': 7156, 'lous': 7157, 'dow': 7158, 'insist': 7159, 'laec': 7160, 'biggish': 7161, 'pencils': 7162, '61': 7163, 'westher': 7164, 'teds': 7165, 'hare': 7166, 'oklahoma': 7167, 'sundays': 7168, 'received\\r': 7169, 'loose\\r': 7170, 'poofier': 7171, 'mattered': 7172, 'timing': 7173, '104lbs': 7174, 'merging': 7175, 'stylistically': 7176, 'yogi': 7177, 'cervix': 7178, 'round\\r': 7179, 'eyeballing': 7180, 'ansy': 7181, 'forgive': 7182, 'strategy': 7183, 'skinnier': 7184, 'fol': 7185, 'densest': 7186, 'thickest': 7187, 'uncured': 7188, 'huh': 7189, 'misrepresent': 7190, 'workouts': 7191, 'leggins': 7192, 'throat': 7193, 'bank': 7194, 'bread': 7195, 'pasta': 7196, 'ranks': 7197, 'jammies': 7198, 'henly': 7199, 'detal': 7200, 'grew': 7201, 'dissapoint': 7202, 'looooove': 7203, 'winery': 7204, 'pumped': 7205, 'remembering': 7206, 'accommodating': 7207, 'doubles': 7208, 'jingling': 7209, 'vinyl': 7210, 'resistance': 7211, '35a': 7212, 'brooding': 7213, 'doc': 7214, 'martins': 7215, 'scotty': 7216, 'trees': 7217, 'crunchy': 7218, 'ahe': 7219, 'chock': 7220, 'handling': 7221, 'stunningly': 7222, 'shirttail': 7223, 'houseboat': 7224, 'rewarded': 7225, 'casu': 7226, 'rearranging': 7227, 'staticy': 7228, 'outgoing': 7229, 'confusion': 7230, 'chokey': 7231, 'senses': 7232, 'flirt': 7233, 'drumstick': 7234, 'wid': 7235, 'transforms': 7236, 'lacked': 7237, 'produ': 7238, 'rivet': 7239, 'stylewise': 7240, 'iand': 7241, '130l': 7242, 'jewlery': 7243, 'consequently': 7244, 'specs': 7245, 'complimen': 7246, 'eveyone': 7247, 'asymmetry': 7248, 'little\\r': 7249, 'seven': 7250, 'loun': 7251, 'sparkled': 7252, 'whilst': 7253, 'melon': 7254, 'bleached': 7255, 'jessica': 7256, 'rabbit': 7257, 'punks': 7258, 'noni': 7259, 'verstaile': 7260, 'longwaisted': 7261, 'interwoven': 7262, 'pesonal': 7263, 'meta': 7264, 'tightener': 7265, 'prance': 7266, 'payer': 7267, 'feminie': 7268, 'rusn': 7269, 'proble': 7270, 'people\\r': 7271, 'sly': 7272, 'tasseled': 7273, 'stocked': 7274, 'yards': 7275, 'demands': 7276, 'outlined': 7277, 'channeling': 7278, 'realness': 7279, 'lbs\\r': 7280, '32c\\r': 7281, 'packagei': 7282, 'limned': 7283, 'strang': 7284, 'sactuary': 7285, 'wayup': 7286, 'non0muscular': 7287, 'thee': 7288, 'account': 7289, 'canton': 7290, 'taping': 7291, '121': 7292, 'bf': 7293, 'perferred': 7294, 'googling': 7295, 'soak': 7296, 'tsp': 7297, 'conditioner': 7298, 'complementing': 7299, 'sailboat': 7300, 'electricity': 7301, 'teenager': 7302, 'basis': 7303, 'pinches': 7304, 'minimizing': 7305, 'valid': 7306, 'stonewashing': 7307, 'linear': 7308, 'fingernail': 7309, 'contoured': 7310, 'distinguishable': 7311, 'smoothes': 7312, 'inconsistencies': 7313, 'petitte': 7314, 'edginess': 7315, 'rocker': 7316, 'ldecided': 7317, 'seemd': 7318, 'detaisl': 7319, 'bolero': 7320, 'sparkles': 7321, 'mud': 7322, 'diligent': 7323, 'pristine': 7324, 'lengt': 7325, 'rooster': 7326, 'combinations': 7327, 'retains': 7328, 'signature': 7329, 'andddddd': 7330, '67': 7331, 'haging': 7332, 'echoing': 7333, 'remarks': 7334, 'mixtures': 7335, 'predominant': 7336, 'areturn': 7337, 'liekd': 7338, 'housecoat': 7339, 'unders': 7340, 'burned': 7341, 'proba': 7342, 'complection': 7343, 'pefect': 7344, 'amking': 7345, 'quibbles': 7346, 'niche': 7347, 'compa': 7348, 'earthy': 7349, 'droppy': 7350, 'harkens': 7351, 'conversational': 7352, 'pinafore': 7353, 'roars': 7354, 'stored': 7355, 'gas': 7356, 'station': 7357, 'delaney': 7358, 'elevating': 7359, 'snigger': 7360, 'blasting': 7361, 'btoh': 7362, 'hello': 7363, 'reworked': 7364, 'toothpick': 7365, 'witho': 7366, 'reports': 7367, 'suprisingly': 7368, 'breasting': 7369, 'nicks': 7370, 'hipline': 7371, 'summ': 7372, 'enjoyment': 7373, 'distraught': 7374, 'thh': 7375, 'beign': 7376, 'hsaped': 7377, 'popcorn': 7378, 'bootles': 7379, 'lifespan': 7380, 'noooo': 7381, 'portrays': 7382, 'blueish': 7383, 'poolside': 7384, 'resembled': 7385, 'biit': 7386, 'leaned': 7387, 'jackie': 7388, 'kennedy': 7389, 'orangish': 7390, 'contentment': 7391, 'mere': 7392, 'tweedy': 7393, 'immensely': 7394, 'objected': 7395, 'insufficient': 7396, 'characteristic': 7397, 'upwards': 7398, '102lbs': 7399, 'bling': 7400, 'peel': 7401, 'corresponded': 7402, 'spacious': 7403, 'misread': 7404, 'ego': 7405, 'boost': 7406, 'trading': 7407, 'saucy': 7408, 'nansen': 7409, 'remade': 7410, 'oppressive': 7411, 'bridging': 7412, 'aligning': 7413, 'fusible': 7414, 'interfacing': 7415, 'realistically': 7416, 'greater': 7417, 'aggressively': 7418, 'dangling': 7419, 'bun': 7420, 'hacking': 7421, 'strays': 7422, 'reve': 7423, 'nirsing': 7424, 'nicel': 7425, 'caveats': 7426, 'decades': 7427, 'goldilocks': 7428, 'whirl': 7429, 'drastic': 7430, 'manipulate': 7431, 'unnoticeable': 7432, 'indulgent': 7433, 'trhrow': 7434, 'eregular': 7435, 'thirties': 7436, 'store\\r': 7437, '116ibs': 7438, 'ladybug': 7439, 'tiokeep': 7440, 'beautify': 7441, '156': 7442, 'colters': 7443, 'objectionably': 7444, 'bohemain': 7445, 'notably': 7446, 'clicking': 7447, 'answe': 7448, 'spendy': 7449, 'delivers': 7450, 'reutn': 7451, 'woud': 7452, 'birkinstocks': 7453, 'breakfast': 7454, 'unfini': 7455, 'childish': 7456, 'satisfying': 7457, 'laye': 7458, 'hmmm': 7459, '150lb': 7460, 'alludes': 7461, 'caftans': 7462, 'dancer': 7463, 'fluffiness': 7464, 'fort': 7465, 'knox': 7466, 'gauntlet': 7467, 'determined': 7468, 'labor': 7469, 'lawn': 7470, 'perforated': 7471, 'venture': 7472, 'drinking': 7473, 'instinct': 7474, 'controlled': 7475, 'plum\\r': 7476, 'ventilation': 7477, '129': 7478, 'denver': 7479, 'outdated': 7480, 'flips': 7481, 'tennys': 7482, 'mound': 7483, 'thorwback': 7484, 'sandy': 7485, 'respectable': 7486, 'swath': 7487, 'creatively': 7488, 'securing': 7489, 'mentions': 7490, 'monday': 7491, 'lightening': 7492, '1973': 7493, 'cooking': 7494, 'prominently': 7495, 'approriate': 7496, 'weston': 7497, 'hose': 7498, 'jewelery': 7499, 'mixe': 7500, 'greenville': 7501, 'sc': 7502, 'szie': 7503, 'looke': 7504, 'aweful': 7505, 'ahge': 7506, 'hur': 7507, 'palelike': 7508, 'asflattering': 7509, 'sweatpants': 7510, 'bunnies': 7511, 'expands': 7512, 'und': 7513, 'explosing': 7514, 'preferring': 7515, 'tbu': 7516, 'hite': 7517, 'mystery': 7518, 'discouraging': 7519, '4yrs': 7520, 'remarkable': 7521, 'transports': 7522, 'island': 7523, 'overs': 7524, 'welcomed': 7525, 'rigidity': 7526, 'damask': 7527, 'louis': 7528, 'vuitton': 7529, 'bsck': 7530, 'sissy': 7531, 'spacek': 7532, 'through\\r': 7533, 'scree': 7534, 'stri': 7535, '251': 7536, '3rds': 7537, 'savings': 7538, 'dense': 7539, 'washington': 7540, 'jerusalem': 7541, 'concentrates': 7542, 'rsty': 7543, 'mateiral': 7544, 'oclor': 7545, 'demosilles': 7546, 'incorporates': 7547, 'laced': 7548, 'prudish': 7549, 'removing': 7550, 'taught': 7551, 'latch': 7552, 'tendd': 7553, 'midwe': 7554, 'chemicals': 7555, 'ier': 7556, 'racer': 7557, '111': 7558, '28dddd': 7559, '30ddd': 7560, 'zigzagging': 7561, 'assemblage': 7562, 'scandalous': 7563, 'shirtsleeves': 7564, 'picturing': 7565, 'ia': 7566, 'sinch': 7567, 'iike': 7568, 'roaring': 7569, 'stash': 7570, 'vaired': 7571, 'additio': 7572, 'exclude': 7573, 'mileage': 7574, 'dinged': 7575, 'frequent': 7576, 'palate': 7577, 'sihrt': 7578, 'requests': 7579, 'risks': 7580, 'succumb': 7581, 'anxious': 7582, 'midst': 7583, 'doldrums': 7584, 'powdery': 7585, 'envision': 7586, 'janes': 7587, 'coobie': 7588, 'tme0': 7589, 'retailerday': 7590, 'bordering': 7591, 'brother': 7592, 'chubneck': 7593, 'pattten': 7594, '147': 7595, 'sunflower': 7596, 'moths': 7597, 'peice': 7598, 'luxuriously': 7599, 'abso': 7600, 'fullish': 7601, 'berkeley': 7602, 'of\\r': 7603, 'healed': 7604, 'keds': 7605, 'nec': 7606, 'fulle': 7607, 'slenderizing': 7608, 'altho': 7609, 'forgiven': 7610, 'hirt': 7611, 'optimal': 7612, 'recreated': 7613, 'mabli': 7614, 'felting': 7615, '111lbs': 7616, 'skit': 7617, 'venting': 7618, 'jack': 7619, 'oomph': 7620, 'cahnce': 7621, 'howeverm': 7622, 'tey': 7623, 'htem': 7624, 'iusually': 7625, 'otherwse': 7626, 'inever': 7627, 'size4': 7628, 'intensity': 7629, 'swim\\r': 7630, 'host': 7631, 'sins': 7632, 'ambiguous': 7633, 'thirty': 7634, 'whatnot': 7635, 'aiming': 7636, 'mimic': 7637, 'sari': 7638, 'sacrificing': 7639, 'flexors': 7640, 'multiples': 7641, 'tdf': 7642, 'pettite': 7643, '4r': 7644, 'birks': 7645, 'drapy': 7646, 'teaser': 7647, 'perhap': 7648, 'looged': 7649, 'comfrotbale': 7650, 'alining': 7651, 'petie': 7652, 'lucious': 7653, 'pen': 7654, 'mediocre': 7655, 'distinction': 7656, 'dds': 7657, 'slimline': 7658, 'notwithstanding': 7659, 'p8': 7660, '3in': 7661, 'verging': 7662, 'cascades': 7663, 'beca': 7664, 'possess': 7665, 'inward': 7666, 'jammie': 7667, 'flex': 7668, 'whose': 7669, 'camouflaged': 7670, 'insides': 7671, 'coordinating': 7672, 'yello': 7673, 'brighten': 7674, 'defini': 7675, 'circumference': 7676, 'splashes': 7677, 'intimidate': 7678, 'fireengine': 7679, 'march': 7680, 'hh': 7681, 'navy\\r': 7682, 'inflexibility': 7683, 'compareed': 7684, 'considerable': 7685, 'jacked': 7686, 'peels': 7687, 'kil': 7688, 'thrille': 7689, 'exchanges': 7690, 'sillhoette': 7691, 'togethers': 7692, 'mile': 7693, 'suport': 7694, 'patters': 7695, 'exmaple': 7696, 'bluishgreen': 7697, 'hae': 7698, 'grea': 7699, 'bulkly': 7700, 'big0': 7701, 'switched': 7702, 'nearest': 7703, 'streaking': 7704, 'palest': 7705, 'nline': 7706, 'flaterring': 7707, 'abou': 7708, 'rebviews': 7709, 'ho': 7710, 'hum': 7711, 'fist': 7712, 'sis': 7713, 'jeeps': 7714, 'spoken': 7715, 'sabrina': 7716, 'unfit': 7717, 'flawlessly': 7718, 'cried': 7719, 'jiffy': 7720, 'bbq': 7721, 'marni': 7722, 'prada': 7723, 'posters': 7724, 'pict': 7725, 'raincoat': 7726, 'fifties': 7727, 'sixties': 7728, 'occas': 7729, 'kills': 7730, 'suprised': 7731, 'ita': 7732, 'birth': 7733, 'females': 7734, 'ahem': 7735, 'bop': 7736, 'hugely': 7737, 'shirred': 7738, 'recovering': 7739, 'overboard': 7740, 'eyelets': 7741, 'bodices': 7742, 'experimented': 7743, 'felty': 7744, 'airly': 7745, 'legnth': 7746, 'beac': 7747, 'snowflske': 7748, 'attraction': 7749, 'cough': 7750, 'calia': 7751, 'blk': 7752, 'wht': 7753, 'combing': 7754, '116lbs': 7755, 'trimming': 7756, 'guilt': 7757, 'hugger': 7758, 'alike': 7759, 'tuc': 7760, 'remedy': 7761, 'capsule': 7762, 'launder': 7763, 'posterior': 7764, 'farther': 7765, 'downsizing': 7766, 'clips': 7767, 'skinniest': 7768, 'stockings': 7769, 'boodie': 7770, 'stright': 7771, 'dt': 7772, 'wrikling': 7773, 'wwear': 7774, 'xsp\\r': 7775, 'xxs\\r': 7776, 'xxsp\\r': 7777, 'evaluate': 7778, 'peaked': 7779, 'ke': 7780, 'hollywood': 7781, 'athropologie': 7782, 'nevermind': 7783, 'horizont': 7784, 'sacrifice': 7785, 'jutting': 7786, 'instore': 7787, 'railroad': 7788, 'tracks': 7789, 'nominal': 7790, 'ruffl': 7791, 'pulles': 7792, 'hack': 7793, 'sugge': 7794, 'toggles': 7795, 'elevated': 7796, '6th': 7797, 'muffins': 7798, 'cancel': 7799, 'link': 7800, 'owls': 7801, 'cleanly': 7802, 'proven': 7803, 'newborn': 7804, 'begun': 7805, 'weaned': 7806, 'wheelchair': 7807, 'temporarily': 7808, 'settle': 7809, 'cheekier': 7810, 'presented': 7811, 'numbered': 7812, 'hilary': 7813, 'clinton': 7814, '54': 7815, 'mcguire': 7816, '32p': 7817, 'proof': 7818, 'amoret': 7819, 'rails': 7820, 'evidently': 7821, 'deteriorates': 7822, 'shave': 7823, 'leary': 7824, 'honor': 7825, 'shorties': 7826, 'heed': 7827, 'warnings': 7828, 'hungry': 7829, 'preview': 7830, 'completes': 7831, 'iis': 7832, 'determining': 7833, 'contributed': 7834, 'grandson': 7835, 'satin': 7836, 'sillier': 7837, 'cowgirl': 7838, '03': 7839, 'che': 7840, 'speechless': 7841, 'morel': 7842, 'lightwash': 7843, 'attachment': 7844, 'laughs': 7845, 'affects': 7846, 'reflection': 7847, 'pizzazz': 7848, 'unavail': 7849, 'cuffing': 7850, 'ravel': 7851, 'sleeeves': 7852, 'dressmaker': 7853, 'shininess': 7854, 'sublime': 7855, 'iridescent': 7856, 'volu': 7857, 'corer': 7858, 'revisitation': 7859, 'pleather': 7860, 'considerate': 7861, 'p2': 7862, 'waggle': 7863, 'pondering': 7864, 'longline': 7865, 'favourite': 7866, 'mass': 7867, 'movements': 7868, 'overal': 7869, 'returrn': 7870, 'therefor': 7871, 'likea': 7872, 'har': 7873, 'dtime': 7874, 'peites': 7875, 'blacks': 7876, '2008': 7877, 'flouncier': 7878, 'slitted': 7879, 'nocal': 7880, 'foundations': 7881, 'deceived': 7882, 'moniker': 7883, 'squirming': 7884, 'thongs': 7885, 'manufacture': 7886, 'beneficial': 7887, 'sofla': 7888, 'sultry': 7889, 'sweaty': 7890, 'sizingwise': 7891, 'dimension': 7892, 'wale': 7893, 'peace': 7894, 'irritatingly': 7895, 'bam': 7896, 'gracious': 7897, 'askedher': 7898, 'coworker': 7899, 'ahs': 7900, 'nonte': 7901, 'pictured\\r': 7902, 'down\\r': 7903, 'top\\r': 7904, '64': 7905, 'upping': 7906, 'resewn': 7907, 'boucles': 7908, 'rump': 7909, 'conflicted': 7910, 'suggestive': 7911, 'separates': 7912, 'coplaints': 7913, '2inches': 7914, 'joy': 7915, 'mended': 7916, 'simplest': 7917, 'unstitch': 7918, 'breeziness': 7919, 'sake': 7920, 'anticipate': 7921, 'gladiators': 7922, 'repel': 7923, 'trade': 7924, 'dr4ess': 7925, 'foldover': 7926, 'english': 7927, 'izing': 7928, 'meda': 7929, 'dislikes': 7930, 'beatifully': 7931, 'convertible': 7932, 'ladyish': 7933, 'calming': 7934, 'desi': 7935, 'hawk': 7936, 'cop': 7937, 'hammy': 7938, 'smoothing': 7939, 'considerations': 7940, 'woop': 7941, 'qualm': 7942, 'twisty': 7943, 'squishy': 7944, 'subset': 7945, 'nonsensical': 7946, 'coloured': 7947, 'plcro': 7948, 'suburban': 7949, 'admired': 7950, 'debuted': 7951, 'swingyness': 7952, '143': 7953, 'worrisome': 7954, 'cut\\r': 7955, 'neckline\\r': 7956, 'skin\\r': 7957, 'thread\\r': 7958, 'bummers': 7959, 'ash': 7960, 'looove': 7961, '97': 7962, 'selection': 7963, '2r': 7964, 'checks': 7965, 'goal': 7966, 'indifference': 7967, 'notes': 7968, 'waffled': 7969, 'stashed': 7970, 'swallows': 7971, 'labelled': 7972, 'bound': 7973, 'kinds': 7974, 'aversion': 7975, '3inches': 7976, 'weightier': 7977, 'proving': 7978, 'fuzziness': 7979, 'brightened': 7980, 'somethings': 7981, 'showers': 7982, 'west': 7983, 'mashine': 7984, 'addicted': 7985, 'interim': 7986, 'creme': 7987, 'fateful': 7988, 'couples': 7989, 'acts': 7990, '10th': 7991, 'toying': 7992, 'accompanies': 7993, 'intrepid': 7994, 'shook': 7995, 'vast': 7996, 'extras': 7997, 'picure': 7998, 'agai': 7999, 'treatment': 8000, 'camouflaging': 8001, 'unatural': 8002, 'passing': 8003, 'momma': 8004, 'kiddos': 8005, 'notices': 8006, 'cappier': 8007, 'bermudas': 8008, 'accomodate': 8009, 'ordinar': 8010, 'notorious': 8011, 'disclaimer': 8012, 'sof': 8013, 'indoor': 8014, 'squish': 8015, 'tat': 8016, 'hotter': 8017, 'grazes': 8018, 'homes': 8019, 'funds': 8020, 'entirel': 8021, 'contralaterally': 8022, 'firned': 8023, 'ap': 8024, 'divulging': 8025, 'prompt': 8026, 'welp': 8027, 'botton': 8028, 'apetite': 8029, 'gutted': 8030, 'dang': 8031, 'increasingly': 8032, 'shirty': 8033, 'formfitting': 8034, 'attributes': 8035, 'planet': 8036, 'gambl': 8037, 'particulars': 8038, 'work\\r': 8039, 'lux': 8040, 'material\\r': 8041, 'ion': 8042, '34ds': 8043, 'hearted': 8044, 'cursed': 8045, 'cheerleading': 8046, 'dolly': 8047, 'pardon': 8048, 'preschool': 8049, '123lbssize': 8050, '400': 8051, 'consistency': 8052, 'disturbing': 8053, 'asser': 8054, 'midday': 8055, 'ipad': 8056, 'lychnis': 8057, 'flights': 8058, 'schlumpy': 8059, 'naval': 8060, 'hoo': 8061, 'underestimated': 8062, 'persimmon': 8063, 'necked': 8064, 'guys': 8065, 'vents': 8066, 'slash': 8067, 'person\\r': 8068, 'impeded': 8069, 'sweep': 8070, 'mazing': 8071, 'rolle': 8072, 'althleisure': 8073, 'nue': 8074, 'shani': 8075, 'embossed': 8076, 'artificial': 8077, 'hula': 8078, 'bei': 8079, 'wante': 8080, '3xs': 8081, 'hub': 8082, 'barista': 8083, 'tissues': 8084, 'phones': 8085, 'delicious': 8086, 'cheetah': 8087, 'barn': 8088, 'allllllmost': 8089, 'urge': 8090, 'keepin': 8091, 'reno': 8092, 'nv': 8093, 'fascinating': 8094, 'beau': 8095, 'inconvenience': 8096, 'matl': 8097, 'jearns': 8098, 'confess': 8099, 'presentations': 8100, 'faculty': 8101, 'outstretched': 8102, 'conside': 8103, 'nuance': 8104, 'asymmetric': 8105, 'frabic': 8106, 'goon': 8107, 'crisper': 8108, 'meatiness': 8109, 'adoring': 8110, 'blindly': 8111, 'discourages': 8112, 'battling': 8113, 'elastisized': 8114, 'bandages': 8115, 'dryers': 8116, 'imagining': 8117, 'sueded': 8118, 'mustardy': 8119, 'interlocking': 8120, 'approach': 8121, 'miles': 8122, 'regard': 8123, 'tayloring': 8124, 'undertaking': 8125, 'dated': 8126, 'anybody': 8127, 'maneuver': 8128, 'tulips': 8129, 'plucked': 8130, 'recipe': 8131, 'shortwaisted': 8132, 'print\\r': 8133, 'gorgeously': 8134, 'batwings': 8135, 'resolved': 8136, 'discern': 8137, 'ie': 8138, 'obsession': 8139, 'erratic': 8140, 'flyi': 8141, 'waved': 8142, '1x': 8143, 'unacceptable': 8144, 'questionable': 8145, 'confine': 8146, 'tightest': 8147, 'combining': 8148, 'shoddily': 8149, 'repairs': 8150, 'boobies': 8151, 'bundle': 8152, 'chord': 8153, 'untreatable': 8154, 'theses': 8155, 'balooned': 8156, 'biker': 8157, 'shining': 8158, 'costly': 8159, 'arose': 8160, 'sharking': 8161, 'ordinarily': 8162, 'explains': 8163, 'clue': 8164, 'ahhhh': 8165, 'my3': 8166, 'swindled': 8167, 'ruf': 8168, 'delicates': 8169, 'purc': 8170, 'eggplant': 8171, 'burgandy': 8172, 'nove': 8173, 'unuseable': 8174, 'glob': 8175, 'couches': 8176, 'splotch': 8177, 'uncut': 8178, 'crass': 8179, 'cancer': 8180, 'survivor': 8181, 'lop': 8182, 'clavicle': 8183, 'fuz': 8184, 'htis': 8185, 'triue': 8186, 'classier': 8187, 'happiest': 8188, '2016': 8189, 'excuse': 8190, 'darks': 8191, 'streaked': 8192, 'foolishly': 8193, 'restriction': 8194, 'materi': 8195, 'liberty': 8196, 'partner': 8197, 'rises': 8198, 'sizable': 8199, '36g': 8200, 'brownies': 8201, 'scout': 8202, '32h': 8203, 'suffering': 8204, 'cassia': 8205, 'sorcha': 8206, 'thighed': 8207, 'arrangements': 8208, 'wood': 8209, 'regions': 8210, 'umpire': 8211, 'uncovered': 8212, 'rectangular': 8213, 'realllllly': 8214, 'exaggerates': 8215, 'overywhelming': 8216, 'reeked': 8217, 'patchouli': 8218, 'ulitimately': 8219, 'undesired': 8220, 'advertisement': 8221, 'emailing': 8222, 'response': 8223, 'hampered': 8224, 'masters': 8225, 'qualification': 8226, 'sauce': 8227, 'themes': 8228, 'deserved': 8229, 'imho': 8230, 'improperly': 8231, 'statuesque': 8232, 'fades': 8233, 'realign': 8234, 'wrestle': 8235, 'symmetric': 8236, 'outermost': 8237, 'faint': 8238, 'repurchasing': 8239, 'muscley': 8240, 'geeze': 8241, 'tip': 8242, 'hulk': 8243, '10x': 8244, 'individuals': 8245, 'undeniable': 8246, 'toscana': 8247, 'sandscape': 8248, '9between': 8249, 'ret': 8250, 'versitality': 8251, 'satiny': 8252, 'rhianna': 8253, 'colorblocked': 8254, 'role': 8255, 'nix': 8256, 'herls': 8257, 'nuce': 8258, 'awkwardness': 8259, 'buttondowns': 8260, 'liners': 8261, 'area\\r': 8262, 'disclosure': 8263, 'overkill': 8264, 'tuned': 8265, 'usu': 8266, 'boutique': 8267, 'accordion': 8268, 'constrict': 8269, 'boobage': 8270, '134lb': 8271, 'activity': 8272, 'kn': 8273, 'ruler': 8274, 'fuddy': 8275, 'duddy': 8276, 'mama': 8277, 'driver': 8278, 'language': 8279, 'advises': 8280, 'surfaces': 8281, 'comic': 8282, 'narrows': 8283, 'sweather': 8284, 'examined': 8285, 'proceeded': 8286, 'screeching': 8287, 'halt': 8288, 'xmas': 8289, 'intrusive': 8290, 'desert': 8291, 'cowgirls': 8292, 'sungarden': 8293, 'sherbet': 8294, 'tattered': 8295, 'modei': 8296, 'wireless': 8297, 'grandmotherly': 8298, 'satisfy': 8299, 'porcelain': 8300, 'bustle': 8301, 'stating': 8302, 'wintergreens': 8303, 'hovered': 8304, 'nymph': 8305, 'downed': 8306, 'fireside': 8307, 'striving': 8308, 'hike': 8309, 'swallowing': 8310, 'beuatiful': 8311, 'lavendar': 8312, 'aaaaannnnnnd': 8313, 'series': 8314, 'southwestern': 8315, 'saldly': 8316, 'worlds': 8317, 'matted': 8318, 'peeled': 8319, 'perk': 8320, 'primarily': 8321, 'grapeish': 8322, 'chicken': 8323, 'athleisure': 8324, 'seats': 8325, 'scratches': 8326, 'conspicuously': 8327, 'wired': 8328, 'hadent': 8329, 'avai': 8330, 'antropologie': 8331, 'consequence': 8332, 'conjecture': 8333, 'examples': 8334, 'kneeled': 8335, '35ab': 8336, 'drawings': 8337, 'outlining': 8338, 'genes': 8339, 'irritated': 8340, 'meanwhile': 8341, 'glorious': 8342, 'womanly': 8343, 'madonna': 8344, 'muslin': 8345, 'conditioned': 8346, 'waaaay': 8347, 'sheek': 8348, 'endora': 8349, 'wildly': 8350, 'plackets': 8351, 'dimensions': 8352, 'implied': 8353, 'costumer': 8354, '0dd': 8355, 'bouncier': 8356, 'rex': 8357, 'dinosaur': 8358, 'heartbreakingly': 8359, 'gypsie': 8360, 'up1it': 8361, 'analysis': 8362, 'aghast': 8363, 'waify': 8364, 'furry': 8365, 'sheepskin': 8366, 'lign': 8367, 'combat': 8368, 'lasting': 8369, 'unintentionally': 8370, '198': 8371, 'parcel': 8372, 'imperfect': 8373, 'medallion': 8374, '40something': 8375, 'audience': 8376, 'bismol': 8377, 'bugged': 8378, 'overstretched': 8379, 'relative': 8380, 'selective': 8381, 'murdered': 8382, 'needles': 8383, 'pricking': 8384, 'tolerating': 8385, 'undernea': 8386, 'translation': 8387, 'blob': 8388, 'pregant': 8389, 'unfortunetly': 8390, 'cumbersome': 8391, 'mixing': 8392, 'bout': 8393, '180lbs': 8394, 'toothpaste': 8395, '37ish': 8396, 'manipulation': 8397, 'exploring': 8398, 'adjacent': 8399, 'bridesmaid': 8400, 'misled': 8401, 'eggshell': 8402, 'merchandised': 8403, 'jiggle': 8404, 'subtleties': 8405, 'drooping': 8406, 'sha': 8407, 'noticing': 8408, 'electric': 8409, 'belong': 8410, 'gravitated': 8411, 'awakward': 8412, 'slowly': 8413, 'disappearing': 8414, 'overseas': 8415, 'preferably': 8416, 'diaphanous': 8417, 'annie': 8418, 'slam': 8419, 'dunk': 8420, 'prefe': 8421, 'peru': 8422, 'socially': 8423, 'responsible': 8424, 'dre': 8425, 'toile': 8426, 'prom': 8427, 'dragonfly': 8428, '84': 8429, 'modernity': 8430, 'war': 8431, 'vacillate': 8432, 'oblong': 8433, 'odette': 8434, 'jus': 8435, 'viewers': 8436, 'quite\\r': 8437, 'very\\r': 8438, 'toasty': 8439, 'understanding': 8440, 'limitations': 8441, 'critical': 8442, 'bizarrely': 8443, 'hourgass': 8444, 'ir': 8445, '4in': 8446, '128b': 8447, 'hesitating': 8448, '26r': 8449, 'classroom': 8450, 'coal': 8451, 'fatal': 8452, 'goto': 8453, 'sweathsirt': 8454, 'bodytype': 8455, 'conservatively': 8456, 'inquiries': 8457, 'mayn': 8458, 'seeking': 8459, 'misunderstood': 8460, 'averting': 8461, 'rat': 8462, 'decolletage': 8463, '62': 8464, 'bubblegum': 8465, 'hippier': 8466, 'saddlebag': 8467, 'emphasis': 8468, 'comb': 8469, 'bodily': 8470, 'imperfection': 8471, 'quintessential': 8472, 'miid': 8473, 'invested': 8474, 'quadriceps': 8475, 'snack': 8476, 'geometrical': 8477, 'geometry': 8478, 'craze': 8479, 'shotty': 8480, 'desirable': 8481, 'cheesecloth': 8482, 'qua': 8483, 'bauble': 8484, 'message': 8485, 'anorexic': 8486, 'unhealthy': 8487, 'toothpicks': 8488, 'guazy': 8489, 'amputated': 8490, 'barbie': 8491, 'hulked': 8492, 'vexing': 8493, 'removal': 8494, 'fromm': 8495, 'ordere': 8496, 'cardigen': 8497, 'journey': 8498, 'cuncun': 8499, 'blight': 8500, 'cont': 8501, 'mobility': 8502, 'abject': 8503, 'terror': 8504, 'invented': 8505, 'vince': 8506, 'waiver': 8507, 'erred': 8508, 'uncomfotably': 8509, 'vocoder': 8510, 'enter': 8511, 'fifth': 8512, 'alllll': 8513, 'pilcos': 8514, '178': 8515, 'dug': 8516, 'medieval': 8517, 'torture': 8518, 'device': 8519, 'liposuction': 8520, 'mayb': 8521, 'milkmaid': 8522, 'puffier': 8523, 'unreasonably': 8524, 'brief': 8525, '2013': 8526, 'parker': 8527, 'toro': 8528, 'exceess': 8529, 'spreading': 8530, '5star': 8531, 'quantity': 8532, 'popback': 8533, 'enthusiastic': 8534, 'sprung': 8535, 'ruc': 8536, 'supermodels': 8537, 'stud': 8538, '137lbs': 8539, 'awate': 8540, 'sizi': 8541, 'harm': 8542, 'marred': 8543, 'colorwise': 8544, 'slimmed': 8545, 'breastline': 8546, 'hundreds': 8547, 'vol': 8548, 'periodically': 8549, 'superficial': 8550, 'xtr': 8551, 'mr': 8552, 'crisscross': 8553, 'balling': 8554, 'requested': 8555, 'recomme': 8556, 'flushed': 8557, 'woolen': 8558, 'props': 8559, 'disgraceful': 8560, 'lusting': 8561, 'honesty': 8562, 'spoil': 8563, 'tidier': 8564, 'noticable': 8565, 'ongoing': 8566, 'furball': 8567, 'cigar': 8568, 'orientation': 8569, 'effects': 8570, 'skew': 8571, 'summation': 8572, 'skipped': 8573, 'miracle': 8574, 'tru': 8575, 'eex': 8576, 'digs': 8577, 'distress': 8578, 'hastle': 8579, 'slimly': 8580, 'irritation': 8581, 'averaged': 8582, 'needlessly': 8583, 'rotund': 8584, 'unaltered': 8585, 'silh': 8586, 'bods': 8587, 'cheapy': 8588, 'flufff': 8589, 'sometime': 8590, 'loungey': 8591, 'finesse': 8592, 'dubbed': 8593, 'obsessively': 8594, 'annnnd': 8595, 'spider': 8596, 'teller': 8597, 'obsessive': 8598, 'avoiding': 8599, 'struck': 8600, 'discrepancies': 8601, 'tig': 8602, 'pooches': 8603, 'smal': 8604, 'alleviate': 8605, 'sill': 8606, 'tops\\r': 8607, 'burn': 8608, 'dressiness': 8609, 'pushup': 8610, 'conversationalist': 8611, 'improvement': 8612, 'dubious': 8613, 'se': 8614, 'rates': 8615, 'loft': 8616, 'timely': 8617, 'wonce': 8618, 'fuzzies': 8619, 'lifelessly': 8620, '4inches': 8621, 'adoreable': 8622, 'plainly': 8623, 'whomever': 8624, 'sway': 8625, 'sb': 8626, 'placing': 8627, 'wellmade': 8628, 'alrea': 8629, '36h': 8630, 'collects': 8631, 'a32': 8632, 'selvage': 8633, 'stubby': 8634, 'postnatal': 8635, 'anomaly': 8636, 'incidentally': 8637, 'kicks': 8638, 'ssxp': 8639, 'stings': 8640, 'unopened': 8641, 'importatn': 8642, 'matieral': 8643, 'comfortbale': 8644, 'hwoever': 8645, 'ilfelt': 8646, 'detial': 8647, 'imported': 8648, 'athlete': 8649, 'sadl': 8650, 'disap': 8651, 'remnant': 8652, 'lilke': 8653, 'tideline': 8654, 'disappeared': 8655, 'whig': 8656, 'gnarly': 8657, 'trolling': 8658, 'origami': 8659, 'strains': 8660, 'overhead': 8661, 'supersoft': 8662, 'butchers': 8663, 'moot': 8664, 'tenty': 8665, '8petite': 8666, 'funnily': 8667, 'disrobe': 8668, 'clingi': 8669, 'roughness': 8670, 'chang': 8671, 'saccharine': 8672, 'greyed': 8673, 'splendid': 8674, 'donna': 8675, 'morgan': 8676, 'midwestern': 8677, 'seciton': 8678, 'embodiment': 8679, 'pesky': 8680, 'hal': 8681, 'uncle': 8682, 'stole': 8683, 'puddle': 8684, 'sepia': 8685, 'marginally': 8686, 'pregnan': 8687, 'unbelted': 8688, 'circles': 8689, 'browner': 8690, 'printing': 8691, 'select': 8692, 'tricep': 8693, 'blunders': 8694, '3xl': 8695, 'unpacked': 8696, 'allusion': 8697, 'formless': 8698, 'meghan': 8699, 'trainor': 8700, 'song': 8701, 'huuuuge': 8702, 'sown': 8703, 'drowned': 8704, 'sayin': 8705, 'hol': 8706, 'hire': 8707, 'topic': 8708, 'sunset': 8709, 'beg': 8710, 'duper': 8711, 'array': 8712, 'differing': 8713, 'sentiments': 8714, 'ni': 8715, 'overheated': 8716, 'sl': 8717, 'justification': 8718, 'believing': 8719, 'chiquita': 8720, 'carissima': 8721, 'marguerite': 8722, 'bite': 8723, 'exceptions': 8724, 'epite': 8725, 'actualyl': 8726, 'prett': 8727, 'tyla': 8728, 'handmade': 8729, 'abundant': 8730, 'buldging': 8731, 'flatteringly': 8732, 'uuuuggghhh': 8733, 'impatiently': 8734, 'overnighted': 8735, 'frill': 8736, 'nab': 8737, 'florescent': 8738, 'clicked': 8739, 'sectioning': 8740, 'definitively': 8741, 'rider': 8742, 'owing': 8743, '134b': 8744, 'challenging': 8745, 'abdominal': 8746, 'cardboard': 8747, 'suspicious': 8748, 'hobbit': 8749, 'wild': 8750, 'goose': 8751, 'chase': 8752, 'midwest': 8753, 'abercrombie': 8754, 'creamsicle': 8755, 'mesmerizing': 8756, 'squarple': 8757, 'haired': 8758, 'delaine': 8759, 'ruggedness': 8760, 'easyily': 8761, 'trapezey': 8762, 'patt': 8763, 'deminished': 8764, 'upsizing': 8765, 'submit': 8766, 'whiled': 8767, 'moments': 8768, 'ooohed': 8769, 'aaahed': 8770, 'hurriedly': 8771, 'farthest': 8772, 'crisply': 8773, 'lapels\\r': 8774, 'the\\r': 8775, 's\\r': 8776, 'strikingly': 8777, 'to\\r': 8778, 'terracotta': 8779, 'dyed': 8780, 'eg': 8781, 'didm': 8782, 'androgynous': 8783, 'ick': 8784, 'ace': 8785, 'throwback': 8786, 'tattoos': 8787, 'perceived': 8788, 'tic': 8789, 'xxi': 8790, 'funnel': 8791, 'leggier': 8792, 'likded': 8793, 'smallish': 8794, 'volumes': 8795, 'spongy': 8796, 'guffawed': 8797, 'implore': 8798, 'ghost': 8799, 'criteria': 8800, 'purchasi': 8801, 'unbalanced': 8802, 'stitc': 8803, 'welcoming': 8804, 'fast\\r': 8805, '3hr': 8806, 'pained': 8807, 'shout': 8808, 'drastically': 8809, 'clinged': 8810, 'stability': 8811, 'hypen': 8812, 'boggling': 8813, 'fantastically': 8814, 'cartoonishly': 8815, 'wench': 8816, 'denying': 8817, 'tapestry': 8818, 'ideally': 8819, 'swims': 8820, 'instants': 8821, 'wuzzy': 8822, 'extravagant': 8823, 'reordering': 8824, 'rotate': 8825, 'wiry': 8826, 'york': 8827, 'noting': 8828, 'indifferent': 8829, 'wax': 8830, 'poetic': 8831, 'attaches': 8832, 'someway': 8833, '85': 8834, 'sweating': 8835, 'complex': 8836, 'atrociously': 8837, 'cecilia': 8838, 'textiles': 8839, 'floraknit': 8840, 'sleveless': 8841, 'garmet': 8842, 'deliberating': 8843, 'once\\r': 8844, 'at\\r': 8845, '28r': 8846, 'ev': 8847, 'wih': 8848, 'fetching': 8849, 'disheveled': 8850, 'smoother': 8851, 'resemblance': 8852, 'girth': 8853, 'swishier': 8854, 'chintzy': 8855, 'dominant': 8856, '38b': 8857, 'discouraged': 8858, 'reveive': 8859, 'perks': 8860, 'leads': 8861, 'unbearably': 8862, '4l': 8863, 'producing': 8864, 'crave': 8865, 'grosgrain': 8866, 'freshman': 8867, 'highschool': 8868, 'dusted': 8869, 'da': 8870, 'rachel': 8871, 'monica': 8872, 'layout': 8873, 'creeping': 8874, 'semblance': 8875, 'chokes': 8876, 'session': 8877, 'restore': 8878, 'minorly': 8879, 'kitschy': 8880, 'substandard': 8881, 'dimple': 8882, 'maintena': 8883, 'sheed': 8884, 'understandable': 8885, 'depiction': 8886, 'tri': 8887, 'transpa': 8888, 'blows': 8889, 'overwhelms': 8890, 'waistbands': 8891, 'concealing': 8892, 'hoochie': 8893, 'mamma': 8894, 'yielded': 8895, 'flamboyant': 8896, 'consists': 8897, '04': 8898, '06': 8899, 'cringing': 8900, 'mirrors': 8901, 'lessened': 8902, 'robs': 8903, 'jules': 8904, 'poofiness': 8905, 'focuses': 8906, 'racy': 8907, 'rig': 8908, 'panties': 8909, 'qual': 8910, 'spoke': 8911, 'corpse': 8912, 'besutiful': 8913, 'gravely': 8914, 'preshrunk': 8915, 'recheck': 8916, 'showcases': 8917, 'theres': 8918, 'counter': 8919, 'crushing': 8920, '448': 8921, 'recommen': 8922, 'stiching': 8923, 'poooofffy': 8924, 'frmae': 8925, 'btu': 8926, 'anatomy': 8927, 'giddy': 8928, 'cacti': 8929, 'stickers': 8930, 'reticketed': 8931, 'hunting': 8932, 'italian': 8933, 'reacts': 8934, 'loro': 8935, 'piana': 8936, 'pouffier': 8937, 'taylor': 8938, 'caribbean': 8939, 'humiliated': 8940, 'untie': 8941, 'sitter': 8942, 'theighs': 8943, 'retuned': 8944, 'embroid': 8945, 'baskets': 8946, 'panniers': 8947, 'spec': 8948, 'vanilla': 8949, 'poked': 8950, 'murkier': 8951, 'smokey': 8952, 'bulking': 8953, '10l': 8954, 'bs': 8955, 'staring': 8956, 'fluttered': 8957, 'capture': 8958, 'consumed': 8959, 'sink': 8960, 'accumulate': 8961, 'genuinely': 8962, 'nabbed': 8963, 'frump': 8964, 'chunkiness': 8965, 'flexibly': 8966, 'objection': 8967, 'sto': 8968, 'recommemd': 8969, 'le': 8970, 'fusing': 8971, 'akward': 8972, 'wowza': 8973, 'orleans': 8974, 'thinkng': 8975, 'lengthened': 8976, 'a9dn': 8977, 'sizw': 8978, 'frumpier': 8979, 'professor': 8980, 'revisit': 8981, 'continuing': 8982, 'thre': 8983, 'starring': 8984, 'film': 8985, 'noir': 8986, 'specifies': 8987, 'witches': 8988, 'warmest': 8989, 'repacked': 8990, 'medical': 8991, 'shortcomings': 8992, 'neede': 8993, 'train': 8994, 'teardrop': 8995, 'cheapest': 8996, 'exhausting': 8997, 'weights': 8998, 'gunny': 8999, 'sax': 9000, 'reins': 9001, 'crumply': 9002, 'stair': 9003, 'blotches': 9004, 'canadian': 9005, 'component': 9006, 'thighness': 9007, 'prioritized': 9008, 'giv': 9009, 'itty': 9010, 'bity': 9011, 'bejewels': 9012, 'jewels': 9013, 'styl': 9014, 'sweeping': 9015, 'intentions': 9016, 'uncomplicated': 9017, 'halterneck': 9018, 'predicted': 9019, 'ate': 9020, 'organic': 9021, 'engulfed': 9022, 'whereof': 9023, 'enlarges': 9024, 'stinning': 9025, 'smashed': 9026, 'neverth': 9027, 'kudos': 9028, 'miffed': 9029, 'paints': 9030, 'whiskered': 9031, 'shoulder\\r': 9032, 'notation': 9033, 'teared': 9034, 'coppery': 9035, '1920': 9036, 'petties': 9037, 'displaying': 9038, 'abnormally': 9039, 'delayed': 9040, 'differen': 9041, 'generaly': 9042, 'cinchers': 9043, 'waits': 9044, 'cehst': 9045, 'os': 9046, 'ddind': 9047, 'beter': 9048, 'lcome': 9049, 'describes': 9050, 'warns': 9051, 'mend': 9052, 'onsie': 9053, 'chicago': 9054, 'ingredients': 9055, 'charente': 9056, 'via': 9057, 'internet': 9058, 'intricately': 9059, 'dealbreaker': 9060, 'seek': 9061, 'riddled': 9062, 'junior': 9063, 'roast': 9064, 'disagreed': 9065, 'anyw': 9066, 'craftmanship': 9067, 'dissippointment': 9068, 'damages': 9069, 'dissipointed': 9070, 'spanned': 9071, 'ottoman': 9072, 'unruly': 9073, 'cellophane': 9074, 'neaten': 9075, 'bustiest': 9076, 'crimplene': 9077, 'it\\r': 9078, 'orde': 9079, 'schedule': 9080, 'paintings': 9081, 'stare': 9082, 'nestled': 9083, '26s': 9084, 'shapelessly': 9085, 'pounced': 9086, 'sizeable': 9087, 'beefy': 9088, 'routinely': 9089, 'embarassingly': 9090, 'paradise': 9091, 'cupro': 9092, 'shapel': 9093, 'teeshirt': 9094, 'shoddy': 9095, 'demarcated': 9096, 'joan': 9097, 'upscale': 9098, 'hamstrings': 9099, 'puzzling': 9100, 'marine': 9101, 'dismayed': 9102, 'cracks': 9103, 'goi': 9104, 'rosette': 9105, 'afterthought': 9106, 'tracey': 9107, 'regu': 9108, 'rounds': 9109, 'ruffly': 9110, 'draft': 9111, 'foamy': 9112, 'tiiny': 9113, 'pouffy': 9114, 'cheerleader': 9115, 'rename': 9116, 'gazillion': 9117, 'precise': 9118, 'instruct': 9119, '218': 9120, 'reinforcing': 9121, 'sought': 9122, 'creppy': 9123, 'believer': 9124, 'treading': 9125, 'commenting': 9126, 'begrudgingly': 9127, 'neath': 9128, 'estimate': 9129, 'oval': 9130, 'editing': 9131, 'cushion': 9132, 'unsolvable': 9133, 'irradiates': 9134, 'default': 9135, 'pers': 9136, 'creativity': 9137, 'hobby': 9138, 'crafty': 9139, 'scratched': 9140, 'ironically': 9141, 'embroiderey': 9142, 'companion': 9143, 'slone': 9144, 'rouge': 9145, 'bl': 9146, 'broadness': 9147, 'eliminated': 9148, '112llbs': 9149, 'familiar': 9150, 'core': 9151, 'tomato': 9152, 'strangly': 9153, 'accenting': 9154, 'blossoms': 9155, 'honeybees': 9156, 'opacity': 9157, 'shown\\r': 9158, 'unbuttons': 9159, 'drugstore': 9160, '5mo': 9161, 'cycles': 9162, 'wiast': 9163, 'warrent': 9164, 'nuetral': 9165, 'bronzey': 9166, 'toothed': 9167, 'easiest': 9168, 'suffocating': 9169, 'groin': 9170, 'pathetic': 9171, 'inaccurately': 9172, 'descided': 9173, 'instagr': 9174, 'kindest': 9175, 'homemade': 9176, 'lovel': 9177, 'restrictions': 9178, 'definitive': 9179, 'eliminate': 9180, 'yank': 9181, 'bea': 9182, 'encouraged': 9183, 'donse': 9184, 'population': 9185, 'nordstrom': 9186, 'narrowing': 9187, 'layerng': 9188, 'redoing': 9189, 'owend': 9190, 'articles': 9191, 'autumnal': 9192, 'maternityish': 9193, 'cheapish': 9194, 'wishful': 9195, 'gut': 9196, 'minimally': 9197, 'unfolding': 9198, 'drooling': 9199, 'exacerbate': 9200, 'jagged': 9201, 'unkept': 9202, 'wor': 9203, 'text': 9204, 'nips': 9205, 'patched': 9206, 'iterations': 9207, 'autobots': 9208, 'symbol': 9209, 'transformers': 9210, 'envelope': 9211, 'anthto': 9212, 'from\\r': 9213, 'boats': 9214, 'trans': 9215, 'bloomed': 9216, 'bozo': 9217, 'jungle': 9218, 'stylized': 9219, 'quadricep': 9220, 'yelling': 9221, 'mellow': 9222, 'monthly': 9223, 'theirs': 9224, 'sipper': 9225, 'reinforces': 9226, 'boarder': 9227, 'skir': 9228, 'sel': 9229, 'ou': 9230, '8yo': 9231, 'cupcake': 9232, 'sumo': 9233, 'wrestler': 9234, 'sienna': 9235, '30lbs': 9236, 'im5': 9237, 'photographers': 9238, 'daydreaming': 9239, 'honeymooning': 9240, 'cinque': 9241, 'terre': 9242, 'woke': 9243, 'outsi': 9244, 'coupon': 9245, '34dddd': 9246, 'grungy': 9247, 'michelin': 9248, 'tires': 9249, 'disappointingly': 9250, 'division': 9251, 'upholstery': 9252, 'sofa': 9253, 'spoiler': 9254, 'creepy': 9255, 'wooly': 9256, 'mammoth': 9257, 'ponder': 9258, 'proclaimed': 9259, 'kit': 9260, 'pullers': 9261, 'cleared': 9262, 'hokey': 9263, 'ummmmm': 9264, 'inching': 9265, 'curl': 9266, 'overlaid': 9267, 'frays': 9268, 'attent': 9269, 'modifications': 9270, 'girlish': 9271, 'unlaced': 9272, 'couch': 9273, 'molting': 9274, 'diss': 9275, 'intention': 9276, 'georgette': 9277, 'tuns': 9278, 'banding': 9279, 'napa': 9280, '126lbs': 9281, 'recognition': 9282, 'mont': 9283, 'blanc': 9284, 'chamomix': 9285, 'unmistakable': 9286, 'matterhorn': 9287, 'zermatt': 9288, 'seinfeld': 9289, 'policy': 9290, 'cc': 9291, 'hunchback': 9292, 'addtl': 9293, 'sooooooo': 9294, 'irr': 9295, 'lightwei': 9296, 'apex': 9297, 'smoothly': 9298, 'chocking': 9299, 'wer': 9300, 'goings': 9301, 'ballroom': 9302, '40th': 9303, 'romp': 9304, 'abroad': 9305, 'fingernails': 9306, 'clesrly': 9307, 'loopholes': 9308, 'wiill': 9309, 'skiers': 9310, 'skier': 9311, 'tenting': 9312, 'mak': 9313, 'mashing': 9314, 'drooled': 9315, 'leery': 9316, 'sprea': 9317, 'april': 9318, 'melting': 9319, 'refit': 9320, 'screaming': 9321, 'nee': 9322, 'reliably': 9323, 'bites': 9324, '0r': 9325, 'visibly': 9326, 'toxic': 9327, 'stiffly': 9328, 'pbly': 9329, 'basketball': 9330, 'detracted': 9331, 'oversizing': 9332, 'packages': 9333, 'destined': 9334, 'naught': 9335, 'qa': 9336, 'ought': 9337, 'pvc': 9338, 'lens': 9339, 'laura': 9340, 'marching': 9341, 'cloying': 9342, 'releases': 9343, 'prisoner': 9344, 'brushstroke': 9345, 'loook': 9346, 'equal': 9347, 'labeling': 9348, 'candlestick': 9349, 'ebenezer': 9350, 'scrooge': 9351, 'carol': 9352, 'shmata': 9353, 'yiddish': 9354, 'rags': 9355, 'swe': 9356, 'lowering': 9357, 'slapping': 9358, 'direct': 9359, 'froth': 9360, 'bulls': 9361, 'unfort': 9362, 'astronomical': 9363, 'whitish': 9364, 'retailerpolgie': 9365, 'not\\r': 9366, '140lb': 9367, 'suction': 9368, 'chubby': 9369, 'phase': 9370, 'deshn': 9371, 'lounges': 9372, 'strength': 9373, 'undamaged': 9374, 'student': 9375, 'jazz': 9376, 'cheapness': 9377, 'nydj': 9378, 'receives': 9379, 'overtook': 9380, 'expec': 9381, 'villa': 9382, '165lbs': 9383, 'deteriorating': 9384, 'unsewn': 9385, 'dollar': 9386, 'poochy': 9387, 'unhealthily': 9388, 'phisique': 9389, 'recoiled': 9390, 'proceed': 9391, 'cello': 9392, 'sctrachy': 9393, 'sensitivity': 9394, 'constr': 9395, 'horror': 9396, 'eliding': 9397, 'experiences': 9398, 'sheerer': 9399, 'cuddled': 9400, 'unfolded': 9401, 'reweave': 9402, 'shove': 9403, 'unrepairable': 9404, 'lb\\r': 9405, 'bode': 9406, 'assessments': 9407, 'trials': 9408, 'mila': 9409, 'hassel': 9410, 'dangerously': 9411, 'waistcoat': 9412, 'flax': 9413, 'marring': 9414, 'pas': 9415, 'rustle': 9416, 'voile': 9417, 'cinderella': 9418, 'explanation': 9419, 'waterproof': 9420, 'camping': 9421, 'remake': 9422, 'diminished': 9423, 'faith': 9424, 'mamaw': 9425, 'bedskirt': 9426, 'earned': 9427, 'ful': 9428, 'xxp': 9429, 'saves': 9430, 'system': 9431, 'anyday': 9432, 'harness': 9433, 'lusciousness': 9434, 'yumi': 9435, 'kim': 9436, 'rests': 9437, 'attrac': 9438, 'titled': 9439, 'integrated': 9440, 'lighten': 9441, 'isabella': 9442, 'sinclair': 9443, 'homespun': 9444, 'vulnerable': 9445, 'gulped': 9446, 'mon': 9447, 'google': 9448, '230lbs': 9449, 'thinning': 9450, 'connects': 9451, 'existing': 9452, 'glanced': 9453, 'airyness': 9454, 'survived': 9455, 'specified': 9456, 'bulked': 9457, 'armful': 9458, 'bangles': 9459, 'frail': 9460, 'align': 9461, 'unadjustable': 9462, 'mittens': 9463, 'swea': 9464, '108lbs': 9465, 'carnival': 9466, 'hopeless': 9467, 'saddened': 9468, 'descri': 9469, 'biokleen': 9470, 'permanent': 9471, 'wrinkley': 9472, 'curren': 9473, 'mailing': 9474, 'wrecks': 9475, 'otw': 9476, 'althetic': 9477, 'cargos': 9478, 'dyes': 9479, 'wrangle': 9480, 'goods': 9481, 'stumpified': 9482, 'refuses': 9483, 'sassing': 9484, 'symphony': 9485, 'spicy': 9486, 'mishaped': 9487, 'decade': 9488, 'insirpring': 9489, 'nordic': 9490, 'desperat': 9491, 'annual': 9492, 'switzerland': 9493, 'plasticky': 9494, 'lineba': 9495, 'compar': 9496, 'absurdly': 9497, 'bubbles': 9498, 'retail': 9499, 'woah': 9500, '1987': 9501, 'raiding': 9502, 'kate': 9503, 'olsen': 9504, 'rocking': 9505, 'whiplash': 9506, 'fleetwoods': 9507, 'photoshopped': 9508, 'discovering': 9509, 'freakishly': 9510, 'musical': 9511, '2010': 9512, 'manually': 9513, 'prego': 9514, 'jokes': 9515, 'swin': 9516, 'jodphurs': 9517, 'geez': 9518, 'corals': 9519, 'yankee': 9520, 'artfully': 9521, 'tthe': 9522, 'polyurethane': 9523, 'pu': 9524, 'ch': 9525, 'vented': 9526, '105lb': 9527, 'itsy': 9528, 'bitsy': 9529, 'bumpkin': 9530, 'orderd': 9531, 'dress\\r': 9532, 'sleeps': 9533, 'disappears': 9534, '20lb': 9535, 'donated': 9536, 'balloony': 9537, 'ornamental': 9538, 'twisting': 9539, 'casing': 9540, 'degrade': 9541, 'remaindered': 9542, 'courage': 9543, 'exaggerate': 9544, 'postur': 9545, 'detracting': 9546, 'thise': 9547, 'sheers': 9548, 'waking': 9549, 'swoop': 9550, 'talle': 9551, 'snuggy': 9552, 'nightdress': 9553, 'urged': 9554, 'slovenly': 9555, 'creased': 9556, 'downright': 9557, 'radiating': 9558, 'neony': 9559, 'highe': 9560, 'centering': 9561, 'pettie': 9562, 'orphan': 9563, 'succeed': 9564, 'entertaining': 9565, 'fridays': 9566, 'eighties': 9567, 'bends': 9568, 'pluses': 9569, 'sleevless': 9570, 'unnaturally': 9571, 'glancing': 9572, 'needlenose': 9573, 'crimped': 9574, 'satisfactory': 9575, 'dividing': 9576, 'devotee': 9577, 'midnight': 9578, 'dreadful': 9579, 'november': 9580, '18th': 9581, 'scores': 9582, 'assurance': 9583, 'nov': 9584, '24th': 9585, 'pratically': 9586, 'weirdest': 9587, 'hangy': 9588, 'jared': 9589, 'subway': 9590, 'lowcut': 9591, 'camisol': 9592, 'wildberry': 9593, 'mottled': 9594, 'horrid': 9595, 'steve': 9596, 'trek': 9597, 'villain': 9598, 'ast': 9599, 'waaaaaaaay': 9600, 'millimeter': 9601, 'collecting': 9602, 'seatbelt': 9603, 'wether': 9604, 'pitiful': 9605, 'nighty': 9606, 'barley': 9607, 'unavoidable': 9608, 'glimpse': 9609, 'viewable': 9610, 'disrupts': 9611, 'maiden': 9612, 'yuk': 9613, 'elephant': 9614, 'rippling': 9615, 'broach': 9616, 'dissappointed': 9617, 'inspecting': 9618, 'domino': 9619, 'purch': 9620, 'ignore': 9621, 'matador': 9622, 'wight': 9623, 'toll': 9624, 'wnat': 9625, 'hams': 9626, 'functioning': 9627, 'cancelled': 9628, 'theme': 9629, 'recurve': 9630, '1993': 9631, 'jiggles': 9632, 'jiggling': 9633, 'accord': 9634, 'veered': 9635, 'surrounded': 9636, 'brethren': 9637, 'positing': 9638, 'minority': 9639, 'bue': 9640, 'frumpiness': 9641, 'unimpressive': 9642, 'renatkable': 9643, 'amt': 9644, 'masking': 9645, 'smack': 9646, 'dab': 9647, 'nonuniform': 9648, 'staged': 9649, 'surplus': 9650, 'victim': 9651, 'substituting': 9652, 'horrors': 9653, 'sweatshirty': 9654, 'barrel': 9655, 'hunch': 9656, 'students': 9657, 'ridge': 9658, 'graze': 9659, 'heal': 9660, 'shlumpy': 9661, 'kedia': 9662, 'tk': 9663, 'quadruplets': 9664, 'oompaloompa': 9665, 'qualify': 9666, 'dice': 9667, '32s': 9668, 'undnerneath': 9669, 'baggie': 9670, 'unbreathable': 9671, 'personalities': 9672, 'gawdy': 9673, 'retailerpolgies': 9674, 'photography': 9675, 'central': 9676, 'task': 9677, 'burning': 9678, 'lovey': 9679, 'straightened': 9680, 'scrunched': 9681, 'harsher': 9682, 'sub': 9683, 'offwhite': 9684, 'boxer': 9685, 'centers': 9686, 'tending': 9687, 'residual': 9688, 'necks': 9689, 'rain': 9690, 'hindsight': 9691, 'asylum': 9692, 'ethnic': 9693, 'antrhopologie': 9694, 'especailly': 9695, 'lovelier': 9696, 'latte': 9697, 'naomi': 9698, 'blog': 9699, 'taza': 9700, '36e': 9701, 'dial': 9702, '1990': 9703, 'apocolypse': 9704, 'imminent': 9705, 'accomplish': 9706, 'jodhpurs': 9707, 'miserable': 9708, 'redyed': 9709, 'recomend': 9710, 'immaculate': 9711, 'slept': 9712, 'monthe': 9713, 'marigold': 9714, 'abut': 9715, 'intrinsic': 9716, 'attracts': 9717, 'sprang': 9718, 'colours': 9719, 'log': 9720, 'wimpy': 9721, 'blousier': 9722, 'reef': 9723, 'explaining': 9724, 'shifting': 9725, 'informed': 9726, 'paneling': 9727, 'hps': 9728, 'grading': 9729, 'boxines': 9730, 'raggy': 9731, 'cury': 9732, 'ballooning': 9733, 'gargantuan': 9734, 'flags': 9735, 'observed': 9736, 'floating': 9737, 'installing': 9738, 'consuming': 9739, 'doily': 9740, 'dive': 9741, 'loosed': 9742, 'ambitious': 9743, 'attic': 9744, 'unattached': 9745, 'protruded': 9746, 'periods': 9747, 'suspicion': 9748, 'irritate': 9749, 'contest': 9750, '38dds': 9751, '29p': 9752, 'modcloth': 9753, '20x': 9754, 'inferior': 9755, 'egg': 9756, 'wisely': 9757, '60th': 9758, 'batty': 9759, 'billowly': 9760, 'wetting': 9761, 'smelling': 9762, 'gasoline': 9763, 'bagger': 9764, 'delettas': 9765, 'concrete': 9766, 'wall': 9767, 'perso': 9768, 'jegging': 9769, 'restricted': 9770, 'updated': 9771, 'sickly': 9772, 'dreamed': 9773, 'squirrel': 9774, 'crepey': 9775, 'neccissarily': 9776, 'craftsman': 9777, 'unravelling': 9778, 'searing': 9779, 'chain': 9780, 'placements': 9781, 'portray': 9782, 'sorbet': 9783, 'slippery': 9784, 'oversight': 9785, 'gravity': 9786, 'industry': 9787, '16s': 9788, 'wiskering': 9789, 'toss': 9790, 'showpiece': 9791, 'advertise': 9792, 'turqoise': 9793, 'rush': 9794, 'agreement': 9795, 'bronzy': 9796, 'inconvenient': 9797, '96': 9798, 'gumby': 9799, 'cartoon': 9800, 'gems': 9801, '13th': 9802, 'goof': 9803, '3d': 9804, 'cycl': 9805, 'untanned': 9806, 'acknowledge': 9807, 'mixes': 9808, 'invariably': 9809, 'digi': 9810, 'incomplete': 9811, 'buto': 9812, 'kahki': 9813, 'stumps': 9814, 'discolor': 9815, 'madewell': 9816, 'smushed': 9817, 'matte': 9818, 'highlighted': 9819, 'stinks': 9820, 'skews': 9821, 'remains': 9822, 'slighly': 9823, 'posed': 9824, 'creater': 9825, 'repeats': 9826, 'purposeful': 9827, 'nicked': 9828, 'xxxxs': 9829, 'prima': 9830, 'flopped': 9831, 'exorbitant': 9832, 'charges': 9833, 'meantime': 9834, 'dol': 9835, 'scated': 9836, 'chores': 9837, 'resting': 9838, 'wishlist': 9839, 'mushroom': 9840, 'neighborhood': 9841, 'bottomless': 9842, 'loungers': 9843, 'extensive': 9844, 'atypical': 9845, 'attempts': 9846, 'annoyingly': 9847, 'undefined': 9848, 'disappointedly': 9849, 'redo': 9850, 'imagin': 9851, 'snuggie': 9852, 'abruptly': 9853, 'bellybutton': 9854, 'fins': 9855, 'stalking': 9856, 'miraculously': 9857, 'motiff': 9858, 'mistakenly': 9859, 'memorials': 9860, 'mainstreamed': 9861, 'flabbergasted': 9862, 'sortof': 9863, 'meduim': 9864, 'dazzled': 9865, 'import': 9866, 'silves': 9867, 'weighed': 9868, 'intimates': 9869, 'bralettes': 9870, 'sharkbite': 9871, 'equals': 9872, 'unfold': 9873, 'regained': 9874, 'fate': 9875, 'awaiting': 9876, 'reliable': 9877, 'cardinal': 9878, 'examination': 9879, 'sewer': 9880, 'sewers': 9881, 'curvey': 9882, 'judy': 9883, 'jetson': 9884, 'starch': 9885, 'disintegrating': 9886, 'discard': 9887, 'giantess': 9888, 'hypos': 9889, 'fantasia': 9890, 'mos': 9891, 'father': 9892, 'polyestery': 9893, 'tinselly': 9894, 'beamed': 9895, 'alaska': 9896, 'arctic': 9897, 'chloe': 9898, 'sevigny': 9899, 'offensive': 9900, 'lineman': 9901, 'shaking': 9902, 'upsetting': 9903, 'tex': 9904, 'trickier': 9905, 'hardware': 9906, 'frigid': 9907, 'protruding': 9908, 'defectiv': 9909, 'mermaid': 9910, 'hoisted': 9911, 'everthing': 9912, 'cones': 9913, 'poured': 9914, 'disastrously': 9915, 'clasped': 9916, 'instuctions': 9917, 'dryable': 9918, 'goodwill': 9919, 'woolite': 9920, 'directed': 9921, 'nightshirt': 9922, 'rippled': 9923, 'readjustment': 9924, 'presses': 9925, 'supervisor': 9926, 'captain': 9927, 'saddle': 9928, 'smocks': 9929, 'coated': 9930, 'faire': 9931, 'backless': 9932, 'outwards': 9933, 'embarrassed': 9934, 'webbed': 9935, 'cro': 9936, 'buttt': 9937, 'shelves': 9938, 'barnyard': 9939, 'fiance': 9940, 'vain': 9941, 'starched': 9942, 'mens': 9943, 'conscience': 9944, 'screamed': 9945, 'returnable': 9946, 'contri': 9947, 'disgusted': 9948, 'difficu': 9949, 'meleri': 9950, 'accepts': 9951, 'couldve': 9952, 'numerically': 9953, 'suuuuper': 9954, 'grossly': 9955, 'crafting': 9956, 'toy': 9957, 'loom': 9958, 'amelia': 9959, 'bedelia': 9960, 'whacky': 9961, 'outrageous': 9962, 'views': 9963, 'destroys': 9964, 'clowns': 9965, 'pe': 9966, 'relazation': 9967, 'maintained': 9968, 'restretched': 9969, 'repackaged': 9970, 'canopy': 9971, 'obscured': 9972, 'purportedly': 9973, 'selves': 9974, 'slack': 9975, 'suffer': 9976, 'uhm': 9977, 'waaaaaay': 9978, 'swapping': 9979, 'belling': 9980, 'phot': 9981, '228': 9982, 'buttock': 9983, 'scraps': 9984, 'flour': 9985, 'runway': 9986, 'reject': 9987, 'shaggy': 9988, 'contender': 9989, 'disppaointed': 9990, 'whte': 9991, 'pr': 9992, '107lb': 9993, 'risking': 9994, 'smear': 9995, 'ut': 9996, 'inspection': 9997, 'recreate': 9998, 'delicateness': 9999, 'boney': 10000, 'ugliest': 10001, 'antebellum': 10002, 'depictes': 10003, 'mismatch': 10004, 'unsee': 10005, 'reminder': 10006, 'insult': 10007, 'frocks': 10008, 'bountiful': 10009, 'warped': 10010, 'befo': 10011, 'misplaced': 10012, 'dragonflies': 10013, 'swept': 10014, 'february': 10015, 'backpacker': 10016, 'levi': 10017, 'proofed': 10018, 'mutes': 10019, 'deposited': 10020, 'linty': 10021, 'particle': 10022, 'payed': 10023, 'napkin': 10024, 'craft': 10025, 'ironic': 10026, 'trally': 10027, 'col': 10028, 'leaking': 10029, 'unbelievable': 10030, 'handwashed': 10031, 'pampered': 10032, 'locate': 10033, 'satisfactorily': 10034, 'flocked': 10035, 'undistinguished': 10036, 'loveee': 10037, 'suri': 10038, 'polyamide': 10039, 'merino': 10040, 'connected': 10041, 'md': 10042, 'rethinking': 10043, 'masses': 10044, 'equipped': 10045, 'crocheting': 10046, 'musually': 10047, '2007': 10048, 'big\\r': 10049, 'stiff\\r': 10050, 'strenuous': 10051, 'unfixable': 10052, 'gambled': 10053, 'unhemmed': 10054, 'forms': 10055, 'slant': 10056, 'polyster': 10057, 'team': 10058, 'fathom': 10059, 'impersonator': 10060, 'wonders': 10061, 'greatness': 10062, 'circumferentially': 10063, 'strawberry': 10064, 'shortcake': 10065, 'dizzying': 10066, 'growths': 10067, 'resent': 10068, 'beigey': 10069, 'spanks': 10070, 'blazing': 10071, 'shake': 10072, 'delineator': 10073, 'hysterical': 10074, 'bee': 10075, 'sheeny': 10076, 'flea': 10077, 'restretching': 10078, 'stretchable': 10079, 'poodles': 10080, 'estatic': 10081, 'knockout': 10082, 'sumer': 10083, 'preggers': 10084, 'amost': 10085, 'unbearable': 10086, 'rediculous': 10087, 'xxxxxxxxs': 10088, 'production': 10089, 'categories': 10090, 'smudged': 10091, 'fixable': 10092, 'scramble': 10093, 'mottle': 10094, 'overcast': 10095, 'sucked': 10096, 'funeral': 10097, 'disintegrates': 10098, 'sarong': 10099, 'miniskirt': 10100, 'resew': 10101, 'bran': 10102, 'andheavy': 10103, 'grand': 10104, 'chagrin': 10105, 'hurdle': 10106, 'mattress': 10107, 'prr': 10108, 'shallow': 10109, 'dumped': 10110, 'specious': 10111, 'allot': 10112, 'everywhe': 10113, 'yellowed': 10114, 'newspapers': 10115, 'acco': 10116, 'tory': 10117, 'burch': 10118, 'unprofessionally': 10119, 'pilly': 10120, 'enormously': 10121, 'unsuccessful': 10122, 'reed': 10123, 'snowstorm': 10124, 'foldable': 10125, 'reflective': 10126, 'indecently': 10127, 'hugh': 10128, 'spun': 10129, 'throu': 10130, 'na': 10131, 'nightgowns': 10132, 'zoolander': 10133, 'derelict': 10134, 'campaign': 10135, 'latest': 10136, 'dissapointment': 10137, 'formula': 10138, 'chalked': 10139, 'dripped': 10140, 'washcloth': 10141, 'spills': 10142, 'colorless': 10143, 'pony': 10144, 'goody': 10145, 'credit': 10146, 'verses': 10147, 'xxxxxs': 10148, 'exists': 10149, 'leap': 10150, '3xxxl': 10151, 'scenario': 10152, 'has\\r': 10153, 'as\\r': 10154, 'fabiric': 10155, 'utilitarian': 10156, 'filthy': 10157, 'wasting': 10158, 'childsize': 10159, 'buttonhole': 10160, 'depressing': 10161, 'foil': 10162, 'discarded': 10163, 'whyyyyyyyyyyy': 10164, 'trapezoid': 10165, 'produced': 10166, 'maternit': 10167, 'deff': 10168, 'slumps': 10169, 'haul': 10170, 'wren': 10171, 'pressure': 10172, 'factory': 10173, 'childhood': 10174, 'cars': 10175, 'chamois': 10176, 'shammy': 10177, 'soap': 10178, 'cur': 10179, 'tween': 10180, 'girlie': 10181, 'strangled': 10182, 'expedited': 10183, 'batches': 10184, 'puckery': 10185, 'f21': 10186, 'horrific': 10187, 'swimmingly': 10188, 'itlooks': 10189, 'farmhand': 10190, 'zombie': 10191, 'benefitted': 10192, 'straightforward': 10193, 'checkers': 10194, 'repurpose': 10195, 'fupa': 10196, 'contribute': 10197, 'wretched': 10198, 'passable': 10199, 'inbox': 10200, 'condensation': 10201, 'drips': 10202, 'gel': 10203, 'luxury': 10204, 'escape': 10205, 'serving': 10206, 'throwaway': 10207, 'miley': 10208, 'cirus': 10209, 'bloop': 10210, 'continually': 10211, 'soared': 10212, 'adults': 10213, 'curating': 10214, 'straighten': 10215, 'report': 10216, 'messes': 10217, 'clerks': 10218, 'shoul': 10219, 'impossibly': 10220, 'cracking': 10221, 'addressed': 10222, 'glitch': 10223, 'utility': 10224, 'nudist': 10225, 'vey': 10226, 'enoug': 10227, 'fans': 10228, 'behold': 10229, 'smurf': 10230, 'xtra': 10231, 'january': 10232, 'excelle': 10233, 'contempos': 10234, 'lampshades': 10235, 'storage': 10236, 'cheep': 10237, 'definelty': 10238, 'poky': 10239, 'fourth': 10240, 'appliques': 10241, 'globs': 10242, 'twenty': 10243, 'quarter': 10244, 'agitates': 10245, 'pig': 10246, 'companies': 10247, 'rash': 10248, 'wering': 10249, 'whips': 10250, 'steadly': 10251, 'pieties': 10252, 'concensus': 10253, 'invert': 10254, 'ingnore': 10255, 'breakthable': 10256, 'clarification': 10257, 'corporate': 10258, 'rent': 10259, 'homebase': 10260, 'webs': 10261, '55': 10262, 'sartorial': 10263, 'splendor': 10264, 'danced': 10265, 'posts': 10266, 'dreams': 10267, 'ware': 10268, 'misrepresents': 10269, 'inseams': 10270, 'oddest': 10271, 'bunchiness': 10272, 'riiiiiiiiiip': 10273, 'readying': 10274, 'embrace': 10275, '5th': 10276, '1970s': 10277, 'canter': 10278, 'branded': 10279, 'rava': 10280, 'swishing': 10281, 'magic': 10282, 'merchandise': 10283, 'cashier': 10284, 'utter': 10285, 'bruises': 10286, 'ending': 10287, 'jaggedly': 10288, 'haphazardly': 10289}\n",
            "10289\n"
          ]
        }
      ],
      "source": [
        "word_ix = t.word_index\n",
        "print(word_ix)\n",
        "print(len(word_ix))"
      ]
    },
    {
      "cell_type": "code",
      "execution_count": 34,
      "metadata": {
        "id": "AvWzzSretQXf"
      },
      "outputs": [],
      "source": [
        "# Alumno: Convertir las palabras/tokens a números"
      ]
    },
    {
      "cell_type": "code",
      "source": [
        "sequence_tokens = t.texts_to_sequences(vect)"
      ],
      "metadata": {
        "id": "Cgf3uHljG7Qd"
      },
      "execution_count": 35,
      "outputs": []
    },
    {
      "cell_type": "code",
      "source": [
        "print(sequence_tokens[0][:10])"
      ],
      "metadata": {
        "colab": {
          "base_uri": "https://localhost:8080/"
        },
        "id": "rNHFGg5jHFTt",
        "outputId": "ed1b378a-94de-4991-881a-3c4dce9ea820"
      },
      "execution_count": 36,
      "outputs": [
        {
          "output_type": "stream",
          "name": "stdout",
          "text": [
            "[2, 31, 7, 27, 1, 168, 30, 864, 10, 1]\n"
          ]
        }
      ]
    },
    {
      "cell_type": "code",
      "execution_count": 37,
      "metadata": {
        "id": "za73M5SRtbrP"
      },
      "outputs": [],
      "source": [
        "# Alumno: Determinar cual es la oración más larga"
      ]
    },
    {
      "cell_type": "code",
      "source": [
        "max(len(s) for s in sequence_tokens)"
      ],
      "metadata": {
        "colab": {
          "base_uri": "https://localhost:8080/"
        },
        "id": "a0oY8kajQnBm",
        "outputId": "7e2f0a77-ea03-469a-c50f-6bac77c976b4"
      },
      "execution_count": 38,
      "outputs": [
        {
          "output_type": "execute_result",
          "data": {
            "text/plain": [
              "113"
            ]
          },
          "metadata": {},
          "execution_count": 38
        }
      ]
    },
    {
      "cell_type": "code",
      "execution_count": 39,
      "metadata": {
        "id": "oCkO9Wc9tls1"
      },
      "outputs": [],
      "source": [
        "# Alumno: Realizar padding de las sentencias al mismo tamaño\n",
        "# tomando de referencia la máxima sentencia\n",
        "from tensorflow.keras.utils import pad_sequences\n",
        "maxlen = 113"
      ]
    },
    {
      "cell_type": "code",
      "source": [
        "p = pad_sequences(\n",
        "    sequence_tokens,\n",
        "    maxlen=maxlen,\n",
        "    dtype='int32',\n",
        "    padding='pre',\n",
        "    truncating='pre',\n",
        "    value=0.0\n",
        ")"
      ],
      "metadata": {
        "id": "mRcp9TBLEOhd"
      },
      "execution_count": 40,
      "outputs": []
    },
    {
      "cell_type": "code",
      "execution_count": 41,
      "metadata": {
        "id": "kGHHabVdt_aa"
      },
      "outputs": [],
      "source": [
        "# Alumno: Observar las dimensiones de la variable input"
      ]
    },
    {
      "cell_type": "code",
      "source": [
        "p.shape"
      ],
      "metadata": {
        "colab": {
          "base_uri": "https://localhost:8080/"
        },
        "id": "S4wFVK2bJOWy",
        "outputId": "397fdc06-8fc5-4e5a-859b-65b285b6241e"
      },
      "execution_count": 42,
      "outputs": [
        {
          "output_type": "execute_result",
          "data": {
            "text/plain": [
              "(10193, 113)"
            ]
          },
          "metadata": {},
          "execution_count": 42
        }
      ]
    },
    {
      "cell_type": "code",
      "execution_count": 43,
      "metadata": {
        "id": "llVM-tzQo9_F"
      },
      "outputs": [],
      "source": [
        "# Alumno tomar la columna rating y alcemacenarla en una variable \"y\" transformada a oneHotEncoding\n",
        "# Su shape debe ser equivalente la cantidad de rows del corpus y a la cantidad\n",
        "# de clases que se deseen predecir (en este ejemplo son 5)"
      ]
    },
    {
      "cell_type": "code",
      "source": [
        "y = to_categorical(df_data_reviews['Rating'].values)\n",
        "print(y.shape)"
      ],
      "metadata": {
        "colab": {
          "base_uri": "https://localhost:8080/"
        },
        "id": "tTtTkbEEREUm",
        "outputId": "d1239383-0b03-44e7-b4e0-19afe9ca6391"
      },
      "execution_count": 44,
      "outputs": [
        {
          "output_type": "stream",
          "name": "stdout",
          "text": [
            "(10193, 5)\n"
          ]
        }
      ]
    },
    {
      "cell_type": "code",
      "execution_count": 45,
      "metadata": {
        "id": "Rmz9A6n4uK4V"
      },
      "outputs": [],
      "source": [
        "# Alumno: Dividir los datos en train y test\n",
        "from sklearn.model_selection import train_test_split"
      ]
    },
    {
      "cell_type": "code",
      "source": [
        "X_train, X_test, y_train, y_test = train_test_split(p, y, test_size=0.2, random_state=42)"
      ],
      "metadata": {
        "id": "U4f7OAtZRsKq"
      },
      "execution_count": 46,
      "outputs": []
    },
    {
      "cell_type": "code",
      "execution_count": 47,
      "metadata": {
        "id": "EcDPlhEouQ9E"
      },
      "outputs": [],
      "source": [
        "# Alumno: determinar la dimensiones de entrada y salida"
      ]
    },
    {
      "cell_type": "code",
      "source": [
        "in_shape = X_train.shape[1] # max input sentence len\n",
        "out_shape = 5 # multyclass classification\n",
        "print(\"in_shape\", in_shape, \", out_shape\", out_shape)"
      ],
      "metadata": {
        "colab": {
          "base_uri": "https://localhost:8080/"
        },
        "id": "H6Cp8q_zR3Yj",
        "outputId": "8b9cf20e-a913-40a8-b3a1-01531ec08363"
      },
      "execution_count": 48,
      "outputs": [
        {
          "output_type": "stream",
          "name": "stdout",
          "text": [
            "in_shape 113 , out_shape 5\n"
          ]
        }
      ]
    },
    {
      "cell_type": "markdown",
      "metadata": {
        "id": "NpbQHExL6OTu"
      },
      "source": [
        "### 2 - Entrenar el modelo con Embeddings + LSTM"
      ]
    },
    {
      "cell_type": "code",
      "execution_count": 49,
      "metadata": {
        "id": "NUkuWBsM6cx3"
      },
      "outputs": [],
      "source": [
        "# Alumno: Entrene su modelo con LSTM entrenando sus propios embeddings\n",
        "# o utilizando embeddings pre-entrenados.\n",
        "from keras.layers import LSTM\n",
        "from keras.layers import Embedding\n",
        "from keras.layers import Dropout"
      ]
    },
    {
      "cell_type": "code",
      "source": [
        "model = Sequential()\n",
        "# input_dim = vocab_size (max n_words)\n",
        "# input_length = setencias con padding a 200\n",
        "# output_dim = 50 --> crear embeddings de tamaño 50\n",
        "model.add(Embedding(input_dim=vocab_size+1, output_dim=50, input_length=in_shape))\n",
        "model.add(LSTM(units=64, return_sequences=True))\n",
        "model.add(Dropout(0.2))\n",
        "model.add(LSTM(units=64)) # La última capa LSTM no lleva return_sequences\n",
        "\n",
        "model.add(Dense(units=128, activation='relu'))\n",
        "model.add(Dropout(rate=0.2))\n",
        "model.add(Dense(units=out_shape, activation='softmax'))\n",
        "\n",
        "model.compile(optimizer=\"adam\",\n",
        "              loss='categorical_crossentropy',\n",
        "              metrics=['accuracy'])\n",
        "\n",
        "model.summary()"
      ],
      "metadata": {
        "colab": {
          "base_uri": "https://localhost:8080/"
        },
        "id": "3xGq54cmSM2e",
        "outputId": "c922da9a-d5f8-4bb1-8316-3cabd41f3ba2"
      },
      "execution_count": 50,
      "outputs": [
        {
          "output_type": "stream",
          "name": "stdout",
          "text": [
            "Model: \"sequential\"\n",
            "_________________________________________________________________\n",
            " Layer (type)                Output Shape              Param #   \n",
            "=================================================================\n",
            " embedding (Embedding)       (None, 113, 50)           100050    \n",
            "                                                                 \n",
            " lstm (LSTM)                 (None, 113, 64)           29440     \n",
            "                                                                 \n",
            " dropout (Dropout)           (None, 113, 64)           0         \n",
            "                                                                 \n",
            " lstm_1 (LSTM)               (None, 64)                33024     \n",
            "                                                                 \n",
            " dense (Dense)               (None, 128)               8320      \n",
            "                                                                 \n",
            " dropout_1 (Dropout)         (None, 128)               0         \n",
            "                                                                 \n",
            " dense_1 (Dense)             (None, 5)                 645       \n",
            "                                                                 \n",
            "=================================================================\n",
            "Total params: 171,479\n",
            "Trainable params: 171,479\n",
            "Non-trainable params: 0\n",
            "_________________________________________________________________\n"
          ]
        }
      ]
    },
    {
      "cell_type": "code",
      "source": [
        "from keras.utils.vis_utils import plot_model\n",
        "plot_model(model, to_file='model_plot.png', show_shapes=True, show_layer_names=True)"
      ],
      "metadata": {
        "colab": {
          "base_uri": "https://localhost:8080/",
          "height": 865
        },
        "id": "Wfv9f81VSb2k",
        "outputId": "b82ea36e-deee-46b4-eedd-c41aa55fb320"
      },
      "execution_count": 51,
      "outputs": [
        {
          "output_type": "execute_result",
          "data": {
            "image/png": "[encoded data removed]",
            "text/plain": [
              "<IPython.core.display.Image object>"
            ]
          },
          "metadata": {},
          "execution_count": 51
        }
      ]
    },
    {
      "cell_type": "code",
      "source": [
        "hist = model.fit(X_train, y_train, epochs=500, validation_split=0.2)"
      ],
      "metadata": {
        "colab": {
          "base_uri": "https://localhost:8080/"
        },
        "id": "fHCRM6JLShGw",
        "outputId": "0022a509-4d18-4b52-b3e4-9c324de7609b"
      },
      "execution_count": 52,
      "outputs": [
        {
          "output_type": "stream",
          "name": "stdout",
          "text": [
            "Epoch 1/500\n",
            "204/204 [==============================] - 43s 164ms/step - loss: 1.3780 - accuracy: 0.3658 - val_loss: 1.2343 - val_accuracy: 0.4445\n",
            "Epoch 2/500\n",
            "204/204 [==============================] - 32s 155ms/step - loss: 1.1632 - accuracy: 0.4783 - val_loss: 1.2010 - val_accuracy: 0.4641\n",
            "Epoch 3/500\n",
            "204/204 [==============================] - 35s 171ms/step - loss: 1.0681 - accuracy: 0.5251 - val_loss: 1.1916 - val_accuracy: 0.4752\n",
            "Epoch 4/500\n",
            "204/204 [==============================] - 37s 179ms/step - loss: 1.0045 - accuracy: 0.5557 - val_loss: 1.1938 - val_accuracy: 0.4825\n",
            "Epoch 5/500\n",
            "204/204 [==============================] - 33s 162ms/step - loss: 0.9376 - accuracy: 0.5996 - val_loss: 1.2263 - val_accuracy: 0.4709\n",
            "Epoch 6/500\n",
            "204/204 [==============================] - 32s 158ms/step - loss: 0.8824 - accuracy: 0.6298 - val_loss: 1.3626 - val_accuracy: 0.4488\n",
            "Epoch 7/500\n",
            "204/204 [==============================] - 32s 159ms/step - loss: 0.8255 - accuracy: 0.6581 - val_loss: 1.3756 - val_accuracy: 0.4629\n",
            "Epoch 8/500\n",
            "204/204 [==============================] - 32s 157ms/step - loss: 0.7695 - accuracy: 0.6827 - val_loss: 1.3676 - val_accuracy: 0.4690\n",
            "Epoch 9/500\n",
            "204/204 [==============================] - 32s 159ms/step - loss: 0.7271 - accuracy: 0.6981 - val_loss: 1.4311 - val_accuracy: 0.4574\n",
            "Epoch 10/500\n",
            "204/204 [==============================] - 32s 158ms/step - loss: 0.6635 - accuracy: 0.7402 - val_loss: 1.6840 - val_accuracy: 0.4605\n",
            "Epoch 11/500\n",
            "204/204 [==============================] - 32s 159ms/step - loss: 0.6246 - accuracy: 0.7493 - val_loss: 1.6516 - val_accuracy: 0.4359\n",
            "Epoch 12/500\n",
            "204/204 [==============================] - 33s 162ms/step - loss: 0.5711 - accuracy: 0.7782 - val_loss: 1.7938 - val_accuracy: 0.4408\n",
            "Epoch 13/500\n",
            "204/204 [==============================] - 32s 159ms/step - loss: 0.5220 - accuracy: 0.8022 - val_loss: 1.9041 - val_accuracy: 0.4365\n",
            "Epoch 14/500\n",
            "204/204 [==============================] - 32s 159ms/step - loss: 0.4794 - accuracy: 0.8226 - val_loss: 2.1667 - val_accuracy: 0.4323\n",
            "Epoch 15/500\n",
            "204/204 [==============================] - 32s 157ms/step - loss: 0.4403 - accuracy: 0.8366 - val_loss: 2.1325 - val_accuracy: 0.4506\n",
            "Epoch 16/500\n",
            "204/204 [==============================] - 32s 158ms/step - loss: 0.4113 - accuracy: 0.8476 - val_loss: 2.2288 - val_accuracy: 0.4451\n",
            "Epoch 17/500\n",
            "204/204 [==============================] - 32s 157ms/step - loss: 0.3787 - accuracy: 0.8649 - val_loss: 2.4532 - val_accuracy: 0.4353\n",
            "Epoch 18/500\n",
            "204/204 [==============================] - 32s 158ms/step - loss: 0.3422 - accuracy: 0.8783 - val_loss: 2.5892 - val_accuracy: 0.4390\n",
            "Epoch 19/500\n",
            "204/204 [==============================] - 33s 163ms/step - loss: 0.3256 - accuracy: 0.8839 - val_loss: 2.5782 - val_accuracy: 0.4347\n",
            "Epoch 20/500\n",
            "204/204 [==============================] - 32s 158ms/step - loss: 0.2979 - accuracy: 0.8954 - val_loss: 2.7471 - val_accuracy: 0.4255\n",
            "Epoch 21/500\n",
            "204/204 [==============================] - 32s 158ms/step - loss: 0.2497 - accuracy: 0.9126 - val_loss: 3.0316 - val_accuracy: 0.4359\n",
            "Epoch 22/500\n",
            "204/204 [==============================] - 32s 157ms/step - loss: 0.2340 - accuracy: 0.9210 - val_loss: 3.2262 - val_accuracy: 0.4433\n",
            "Epoch 23/500\n",
            "204/204 [==============================] - 32s 157ms/step - loss: 0.2225 - accuracy: 0.9279 - val_loss: 3.1907 - val_accuracy: 0.4157\n",
            "Epoch 24/500\n",
            "204/204 [==============================] - 32s 157ms/step - loss: 0.1799 - accuracy: 0.9404 - val_loss: 3.5873 - val_accuracy: 0.4267\n",
            "Epoch 25/500\n",
            "204/204 [==============================] - 32s 158ms/step - loss: 0.2003 - accuracy: 0.9301 - val_loss: 3.3302 - val_accuracy: 0.4280\n",
            "Epoch 26/500\n",
            "204/204 [==============================] - 32s 156ms/step - loss: 0.1698 - accuracy: 0.9448 - val_loss: 3.5750 - val_accuracy: 0.4341\n",
            "Epoch 27/500\n",
            "204/204 [==============================] - 33s 163ms/step - loss: 0.1848 - accuracy: 0.9347 - val_loss: 3.6154 - val_accuracy: 0.4194\n",
            "Epoch 28/500\n",
            "204/204 [==============================] - 32s 156ms/step - loss: 0.1735 - accuracy: 0.9408 - val_loss: 3.5961 - val_accuracy: 0.4273\n",
            "Epoch 29/500\n",
            "204/204 [==============================] - 32s 156ms/step - loss: 0.1393 - accuracy: 0.9594 - val_loss: 3.7290 - val_accuracy: 0.4255\n",
            "Epoch 30/500\n",
            "204/204 [==============================] - 32s 157ms/step - loss: 0.1177 - accuracy: 0.9592 - val_loss: 3.9400 - val_accuracy: 0.4145\n",
            "Epoch 31/500\n",
            "204/204 [==============================] - 32s 157ms/step - loss: 0.1505 - accuracy: 0.9480 - val_loss: 3.5749 - val_accuracy: 0.4139\n",
            "Epoch 32/500\n",
            "204/204 [==============================] - 32s 158ms/step - loss: 0.1146 - accuracy: 0.9623 - val_loss: 3.8998 - val_accuracy: 0.4341\n",
            "Epoch 33/500\n",
            "204/204 [==============================] - 32s 158ms/step - loss: 0.0971 - accuracy: 0.9661 - val_loss: 4.2381 - val_accuracy: 0.4151\n",
            "Epoch 34/500\n",
            "204/204 [==============================] - 33s 160ms/step - loss: 0.1078 - accuracy: 0.9647 - val_loss: 4.2403 - val_accuracy: 0.4200\n",
            "Epoch 35/500\n",
            "204/204 [==============================] - 33s 164ms/step - loss: 0.1078 - accuracy: 0.9627 - val_loss: 4.1138 - val_accuracy: 0.4280\n",
            "Epoch 36/500\n",
            "204/204 [==============================] - 32s 158ms/step - loss: 0.0897 - accuracy: 0.9707 - val_loss: 4.0844 - val_accuracy: 0.4292\n",
            "Epoch 37/500\n",
            "204/204 [==============================] - 32s 159ms/step - loss: 0.0843 - accuracy: 0.9738 - val_loss: 4.3767 - val_accuracy: 0.4298\n",
            "Epoch 38/500\n",
            "204/204 [==============================] - 32s 158ms/step - loss: 0.0884 - accuracy: 0.9707 - val_loss: 4.3766 - val_accuracy: 0.4114\n",
            "Epoch 39/500\n",
            "204/204 [==============================] - 32s 159ms/step - loss: 0.0881 - accuracy: 0.9684 - val_loss: 4.2861 - val_accuracy: 0.4126\n",
            "Epoch 40/500\n",
            "204/204 [==============================] - 32s 158ms/step - loss: 0.0966 - accuracy: 0.9681 - val_loss: 4.3816 - val_accuracy: 0.4175\n",
            "Epoch 41/500\n",
            "204/204 [==============================] - 32s 158ms/step - loss: 0.0705 - accuracy: 0.9756 - val_loss: 4.4922 - val_accuracy: 0.4163\n",
            "Epoch 42/500\n",
            "204/204 [==============================] - 32s 158ms/step - loss: 0.0645 - accuracy: 0.9802 - val_loss: 4.4498 - val_accuracy: 0.4292\n",
            "Epoch 43/500\n",
            "204/204 [==============================] - 33s 163ms/step - loss: 0.0451 - accuracy: 0.9859 - val_loss: 4.9701 - val_accuracy: 0.4200\n",
            "Epoch 44/500\n",
            "204/204 [==============================] - 32s 157ms/step - loss: 0.0561 - accuracy: 0.9811 - val_loss: 4.8181 - val_accuracy: 0.4292\n",
            "Epoch 45/500\n",
            "204/204 [==============================] - 32s 157ms/step - loss: 0.0894 - accuracy: 0.9670 - val_loss: 4.4410 - val_accuracy: 0.4096\n",
            "Epoch 46/500\n",
            "204/204 [==============================] - 32s 156ms/step - loss: 0.0846 - accuracy: 0.9744 - val_loss: 4.4516 - val_accuracy: 0.4053\n",
            "Epoch 47/500\n",
            "204/204 [==============================] - 32s 157ms/step - loss: 0.0771 - accuracy: 0.9769 - val_loss: 4.3654 - val_accuracy: 0.4083\n",
            "Epoch 48/500\n",
            "204/204 [==============================] - 32s 158ms/step - loss: 0.0560 - accuracy: 0.9804 - val_loss: 4.6167 - val_accuracy: 0.4218\n",
            "Epoch 49/500\n",
            "204/204 [==============================] - 32s 157ms/step - loss: 0.0499 - accuracy: 0.9839 - val_loss: 4.7953 - val_accuracy: 0.3985\n",
            "Epoch 50/500\n",
            "204/204 [==============================] - 32s 157ms/step - loss: 0.0443 - accuracy: 0.9859 - val_loss: 4.9208 - val_accuracy: 0.4231\n",
            "Epoch 51/500\n",
            "204/204 [==============================] - 33s 162ms/step - loss: 0.0512 - accuracy: 0.9821 - val_loss: 4.8004 - val_accuracy: 0.4175\n",
            "Epoch 52/500\n",
            "204/204 [==============================] - 32s 158ms/step - loss: 0.0378 - accuracy: 0.9868 - val_loss: 5.0816 - val_accuracy: 0.4255\n",
            "Epoch 53/500\n",
            "204/204 [==============================] - 32s 159ms/step - loss: 0.0319 - accuracy: 0.9900 - val_loss: 5.3720 - val_accuracy: 0.4151\n",
            "Epoch 54/500\n",
            "204/204 [==============================] - 32s 158ms/step - loss: 0.0393 - accuracy: 0.9885 - val_loss: 5.1261 - val_accuracy: 0.4108\n",
            "Epoch 55/500\n",
            "204/204 [==============================] - 32s 158ms/step - loss: 0.0771 - accuracy: 0.9759 - val_loss: 4.2008 - val_accuracy: 0.4310\n",
            "Epoch 56/500\n",
            "204/204 [==============================] - 32s 158ms/step - loss: 0.0524 - accuracy: 0.9818 - val_loss: 4.5891 - val_accuracy: 0.4108\n",
            "Epoch 57/500\n",
            "204/204 [==============================] - 33s 159ms/step - loss: 0.0508 - accuracy: 0.9834 - val_loss: 4.4628 - val_accuracy: 0.4212\n",
            "Epoch 58/500\n",
            "204/204 [==============================] - 32s 157ms/step - loss: 0.0421 - accuracy: 0.9859 - val_loss: 4.5375 - val_accuracy: 0.4231\n",
            "Epoch 59/500\n",
            "204/204 [==============================] - 33s 163ms/step - loss: 0.0184 - accuracy: 0.9946 - val_loss: 5.1557 - val_accuracy: 0.4151\n",
            "Epoch 60/500\n",
            "204/204 [==============================] - 32s 157ms/step - loss: 0.0227 - accuracy: 0.9916 - val_loss: 5.3351 - val_accuracy: 0.4145\n",
            "Epoch 61/500\n",
            "204/204 [==============================] - 32s 158ms/step - loss: 0.0282 - accuracy: 0.9894 - val_loss: 5.3915 - val_accuracy: 0.4212\n",
            "Epoch 62/500\n",
            "204/204 [==============================] - 33s 160ms/step - loss: 0.0622 - accuracy: 0.9799 - val_loss: 4.9008 - val_accuracy: 0.4261\n",
            "Epoch 63/500\n",
            "204/204 [==============================] - 33s 160ms/step - loss: 0.0553 - accuracy: 0.9808 - val_loss: 4.7397 - val_accuracy: 0.4114\n",
            "Epoch 64/500\n",
            "204/204 [==============================] - 33s 162ms/step - loss: 0.0366 - accuracy: 0.9888 - val_loss: 4.7022 - val_accuracy: 0.4365\n",
            "Epoch 65/500\n",
            "204/204 [==============================] - 32s 158ms/step - loss: 0.0344 - accuracy: 0.9893 - val_loss: 4.8299 - val_accuracy: 0.4218\n",
            "Epoch 66/500\n",
            "204/204 [==============================] - 32s 159ms/step - loss: 0.0411 - accuracy: 0.9864 - val_loss: 4.8120 - val_accuracy: 0.4231\n",
            "Epoch 67/500\n",
            "204/204 [==============================] - 34s 165ms/step - loss: 0.0268 - accuracy: 0.9905 - val_loss: 5.2264 - val_accuracy: 0.4267\n",
            "Epoch 68/500\n",
            "204/204 [==============================] - 33s 160ms/step - loss: 0.0342 - accuracy: 0.9883 - val_loss: 4.9597 - val_accuracy: 0.4200\n",
            "Epoch 69/500\n",
            "204/204 [==============================] - 32s 158ms/step - loss: 0.0353 - accuracy: 0.9887 - val_loss: 5.0478 - val_accuracy: 0.4231\n",
            "Epoch 70/500\n",
            "204/204 [==============================] - 32s 159ms/step - loss: 0.0509 - accuracy: 0.9827 - val_loss: 4.9202 - val_accuracy: 0.4206\n",
            "Epoch 71/500\n",
            "204/204 [==============================] - 33s 160ms/step - loss: 0.0302 - accuracy: 0.9908 - val_loss: 5.1103 - val_accuracy: 0.4181\n",
            "Epoch 72/500\n",
            "204/204 [==============================] - 33s 160ms/step - loss: 0.0257 - accuracy: 0.9922 - val_loss: 5.2670 - val_accuracy: 0.4273\n",
            "Epoch 73/500\n",
            "204/204 [==============================] - 32s 159ms/step - loss: 0.0133 - accuracy: 0.9956 - val_loss: 5.3781 - val_accuracy: 0.4181\n",
            "Epoch 74/500\n",
            "204/204 [==============================] - 32s 159ms/step - loss: 0.0214 - accuracy: 0.9942 - val_loss: 5.5399 - val_accuracy: 0.4102\n",
            "Epoch 75/500\n",
            "204/204 [==============================] - 34s 165ms/step - loss: 0.0783 - accuracy: 0.9730 - val_loss: 4.7661 - val_accuracy: 0.4188\n",
            "Epoch 76/500\n",
            "204/204 [==============================] - 32s 159ms/step - loss: 0.0364 - accuracy: 0.9888 - val_loss: 4.9702 - val_accuracy: 0.4231\n",
            "Epoch 77/500\n",
            "204/204 [==============================] - 33s 161ms/step - loss: 0.0330 - accuracy: 0.9885 - val_loss: 5.0278 - val_accuracy: 0.4120\n",
            "Epoch 78/500\n",
            "204/204 [==============================] - 33s 160ms/step - loss: 0.0258 - accuracy: 0.9926 - val_loss: 5.1761 - val_accuracy: 0.4231\n",
            "Epoch 79/500\n",
            "204/204 [==============================] - 32s 159ms/step - loss: 0.0330 - accuracy: 0.9888 - val_loss: 5.1101 - val_accuracy: 0.4231\n",
            "Epoch 80/500\n",
            "204/204 [==============================] - 32s 158ms/step - loss: 0.0188 - accuracy: 0.9951 - val_loss: 5.2877 - val_accuracy: 0.4261\n",
            "Epoch 81/500\n",
            "204/204 [==============================] - 32s 158ms/step - loss: 0.0237 - accuracy: 0.9942 - val_loss: 5.3978 - val_accuracy: 0.4188\n",
            "Epoch 82/500\n",
            "204/204 [==============================] - 33s 160ms/step - loss: 0.0627 - accuracy: 0.9808 - val_loss: 4.7863 - val_accuracy: 0.4126\n",
            "Epoch 83/500\n",
            "204/204 [==============================] - 33s 164ms/step - loss: 0.0376 - accuracy: 0.9877 - val_loss: 4.7688 - val_accuracy: 0.4163\n",
            "Epoch 84/500\n",
            "204/204 [==============================] - 32s 159ms/step - loss: 0.0275 - accuracy: 0.9905 - val_loss: 5.0001 - val_accuracy: 0.4188\n",
            "Epoch 85/500\n",
            "204/204 [==============================] - 33s 160ms/step - loss: 0.0339 - accuracy: 0.9910 - val_loss: 4.8932 - val_accuracy: 0.4102\n",
            "Epoch 86/500\n",
            "204/204 [==============================] - 33s 161ms/step - loss: 0.0122 - accuracy: 0.9960 - val_loss: 5.3590 - val_accuracy: 0.4059\n",
            "Epoch 87/500\n",
            "204/204 [==============================] - 32s 158ms/step - loss: 0.0053 - accuracy: 0.9986 - val_loss: 5.6847 - val_accuracy: 0.4151\n",
            "Epoch 88/500\n",
            "204/204 [==============================] - 33s 160ms/step - loss: 0.0044 - accuracy: 0.9989 - val_loss: 5.8359 - val_accuracy: 0.4102\n",
            "Epoch 89/500\n",
            "204/204 [==============================] - 32s 159ms/step - loss: 0.0042 - accuracy: 0.9989 - val_loss: 6.1213 - val_accuracy: 0.4194\n",
            "Epoch 90/500\n",
            "204/204 [==============================] - 32s 159ms/step - loss: 0.0238 - accuracy: 0.9926 - val_loss: 5.4254 - val_accuracy: 0.4114\n",
            "Epoch 91/500\n",
            "204/204 [==============================] - 34s 168ms/step - loss: 0.0813 - accuracy: 0.9747 - val_loss: 4.4245 - val_accuracy: 0.4243\n",
            "Epoch 92/500\n",
            "204/204 [==============================] - 33s 159ms/step - loss: 0.0307 - accuracy: 0.9894 - val_loss: 4.8697 - val_accuracy: 0.4108\n",
            "Epoch 93/500\n",
            "204/204 [==============================] - 33s 162ms/step - loss: 0.0511 - accuracy: 0.9825 - val_loss: 4.4898 - val_accuracy: 0.4188\n",
            "Epoch 94/500\n",
            "204/204 [==============================] - 33s 161ms/step - loss: 0.0262 - accuracy: 0.9919 - val_loss: 4.9405 - val_accuracy: 0.4224\n",
            "Epoch 95/500\n",
            "204/204 [==============================] - 33s 160ms/step - loss: 0.0144 - accuracy: 0.9954 - val_loss: 5.3803 - val_accuracy: 0.4151\n",
            "Epoch 96/500\n",
            "204/204 [==============================] - 32s 158ms/step - loss: 0.0128 - accuracy: 0.9960 - val_loss: 5.6053 - val_accuracy: 0.4194\n",
            "Epoch 97/500\n",
            "204/204 [==============================] - 33s 160ms/step - loss: 0.0652 - accuracy: 0.9810 - val_loss: 4.4028 - val_accuracy: 0.4102\n",
            "Epoch 98/500\n",
            "204/204 [==============================] - 32s 158ms/step - loss: 0.0451 - accuracy: 0.9856 - val_loss: 4.7681 - val_accuracy: 0.4157\n",
            "Epoch 99/500\n",
            "204/204 [==============================] - 32s 159ms/step - loss: 0.0157 - accuracy: 0.9960 - val_loss: 5.2931 - val_accuracy: 0.4243\n",
            "Epoch 100/500\n",
            "204/204 [==============================] - 31s 151ms/step - loss: 0.0111 - accuracy: 0.9965 - val_loss: 5.3712 - val_accuracy: 0.4298\n",
            "Epoch 101/500\n",
            "204/204 [==============================] - 31s 151ms/step - loss: 0.0085 - accuracy: 0.9980 - val_loss: 5.6158 - val_accuracy: 0.4237\n",
            "Epoch 102/500\n",
            "204/204 [==============================] - 31s 152ms/step - loss: 0.0036 - accuracy: 0.9992 - val_loss: 5.8573 - val_accuracy: 0.4200\n",
            "Epoch 103/500\n",
            "204/204 [==============================] - 31s 154ms/step - loss: 0.0305 - accuracy: 0.9905 - val_loss: 5.3700 - val_accuracy: 0.4102\n",
            "Epoch 104/500\n",
            "204/204 [==============================] - 31s 152ms/step - loss: 0.0807 - accuracy: 0.9759 - val_loss: 4.0996 - val_accuracy: 0.4071\n",
            "Epoch 105/500\n",
            "204/204 [==============================] - 31s 152ms/step - loss: 0.0457 - accuracy: 0.9860 - val_loss: 4.7700 - val_accuracy: 0.4114\n",
            "Epoch 106/500\n",
            "204/204 [==============================] - 32s 159ms/step - loss: 0.0102 - accuracy: 0.9963 - val_loss: 5.3023 - val_accuracy: 0.4028\n",
            "Epoch 107/500\n",
            "204/204 [==============================] - 31s 151ms/step - loss: 0.0047 - accuracy: 0.9988 - val_loss: 5.6606 - val_accuracy: 0.4028\n",
            "Epoch 108/500\n",
            "204/204 [==============================] - 33s 159ms/step - loss: 0.0036 - accuracy: 0.9994 - val_loss: 5.7987 - val_accuracy: 0.4224\n",
            "Epoch 109/500\n",
            "204/204 [==============================] - 32s 155ms/step - loss: 0.0023 - accuracy: 0.9995 - val_loss: 6.0599 - val_accuracy: 0.4224\n",
            "Epoch 110/500\n",
            "204/204 [==============================] - 31s 152ms/step - loss: 8.2585e-04 - accuracy: 0.9998 - val_loss: 6.1976 - val_accuracy: 0.4151\n",
            "Epoch 111/500\n",
            "204/204 [==============================] - 31s 152ms/step - loss: 4.0373e-04 - accuracy: 1.0000 - val_loss: 6.3138 - val_accuracy: 0.4194\n",
            "Epoch 112/500\n",
            "204/204 [==============================] - 31s 153ms/step - loss: 2.6290e-04 - accuracy: 1.0000 - val_loss: 6.4265 - val_accuracy: 0.4181\n",
            "Epoch 113/500\n",
            "204/204 [==============================] - 31s 151ms/step - loss: 1.9664e-04 - accuracy: 1.0000 - val_loss: 6.5289 - val_accuracy: 0.4194\n",
            "Epoch 114/500\n",
            "204/204 [==============================] - 31s 152ms/step - loss: 1.8988e-04 - accuracy: 1.0000 - val_loss: 6.6580 - val_accuracy: 0.4188\n",
            "Epoch 115/500\n",
            "204/204 [==============================] - 31s 153ms/step - loss: 1.7012e-04 - accuracy: 1.0000 - val_loss: 6.7605 - val_accuracy: 0.4212\n",
            "Epoch 116/500\n",
            "204/204 [==============================] - 32s 159ms/step - loss: 0.0409 - accuracy: 0.9885 - val_loss: 4.5523 - val_accuracy: 0.4231\n",
            "Epoch 117/500\n",
            "204/204 [==============================] - 32s 159ms/step - loss: 0.0951 - accuracy: 0.9700 - val_loss: 4.4230 - val_accuracy: 0.4040\n",
            "Epoch 118/500\n",
            "204/204 [==============================] - 31s 152ms/step - loss: 0.0354 - accuracy: 0.9902 - val_loss: 4.6711 - val_accuracy: 0.4120\n",
            "Epoch 119/500\n",
            "204/204 [==============================] - 31s 154ms/step - loss: 0.0180 - accuracy: 0.9942 - val_loss: 5.0782 - val_accuracy: 0.4139\n",
            "Epoch 120/500\n",
            "204/204 [==============================] - 32s 156ms/step - loss: 0.0296 - accuracy: 0.9900 - val_loss: 5.1911 - val_accuracy: 0.4108\n",
            "Epoch 121/500\n",
            "204/204 [==============================] - 31s 154ms/step - loss: 0.0245 - accuracy: 0.9926 - val_loss: 5.2335 - val_accuracy: 0.4022\n",
            "Epoch 122/500\n",
            "204/204 [==============================] - 31s 152ms/step - loss: 0.0201 - accuracy: 0.9929 - val_loss: 5.3082 - val_accuracy: 0.4004\n",
            "Epoch 123/500\n",
            "204/204 [==============================] - 32s 158ms/step - loss: 0.0262 - accuracy: 0.9923 - val_loss: 5.1130 - val_accuracy: 0.4090\n",
            "Epoch 124/500\n",
            "204/204 [==============================] - 31s 154ms/step - loss: 0.0238 - accuracy: 0.9923 - val_loss: 5.2314 - val_accuracy: 0.4077\n",
            "Epoch 125/500\n",
            "204/204 [==============================] - 31s 153ms/step - loss: 0.0195 - accuracy: 0.9946 - val_loss: 5.6708 - val_accuracy: 0.4022\n",
            "Epoch 126/500\n",
            "204/204 [==============================] - 32s 155ms/step - loss: 0.0123 - accuracy: 0.9959 - val_loss: 5.8215 - val_accuracy: 0.4169\n",
            "Epoch 127/500\n",
            "204/204 [==============================] - 32s 159ms/step - loss: 0.0165 - accuracy: 0.9949 - val_loss: 5.8068 - val_accuracy: 0.4169\n",
            "Epoch 128/500\n",
            "204/204 [==============================] - 31s 151ms/step - loss: 0.0179 - accuracy: 0.9951 - val_loss: 5.7585 - val_accuracy: 0.3887\n",
            "Epoch 129/500\n",
            "204/204 [==============================] - 31s 152ms/step - loss: 0.0233 - accuracy: 0.9925 - val_loss: 5.4794 - val_accuracy: 0.3998\n",
            "Epoch 130/500\n",
            "204/204 [==============================] - 31s 151ms/step - loss: 0.0264 - accuracy: 0.9923 - val_loss: 5.2106 - val_accuracy: 0.4108\n",
            "Epoch 131/500\n",
            "204/204 [==============================] - 31s 152ms/step - loss: 0.0157 - accuracy: 0.9960 - val_loss: 5.0840 - val_accuracy: 0.4175\n",
            "Epoch 132/500\n",
            "204/204 [==============================] - 31s 150ms/step - loss: 0.0079 - accuracy: 0.9977 - val_loss: 5.3994 - val_accuracy: 0.4059\n",
            "Epoch 133/500\n",
            "204/204 [==============================] - 32s 156ms/step - loss: 0.0189 - accuracy: 0.9945 - val_loss: 5.4743 - val_accuracy: 0.4071\n",
            "Epoch 134/500\n",
            "204/204 [==============================] - 31s 150ms/step - loss: 0.0173 - accuracy: 0.9951 - val_loss: 5.4974 - val_accuracy: 0.4096\n",
            "Epoch 135/500\n",
            "204/204 [==============================] - 31s 154ms/step - loss: 0.0115 - accuracy: 0.9968 - val_loss: 5.4495 - val_accuracy: 0.4065\n",
            "Epoch 136/500\n",
            "204/204 [==============================] - 31s 153ms/step - loss: 0.0116 - accuracy: 0.9966 - val_loss: 5.5631 - val_accuracy: 0.4090\n",
            "Epoch 137/500\n",
            "204/204 [==============================] - 32s 156ms/step - loss: 0.0069 - accuracy: 0.9979 - val_loss: 5.8068 - val_accuracy: 0.3906\n",
            "Epoch 138/500\n",
            "204/204 [==============================] - 31s 152ms/step - loss: 0.0152 - accuracy: 0.9952 - val_loss: 5.6748 - val_accuracy: 0.4114\n",
            "Epoch 139/500\n",
            "204/204 [==============================] - 32s 155ms/step - loss: 0.0124 - accuracy: 0.9962 - val_loss: 5.7151 - val_accuracy: 0.4053\n",
            "Epoch 140/500\n",
            "204/204 [==============================] - 31s 151ms/step - loss: 0.0053 - accuracy: 0.9980 - val_loss: 6.0122 - val_accuracy: 0.3912\n",
            "Epoch 141/500\n",
            "204/204 [==============================] - 31s 151ms/step - loss: 0.0156 - accuracy: 0.9957 - val_loss: 5.8562 - val_accuracy: 0.4053\n",
            "Epoch 142/500\n",
            "204/204 [==============================] - 31s 152ms/step - loss: 0.0371 - accuracy: 0.9864 - val_loss: 5.2814 - val_accuracy: 0.4004\n",
            "Epoch 143/500\n",
            "204/204 [==============================] - 32s 158ms/step - loss: 0.0206 - accuracy: 0.9936 - val_loss: 5.3555 - val_accuracy: 0.4114\n",
            "Epoch 144/500\n",
            "204/204 [==============================] - 31s 152ms/step - loss: 0.0100 - accuracy: 0.9966 - val_loss: 5.7077 - val_accuracy: 0.4028\n",
            "Epoch 145/500\n",
            "204/204 [==============================] - 31s 154ms/step - loss: 0.0079 - accuracy: 0.9979 - val_loss: 5.9483 - val_accuracy: 0.4090\n",
            "Epoch 146/500\n",
            "204/204 [==============================] - 31s 153ms/step - loss: 0.0133 - accuracy: 0.9954 - val_loss: 5.8772 - val_accuracy: 0.4151\n",
            "Epoch 147/500\n",
            "204/204 [==============================] - 32s 158ms/step - loss: 0.0225 - accuracy: 0.9923 - val_loss: 5.5596 - val_accuracy: 0.3912\n",
            "Epoch 148/500\n",
            "204/204 [==============================] - 31s 154ms/step - loss: 0.0147 - accuracy: 0.9952 - val_loss: 5.5484 - val_accuracy: 0.4053\n",
            "Epoch 149/500\n",
            "204/204 [==============================] - 32s 155ms/step - loss: 0.0118 - accuracy: 0.9963 - val_loss: 5.9913 - val_accuracy: 0.4077\n",
            "Epoch 150/500\n",
            "204/204 [==============================] - 31s 154ms/step - loss: 0.0045 - accuracy: 0.9988 - val_loss: 6.1934 - val_accuracy: 0.4047\n",
            "Epoch 151/500\n",
            "204/204 [==============================] - 31s 151ms/step - loss: 0.0098 - accuracy: 0.9974 - val_loss: 6.0643 - val_accuracy: 0.4034\n",
            "Epoch 152/500\n",
            "204/204 [==============================] - 31s 154ms/step - loss: 0.0040 - accuracy: 0.9986 - val_loss: 6.5190 - val_accuracy: 0.3985\n",
            "Epoch 153/500\n",
            "204/204 [==============================] - 31s 152ms/step - loss: 0.0232 - accuracy: 0.9936 - val_loss: 5.8621 - val_accuracy: 0.3985\n",
            "Epoch 154/500\n",
            "204/204 [==============================] - 33s 160ms/step - loss: 0.0109 - accuracy: 0.9965 - val_loss: 5.8398 - val_accuracy: 0.4114\n",
            "Epoch 155/500\n",
            "204/204 [==============================] - 31s 154ms/step - loss: 0.0059 - accuracy: 0.9991 - val_loss: 6.1102 - val_accuracy: 0.4267\n",
            "Epoch 156/500\n",
            "204/204 [==============================] - 31s 152ms/step - loss: 0.0112 - accuracy: 0.9971 - val_loss: 5.9687 - val_accuracy: 0.4163\n",
            "Epoch 157/500\n",
            "204/204 [==============================] - 32s 159ms/step - loss: 0.0059 - accuracy: 0.9982 - val_loss: 6.1393 - val_accuracy: 0.4212\n",
            "Epoch 158/500\n",
            "204/204 [==============================] - 31s 151ms/step - loss: 0.0307 - accuracy: 0.9916 - val_loss: 5.6264 - val_accuracy: 0.4175\n",
            "Epoch 159/500\n",
            "204/204 [==============================] - 31s 152ms/step - loss: 0.0185 - accuracy: 0.9943 - val_loss: 5.7565 - val_accuracy: 0.4010\n",
            "Epoch 160/500\n",
            "204/204 [==============================] - 31s 152ms/step - loss: 0.0132 - accuracy: 0.9963 - val_loss: 5.6106 - val_accuracy: 0.4102\n",
            "Epoch 161/500\n",
            "204/204 [==============================] - 31s 152ms/step - loss: 0.0045 - accuracy: 0.9989 - val_loss: 5.8466 - val_accuracy: 0.4108\n",
            "Epoch 162/500\n",
            "204/204 [==============================] - 31s 152ms/step - loss: 0.0065 - accuracy: 0.9979 - val_loss: 5.9798 - val_accuracy: 0.4163\n",
            "Epoch 163/500\n",
            "204/204 [==============================] - 31s 151ms/step - loss: 0.0051 - accuracy: 0.9991 - val_loss: 6.2720 - val_accuracy: 0.4151\n",
            "Epoch 164/500\n",
            "204/204 [==============================] - 32s 157ms/step - loss: 0.0249 - accuracy: 0.9923 - val_loss: 5.6297 - val_accuracy: 0.4053\n",
            "Epoch 165/500\n",
            "204/204 [==============================] - 31s 153ms/step - loss: 0.0209 - accuracy: 0.9948 - val_loss: 5.4304 - val_accuracy: 0.3998\n",
            "Epoch 166/500\n",
            "204/204 [==============================] - 31s 152ms/step - loss: 0.0094 - accuracy: 0.9971 - val_loss: 5.6143 - val_accuracy: 0.4065\n",
            "Epoch 167/500\n",
            "204/204 [==============================] - 32s 157ms/step - loss: 0.0038 - accuracy: 0.9988 - val_loss: 5.8383 - val_accuracy: 0.4090\n",
            "Epoch 168/500\n",
            "204/204 [==============================] - 31s 152ms/step - loss: 0.0016 - accuracy: 0.9995 - val_loss: 6.1593 - val_accuracy: 0.4083\n",
            "Epoch 169/500\n",
            "204/204 [==============================] - 31s 152ms/step - loss: 9.9682e-04 - accuracy: 0.9998 - val_loss: 6.3744 - val_accuracy: 0.4022\n",
            "Epoch 170/500\n",
            "204/204 [==============================] - 32s 155ms/step - loss: 0.0031 - accuracy: 0.9989 - val_loss: 6.4588 - val_accuracy: 0.4034\n",
            "Epoch 171/500\n",
            "204/204 [==============================] - 31s 151ms/step - loss: 0.0373 - accuracy: 0.9891 - val_loss: 5.2722 - val_accuracy: 0.3961\n",
            "Epoch 172/500\n",
            "204/204 [==============================] - 31s 154ms/step - loss: 0.0259 - accuracy: 0.9914 - val_loss: 5.5545 - val_accuracy: 0.4077\n",
            "Epoch 173/500\n",
            "204/204 [==============================] - 31s 153ms/step - loss: 0.0141 - accuracy: 0.9959 - val_loss: 5.5727 - val_accuracy: 0.4040\n",
            "Epoch 174/500\n",
            "204/204 [==============================] - 32s 158ms/step - loss: 0.0044 - accuracy: 0.9985 - val_loss: 5.7990 - val_accuracy: 0.4047\n",
            "Epoch 175/500\n",
            "204/204 [==============================] - 31s 154ms/step - loss: 0.0047 - accuracy: 0.9986 - val_loss: 6.0351 - val_accuracy: 0.3967\n",
            "Epoch 176/500\n",
            "204/204 [==============================] - 32s 156ms/step - loss: 0.0094 - accuracy: 0.9972 - val_loss: 5.9617 - val_accuracy: 0.4047\n",
            "Epoch 177/500\n",
            "204/204 [==============================] - 32s 157ms/step - loss: 0.0309 - accuracy: 0.9928 - val_loss: 5.3099 - val_accuracy: 0.4028\n",
            "Epoch 178/500\n",
            "204/204 [==============================] - 32s 155ms/step - loss: 0.0075 - accuracy: 0.9974 - val_loss: 5.6899 - val_accuracy: 0.4028\n",
            "Epoch 179/500\n",
            "204/204 [==============================] - 31s 153ms/step - loss: 0.0045 - accuracy: 0.9986 - val_loss: 5.7782 - val_accuracy: 0.4120\n",
            "Epoch 180/500\n",
            "204/204 [==============================] - 31s 151ms/step - loss: 7.6899e-04 - accuracy: 1.0000 - val_loss: 5.9717 - val_accuracy: 0.4040\n",
            "Epoch 181/500\n",
            "204/204 [==============================] - 31s 154ms/step - loss: 4.4889e-04 - accuracy: 1.0000 - val_loss: 6.1902 - val_accuracy: 0.4016\n",
            "Epoch 182/500\n",
            "204/204 [==============================] - 31s 154ms/step - loss: 3.1122e-04 - accuracy: 1.0000 - val_loss: 6.3446 - val_accuracy: 0.4059\n",
            "Epoch 183/500\n",
            "204/204 [==============================] - 31s 153ms/step - loss: 3.1840e-04 - accuracy: 1.0000 - val_loss: 6.4624 - val_accuracy: 0.4096\n",
            "Epoch 184/500\n",
            "204/204 [==============================] - 31s 153ms/step - loss: 3.2945e-04 - accuracy: 1.0000 - val_loss: 6.6482 - val_accuracy: 0.4053\n",
            "Epoch 185/500\n",
            "204/204 [==============================] - 33s 160ms/step - loss: 0.0028 - accuracy: 0.9991 - val_loss: 6.5966 - val_accuracy: 0.4016\n",
            "Epoch 186/500\n",
            "204/204 [==============================] - 31s 151ms/step - loss: 0.0287 - accuracy: 0.9934 - val_loss: 5.7675 - val_accuracy: 0.3869\n",
            "Epoch 187/500\n",
            "204/204 [==============================] - 31s 152ms/step - loss: 0.0477 - accuracy: 0.9847 - val_loss: 4.9589 - val_accuracy: 0.3955\n",
            "Epoch 188/500\n",
            "204/204 [==============================] - 33s 160ms/step - loss: 0.0130 - accuracy: 0.9963 - val_loss: 5.2875 - val_accuracy: 0.3973\n",
            "Epoch 189/500\n",
            "204/204 [==============================] - 31s 153ms/step - loss: 0.0085 - accuracy: 0.9985 - val_loss: 5.5666 - val_accuracy: 0.3906\n",
            "Epoch 190/500\n",
            "204/204 [==============================] - 32s 157ms/step - loss: 0.0020 - accuracy: 0.9995 - val_loss: 5.8139 - val_accuracy: 0.3979\n",
            "Epoch 191/500\n",
            "204/204 [==============================] - 32s 155ms/step - loss: 0.0193 - accuracy: 0.9957 - val_loss: 4.9072 - val_accuracy: 0.4010\n",
            "Epoch 192/500\n",
            "204/204 [==============================] - 33s 162ms/step - loss: 0.0194 - accuracy: 0.9954 - val_loss: 5.1889 - val_accuracy: 0.3906\n",
            "Epoch 193/500\n",
            "204/204 [==============================] - 32s 158ms/step - loss: 0.0068 - accuracy: 0.9977 - val_loss: 5.6774 - val_accuracy: 0.3967\n",
            "Epoch 194/500\n",
            "204/204 [==============================] - 32s 156ms/step - loss: 0.0047 - accuracy: 0.9989 - val_loss: 5.8132 - val_accuracy: 0.3961\n",
            "Epoch 195/500\n",
            "204/204 [==============================] - 32s 156ms/step - loss: 0.0030 - accuracy: 0.9992 - val_loss: 5.8814 - val_accuracy: 0.3991\n",
            "Epoch 196/500\n",
            "204/204 [==============================] - 32s 156ms/step - loss: 7.6684e-04 - accuracy: 0.9998 - val_loss: 6.1665 - val_accuracy: 0.3924\n",
            "Epoch 197/500\n",
            "204/204 [==============================] - 32s 157ms/step - loss: 2.8854e-04 - accuracy: 1.0000 - val_loss: 6.2998 - val_accuracy: 0.3961\n",
            "Epoch 198/500\n",
            "204/204 [==============================] - 32s 159ms/step - loss: 1.8745e-04 - accuracy: 1.0000 - val_loss: 6.4298 - val_accuracy: 0.4010\n",
            "Epoch 199/500\n",
            "204/204 [==============================] - 32s 155ms/step - loss: 1.2816e-04 - accuracy: 1.0000 - val_loss: 6.5363 - val_accuracy: 0.3985\n",
            "Epoch 200/500\n",
            "204/204 [==============================] - 31s 154ms/step - loss: 1.3178e-04 - accuracy: 1.0000 - val_loss: 6.6541 - val_accuracy: 0.3991\n",
            "Epoch 201/500\n",
            "204/204 [==============================] - 32s 155ms/step - loss: 7.1714e-05 - accuracy: 1.0000 - val_loss: 6.7351 - val_accuracy: 0.3942\n",
            "Epoch 202/500\n",
            "204/204 [==============================] - 31s 154ms/step - loss: 8.1493e-05 - accuracy: 1.0000 - val_loss: 6.8174 - val_accuracy: 0.3967\n",
            "Epoch 203/500\n",
            "204/204 [==============================] - 32s 157ms/step - loss: 6.1713e-05 - accuracy: 1.0000 - val_loss: 6.9062 - val_accuracy: 0.3973\n",
            "Epoch 204/500\n",
            "204/204 [==============================] - 33s 163ms/step - loss: 3.2873e-04 - accuracy: 1.0000 - val_loss: 7.0893 - val_accuracy: 0.4065\n",
            "Epoch 205/500\n",
            "204/204 [==============================] - 32s 155ms/step - loss: 1.5926e-04 - accuracy: 1.0000 - val_loss: 7.1894 - val_accuracy: 0.4028\n",
            "Epoch 206/500\n",
            "204/204 [==============================] - 32s 158ms/step - loss: 5.0000e-05 - accuracy: 1.0000 - val_loss: 7.2855 - val_accuracy: 0.4010\n",
            "Epoch 207/500\n",
            "204/204 [==============================] - 32s 156ms/step - loss: 5.2758e-05 - accuracy: 1.0000 - val_loss: 7.3499 - val_accuracy: 0.3967\n",
            "Epoch 208/500\n",
            "204/204 [==============================] - 32s 159ms/step - loss: 3.3967e-05 - accuracy: 1.0000 - val_loss: 7.4314 - val_accuracy: 0.3979\n",
            "Epoch 209/500\n",
            "204/204 [==============================] - 32s 159ms/step - loss: 2.3466e-05 - accuracy: 1.0000 - val_loss: 7.4975 - val_accuracy: 0.3979\n",
            "Epoch 210/500\n",
            "204/204 [==============================] - 31s 154ms/step - loss: 0.0434 - accuracy: 0.9894 - val_loss: 5.2832 - val_accuracy: 0.3857\n",
            "Epoch 211/500\n",
            "204/204 [==============================] - 32s 155ms/step - loss: 0.0575 - accuracy: 0.9827 - val_loss: 4.9262 - val_accuracy: 0.3912\n",
            "Epoch 212/500\n",
            "204/204 [==============================] - 31s 154ms/step - loss: 0.0158 - accuracy: 0.9942 - val_loss: 5.2177 - val_accuracy: 0.4047\n",
            "Epoch 213/500\n",
            "204/204 [==============================] - 32s 155ms/step - loss: 0.0063 - accuracy: 0.9980 - val_loss: 5.6330 - val_accuracy: 0.3973\n",
            "Epoch 214/500\n",
            "204/204 [==============================] - 33s 163ms/step - loss: 0.0026 - accuracy: 0.9989 - val_loss: 5.9695 - val_accuracy: 0.4047\n",
            "Epoch 215/500\n",
            "204/204 [==============================] - 32s 156ms/step - loss: 8.9136e-04 - accuracy: 0.9997 - val_loss: 6.1509 - val_accuracy: 0.4022\n",
            "Epoch 216/500\n",
            "204/204 [==============================] - 32s 156ms/step - loss: 0.0125 - accuracy: 0.9959 - val_loss: 5.8332 - val_accuracy: 0.3948\n",
            "Epoch 217/500\n",
            "204/204 [==============================] - 31s 153ms/step - loss: 0.0210 - accuracy: 0.9940 - val_loss: 5.6062 - val_accuracy: 0.3850\n",
            "Epoch 218/500\n",
            "204/204 [==============================] - 32s 156ms/step - loss: 0.0173 - accuracy: 0.9959 - val_loss: 5.4223 - val_accuracy: 0.4077\n",
            "Epoch 219/500\n",
            "204/204 [==============================] - 33s 159ms/step - loss: 0.0087 - accuracy: 0.9982 - val_loss: 5.7262 - val_accuracy: 0.3955\n",
            "Epoch 220/500\n",
            "204/204 [==============================] - 32s 155ms/step - loss: 0.0040 - accuracy: 0.9989 - val_loss: 5.8739 - val_accuracy: 0.3961\n",
            "Epoch 221/500\n",
            "204/204 [==============================] - 31s 153ms/step - loss: 0.0012 - accuracy: 0.9998 - val_loss: 6.0609 - val_accuracy: 0.4022\n",
            "Epoch 222/500\n",
            "204/204 [==============================] - 32s 156ms/step - loss: 6.7925e-04 - accuracy: 0.9998 - val_loss: 6.2188 - val_accuracy: 0.4053\n",
            "Epoch 223/500\n",
            "204/204 [==============================] - 32s 156ms/step - loss: 4.2036e-04 - accuracy: 1.0000 - val_loss: 6.4817 - val_accuracy: 0.3961\n",
            "Epoch 224/500\n",
            "204/204 [==============================] - 33s 161ms/step - loss: 0.0087 - accuracy: 0.9979 - val_loss: 6.0795 - val_accuracy: 0.3893\n",
            "Epoch 225/500\n",
            "204/204 [==============================] - 32s 156ms/step - loss: 0.0164 - accuracy: 0.9951 - val_loss: 5.8982 - val_accuracy: 0.3881\n",
            "Epoch 226/500\n",
            "204/204 [==============================] - 32s 156ms/step - loss: 0.0144 - accuracy: 0.9948 - val_loss: 5.7282 - val_accuracy: 0.3887\n",
            "Epoch 227/500\n",
            "204/204 [==============================] - 32s 155ms/step - loss: 0.0072 - accuracy: 0.9974 - val_loss: 5.9807 - val_accuracy: 0.3967\n",
            "Epoch 228/500\n",
            "204/204 [==============================] - 31s 154ms/step - loss: 0.0103 - accuracy: 0.9969 - val_loss: 5.9471 - val_accuracy: 0.3930\n",
            "Epoch 229/500\n",
            "204/204 [==============================] - 33s 161ms/step - loss: 0.0143 - accuracy: 0.9965 - val_loss: 5.6581 - val_accuracy: 0.3998\n",
            "Epoch 230/500\n",
            "204/204 [==============================] - 32s 156ms/step - loss: 0.0044 - accuracy: 0.9986 - val_loss: 5.9949 - val_accuracy: 0.3948\n",
            "Epoch 231/500\n",
            "204/204 [==============================] - 32s 155ms/step - loss: 0.0013 - accuracy: 0.9994 - val_loss: 6.3297 - val_accuracy: 0.3967\n",
            "Epoch 232/500\n",
            "204/204 [==============================] - 32s 155ms/step - loss: 0.0014 - accuracy: 0.9997 - val_loss: 6.4888 - val_accuracy: 0.4022\n",
            "Epoch 233/500\n",
            "204/204 [==============================] - 32s 157ms/step - loss: 0.0015 - accuracy: 0.9995 - val_loss: 6.6553 - val_accuracy: 0.3973\n",
            "Epoch 234/500\n",
            "204/204 [==============================] - 32s 159ms/step - loss: 0.0097 - accuracy: 0.9971 - val_loss: 6.1637 - val_accuracy: 0.4022\n",
            "Epoch 235/500\n",
            "204/204 [==============================] - 32s 154ms/step - loss: 0.0143 - accuracy: 0.9952 - val_loss: 5.9415 - val_accuracy: 0.4028\n",
            "Epoch 236/500\n",
            "204/204 [==============================] - 32s 156ms/step - loss: 0.0131 - accuracy: 0.9960 - val_loss: 6.0159 - val_accuracy: 0.3973\n",
            "Epoch 237/500\n",
            "204/204 [==============================] - 32s 158ms/step - loss: 0.0111 - accuracy: 0.9969 - val_loss: 5.7320 - val_accuracy: 0.3973\n",
            "Epoch 238/500\n",
            "204/204 [==============================] - 32s 157ms/step - loss: 0.0089 - accuracy: 0.9969 - val_loss: 5.8839 - val_accuracy: 0.4053\n",
            "Epoch 239/500\n",
            "204/204 [==============================] - 33s 160ms/step - loss: 0.0110 - accuracy: 0.9962 - val_loss: 5.9429 - val_accuracy: 0.4047\n",
            "Epoch 240/500\n",
            "204/204 [==============================] - 32s 156ms/step - loss: 0.0058 - accuracy: 0.9982 - val_loss: 6.2892 - val_accuracy: 0.3973\n",
            "Epoch 241/500\n",
            "204/204 [==============================] - 32s 155ms/step - loss: 0.0049 - accuracy: 0.9986 - val_loss: 6.3705 - val_accuracy: 0.3961\n",
            "Epoch 242/500\n",
            "204/204 [==============================] - 32s 155ms/step - loss: 0.0067 - accuracy: 0.9983 - val_loss: 6.1595 - val_accuracy: 0.3973\n",
            "Epoch 243/500\n",
            "204/204 [==============================] - 32s 155ms/step - loss: 0.0018 - accuracy: 0.9995 - val_loss: 6.4465 - val_accuracy: 0.3985\n",
            "Epoch 244/500\n",
            "204/204 [==============================] - 33s 164ms/step - loss: 0.0029 - accuracy: 0.9992 - val_loss: 6.5674 - val_accuracy: 0.4028\n",
            "Epoch 245/500\n",
            "204/204 [==============================] - 32s 159ms/step - loss: 5.1146e-04 - accuracy: 1.0000 - val_loss: 6.7806 - val_accuracy: 0.4004\n",
            "Epoch 246/500\n",
            "204/204 [==============================] - 31s 154ms/step - loss: 5.5855e-04 - accuracy: 0.9998 - val_loss: 6.9663 - val_accuracy: 0.3985\n",
            "Epoch 247/500\n",
            "204/204 [==============================] - 31s 153ms/step - loss: 4.8919e-04 - accuracy: 0.9998 - val_loss: 7.1631 - val_accuracy: 0.4022\n",
            "Epoch 248/500\n",
            "204/204 [==============================] - 32s 155ms/step - loss: 1.8310e-04 - accuracy: 1.0000 - val_loss: 7.2563 - val_accuracy: 0.4059\n",
            "Epoch 249/500\n",
            "204/204 [==============================] - 32s 157ms/step - loss: 1.0287e-04 - accuracy: 1.0000 - val_loss: 7.2921 - val_accuracy: 0.4016\n",
            "Epoch 250/500\n",
            "204/204 [==============================] - 33s 160ms/step - loss: 1.6174e-04 - accuracy: 1.0000 - val_loss: 7.4192 - val_accuracy: 0.4065\n",
            "Epoch 251/500\n",
            "204/204 [==============================] - 32s 159ms/step - loss: 7.0364e-05 - accuracy: 1.0000 - val_loss: 7.5040 - val_accuracy: 0.4053\n",
            "Epoch 252/500\n",
            "204/204 [==============================] - 32s 156ms/step - loss: 1.0912e-04 - accuracy: 1.0000 - val_loss: 7.5671 - val_accuracy: 0.3967\n",
            "Epoch 253/500\n",
            "204/204 [==============================] - 32s 158ms/step - loss: 3.5719e-05 - accuracy: 1.0000 - val_loss: 7.6310 - val_accuracy: 0.3979\n",
            "Epoch 254/500\n",
            "204/204 [==============================] - 32s 157ms/step - loss: 5.5711e-05 - accuracy: 1.0000 - val_loss: 7.7234 - val_accuracy: 0.3985\n",
            "Epoch 255/500\n",
            "204/204 [==============================] - 33s 162ms/step - loss: 1.9804e-05 - accuracy: 1.0000 - val_loss: 7.7691 - val_accuracy: 0.3998\n",
            "Epoch 256/500\n",
            "204/204 [==============================] - 32s 158ms/step - loss: 2.2441e-05 - accuracy: 1.0000 - val_loss: 7.8322 - val_accuracy: 0.3985\n",
            "Epoch 257/500\n",
            "204/204 [==============================] - 32s 158ms/step - loss: 1.9554e-05 - accuracy: 1.0000 - val_loss: 7.8920 - val_accuracy: 0.3998\n",
            "Epoch 258/500\n",
            "204/204 [==============================] - 33s 160ms/step - loss: 1.8629e-05 - accuracy: 1.0000 - val_loss: 7.9420 - val_accuracy: 0.4022\n",
            "Epoch 259/500\n",
            "204/204 [==============================] - 32s 159ms/step - loss: 0.0021 - accuracy: 0.9995 - val_loss: 8.1702 - val_accuracy: 0.4212\n",
            "Epoch 260/500\n",
            "204/204 [==============================] - 34s 167ms/step - loss: 0.0791 - accuracy: 0.9787 - val_loss: 4.7319 - val_accuracy: 0.3899\n",
            "Epoch 261/500\n",
            "204/204 [==============================] - 32s 157ms/step - loss: 0.0207 - accuracy: 0.9933 - val_loss: 5.4578 - val_accuracy: 0.3936\n",
            "Epoch 262/500\n",
            "204/204 [==============================] - 32s 157ms/step - loss: 0.0074 - accuracy: 0.9982 - val_loss: 5.7339 - val_accuracy: 0.3912\n",
            "Epoch 263/500\n",
            "204/204 [==============================] - 32s 158ms/step - loss: 0.0024 - accuracy: 0.9995 - val_loss: 6.0454 - val_accuracy: 0.3955\n",
            "Epoch 264/500\n",
            "204/204 [==============================] - 32s 158ms/step - loss: 9.9579e-04 - accuracy: 0.9998 - val_loss: 6.2514 - val_accuracy: 0.3936\n",
            "Epoch 265/500\n",
            "204/204 [==============================] - 33s 162ms/step - loss: 3.9597e-04 - accuracy: 1.0000 - val_loss: 6.4561 - val_accuracy: 0.3918\n",
            "Epoch 266/500\n",
            "204/204 [==============================] - 32s 158ms/step - loss: 2.3108e-04 - accuracy: 1.0000 - val_loss: 6.6036 - val_accuracy: 0.3906\n",
            "Epoch 267/500\n",
            "204/204 [==============================] - 32s 157ms/step - loss: 2.9193e-04 - accuracy: 1.0000 - val_loss: 6.7331 - val_accuracy: 0.3948\n",
            "Epoch 268/500\n",
            "204/204 [==============================] - 32s 159ms/step - loss: 1.6242e-04 - accuracy: 1.0000 - val_loss: 6.8649 - val_accuracy: 0.3924\n",
            "Epoch 269/500\n",
            "204/204 [==============================] - 32s 157ms/step - loss: 8.8619e-05 - accuracy: 1.0000 - val_loss: 6.9472 - val_accuracy: 0.3912\n",
            "Epoch 270/500\n",
            "204/204 [==============================] - 33s 162ms/step - loss: 8.3332e-05 - accuracy: 1.0000 - val_loss: 7.0351 - val_accuracy: 0.3912\n",
            "Epoch 271/500\n",
            "204/204 [==============================] - 32s 159ms/step - loss: 9.4116e-05 - accuracy: 1.0000 - val_loss: 7.1283 - val_accuracy: 0.3942\n",
            "Epoch 272/500\n",
            "204/204 [==============================] - 32s 155ms/step - loss: 5.2856e-05 - accuracy: 1.0000 - val_loss: 7.2035 - val_accuracy: 0.3918\n",
            "Epoch 273/500\n",
            "204/204 [==============================] - 32s 157ms/step - loss: 5.3561e-05 - accuracy: 1.0000 - val_loss: 7.2937 - val_accuracy: 0.3918\n",
            "Epoch 274/500\n",
            "204/204 [==============================] - 32s 156ms/step - loss: 5.7871e-05 - accuracy: 1.0000 - val_loss: 7.3887 - val_accuracy: 0.3961\n",
            "Epoch 275/500\n",
            "204/204 [==============================] - 34s 165ms/step - loss: 4.6250e-05 - accuracy: 1.0000 - val_loss: 7.4794 - val_accuracy: 0.3948\n",
            "Epoch 276/500\n",
            "204/204 [==============================] - 32s 156ms/step - loss: 3.4060e-05 - accuracy: 1.0000 - val_loss: 7.5544 - val_accuracy: 0.3918\n",
            "Epoch 277/500\n",
            "204/204 [==============================] - 32s 157ms/step - loss: 4.4518e-05 - accuracy: 1.0000 - val_loss: 7.6517 - val_accuracy: 0.3924\n",
            "Epoch 278/500\n",
            "204/204 [==============================] - 32s 156ms/step - loss: 2.3509e-05 - accuracy: 1.0000 - val_loss: 7.7228 - val_accuracy: 0.3918\n",
            "Epoch 279/500\n",
            "204/204 [==============================] - 32s 159ms/step - loss: 2.5727e-05 - accuracy: 1.0000 - val_loss: 7.8000 - val_accuracy: 0.3887\n",
            "Epoch 280/500\n",
            "204/204 [==============================] - 33s 162ms/step - loss: 0.0606 - accuracy: 0.9841 - val_loss: 4.4864 - val_accuracy: 0.4102\n",
            "Epoch 281/500\n",
            "204/204 [==============================] - 32s 158ms/step - loss: 0.0322 - accuracy: 0.9905 - val_loss: 5.1178 - val_accuracy: 0.4083\n",
            "Epoch 282/500\n",
            "204/204 [==============================] - 33s 160ms/step - loss: 0.0068 - accuracy: 0.9985 - val_loss: 5.5566 - val_accuracy: 0.4071\n",
            "Epoch 283/500\n",
            "204/204 [==============================] - 32s 157ms/step - loss: 0.0030 - accuracy: 0.9994 - val_loss: 5.7897 - val_accuracy: 0.4028\n",
            "Epoch 284/500\n",
            "204/204 [==============================] - 32s 158ms/step - loss: 0.0033 - accuracy: 0.9992 - val_loss: 6.0522 - val_accuracy: 0.4059\n",
            "Epoch 285/500\n",
            "204/204 [==============================] - 33s 163ms/step - loss: 0.0030 - accuracy: 0.9992 - val_loss: 6.1395 - val_accuracy: 0.4139\n",
            "Epoch 286/500\n",
            "204/204 [==============================] - 32s 158ms/step - loss: 0.0063 - accuracy: 0.9977 - val_loss: 6.1276 - val_accuracy: 0.3991\n",
            "Epoch 287/500\n",
            "204/204 [==============================] - 32s 157ms/step - loss: 0.0013 - accuracy: 0.9998 - val_loss: 6.4876 - val_accuracy: 0.4059\n",
            "Epoch 288/500\n",
            "204/204 [==============================] - 32s 156ms/step - loss: 0.0035 - accuracy: 0.9997 - val_loss: 6.4516 - val_accuracy: 0.4108\n",
            "Epoch 289/500\n",
            "204/204 [==============================] - 32s 158ms/step - loss: 3.4107e-04 - accuracy: 1.0000 - val_loss: 6.5771 - val_accuracy: 0.4114\n",
            "Epoch 290/500\n",
            "204/204 [==============================] - 33s 164ms/step - loss: 0.0037 - accuracy: 0.9988 - val_loss: 6.5004 - val_accuracy: 0.4059\n",
            "Epoch 291/500\n",
            "204/204 [==============================] - 32s 157ms/step - loss: 0.0079 - accuracy: 0.9983 - val_loss: 6.2500 - val_accuracy: 0.4139\n",
            "Epoch 292/500\n",
            "204/204 [==============================] - 32s 157ms/step - loss: 0.0180 - accuracy: 0.9951 - val_loss: 6.0603 - val_accuracy: 0.4139\n",
            "Epoch 293/500\n",
            "204/204 [==============================] - 33s 161ms/step - loss: 0.0134 - accuracy: 0.9965 - val_loss: 5.9894 - val_accuracy: 0.4096\n",
            "Epoch 294/500\n",
            "204/204 [==============================] - 32s 157ms/step - loss: 0.0070 - accuracy: 0.9977 - val_loss: 6.0825 - val_accuracy: 0.4071\n",
            "Epoch 295/500\n",
            "204/204 [==============================] - 33s 163ms/step - loss: 0.0026 - accuracy: 0.9991 - val_loss: 6.2470 - val_accuracy: 0.4169\n",
            "Epoch 296/500\n",
            "204/204 [==============================] - 32s 158ms/step - loss: 0.0014 - accuracy: 0.9995 - val_loss: 6.5750 - val_accuracy: 0.4126\n",
            "Epoch 297/500\n",
            "204/204 [==============================] - 32s 156ms/step - loss: 5.3196e-04 - accuracy: 0.9998 - val_loss: 6.7793 - val_accuracy: 0.4120\n",
            "Epoch 298/500\n",
            "204/204 [==============================] - 32s 156ms/step - loss: 3.0647e-04 - accuracy: 1.0000 - val_loss: 6.9178 - val_accuracy: 0.4090\n",
            "Epoch 299/500\n",
            "204/204 [==============================] - 32s 156ms/step - loss: 2.0862e-04 - accuracy: 1.0000 - val_loss: 6.9947 - val_accuracy: 0.4139\n",
            "Epoch 300/500\n",
            "204/204 [==============================] - 33s 160ms/step - loss: 2.2307e-04 - accuracy: 1.0000 - val_loss: 7.0613 - val_accuracy: 0.4108\n",
            "Epoch 301/500\n",
            "204/204 [==============================] - 32s 158ms/step - loss: 1.7485e-04 - accuracy: 1.0000 - val_loss: 7.1535 - val_accuracy: 0.4040\n",
            "Epoch 302/500\n",
            "204/204 [==============================] - 32s 156ms/step - loss: 7.0589e-05 - accuracy: 1.0000 - val_loss: 7.2478 - val_accuracy: 0.4065\n",
            "Epoch 303/500\n",
            "204/204 [==============================] - 32s 156ms/step - loss: 3.7839e-04 - accuracy: 0.9998 - val_loss: 7.2360 - val_accuracy: 0.4108\n",
            "Epoch 304/500\n",
            "204/204 [==============================] - 33s 162ms/step - loss: 0.0069 - accuracy: 0.9979 - val_loss: 6.7776 - val_accuracy: 0.4102\n",
            "Epoch 305/500\n",
            "204/204 [==============================] - 32s 156ms/step - loss: 0.0391 - accuracy: 0.9883 - val_loss: 5.5896 - val_accuracy: 0.4022\n",
            "Epoch 306/500\n",
            "204/204 [==============================] - 31s 154ms/step - loss: 0.0128 - accuracy: 0.9972 - val_loss: 5.4975 - val_accuracy: 0.4016\n",
            "Epoch 307/500\n",
            "204/204 [==============================] - 32s 157ms/step - loss: 0.0046 - accuracy: 0.9989 - val_loss: 5.9628 - val_accuracy: 0.4096\n",
            "Epoch 308/500\n",
            "204/204 [==============================] - 32s 158ms/step - loss: 0.0023 - accuracy: 0.9998 - val_loss: 6.1319 - val_accuracy: 0.4090\n",
            "Epoch 309/500\n",
            "204/204 [==============================] - 33s 160ms/step - loss: 0.0016 - accuracy: 0.9998 - val_loss: 6.2400 - val_accuracy: 0.4102\n",
            "Epoch 310/500\n",
            "204/204 [==============================] - 31s 154ms/step - loss: 0.0011 - accuracy: 0.9997 - val_loss: 6.4010 - val_accuracy: 0.4065\n",
            "Epoch 311/500\n",
            "204/204 [==============================] - 32s 157ms/step - loss: 3.6915e-04 - accuracy: 1.0000 - val_loss: 6.5981 - val_accuracy: 0.4022\n",
            "Epoch 312/500\n",
            "204/204 [==============================] - 32s 157ms/step - loss: 3.2399e-04 - accuracy: 1.0000 - val_loss: 6.7695 - val_accuracy: 0.4016\n",
            "Epoch 313/500\n",
            "204/204 [==============================] - 32s 155ms/step - loss: 2.2419e-04 - accuracy: 1.0000 - val_loss: 6.9488 - val_accuracy: 0.3961\n",
            "Epoch 314/500\n",
            "204/204 [==============================] - 33s 162ms/step - loss: 1.3299e-04 - accuracy: 1.0000 - val_loss: 7.0433 - val_accuracy: 0.4010\n",
            "Epoch 315/500\n",
            "204/204 [==============================] - 32s 156ms/step - loss: 8.1818e-05 - accuracy: 1.0000 - val_loss: 7.1449 - val_accuracy: 0.4022\n",
            "Epoch 316/500\n",
            "204/204 [==============================] - 32s 156ms/step - loss: 4.7618e-05 - accuracy: 1.0000 - val_loss: 7.2168 - val_accuracy: 0.4034\n",
            "Epoch 317/500\n",
            "204/204 [==============================] - 32s 156ms/step - loss: 5.5089e-05 - accuracy: 1.0000 - val_loss: 7.3053 - val_accuracy: 0.4053\n",
            "Epoch 318/500\n",
            "204/204 [==============================] - 33s 162ms/step - loss: 3.9055e-05 - accuracy: 1.0000 - val_loss: 7.3901 - val_accuracy: 0.4040\n",
            "Epoch 319/500\n",
            "204/204 [==============================] - 32s 157ms/step - loss: 3.5671e-05 - accuracy: 1.0000 - val_loss: 7.4768 - val_accuracy: 0.4053\n",
            "Epoch 320/500\n",
            "204/204 [==============================] - 32s 155ms/step - loss: 2.9309e-05 - accuracy: 1.0000 - val_loss: 7.5409 - val_accuracy: 0.4053\n",
            "Epoch 321/500\n",
            "204/204 [==============================] - 32s 156ms/step - loss: 2.6156e-05 - accuracy: 1.0000 - val_loss: 7.6118 - val_accuracy: 0.4071\n",
            "Epoch 322/500\n",
            "204/204 [==============================] - 32s 157ms/step - loss: 2.6746e-05 - accuracy: 1.0000 - val_loss: 7.6940 - val_accuracy: 0.4040\n",
            "Epoch 323/500\n",
            "204/204 [==============================] - 33s 162ms/step - loss: 2.1898e-05 - accuracy: 1.0000 - val_loss: 7.7738 - val_accuracy: 0.4034\n",
            "Epoch 324/500\n",
            "204/204 [==============================] - 32s 155ms/step - loss: 1.8110e-05 - accuracy: 1.0000 - val_loss: 7.8434 - val_accuracy: 0.4034\n",
            "Epoch 325/500\n",
            "204/204 [==============================] - 32s 157ms/step - loss: 1.5206e-05 - accuracy: 1.0000 - val_loss: 7.9088 - val_accuracy: 0.4065\n",
            "Epoch 326/500\n",
            "204/204 [==============================] - 32s 159ms/step - loss: 1.1677e-05 - accuracy: 1.0000 - val_loss: 7.9688 - val_accuracy: 0.4065\n",
            "Epoch 327/500\n",
            "204/204 [==============================] - 33s 163ms/step - loss: 1.6951e-05 - accuracy: 1.0000 - val_loss: 8.0593 - val_accuracy: 0.4053\n",
            "Epoch 328/500\n",
            "204/204 [==============================] - 32s 156ms/step - loss: 1.5910e-05 - accuracy: 1.0000 - val_loss: 8.1414 - val_accuracy: 0.4047\n",
            "Epoch 329/500\n",
            "204/204 [==============================] - 32s 157ms/step - loss: 9.5404e-06 - accuracy: 1.0000 - val_loss: 8.2148 - val_accuracy: 0.4053\n",
            "Epoch 330/500\n",
            "204/204 [==============================] - 32s 157ms/step - loss: 9.4508e-06 - accuracy: 1.0000 - val_loss: 8.2749 - val_accuracy: 0.4053\n",
            "Epoch 331/500\n",
            "204/204 [==============================] - 32s 157ms/step - loss: 0.0430 - accuracy: 0.9891 - val_loss: 5.5378 - val_accuracy: 0.3998\n",
            "Epoch 332/500\n",
            "204/204 [==============================] - 33s 160ms/step - loss: 0.0384 - accuracy: 0.9897 - val_loss: 5.3031 - val_accuracy: 0.3948\n",
            "Epoch 333/500\n",
            "204/204 [==============================] - 32s 156ms/step - loss: 0.0134 - accuracy: 0.9965 - val_loss: 5.7163 - val_accuracy: 0.3918\n",
            "Epoch 334/500\n",
            "204/204 [==============================] - 32s 158ms/step - loss: 0.0035 - accuracy: 0.9988 - val_loss: 6.0141 - val_accuracy: 0.3906\n",
            "Epoch 335/500\n",
            "204/204 [==============================] - 33s 159ms/step - loss: 0.0029 - accuracy: 0.9992 - val_loss: 6.2757 - val_accuracy: 0.4034\n",
            "Epoch 336/500\n",
            "204/204 [==============================] - 33s 162ms/step - loss: 0.0023 - accuracy: 0.9992 - val_loss: 6.3685 - val_accuracy: 0.4010\n",
            "Epoch 337/500\n",
            "204/204 [==============================] - 32s 157ms/step - loss: 0.0029 - accuracy: 0.9997 - val_loss: 6.3717 - val_accuracy: 0.4010\n",
            "Epoch 338/500\n",
            "204/204 [==============================] - 32s 156ms/step - loss: 2.6843e-04 - accuracy: 1.0000 - val_loss: 6.5470 - val_accuracy: 0.3991\n",
            "Epoch 339/500\n",
            "204/204 [==============================] - 32s 157ms/step - loss: 1.7179e-04 - accuracy: 1.0000 - val_loss: 6.6784 - val_accuracy: 0.4034\n",
            "Epoch 340/500\n",
            "204/204 [==============================] - 32s 157ms/step - loss: 1.3327e-04 - accuracy: 1.0000 - val_loss: 6.7854 - val_accuracy: 0.4040\n",
            "Epoch 341/500\n",
            "204/204 [==============================] - 33s 163ms/step - loss: 1.3366e-04 - accuracy: 1.0000 - val_loss: 6.8911 - val_accuracy: 0.4022\n",
            "Epoch 342/500\n",
            "204/204 [==============================] - 32s 156ms/step - loss: 1.2503e-04 - accuracy: 1.0000 - val_loss: 6.9959 - val_accuracy: 0.4028\n",
            "Epoch 343/500\n",
            "204/204 [==============================] - 32s 156ms/step - loss: 6.3842e-05 - accuracy: 1.0000 - val_loss: 7.0806 - val_accuracy: 0.4016\n",
            "Epoch 344/500\n",
            "204/204 [==============================] - 32s 157ms/step - loss: 9.0278e-05 - accuracy: 1.0000 - val_loss: 7.1905 - val_accuracy: 0.3924\n",
            "Epoch 345/500\n",
            "204/204 [==============================] - 33s 162ms/step - loss: 5.4487e-05 - accuracy: 1.0000 - val_loss: 7.2782 - val_accuracy: 0.3930\n",
            "Epoch 346/500\n",
            "204/204 [==============================] - 32s 155ms/step - loss: 5.1225e-05 - accuracy: 1.0000 - val_loss: 7.3672 - val_accuracy: 0.3973\n",
            "Epoch 347/500\n",
            "204/204 [==============================] - 32s 159ms/step - loss: 2.9431e-05 - accuracy: 1.0000 - val_loss: 7.4289 - val_accuracy: 0.4010\n",
            "Epoch 348/500\n",
            "204/204 [==============================] - 32s 158ms/step - loss: 3.0332e-05 - accuracy: 1.0000 - val_loss: 7.4954 - val_accuracy: 0.3985\n",
            "Epoch 349/500\n",
            "204/204 [==============================] - 33s 162ms/step - loss: 3.4247e-05 - accuracy: 1.0000 - val_loss: 7.5842 - val_accuracy: 0.3961\n",
            "Epoch 350/500\n",
            "204/204 [==============================] - 32s 158ms/step - loss: 2.0805e-05 - accuracy: 1.0000 - val_loss: 7.6495 - val_accuracy: 0.3973\n",
            "Epoch 351/500\n",
            "204/204 [==============================] - 31s 154ms/step - loss: 2.0804e-05 - accuracy: 1.0000 - val_loss: 7.7115 - val_accuracy: 0.3961\n",
            "Epoch 352/500\n",
            "204/204 [==============================] - 32s 157ms/step - loss: 1.7884e-05 - accuracy: 1.0000 - val_loss: 7.7736 - val_accuracy: 0.3955\n",
            "Epoch 353/500\n",
            "204/204 [==============================] - 33s 161ms/step - loss: 1.6061e-05 - accuracy: 1.0000 - val_loss: 7.8403 - val_accuracy: 0.3979\n",
            "Epoch 354/500\n",
            "204/204 [==============================] - 32s 158ms/step - loss: 1.7343e-05 - accuracy: 1.0000 - val_loss: 7.9223 - val_accuracy: 0.4004\n",
            "Epoch 355/500\n",
            "204/204 [==============================] - 32s 156ms/step - loss: 1.3006e-05 - accuracy: 1.0000 - val_loss: 7.9920 - val_accuracy: 0.3998\n",
            "Epoch 356/500\n",
            "204/204 [==============================] - 32s 156ms/step - loss: 1.3148e-05 - accuracy: 1.0000 - val_loss: 8.0547 - val_accuracy: 0.3998\n",
            "Epoch 357/500\n",
            "204/204 [==============================] - 33s 160ms/step - loss: 2.2972e-05 - accuracy: 1.0000 - val_loss: 8.1821 - val_accuracy: 0.3973\n",
            "Epoch 358/500\n",
            "204/204 [==============================] - 32s 159ms/step - loss: 8.8328e-06 - accuracy: 1.0000 - val_loss: 8.2434 - val_accuracy: 0.3967\n",
            "Epoch 359/500\n",
            "204/204 [==============================] - 32s 157ms/step - loss: 1.1465e-05 - accuracy: 1.0000 - val_loss: 8.3119 - val_accuracy: 0.3967\n",
            "Epoch 360/500\n",
            "204/204 [==============================] - 32s 158ms/step - loss: 1.2012e-05 - accuracy: 1.0000 - val_loss: 8.4273 - val_accuracy: 0.4004\n",
            "Epoch 361/500\n",
            "204/204 [==============================] - 33s 164ms/step - loss: 6.8770e-06 - accuracy: 1.0000 - val_loss: 8.5149 - val_accuracy: 0.4004\n",
            "Epoch 362/500\n",
            "204/204 [==============================] - 32s 155ms/step - loss: 1.0392e-05 - accuracy: 1.0000 - val_loss: 8.6457 - val_accuracy: 0.3973\n",
            "Epoch 363/500\n",
            "204/204 [==============================] - 32s 155ms/step - loss: 1.4362e-05 - accuracy: 1.0000 - val_loss: 8.7465 - val_accuracy: 0.3991\n",
            "Epoch 364/500\n",
            "204/204 [==============================] - 32s 155ms/step - loss: 0.0020 - accuracy: 0.9998 - val_loss: 8.5476 - val_accuracy: 0.3875\n",
            "Epoch 365/500\n",
            "204/204 [==============================] - 32s 157ms/step - loss: 0.0818 - accuracy: 0.9798 - val_loss: 4.8372 - val_accuracy: 0.3973\n",
            "Epoch 366/500\n",
            "204/204 [==============================] - 32s 159ms/step - loss: 0.0194 - accuracy: 0.9934 - val_loss: 5.3269 - val_accuracy: 0.4034\n",
            "Epoch 367/500\n",
            "204/204 [==============================] - 32s 156ms/step - loss: 0.0032 - accuracy: 0.9994 - val_loss: 5.8146 - val_accuracy: 0.3942\n",
            "Epoch 368/500\n",
            "204/204 [==============================] - 32s 157ms/step - loss: 0.0011 - accuracy: 0.9995 - val_loss: 6.0304 - val_accuracy: 0.3955\n",
            "Epoch 369/500\n",
            "204/204 [==============================] - 32s 156ms/step - loss: 4.0853e-04 - accuracy: 0.9998 - val_loss: 6.2225 - val_accuracy: 0.3985\n",
            "Epoch 370/500\n",
            "204/204 [==============================] - 33s 162ms/step - loss: 2.3032e-04 - accuracy: 1.0000 - val_loss: 6.3654 - val_accuracy: 0.3973\n",
            "Epoch 371/500\n",
            "204/204 [==============================] - 32s 158ms/step - loss: 1.9957e-04 - accuracy: 1.0000 - val_loss: 6.4961 - val_accuracy: 0.3973\n",
            "Epoch 372/500\n",
            "204/204 [==============================] - 32s 156ms/step - loss: 3.8698e-04 - accuracy: 0.9998 - val_loss: 6.6299 - val_accuracy: 0.3918\n",
            "Epoch 373/500\n",
            "204/204 [==============================] - 32s 157ms/step - loss: 1.1690e-04 - accuracy: 1.0000 - val_loss: 6.7356 - val_accuracy: 0.3955\n",
            "Epoch 374/500\n",
            "204/204 [==============================] - 33s 162ms/step - loss: 8.3677e-05 - accuracy: 1.0000 - val_loss: 6.8291 - val_accuracy: 0.3942\n",
            "Epoch 375/500\n",
            "204/204 [==============================] - 32s 158ms/step - loss: 1.3252e-04 - accuracy: 1.0000 - val_loss: 6.9471 - val_accuracy: 0.3979\n",
            "Epoch 376/500\n",
            "204/204 [==============================] - 32s 156ms/step - loss: 7.7497e-05 - accuracy: 1.0000 - val_loss: 7.0283 - val_accuracy: 0.3967\n",
            "Epoch 377/500\n",
            "204/204 [==============================] - 32s 155ms/step - loss: 5.7438e-05 - accuracy: 1.0000 - val_loss: 7.1185 - val_accuracy: 0.3973\n",
            "Epoch 378/500\n",
            "204/204 [==============================] - 33s 161ms/step - loss: 4.2316e-05 - accuracy: 1.0000 - val_loss: 7.1901 - val_accuracy: 0.3979\n",
            "Epoch 379/500\n",
            "204/204 [==============================] - 32s 156ms/step - loss: 4.2219e-05 - accuracy: 1.0000 - val_loss: 7.2699 - val_accuracy: 0.3991\n",
            "Epoch 380/500\n",
            "204/204 [==============================] - 32s 157ms/step - loss: 3.8856e-05 - accuracy: 1.0000 - val_loss: 7.3525 - val_accuracy: 0.3985\n",
            "Epoch 381/500\n",
            "204/204 [==============================] - 31s 154ms/step - loss: 3.6044e-05 - accuracy: 1.0000 - val_loss: 7.4445 - val_accuracy: 0.3985\n",
            "Epoch 382/500\n",
            "204/204 [==============================] - 33s 163ms/step - loss: 3.5534e-05 - accuracy: 1.0000 - val_loss: 7.5308 - val_accuracy: 0.3967\n",
            "Epoch 383/500\n",
            "204/204 [==============================] - 32s 155ms/step - loss: 2.2469e-05 - accuracy: 1.0000 - val_loss: 7.5975 - val_accuracy: 0.4004\n",
            "Epoch 384/500\n",
            "204/204 [==============================] - 32s 157ms/step - loss: 7.7568e-05 - accuracy: 1.0000 - val_loss: 7.7169 - val_accuracy: 0.3955\n",
            "Epoch 385/500\n",
            "204/204 [==============================] - 31s 154ms/step - loss: 2.5337e-05 - accuracy: 1.0000 - val_loss: 7.7876 - val_accuracy: 0.3985\n",
            "Epoch 386/500\n",
            "204/204 [==============================] - 33s 163ms/step - loss: 1.3464e-04 - accuracy: 1.0000 - val_loss: 7.9272 - val_accuracy: 0.3924\n",
            "Epoch 387/500\n",
            "204/204 [==============================] - 32s 156ms/step - loss: 0.0512 - accuracy: 0.9851 - val_loss: 5.1688 - val_accuracy: 0.3936\n",
            "Epoch 388/500\n",
            "204/204 [==============================] - 32s 158ms/step - loss: 0.0190 - accuracy: 0.9937 - val_loss: 5.4759 - val_accuracy: 0.3863\n",
            "Epoch 389/500\n",
            "204/204 [==============================] - 33s 161ms/step - loss: 0.0036 - accuracy: 0.9991 - val_loss: 5.9302 - val_accuracy: 0.3961\n",
            "Epoch 390/500\n",
            "204/204 [==============================] - 33s 164ms/step - loss: 9.9516e-04 - accuracy: 0.9998 - val_loss: 6.2327 - val_accuracy: 0.3826\n",
            "Epoch 391/500\n",
            "204/204 [==============================] - 32s 159ms/step - loss: 3.6433e-04 - accuracy: 1.0000 - val_loss: 6.4508 - val_accuracy: 0.3863\n",
            "Epoch 392/500\n",
            "204/204 [==============================] - 32s 157ms/step - loss: 1.7372e-04 - accuracy: 1.0000 - val_loss: 6.5915 - val_accuracy: 0.3881\n",
            "Epoch 393/500\n",
            "204/204 [==============================] - 33s 163ms/step - loss: 4.9904e-04 - accuracy: 0.9997 - val_loss: 6.7753 - val_accuracy: 0.3893\n",
            "Epoch 394/500\n",
            "204/204 [==============================] - 32s 158ms/step - loss: 1.4331e-04 - accuracy: 1.0000 - val_loss: 6.9206 - val_accuracy: 0.3906\n",
            "Epoch 395/500\n",
            "204/204 [==============================] - 33s 160ms/step - loss: 8.7339e-05 - accuracy: 1.0000 - val_loss: 7.0148 - val_accuracy: 0.3918\n",
            "Epoch 396/500\n",
            "204/204 [==============================] - 32s 157ms/step - loss: 6.7405e-05 - accuracy: 1.0000 - val_loss: 7.0947 - val_accuracy: 0.3924\n",
            "Epoch 397/500\n",
            "204/204 [==============================] - 32s 159ms/step - loss: 6.2981e-05 - accuracy: 1.0000 - val_loss: 7.1914 - val_accuracy: 0.3912\n",
            "Epoch 398/500\n",
            "204/204 [==============================] - 33s 163ms/step - loss: 1.3732e-04 - accuracy: 1.0000 - val_loss: 7.3849 - val_accuracy: 0.3942\n",
            "Epoch 399/500\n",
            "204/204 [==============================] - 32s 156ms/step - loss: 1.1916e-04 - accuracy: 1.0000 - val_loss: 7.5341 - val_accuracy: 0.3893\n",
            "Epoch 400/500\n",
            "204/204 [==============================] - 32s 155ms/step - loss: 5.0932e-04 - accuracy: 0.9997 - val_loss: 7.6027 - val_accuracy: 0.3838\n",
            "Epoch 401/500\n",
            "204/204 [==============================] - 33s 162ms/step - loss: 9.1806e-05 - accuracy: 1.0000 - val_loss: 7.6708 - val_accuracy: 0.3912\n",
            "Epoch 402/500\n",
            "204/204 [==============================] - 32s 158ms/step - loss: 5.7862e-05 - accuracy: 1.0000 - val_loss: 7.7692 - val_accuracy: 0.3936\n",
            "Epoch 403/500\n",
            "204/204 [==============================] - 32s 156ms/step - loss: 1.6338e-04 - accuracy: 1.0000 - val_loss: 7.8960 - val_accuracy: 0.3844\n",
            "Epoch 404/500\n",
            "204/204 [==============================] - 32s 156ms/step - loss: 9.2240e-05 - accuracy: 1.0000 - val_loss: 8.0659 - val_accuracy: 0.3961\n",
            "Epoch 405/500\n",
            "204/204 [==============================] - 33s 162ms/step - loss: 9.3523e-05 - accuracy: 1.0000 - val_loss: 8.2100 - val_accuracy: 0.3887\n",
            "Epoch 406/500\n",
            "204/204 [==============================] - 32s 155ms/step - loss: 0.0173 - accuracy: 0.9965 - val_loss: 6.4029 - val_accuracy: 0.3814\n",
            "Epoch 407/500\n",
            "204/204 [==============================] - 32s 157ms/step - loss: 0.0482 - accuracy: 0.9871 - val_loss: 5.3084 - val_accuracy: 0.3973\n",
            "Epoch 408/500\n",
            "204/204 [==============================] - 33s 161ms/step - loss: 0.0132 - accuracy: 0.9962 - val_loss: 5.6260 - val_accuracy: 0.3961\n",
            "Epoch 409/500\n",
            "204/204 [==============================] - 33s 161ms/step - loss: 0.0062 - accuracy: 0.9986 - val_loss: 5.8427 - val_accuracy: 0.3961\n",
            "Epoch 410/500\n",
            "204/204 [==============================] - 32s 155ms/step - loss: 0.0027 - accuracy: 0.9992 - val_loss: 6.1635 - val_accuracy: 0.3955\n",
            "Epoch 411/500\n",
            "204/204 [==============================] - 32s 157ms/step - loss: 7.4825e-04 - accuracy: 0.9998 - val_loss: 6.3473 - val_accuracy: 0.3961\n",
            "Epoch 412/500\n",
            "204/204 [==============================] - 32s 156ms/step - loss: 8.1671e-04 - accuracy: 0.9997 - val_loss: 6.5234 - val_accuracy: 0.3973\n",
            "Epoch 413/500\n",
            "204/204 [==============================] - 33s 160ms/step - loss: 0.0017 - accuracy: 0.9998 - val_loss: 6.4880 - val_accuracy: 0.3961\n",
            "Epoch 414/500\n",
            "204/204 [==============================] - 32s 157ms/step - loss: 9.8311e-04 - accuracy: 0.9997 - val_loss: 6.5565 - val_accuracy: 0.3979\n",
            "Epoch 415/500\n",
            "204/204 [==============================] - 32s 157ms/step - loss: 1.3924e-04 - accuracy: 1.0000 - val_loss: 6.6945 - val_accuracy: 0.3942\n",
            "Epoch 416/500\n",
            "204/204 [==============================] - 33s 162ms/step - loss: 1.5585e-04 - accuracy: 1.0000 - val_loss: 6.8351 - val_accuracy: 0.3948\n",
            "Epoch 417/500\n",
            "204/204 [==============================] - 32s 158ms/step - loss: 1.7040e-04 - accuracy: 1.0000 - val_loss: 7.0219 - val_accuracy: 0.3918\n",
            "Epoch 418/500\n",
            "204/204 [==============================] - 32s 156ms/step - loss: 6.7772e-05 - accuracy: 1.0000 - val_loss: 7.0957 - val_accuracy: 0.3948\n",
            "Epoch 419/500\n",
            "204/204 [==============================] - 32s 158ms/step - loss: 4.9582e-05 - accuracy: 1.0000 - val_loss: 7.1801 - val_accuracy: 0.3948\n",
            "Epoch 420/500\n",
            "204/204 [==============================] - 32s 157ms/step - loss: 3.8609e-05 - accuracy: 1.0000 - val_loss: 7.2488 - val_accuracy: 0.3942\n",
            "Epoch 421/500\n",
            "204/204 [==============================] - 33s 163ms/step - loss: 6.2452e-05 - accuracy: 1.0000 - val_loss: 7.3504 - val_accuracy: 0.3967\n",
            "Epoch 422/500\n",
            "204/204 [==============================] - 32s 156ms/step - loss: 2.9050e-05 - accuracy: 1.0000 - val_loss: 7.4290 - val_accuracy: 0.3967\n",
            "Epoch 423/500\n",
            "204/204 [==============================] - 32s 156ms/step - loss: 0.0061 - accuracy: 0.9988 - val_loss: 6.6801 - val_accuracy: 0.3973\n",
            "Epoch 424/500\n",
            "204/204 [==============================] - 33s 162ms/step - loss: 0.0240 - accuracy: 0.9942 - val_loss: 5.5778 - val_accuracy: 0.3826\n",
            "Epoch 425/500\n",
            "204/204 [==============================] - 32s 155ms/step - loss: 0.0129 - accuracy: 0.9956 - val_loss: 5.9984 - val_accuracy: 0.3783\n",
            "Epoch 426/500\n",
            "204/204 [==============================] - 32s 155ms/step - loss: 0.0078 - accuracy: 0.9982 - val_loss: 5.8717 - val_accuracy: 0.3924\n",
            "Epoch 427/500\n",
            "204/204 [==============================] - 33s 160ms/step - loss: 0.0053 - accuracy: 0.9994 - val_loss: 6.3572 - val_accuracy: 0.3912\n",
            "Epoch 428/500\n",
            "204/204 [==============================] - 33s 162ms/step - loss: 0.0022 - accuracy: 0.9995 - val_loss: 6.6758 - val_accuracy: 0.3850\n",
            "Epoch 429/500\n",
            "204/204 [==============================] - 32s 158ms/step - loss: 1.6939e-04 - accuracy: 1.0000 - val_loss: 6.8140 - val_accuracy: 0.3863\n",
            "Epoch 430/500\n",
            "204/204 [==============================] - 32s 158ms/step - loss: 6.0275e-04 - accuracy: 0.9997 - val_loss: 6.9375 - val_accuracy: 0.3869\n",
            "Epoch 431/500\n",
            "204/204 [==============================] - 34s 169ms/step - loss: 0.0025 - accuracy: 0.9991 - val_loss: 6.9659 - val_accuracy: 0.3703\n",
            "Epoch 432/500\n",
            "204/204 [==============================] - 33s 161ms/step - loss: 0.0010 - accuracy: 0.9997 - val_loss: 7.2345 - val_accuracy: 0.3832\n",
            "Epoch 433/500\n",
            "204/204 [==============================] - 33s 159ms/step - loss: 0.0023 - accuracy: 0.9992 - val_loss: 7.3768 - val_accuracy: 0.3887\n",
            "Epoch 434/500\n",
            "204/204 [==============================] - 33s 163ms/step - loss: 0.0024 - accuracy: 0.9994 - val_loss: 7.6783 - val_accuracy: 0.3838\n",
            "Epoch 435/500\n",
            "204/204 [==============================] - 33s 163ms/step - loss: 0.0200 - accuracy: 0.9946 - val_loss: 6.6876 - val_accuracy: 0.3857\n",
            "Epoch 436/500\n",
            "204/204 [==============================] - 33s 161ms/step - loss: 0.0072 - accuracy: 0.9983 - val_loss: 6.5063 - val_accuracy: 0.3777\n",
            "Epoch 437/500\n",
            "204/204 [==============================] - 33s 160ms/step - loss: 0.0048 - accuracy: 0.9985 - val_loss: 6.6375 - val_accuracy: 0.3801\n",
            "Epoch 438/500\n",
            "204/204 [==============================] - 33s 161ms/step - loss: 0.0023 - accuracy: 0.9997 - val_loss: 7.0017 - val_accuracy: 0.3838\n",
            "Epoch 439/500\n",
            "204/204 [==============================] - 32s 156ms/step - loss: 0.0031 - accuracy: 0.9995 - val_loss: 6.8691 - val_accuracy: 0.3857\n",
            "Epoch 440/500\n",
            "204/204 [==============================] - 33s 160ms/step - loss: 0.0044 - accuracy: 0.9994 - val_loss: 6.9250 - val_accuracy: 0.3899\n",
            "Epoch 441/500\n",
            "204/204 [==============================] - 32s 157ms/step - loss: 9.5736e-04 - accuracy: 0.9997 - val_loss: 7.1052 - val_accuracy: 0.3844\n",
            "Epoch 442/500\n",
            "204/204 [==============================] - 33s 161ms/step - loss: 0.0059 - accuracy: 0.9983 - val_loss: 7.0134 - val_accuracy: 0.3734\n",
            "Epoch 443/500\n",
            "204/204 [==============================] - 34s 166ms/step - loss: 0.0056 - accuracy: 0.9985 - val_loss: 6.9607 - val_accuracy: 0.3881\n",
            "Epoch 444/500\n",
            "204/204 [==============================] - 33s 160ms/step - loss: 0.0016 - accuracy: 0.9995 - val_loss: 7.1275 - val_accuracy: 0.3912\n",
            "Epoch 445/500\n",
            "204/204 [==============================] - 45s 219ms/step - loss: 0.0073 - accuracy: 0.9986 - val_loss: 6.8525 - val_accuracy: 0.3820\n",
            "Epoch 446/500\n",
            "204/204 [==============================] - 34s 165ms/step - loss: 4.9411e-04 - accuracy: 0.9998 - val_loss: 7.1264 - val_accuracy: 0.3869\n",
            "Epoch 447/500\n",
            "204/204 [==============================] - 33s 162ms/step - loss: 0.0011 - accuracy: 0.9995 - val_loss: 7.2411 - val_accuracy: 0.3912\n",
            "Epoch 448/500\n",
            "204/204 [==============================] - 37s 180ms/step - loss: 1.2208e-04 - accuracy: 1.0000 - val_loss: 7.3762 - val_accuracy: 0.3893\n",
            "Epoch 449/500\n",
            "204/204 [==============================] - 34s 168ms/step - loss: 1.1542e-04 - accuracy: 1.0000 - val_loss: 7.4867 - val_accuracy: 0.3881\n",
            "Epoch 450/500\n",
            "204/204 [==============================] - 33s 163ms/step - loss: 6.1111e-05 - accuracy: 1.0000 - val_loss: 7.5719 - val_accuracy: 0.3875\n",
            "Epoch 451/500\n",
            "204/204 [==============================] - 33s 160ms/step - loss: 7.1286e-04 - accuracy: 0.9998 - val_loss: 7.6099 - val_accuracy: 0.3893\n",
            "Epoch 452/500\n",
            "204/204 [==============================] - 34s 166ms/step - loss: 0.0012 - accuracy: 0.9995 - val_loss: 7.7033 - val_accuracy: 0.3924\n",
            "Epoch 453/500\n",
            "204/204 [==============================] - 33s 160ms/step - loss: 5.9444e-05 - accuracy: 1.0000 - val_loss: 7.8142 - val_accuracy: 0.3906\n",
            "Epoch 454/500\n",
            "204/204 [==============================] - 34s 165ms/step - loss: 0.0022 - accuracy: 0.9998 - val_loss: 8.0962 - val_accuracy: 0.4102\n",
            "Epoch 455/500\n",
            "204/204 [==============================] - 33s 161ms/step - loss: 0.0237 - accuracy: 0.9933 - val_loss: 6.0694 - val_accuracy: 0.3863\n",
            "Epoch 456/500\n",
            "204/204 [==============================] - 34s 165ms/step - loss: 0.0222 - accuracy: 0.9943 - val_loss: 5.8965 - val_accuracy: 0.3924\n",
            "Epoch 457/500\n",
            "204/204 [==============================] - 32s 156ms/step - loss: 0.0072 - accuracy: 0.9979 - val_loss: 5.8078 - val_accuracy: 0.3881\n",
            "Epoch 458/500\n",
            "204/204 [==============================] - 32s 156ms/step - loss: 0.0038 - accuracy: 0.9994 - val_loss: 6.0432 - val_accuracy: 0.3869\n",
            "Epoch 459/500\n",
            "204/204 [==============================] - 33s 164ms/step - loss: 4.8118e-04 - accuracy: 0.9998 - val_loss: 6.2466 - val_accuracy: 0.3918\n",
            "Epoch 460/500\n",
            "204/204 [==============================] - 32s 158ms/step - loss: 1.8585e-04 - accuracy: 1.0000 - val_loss: 6.4074 - val_accuracy: 0.3899\n",
            "Epoch 461/500\n",
            "204/204 [==============================] - 32s 155ms/step - loss: 1.8310e-04 - accuracy: 1.0000 - val_loss: 6.5395 - val_accuracy: 0.3918\n",
            "Epoch 462/500\n",
            "204/204 [==============================] - 32s 157ms/step - loss: 2.4867e-04 - accuracy: 1.0000 - val_loss: 6.7849 - val_accuracy: 0.3918\n",
            "Epoch 463/500\n",
            "204/204 [==============================] - 33s 162ms/step - loss: 9.3654e-05 - accuracy: 1.0000 - val_loss: 6.8752 - val_accuracy: 0.3924\n",
            "Epoch 464/500\n",
            "204/204 [==============================] - 32s 158ms/step - loss: 1.2483e-04 - accuracy: 1.0000 - val_loss: 6.9966 - val_accuracy: 0.3930\n",
            "Epoch 465/500\n",
            "204/204 [==============================] - 32s 159ms/step - loss: 1.1165e-04 - accuracy: 1.0000 - val_loss: 7.0681 - val_accuracy: 0.3918\n",
            "Epoch 466/500\n",
            "204/204 [==============================] - 33s 162ms/step - loss: 7.1923e-05 - accuracy: 1.0000 - val_loss: 7.1331 - val_accuracy: 0.3942\n",
            "Epoch 467/500\n",
            "204/204 [==============================] - 32s 157ms/step - loss: 6.2346e-05 - accuracy: 1.0000 - val_loss: 7.2352 - val_accuracy: 0.3948\n",
            "Epoch 468/500\n",
            "204/204 [==============================] - 32s 156ms/step - loss: 4.6236e-05 - accuracy: 1.0000 - val_loss: 7.3015 - val_accuracy: 0.3967\n",
            "Epoch 469/500\n",
            "204/204 [==============================] - 32s 156ms/step - loss: 1.3464e-04 - accuracy: 1.0000 - val_loss: 7.3492 - val_accuracy: 0.3899\n",
            "Epoch 470/500\n",
            "204/204 [==============================] - 33s 163ms/step - loss: 0.0199 - accuracy: 0.9948 - val_loss: 6.1895 - val_accuracy: 0.3765\n",
            "Epoch 471/500\n",
            "204/204 [==============================] - 32s 156ms/step - loss: 0.0152 - accuracy: 0.9959 - val_loss: 6.3357 - val_accuracy: 0.3912\n",
            "Epoch 472/500\n",
            "204/204 [==============================] - 32s 155ms/step - loss: 0.0082 - accuracy: 0.9980 - val_loss: 5.9816 - val_accuracy: 0.3789\n",
            "Epoch 473/500\n",
            "204/204 [==============================] - 33s 162ms/step - loss: 0.0031 - accuracy: 0.9991 - val_loss: 6.3419 - val_accuracy: 0.3893\n",
            "Epoch 474/500\n",
            "204/204 [==============================] - 32s 159ms/step - loss: 0.0012 - accuracy: 0.9998 - val_loss: 6.5983 - val_accuracy: 0.3875\n",
            "Epoch 475/500\n",
            "204/204 [==============================] - 32s 159ms/step - loss: 0.0035 - accuracy: 0.9991 - val_loss: 6.6499 - val_accuracy: 0.3844\n",
            "Epoch 476/500\n",
            "204/204 [==============================] - 32s 158ms/step - loss: 0.0029 - accuracy: 0.9994 - val_loss: 6.6702 - val_accuracy: 0.3850\n",
            "Epoch 477/500\n",
            "204/204 [==============================] - 33s 164ms/step - loss: 0.0012 - accuracy: 0.9995 - val_loss: 6.8894 - val_accuracy: 0.3795\n",
            "Epoch 478/500\n",
            "204/204 [==============================] - 32s 158ms/step - loss: 4.4619e-04 - accuracy: 1.0000 - val_loss: 7.1085 - val_accuracy: 0.3826\n",
            "Epoch 479/500\n",
            "204/204 [==============================] - 32s 158ms/step - loss: 1.9813e-04 - accuracy: 1.0000 - val_loss: 7.2859 - val_accuracy: 0.3850\n",
            "Epoch 480/500\n",
            "204/204 [==============================] - 33s 162ms/step - loss: 5.5293e-05 - accuracy: 1.0000 - val_loss: 7.3727 - val_accuracy: 0.3850\n",
            "Epoch 481/500\n",
            "204/204 [==============================] - 32s 156ms/step - loss: 2.1964e-04 - accuracy: 0.9998 - val_loss: 7.5283 - val_accuracy: 0.3771\n",
            "Epoch 482/500\n",
            "204/204 [==============================] - 33s 160ms/step - loss: 8.4718e-05 - accuracy: 1.0000 - val_loss: 7.6285 - val_accuracy: 0.3801\n",
            "Epoch 483/500\n",
            "204/204 [==============================] - 33s 160ms/step - loss: 1.0080e-04 - accuracy: 1.0000 - val_loss: 7.7092 - val_accuracy: 0.3807\n",
            "Epoch 484/500\n",
            "204/204 [==============================] - 34s 166ms/step - loss: 5.3803e-05 - accuracy: 1.0000 - val_loss: 7.7883 - val_accuracy: 0.3869\n",
            "Epoch 485/500\n",
            "204/204 [==============================] - 33s 160ms/step - loss: 2.7311e-05 - accuracy: 1.0000 - val_loss: 7.8586 - val_accuracy: 0.3875\n",
            "Epoch 486/500\n",
            "204/204 [==============================] - 34s 166ms/step - loss: 4.7869e-05 - accuracy: 1.0000 - val_loss: 7.9139 - val_accuracy: 0.3887\n",
            "Epoch 487/500\n",
            "204/204 [==============================] - 32s 158ms/step - loss: 1.4751e-05 - accuracy: 1.0000 - val_loss: 7.9684 - val_accuracy: 0.3881\n",
            "Epoch 488/500\n",
            "204/204 [==============================] - 32s 157ms/step - loss: 8.2821e-05 - accuracy: 1.0000 - val_loss: 8.1770 - val_accuracy: 0.3875\n",
            "Epoch 489/500\n",
            "204/204 [==============================] - 32s 156ms/step - loss: 1.7455e-05 - accuracy: 1.0000 - val_loss: 8.2274 - val_accuracy: 0.3906\n",
            "Epoch 490/500\n",
            "204/204 [==============================] - 33s 160ms/step - loss: 1.6128e-05 - accuracy: 1.0000 - val_loss: 8.2856 - val_accuracy: 0.3912\n",
            "Epoch 491/500\n",
            "204/204 [==============================] - 33s 160ms/step - loss: 1.3231e-05 - accuracy: 1.0000 - val_loss: 8.3469 - val_accuracy: 0.3912\n",
            "Epoch 492/500\n",
            "204/204 [==============================] - 32s 157ms/step - loss: 1.6275e-05 - accuracy: 1.0000 - val_loss: 8.3679 - val_accuracy: 0.3899\n",
            "Epoch 493/500\n",
            "204/204 [==============================] - 33s 162ms/step - loss: 1.0949e-05 - accuracy: 1.0000 - val_loss: 8.4297 - val_accuracy: 0.3912\n",
            "Epoch 494/500\n",
            "204/204 [==============================] - 32s 155ms/step - loss: 2.0717e-05 - accuracy: 1.0000 - val_loss: 8.5432 - val_accuracy: 0.3961\n",
            "Epoch 495/500\n",
            "204/204 [==============================] - 32s 156ms/step - loss: 9.5982e-06 - accuracy: 1.0000 - val_loss: 8.6149 - val_accuracy: 0.3961\n",
            "Epoch 496/500\n",
            "204/204 [==============================] - 32s 159ms/step - loss: 2.3690e-05 - accuracy: 1.0000 - val_loss: 8.7703 - val_accuracy: 0.4010\n",
            "Epoch 497/500\n",
            "204/204 [==============================] - 33s 162ms/step - loss: 5.3591e-06 - accuracy: 1.0000 - val_loss: 8.8125 - val_accuracy: 0.3991\n",
            "Epoch 498/500\n",
            "204/204 [==============================] - 32s 159ms/step - loss: 1.6746e-05 - accuracy: 1.0000 - val_loss: 8.9383 - val_accuracy: 0.3973\n",
            "Epoch 499/500\n",
            "204/204 [==============================] - 32s 156ms/step - loss: 4.5204e-06 - accuracy: 1.0000 - val_loss: 8.9847 - val_accuracy: 0.3973\n",
            "Epoch 500/500\n",
            "204/204 [==============================] - 34s 165ms/step - loss: 0.0336 - accuracy: 0.9910 - val_loss: 6.5867 - val_accuracy: 0.3918\n"
          ]
        }
      ]
    },
    {
      "cell_type": "code",
      "source": [
        "import matplotlib.pyplot as plt\n",
        "import seaborn as sns\n",
        "epoch_count = range(1, len(hist.history['accuracy']) + 1)\n",
        "sns.lineplot(x=epoch_count,  y=hist.history['accuracy'], label='train')\n",
        "sns.lineplot(x=epoch_count,  y=hist.history['val_accuracy'], label='valid')\n",
        "plt.show()"
      ],
      "metadata": {
        "colab": {
          "base_uri": "https://localhost:8080/",
          "height": 265
        },
        "id": "llVwDKrBUopN",
        "outputId": "086f5df2-fde8-4b9b-c870-30cfe3815864"
      },
      "execution_count": 53,
      "outputs": [
        {
          "output_type": "display_data",
          "data": {
            "text/plain": [
              "<Figure size 432x288 with 1 Axes>"
            ],
            "image/png": "[encoded data removed]"
          },
          "metadata": {
            "needs_background": "light"
          }
        }
      ]
    },
    {
      "cell_type": "code",
      "source": [
        "model.evaluate(X_test, y_test)"
      ],
      "metadata": {
        "colab": {
          "base_uri": "https://localhost:8080/"
        },
        "id": "DDMhRBIwUpkC",
        "outputId": "0242579b-18ad-492c-a709-463d2bea3180"
      },
      "execution_count": 54,
      "outputs": [
        {
          "output_type": "stream",
          "name": "stdout",
          "text": [
            "64/64 [==============================] - 2s 36ms/step - loss: 6.6259 - accuracy: 0.4022\n"
          ]
        },
        {
          "output_type": "execute_result",
          "data": {
            "text/plain": [
              "[6.625930309295654, 0.4021579325199127]"
            ]
          },
          "metadata": {},
          "execution_count": 54
        }
      ]
    }
  ],
  "metadata": {
    "colab": {
      "provenance": []
    },
    "gpuClass": "standard",
    "kernelspec": {
      "display_name": "Python 3",
      "name": "python3"
    },
    "language_info": {
      "name": "python"
    }
  },
  "nbformat": 4,
  "nbformat_minor": 0
}