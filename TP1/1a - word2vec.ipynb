{
 "nbformat": 4,
 "nbformat_minor": 0,
 "metadata": {
  "colab": {
   "name": "1a - word2vec.ipynb",
   "provenance": [],
   "collapsed_sections": [],
   "authorship_tag": "ABX9TyO5fRYTpympAwJSVbric6dW"
  },
  "kernelspec": {
   "name": "python3",
   "display_name": "Python 3"
  },
  "language_info": {
   "name": "python"
  }
 },
 "cells": [
  {
   "cell_type": "markdown",
   "metadata": {
    "id": "Ue5hxxkdAQJg",
    "pycharm": {
     "name": "#%% md\n"
    }
   },
   "source": [
    "<img src=\"https://github.com/FIUBA-Posgrado-Inteligencia-Artificial/procesamiento_lenguaje_natural/raw/main/logoFIUBA.jpg\" width=\"500\" align=\"center\">\n",
    "\n",
    "\n",
    "# Procesamiento de lenguaje natural\n",
    "## Word2vect\n"
   ]
  },
  {
   "cell_type": "code",
   "metadata": {
    "id": "kCED1hh-Ioyf",
    "pycharm": {
     "name": "#%%\n"
    }
   },
   "source": [
    "import numpy as np\n",
    "import pandas as pd"
   ],
   "execution_count": 92,
   "outputs": []
  },
  {
   "cell_type": "code",
   "metadata": {
    "id": "PUbfVnzIIoMj",
    "pycharm": {
     "name": "#%%\n"
    }
   },
   "source": [
    "def cosine_similarity(a, b):\n",
    "    return np.dot(a, b) / (np.linalg.norm(a) * (np.linalg.norm(b)))"
   ],
   "execution_count": 93,
   "outputs": []
  },
  {
   "cell_type": "markdown",
   "metadata": {
    "id": "DMOa4JPSCJ29",
    "pycharm": {
     "name": "#%% md\n"
    }
   },
   "source": [
    "### Datos"
   ]
  },
  {
   "cell_type": "code",
   "metadata": {
    "id": "RIO7b8GjAC17",
    "pycharm": {
     "name": "#%%\n"
    }
   },
   "source": [
    "corpus = np.array(['que dia es hoy', 'martes el dia de hoy es martes', 'martes muchas gracias'])"
   ],
   "execution_count": 94,
   "outputs": []
  },
  {
   "cell_type": "markdown",
   "metadata": {
    "id": "8WqdaTmO8P1r",
    "pycharm": {
     "name": "#%% md\n"
    }
   },
   "source": [
    "Documento 1 --> que dia es hoy \\\n",
    "Documento 2 --> martes el dia de hoy es martes \\\n",
    "Documento 3 --> martes muchas gracias"
   ]
  },
  {
   "cell_type": "markdown",
   "metadata": {
    "id": "FVHxBRNzCMOS",
    "pycharm": {
     "name": "#%% md\n"
    }
   },
   "source": [
    "### 1 - Obtener el vocabulario del corpus (los términos utilizados)\n",
    "- Cada documento transformarlo en una lista de términos\n",
    "- Armar un vector de términos no repetidos de todos los documentos"
   ]
  },
  {
   "cell_type": "code",
   "metadata": {
    "id": "3ZqTOZzDI7uv",
    "pycharm": {
     "name": "#%%\n"
    }
   },
   "source": [
    "#Lista de términos t1, t2 y t3 de los 3 documentos\n",
    "t1 = corpus[0].split(\" \")\n",
    "t2 = corpus[1].split(\" \")\n",
    "t3 = corpus[2].split(\" \")\n",
    "print(f'lista de terminos')\n",
    "print(f't1 :',t1)\n",
    "print(f't2 :',t2)\n",
    "print(f't3 :',t3)\n",
    "# print(t1,t2,t3)\n",
    "# vect, términos no repetidos de los documentos\n",
    "print(f'Vector de términos no repetidos :', np.array(set(t1+t2+t3)))\n"
   ],
   "execution_count": 95,
   "outputs": [
    {
     "name": "stdout",
     "output_type": "stream",
     "text": [
      "lista de terminos\n",
      "t1 : ['que', 'dia', 'es', 'hoy']\n",
      "t2 : ['martes', 'el', 'dia', 'de', 'hoy', 'es', 'martes']\n",
      "t3 : ['martes', 'muchas', 'gracias']\n",
      "Vector de términos no repetidos : {'es', 'muchas', 'el', 'martes', 'dia', 'que', 'de', 'gracias', 'hoy'}\n"
     ]
    }
   ]
  },
  {
   "cell_type": "markdown",
   "metadata": {
    "id": "RUhH983FI7It",
    "pycharm": {
     "name": "#%% md\n"
    }
   },
   "source": [
    "### 2- OneHot encoding\n",
    "Data una lista de textos, devolver una matriz con la representación oneHotEncoding de estos"
   ]
  },
  {
   "cell_type": "code",
   "execution_count": 96,
   "outputs": [],
   "source": [
    "def One_Hot(text):\n",
    "    t=list()\n",
    "    for i in range(len(text)):\n",
    "        t +=text[i].split(\" \")\n",
    "    uni_t = set(t)\n",
    "    char_to_int = dict((c, i) for i, c in enumerate(uni_t))\n",
    "    # int_to_char = dict((i, c) for i, c in enumerate(uni_t))\n",
    "    # print(f'char_to_int :', char_to_int)\n",
    "    matriz = np.zeros((len(text),len(uni_t)), dtype=int)\n",
    "    for i in range(len(text)):\n",
    "        int_encoded = [char_to_int[char] for char in set(text[i].split(\" \"))]\n",
    "        # print(f'int_encoded :',int_encoded)\n",
    "        onehot_encoded = list()\n",
    "        for j in int_encoded:\n",
    "\t        letter = [0 for _ in range(len(uni_t))]\n",
    "\t        letter[j] = 1\n",
    "\t        onehot_encoded.append(letter)\n",
    "        # print(f'onehot_encoded :',onehot_encoded)\n",
    "        one_hot = np.array(onehot_encoded)\n",
    "        one_hot = one_hot.sum(axis=0).reshape(1, -1)\n",
    "        # print(f'onehot_spot :',one_hot.shape)\n",
    "        matriz[i] = one_hot\n",
    "    # print(f'matriz :',matriz.shape)\n",
    "\n",
    "    df = pd.DataFrame(matriz)\n",
    "    df.set_axis(char_to_int, axis=1,inplace=True)\n",
    "    # print(df.shape)\n",
    "    return df"
   ],
   "metadata": {
    "collapsed": false,
    "pycharm": {
     "name": "#%%\n"
    }
   }
  },
  {
   "cell_type": "code",
   "execution_count": 97,
   "outputs": [
    {
     "name": "stdout",
     "output_type": "stream",
     "text": [
      "   es  muchas  el  martes  dia  que  de  gracias  hoy\n",
      "0   1       0   0       0    1    1   0        0    1\n",
      "1   1       0   1       1    1    0   1        0    1\n",
      "2   0       1   0       1    0    0   0        1    0\n"
     ]
    }
   ],
   "source": [
    "print(One_Hot(corpus))"
   ],
   "metadata": {
    "collapsed": false,
    "pycharm": {
     "name": "#%%\n"
    }
   }
  },
  {
   "cell_type": "markdown",
   "metadata": {
    "id": "IIyWGmCpJVQL",
    "pycharm": {
     "name": "#%% md\n"
    }
   },
   "source": [
    "### 3- Vectores de frecuencia\n",
    "Data una lista de textos, devolver una matriz con la representación de frecuencia de estos"
   ]
  },
  {
   "cell_type": "code",
   "execution_count": 98,
   "outputs": [],
   "source": [
    "def Count_Vect(text):\n",
    "    #t = text.split(\" \")\n",
    "    a=list()\n",
    "    for i in range(len(text)):\n",
    "        a +=corpus[i].split(\" \")\n",
    "    uni_t = set(a)\n",
    "    char_to_int = dict((c, i) for i, c in enumerate(uni_t))\n",
    "    matriz = np.zeros((len(text),len(uni_t)), dtype=int)\n",
    "    df= pd.DataFrame([char_to_int])\n",
    "    df=df.drop([0],axis=0)\n",
    "    for j in range(len(text)):\n",
    "        t = text[j].split(\" \")\n",
    "        count = {}\n",
    "        for i in t:\n",
    "            if not i in count:\n",
    "                count[i] = 1\n",
    "            else:\n",
    "                count[i] +=1\n",
    "\n",
    "        df1 = pd.DataFrame([count])\n",
    "        df = pd.concat([df, df1], ignore_index=True)\n",
    "\n",
    "\n",
    "    df = df.fillna(0)\n",
    "\n",
    "    return df.astype(int)"
   ],
   "metadata": {
    "collapsed": false,
    "pycharm": {
     "name": "#%%\n"
    }
   }
  },
  {
   "cell_type": "code",
   "execution_count": 99,
   "outputs": [
    {
     "name": "stdout",
     "output_type": "stream",
     "text": [
      "   es  muchas  el  martes  dia  que  de  gracias  hoy\n",
      "0   1       0   0       0    1    1   0        0    1\n",
      "1   1       0   1       2    1    0   1        0    1\n",
      "2   0       1   0       1    0    0   0        1    0\n"
     ]
    }
   ],
   "source": [
    "print(Count_Vect(corpus))"
   ],
   "metadata": {
    "collapsed": false,
    "pycharm": {
     "name": "#%%\n"
    }
   }
  },
  {
   "cell_type": "markdown",
   "metadata": {
    "id": "z_Ot8HvWJcBu",
    "pycharm": {
     "name": "#%% md\n"
    }
   },
   "source": [
    "### 4- TF-IDF\n",
    "Data una lista de textos, devolver una matriz con la representacion TFIDF"
   ]
  },
  {
   "cell_type": "code",
   "metadata": {
    "id": "waG_oWtpJjRw",
    "pycharm": {
     "name": "#%%\n"
    }
   },
   "source": [
    "def tf_idf(text):\n",
    "    num = len(text)\n",
    "    idf =np.log(num/One_Hot(text).sum(axis=0))\n",
    "    tf = Count_Vect(text)\n",
    "    tf_idf = pd.DataFrame(tf*idf)\n",
    "    return tf_idf"
   ],
   "execution_count": 100,
   "outputs": []
  },
  {
   "cell_type": "code",
   "execution_count": 101,
   "outputs": [
    {
     "name": "stdout",
     "output_type": "stream",
     "text": [
      "         es    muchas        el    martes       dia       que        de  \\\n",
      "0  0.405465  0.000000  0.000000  0.000000  0.405465  1.098612  0.000000   \n",
      "1  0.405465  0.000000  1.098612  0.810930  0.405465  0.000000  1.098612   \n",
      "2  0.000000  1.098612  0.000000  0.405465  0.000000  0.000000  0.000000   \n",
      "\n",
      "    gracias       hoy  \n",
      "0  0.000000  0.405465  \n",
      "1  0.000000  0.405465  \n",
      "2  1.098612  0.000000  \n"
     ]
    }
   ],
   "source": [
    "print(tf_idf(corpus))"
   ],
   "metadata": {
    "collapsed": false,
    "pycharm": {
     "name": "#%%\n"
    }
   }
  },
  {
   "cell_type": "markdown",
   "metadata": {
    "id": "xMcsfndWJjm_",
    "pycharm": {
     "name": "#%% md\n"
    }
   },
   "source": [
    "### 5 - Comparación de documentos\n",
    "Realizar una funcion que reciba el corpus y el índice de un documento y devuelva los documentos ordenados por la similitud coseno"
   ]
  },
  {
   "cell_type": "code",
   "execution_count": 102,
   "outputs": [],
   "source": [
    "def comp_docs(text,indice1):\n",
    "    index = len(text)\n",
    "    df = tf_idf(text)\n",
    "    a=np.zeros(index, dtype=float)\n",
    "\n",
    "    for i in range(index):\n",
    "        print(f'Text {i}: ',text[i])\n",
    "        a [i]= cosine_similarity(df.iloc[indice1],df.iloc[i])\n",
    "\n",
    "    print('Ordenamiento según similitud cos \\n',a)\n",
    "    b=0\n",
    "    for i in range(index):\n",
    "        if a[i]>0.99:\n",
    "            # print(f'Text {0}: ',text[indice1])\n",
    "            d=text[indice1]\n",
    "        else:\n",
    "            if a[i] > b:\n",
    "                b=a[i]\n",
    "                # print(f'Text {1}: ',text[i])\n",
    "                e=text[i]\n",
    "            else:\n",
    "                # print(f'Text {2}: ',text[i])\n",
    "                f=text[i]\n",
    "\n",
    "    print(f'Text {0}:',d)\n",
    "    print(f'Text {1}:',e)\n",
    "    print(f'Text {2}:',f)\n",
    "    print(np.sort(a))\n",
    "    return"
   ],
   "metadata": {
    "collapsed": false,
    "pycharm": {
     "name": "#%%\n"
    }
   }
  },
  {
   "cell_type": "code",
   "execution_count": 104,
   "outputs": [
    {
     "name": "stdout",
     "output_type": "stream",
     "text": [
      "Text 0:  que dia es hoy\n",
      "Text 1:  martes el dia de hoy es martes\n",
      "Text 2:  martes muchas gracias\n",
      "Ordenamiento según similitud cos \n",
      " [0.2003419  1.         0.10845712]\n",
      "Text 0: martes el dia de hoy es martes\n",
      "Text 1: que dia es hoy\n",
      "Text 2: martes muchas gracias\n",
      "[0.10845712 0.2003419  1.        ]\n"
     ]
    }
   ],
   "source": [
    "comp_docs(corpus,1)"
   ],
   "metadata": {
    "collapsed": false,
    "pycharm": {
     "name": "#%%\n"
    }
   }
  },
  {
   "cell_type": "code",
   "execution_count": null,
   "outputs": [],
   "source": [],
   "metadata": {
    "collapsed": false,
    "pycharm": {
     "name": "#%%\n"
    }
   }
  }
 ]
}