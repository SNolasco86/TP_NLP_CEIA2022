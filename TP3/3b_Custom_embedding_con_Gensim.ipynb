{
  "cells": [
    {
      "cell_type": "markdown",
      "metadata": {
        "id": "sZd5yLnnHOK0"
      },
      "source": [
        "<img src=\"https://github.com/hernancontigiani/ceia_memorias_especializacion/raw/master/Figures/logoFIUBA.jpg\" width=\"500\" align=\"center\">\n",
        "\n",
        "\n",
        "# Procesamiento de lenguaje natural\n",
        "## Custom embedddings con Gensim\n",
        "\n"
      ]
    },
    {
      "cell_type": "markdown",
      "metadata": {
        "id": "vA7nqkumo9z9"
      },
      "source": [
        "### Objetivo\n",
        "El objetivo es utilizar documentos / corpus para crear embeddings de palabras basado en ese contexto. Se utilizará canciones de bandas para generar los embeddings, es decir, que los vectores tendrán la forma en función de como esa banda haya utilizado las palabras en sus canciones."
      ]
    },
    {
      "cell_type": "code",
      "execution_count": 1,
      "metadata": {
        "id": "lFToQs5FK5uZ"
      },
      "outputs": [],
      "source": [
        "import pandas as pd\n",
        "import matplotlib.pyplot as plt\n",
        "import seaborn as sns\n",
        "\n",
        "import multiprocessing\n",
        "from gensim.models import Word2Vec"
      ]
    },
    {
      "cell_type": "markdown",
      "metadata": {
        "id": "g07zJxG7H9vG"
      },
      "source": [
        "### Datos\n",
        "Utilizaremos como dataset canciones de bandas de habla inglés."
      ]
    },
    {
      "cell_type": "code",
      "execution_count": 2,
      "metadata": {
        "id": "l7z4CSBfpR3X",
        "colab": {
          "base_uri": "https://localhost:8080/"
        },
        "outputId": "7d95dc8e-283c-45d6-b17e-5b8c0ebedd19"
      },
      "outputs": [
        {
          "output_type": "stream",
          "name": "stdout",
          "text": [
            "--2022-11-13 22:46:22--  http://songs_dataset.zip/\n",
            "Resolving songs_dataset.zip (songs_dataset.zip)... failed: Name or service not known.\n",
            "wget: unable to resolve host address ‘songs_dataset.zip’\n",
            "--2022-11-13 22:46:22--  https://github.com/FIUBA-Posgrado-Inteligencia-Artificial/procesamiento_lenguaje_natural/raw/main/datasets/songs_dataset.zip\n",
            "Resolving github.com (github.com)... 140.82.113.3\n",
            "Connecting to github.com (github.com)|140.82.113.3|:443... connected.\n",
            "HTTP request sent, awaiting response... 302 Found\n",
            "Location: https://raw.githubusercontent.com/FIUBA-Posgrado-Inteligencia-Artificial/procesamiento_lenguaje_natural/main/datasets/songs_dataset.zip [following]\n",
            "--2022-11-13 22:46:22--  https://raw.githubusercontent.com/FIUBA-Posgrado-Inteligencia-Artificial/procesamiento_lenguaje_natural/main/datasets/songs_dataset.zip\n",
            "Resolving raw.githubusercontent.com (raw.githubusercontent.com)... 185.199.108.133, 185.199.109.133, 185.199.110.133, ...\n",
            "Connecting to raw.githubusercontent.com (raw.githubusercontent.com)|185.199.108.133|:443... connected.\n",
            "HTTP request sent, awaiting response... 200 OK\n",
            "Length: 2075036 (2.0M) [application/zip]\n",
            "Saving to: ‘songs_dataset.zip’\n",
            "\n",
            "songs_dataset.zip   100%[===================>]   1.98M  --.-KB/s    in 0.06s   \n",
            "\n",
            "2022-11-13 22:46:23 (33.7 MB/s) - ‘songs_dataset.zip’ saved [2075036/2075036]\n",
            "\n",
            "FINISHED --2022-11-13 22:46:23--\n",
            "Total wall clock time: 0.8s\n",
            "Downloaded: 1 files, 2.0M in 0.06s (33.7 MB/s)\n"
          ]
        }
      ],
      "source": [
        "# Descargar la carpeta de dataset\n",
        "import os\n",
        "import platform\n",
        "if os.access('./songs_dataset', os.F_OK) is False:\n",
        "    if os.access('songs_dataset.zip', os.F_OK) is False:\n",
        "        if platform.system() == 'Windows':\n",
        "            !curl https://raw.githubusercontent.com/FIUBA-Posgrado-Inteligencia-Artificial/procesamiento_lenguaje_natural/main/datasets/songs_dataset.zip -o songs_dataset.zip\n",
        "        else:\n",
        "            !wget songs_dataset.zip https://github.com/FIUBA-Posgrado-Inteligencia-Artificial/procesamiento_lenguaje_natural/raw/main/datasets/songs_dataset.zip\n",
        "    !unzip -q songs_dataset.zip   \n",
        "else:\n",
        "    print(\"El dataset ya se encuentra descargado\")"
      ]
    },
    {
      "cell_type": "markdown",
      "source": [
        "### Se elije la artista \"Amy Winehouse\""
      ],
      "metadata": {
        "id": "ov2GI8R7JoXx"
      }
    },
    {
      "cell_type": "code",
      "execution_count": 3,
      "metadata": {
        "id": "mysGrIw9ljC2",
        "colab": {
          "base_uri": "https://localhost:8080/"
        },
        "outputId": "5990bc16-b6a5-4032-8a43-5dcd038890ec"
      },
      "outputs": [
        {
          "output_type": "execute_result",
          "data": {
            "text/plain": [
              "['lin-manuel-miranda.txt',\n",
              " 'jimi-hendrix.txt',\n",
              " 'leonard-cohen.txt',\n",
              " 'rihanna.txt',\n",
              " 'dolly-parton.txt',\n",
              " 'nickelback.txt',\n",
              " 'dj-khaled.txt',\n",
              " 'adele.txt',\n",
              " 'drake.txt',\n",
              " 'missy-elliott.txt',\n",
              " 'nirvana.txt',\n",
              " 'notorious_big.txt',\n",
              " 'bjork.txt',\n",
              " 'michael-jackson.txt',\n",
              " 'lil-wayne.txt',\n",
              " 'britney-spears.txt',\n",
              " 'blink-182.txt',\n",
              " 'dickinson.txt',\n",
              " 'r-kelly.txt',\n",
              " 'lorde.txt',\n",
              " 'johnny-cash.txt',\n",
              " 'cake.txt',\n",
              " 'bob-dylan.txt',\n",
              " 'janisjoplin.txt',\n",
              " 'bruce-springsteen.txt',\n",
              " 'al-green.txt',\n",
              " 'bieber.txt',\n",
              " 'bruno-mars.txt',\n",
              " 'prince.txt',\n",
              " 'bob-marley.txt',\n",
              " 'beatles.txt',\n",
              " 'joni-mitchell.txt',\n",
              " 'ludacris.txt',\n",
              " 'alicia-keys.txt',\n",
              " 'patti-smith.txt',\n",
              " 'kanye-west.txt',\n",
              " 'lady-gaga.txt',\n",
              " 'amy-winehouse.txt',\n",
              " 'disney.txt',\n",
              " 'eminem.txt',\n",
              " 'paul-simon.txt',\n",
              " 'Kanye_West.txt',\n",
              " 'dr-seuss.txt',\n",
              " 'nicki-minaj.txt',\n",
              " 'radiohead.txt',\n",
              " 'kanye.txt',\n",
              " 'notorious-big.txt',\n",
              " 'Lil_Wayne.txt',\n",
              " 'nursery_rhymes.txt']"
            ]
          },
          "metadata": {},
          "execution_count": 3
        }
      ],
      "source": [
        "# Posibles bandas\n",
        "os.listdir(\"./songs_dataset/\")"
      ]
    },
    {
      "cell_type": "code",
      "execution_count": 4,
      "metadata": {
        "id": "ticoqYD1Z3I7",
        "colab": {
          "base_uri": "https://localhost:8080/",
          "height": 261
        },
        "outputId": "fb7b0491-559b-4893-e2c2-c67d0aa5af3a"
      },
      "outputs": [
        {
          "output_type": "stream",
          "name": "stderr",
          "text": [
            "/usr/local/lib/python3.7/dist-packages/pandas/util/_decorators.py:311: ParserWarning: Falling back to the 'python' engine because the 'c' engine does not support regex separators (separators > 1 char and different from '\\s+' are interpreted as regex); you can avoid this warning by specifying engine='python'.\n",
            "  return func(*args, **kwargs)\n"
          ]
        },
        {
          "output_type": "execute_result",
          "data": {
            "text/plain": [
              "                                                   0\n",
              "0               Build your dreams to the stars above\n",
              "1                  But when you need someone to love\n",
              "2  Don't go to strangers, darling, come to me Pla...\n",
              "3          And when there's no place for you to turn\n",
              "4  Don't go to strangers, darling, come to me For..."
            ],
            "text/html": [
              "\n",
              "  <div id=\"df-55779fcd-ed84-4443-8e92-1ae7f5d8c19d\">\n",
              "    <div class=\"colab-df-container\">\n",
              "      <div>\n",
              "<style scoped>\n",
              "    .dataframe tbody tr th:only-of-type {\n",
              "        vertical-align: middle;\n",
              "    }\n",
              "\n",
              "    .dataframe tbody tr th {\n",
              "        vertical-align: top;\n",
              "    }\n",
              "\n",
              "    .dataframe thead th {\n",
              "        text-align: right;\n",
              "    }\n",
              "</style>\n",
              "<table border=\"1\" class=\"dataframe\">\n",
              "  <thead>\n",
              "    <tr style=\"text-align: right;\">\n",
              "      <th></th>\n",
              "      <th>0</th>\n",
              "    </tr>\n",
              "  </thead>\n",
              "  <tbody>\n",
              "    <tr>\n",
              "      <th>0</th>\n",
              "      <td>Build your dreams to the stars above</td>\n",
              "    </tr>\n",
              "    <tr>\n",
              "      <th>1</th>\n",
              "      <td>But when you need someone to love</td>\n",
              "    </tr>\n",
              "    <tr>\n",
              "      <th>2</th>\n",
              "      <td>Don't go to strangers, darling, come to me Pla...</td>\n",
              "    </tr>\n",
              "    <tr>\n",
              "      <th>3</th>\n",
              "      <td>And when there's no place for you to turn</td>\n",
              "    </tr>\n",
              "    <tr>\n",
              "      <th>4</th>\n",
              "      <td>Don't go to strangers, darling, come to me For...</td>\n",
              "    </tr>\n",
              "  </tbody>\n",
              "</table>\n",
              "</div>\n",
              "      <button class=\"colab-df-convert\" onclick=\"convertToInteractive('df-55779fcd-ed84-4443-8e92-1ae7f5d8c19d')\"\n",
              "              title=\"Convert this dataframe to an interactive table.\"\n",
              "              style=\"display:none;\">\n",
              "        \n",
              "  <svg xmlns=\"http://www.w3.org/2000/svg\" height=\"24px\"viewBox=\"0 0 24 24\"\n",
              "       width=\"24px\">\n",
              "    <path d=\"M0 0h24v24H0V0z\" fill=\"none\"/>\n",
              "    <path d=\"M18.56 5.44l.94 2.06.94-2.06 2.06-.94-2.06-.94-.94-2.06-.94 2.06-2.06.94zm-11 1L8.5 8.5l.94-2.06 2.06-.94-2.06-.94L8.5 2.5l-.94 2.06-2.06.94zm10 10l.94 2.06.94-2.06 2.06-.94-2.06-.94-.94-2.06-.94 2.06-2.06.94z\"/><path d=\"M17.41 7.96l-1.37-1.37c-.4-.4-.92-.59-1.43-.59-.52 0-1.04.2-1.43.59L10.3 9.45l-7.72 7.72c-.78.78-.78 2.05 0 2.83L4 21.41c.39.39.9.59 1.41.59.51 0 1.02-.2 1.41-.59l7.78-7.78 2.81-2.81c.8-.78.8-2.07 0-2.86zM5.41 20L4 18.59l7.72-7.72 1.47 1.35L5.41 20z\"/>\n",
              "  </svg>\n",
              "      </button>\n",
              "      \n",
              "  <style>\n",
              "    .colab-df-container {\n",
              "      display:flex;\n",
              "      flex-wrap:wrap;\n",
              "      gap: 12px;\n",
              "    }\n",
              "\n",
              "    .colab-df-convert {\n",
              "      background-color: #E8F0FE;\n",
              "      border: none;\n",
              "      border-radius: 50%;\n",
              "      cursor: pointer;\n",
              "      display: none;\n",
              "      fill: #1967D2;\n",
              "      height: 32px;\n",
              "      padding: 0 0 0 0;\n",
              "      width: 32px;\n",
              "    }\n",
              "\n",
              "    .colab-df-convert:hover {\n",
              "      background-color: #E2EBFA;\n",
              "      box-shadow: 0px 1px 2px rgba(60, 64, 67, 0.3), 0px 1px 3px 1px rgba(60, 64, 67, 0.15);\n",
              "      fill: #174EA6;\n",
              "    }\n",
              "\n",
              "    [theme=dark] .colab-df-convert {\n",
              "      background-color: #3B4455;\n",
              "      fill: #D2E3FC;\n",
              "    }\n",
              "\n",
              "    [theme=dark] .colab-df-convert:hover {\n",
              "      background-color: #434B5C;\n",
              "      box-shadow: 0px 1px 3px 1px rgba(0, 0, 0, 0.15);\n",
              "      filter: drop-shadow(0px 1px 2px rgba(0, 0, 0, 0.3));\n",
              "      fill: #FFFFFF;\n",
              "    }\n",
              "  </style>\n",
              "\n",
              "      <script>\n",
              "        const buttonEl =\n",
              "          document.querySelector('#df-55779fcd-ed84-4443-8e92-1ae7f5d8c19d button.colab-df-convert');\n",
              "        buttonEl.style.display =\n",
              "          google.colab.kernel.accessAllowed ? 'block' : 'none';\n",
              "\n",
              "        async function convertToInteractive(key) {\n",
              "          const element = document.querySelector('#df-55779fcd-ed84-4443-8e92-1ae7f5d8c19d');\n",
              "          const dataTable =\n",
              "            await google.colab.kernel.invokeFunction('convertToInteractive',\n",
              "                                                     [key], {});\n",
              "          if (!dataTable) return;\n",
              "\n",
              "          const docLinkHtml = 'Like what you see? Visit the ' +\n",
              "            '<a target=\"_blank\" href=https://colab.research.google.com/notebooks/data_table.ipynb>data table notebook</a>'\n",
              "            + ' to learn more about interactive tables.';\n",
              "          element.innerHTML = '';\n",
              "          dataTable['output_type'] = 'display_data';\n",
              "          await google.colab.output.renderOutput(dataTable, element);\n",
              "          const docLink = document.createElement('div');\n",
              "          docLink.innerHTML = docLinkHtml;\n",
              "          element.appendChild(docLink);\n",
              "        }\n",
              "      </script>\n",
              "    </div>\n",
              "  </div>\n",
              "  "
            ]
          },
          "metadata": {},
          "execution_count": 4
        }
      ],
      "source": [
        "# Armar el dataset utilizando salto de línea para separar las oraciones/docs\n",
        "df = pd.read_csv('songs_dataset/amy-winehouse.txt', sep='/n', header=None)\n",
        "df.head()"
      ]
    },
    {
      "cell_type": "code",
      "execution_count": 5,
      "metadata": {
        "id": "LEpKubK9XzXN",
        "colab": {
          "base_uri": "https://localhost:8080/"
        },
        "outputId": "4316905f-492b-4933-bff4-0317c2f6fb28"
      },
      "outputs": [
        {
          "output_type": "stream",
          "name": "stdout",
          "text": [
            "Cantidad de documentos: 1910\n"
          ]
        }
      ],
      "source": [
        "print(\"Cantidad de documentos:\", df.shape[0])"
      ]
    },
    {
      "cell_type": "markdown",
      "metadata": {
        "id": "ab94qaFlrA1G"
      },
      "source": [
        "### 1 - Preprocesamiento"
      ]
    },
    {
      "cell_type": "code",
      "execution_count": 6,
      "metadata": {
        "id": "rIsmMWmjrDHd"
      },
      "outputs": [],
      "source": [
        "from keras.preprocessing.text import text_to_word_sequence\n",
        "\n",
        "sentence_tokens = []\n",
        "# Recorrer todas las filas y transformar las oraciones\n",
        "# en una secuencia de palabras (esto podría realizarse con NLTK o spaCy también)\n",
        "for _, row in df[:None].iterrows():\n",
        "    sentence_tokens.append(text_to_word_sequence(row[0]))"
      ]
    },
    {
      "cell_type": "code",
      "execution_count": 7,
      "metadata": {
        "id": "CHepi_DGrbhq",
        "colab": {
          "base_uri": "https://localhost:8080/"
        },
        "outputId": "2fc927a3-6c46-4788-c01b-e253e1e56138"
      },
      "outputs": [
        {
          "output_type": "execute_result",
          "data": {
            "text/plain": [
              "[['build', 'your', 'dreams', 'to', 'the', 'stars', 'above'],\n",
              " ['but', 'when', 'you', 'need', 'someone', 'to', 'love']]"
            ]
          },
          "metadata": {},
          "execution_count": 7
        }
      ],
      "source": [
        "# Demos un vistazo\n",
        "sentence_tokens[:2]"
      ]
    },
    {
      "cell_type": "markdown",
      "metadata": {
        "id": "BaXV6nlHr5Aa"
      },
      "source": [
        "### 2 - Crear los vectores (word2vec)"
      ]
    },
    {
      "cell_type": "code",
      "execution_count": 8,
      "metadata": {
        "id": "OSb0v7h8r7hK"
      },
      "outputs": [],
      "source": [
        "from gensim.models.callbacks import CallbackAny2Vec\n",
        "# Durante el entrenamiento gensim por defecto no informa el \"loss\" en cada época\n",
        "# Sobracargamos el callback para poder tener esta información\n",
        "class callback(CallbackAny2Vec):\n",
        "    \"\"\"\n",
        "    Callback to print loss after each epoch\n",
        "    \"\"\"\n",
        "    def __init__(self):\n",
        "        self.epoch = 0\n",
        "\n",
        "    def on_epoch_end(self, model):\n",
        "        loss = model.get_latest_training_loss()\n",
        "        if self.epoch == 0:\n",
        "            print('Loss after epoch {}: {}'.format(self.epoch, loss))\n",
        "        else:\n",
        "            print('Loss after epoch {}: {}'.format(self.epoch, loss- self.loss_previous_step))\n",
        "        self.epoch += 1\n",
        "        self.loss_previous_step = loss"
      ]
    },
    {
      "cell_type": "code",
      "execution_count": 9,
      "metadata": {
        "id": "i0wnDdv9sJ47"
      },
      "outputs": [],
      "source": [
        "# Crearmos el modelo generador de vectoeres\n",
        "# En este caso utilizaremos la estructura modelo Skipgram\n",
        "w2v_model = Word2Vec(min_count=5,    # frecuencia mínima de palabra para incluirla en el vocabulario\n",
        "                     window=2,       # cant de palabras antes y desp de la predicha\n",
        "                     size=300,       # dimensionalidad de los vectores \n",
        "                     negative=20,    # cantidad de negative samples... 0 es no se usa\n",
        "                     workers=1,      # si tienen más cores pueden cambiar este valor\n",
        "                     sg=1)           # modelo 0:CBOW  1:skipgram"
      ]
    },
    {
      "cell_type": "code",
      "execution_count": 10,
      "metadata": {
        "id": "5lTt8wErsf17"
      },
      "outputs": [],
      "source": [
        "# Buildear el vocabularui con los tokens\n",
        "w2v_model.build_vocab(sentence_tokens)"
      ]
    },
    {
      "cell_type": "code",
      "execution_count": 11,
      "metadata": {
        "id": "TNc9qt4os5AT",
        "colab": {
          "base_uri": "https://localhost:8080/"
        },
        "outputId": "4d1b44e9-9126-42ea-b7cb-e4abccb04db3"
      },
      "outputs": [
        {
          "output_type": "stream",
          "name": "stdout",
          "text": [
            "Cantidad de docs en el corpus: 1910\n"
          ]
        }
      ],
      "source": [
        "# Cantidad de filas/docs encontradas en el corpus\n",
        "print(\"Cantidad de docs en el corpus:\", w2v_model.corpus_count)"
      ]
    },
    {
      "cell_type": "code",
      "execution_count": 12,
      "metadata": {
        "id": "idw9cHF3tSMl",
        "colab": {
          "base_uri": "https://localhost:8080/"
        },
        "outputId": "a32e2fba-9a22-44de-b771-ad5935e67e0c"
      },
      "outputs": [
        {
          "output_type": "stream",
          "name": "stdout",
          "text": [
            "Cantidad de words distintas en el corpus: 474\n"
          ]
        }
      ],
      "source": [
        "# Cantidad de words encontradas en el corpus\n",
        "print(\"Cantidad de words distintas en el corpus:\", len(w2v_model.wv.vocab))"
      ]
    },
    {
      "cell_type": "markdown",
      "metadata": {
        "id": "fC9mZ8DPk-UC"
      },
      "source": [
        "### 3 - Entrenar el modelo generador"
      ]
    },
    {
      "cell_type": "code",
      "execution_count": 13,
      "metadata": {
        "id": "QSp-x0PAsq56",
        "colab": {
          "base_uri": "https://localhost:8080/"
        },
        "outputId": "048b7312-1276-4958-b3b4-ab9a95b44a9c"
      },
      "outputs": [
        {
          "output_type": "stream",
          "name": "stdout",
          "text": [
            "Loss after epoch 0: 142103.4375\n",
            "Loss after epoch 1: 74855.40625\n",
            "Loss after epoch 2: 72627.625\n",
            "Loss after epoch 3: 72881.4375\n",
            "Loss after epoch 4: 72434.25\n",
            "Loss after epoch 5: 72379.40625\n",
            "Loss after epoch 6: 73814.75\n",
            "Loss after epoch 7: 74481.75\n",
            "Loss after epoch 8: 72967.25\n",
            "Loss after epoch 9: 71710.0\n",
            "Loss after epoch 10: 72605.3125\n",
            "Loss after epoch 11: 71264.125\n",
            "Loss after epoch 12: 69989.8125\n",
            "Loss after epoch 13: 65413.0625\n",
            "Loss after epoch 14: 61148.0\n",
            "Loss after epoch 15: 61325.375\n",
            "Loss after epoch 16: 61077.625\n",
            "Loss after epoch 17: 60671.125\n",
            "Loss after epoch 18: 60499.875\n",
            "Loss after epoch 19: 60498.5\n"
          ]
        },
        {
          "output_type": "execute_result",
          "data": {
            "text/plain": [
              "(170151, 312520)"
            ]
          },
          "metadata": {},
          "execution_count": 13
        }
      ],
      "source": [
        "# Entrenamos el modelo generador de vectores\n",
        "# Utilizamos nuestro callback\n",
        "w2v_model.train(sentence_tokens,\n",
        "                 total_examples=w2v_model.corpus_count,\n",
        "                 epochs=20,\n",
        "                 compute_loss = True,\n",
        "                 callbacks=[callback()]\n",
        "                 )"
      ]
    },
    {
      "cell_type": "markdown",
      "metadata": {
        "id": "ddT9NVuNlCAe"
      },
      "source": [
        "### 4 - Ensayar"
      ]
    },
    {
      "cell_type": "code",
      "execution_count": 14,
      "metadata": {
        "id": "6cHN9xGLuPEm",
        "colab": {
          "base_uri": "https://localhost:8080/"
        },
        "outputId": "584f83be-8c4f-448c-8e4e-86e101cde623"
      },
      "outputs": [
        {
          "output_type": "execute_result",
          "data": {
            "text/plain": [
              "[('strangers', 0.9888522624969482),\n",
              " ('let', 0.9714409112930298),\n",
              " ('cupid', 0.9650777578353882),\n",
              " ('together', 0.9595413208007812),\n",
              " ('watch', 0.9588560461997986),\n",
              " ('please', 0.9378678798675537),\n",
              " ('dreams', 0.9360078573226929),\n",
              " ('tonight', 0.9356361627578735),\n",
              " ('pay', 0.9335839748382568),\n",
              " ('back', 0.9333885908126831)]"
            ]
          },
          "metadata": {},
          "execution_count": 14
        }
      ],
      "source": [
        "# Palabras que MÁS se relacionan con...:\n",
        "w2v_model.wv.most_similar(positive=[\"darling\"], topn=10)"
      ]
    },
    {
      "cell_type": "code",
      "execution_count": 22,
      "metadata": {
        "id": "47HiU5gdkdMq",
        "colab": {
          "base_uri": "https://localhost:8080/"
        },
        "outputId": "106d3c20-a7fc-4d81-ab51-72a0c2d9d43c"
      },
      "outputs": [
        {
          "output_type": "execute_result",
          "data": {
            "text/plain": [
              "[('been', -0.6030138731002808),\n",
              " ('good', -0.6031433343887329),\n",
              " ('amy', -0.605891764163971),\n",
              " ('ooh', -0.6378011703491211),\n",
              " ('oh', -0.641907811164856),\n",
              " ('help', -0.6421548128128052),\n",
              " ('come', -0.643938422203064),\n",
              " ('over', -0.6512278914451599),\n",
              " ('valerie', -0.6518512964248657),\n",
              " ('day', -0.6524618268013)]"
            ]
          },
          "metadata": {},
          "execution_count": 22
        }
      ],
      "source": [
        "# Palabras que MENOS se relacionan con...:\n",
        "w2v_model.wv.most_similar(negative=[\"soul\"], topn=10)"
      ]
    },
    {
      "cell_type": "code",
      "execution_count": 17,
      "metadata": {
        "id": "DT4Rvno2mD65",
        "colab": {
          "base_uri": "https://localhost:8080/"
        },
        "outputId": "d761a2e3-6d4d-4354-858d-7570492afd68"
      },
      "outputs": [
        {
          "output_type": "execute_result",
          "data": {
            "text/plain": [
              "[('tomorrow', 0.9654028415679932),\n",
              " ('still', 0.9433743357658386),\n",
              " ('is', 0.9186098575592041),\n",
              " ('tonight', 0.8944367170333862),\n",
              " ('let', 0.8788268566131592),\n",
              " ('will', 0.8470509052276611),\n",
              " ('pay', 0.830564022064209),\n",
              " ('losing', 0.8288018703460693),\n",
              " ('mister', 0.827900767326355),\n",
              " (\"you'd\", 0.8234384655952454)]"
            ]
          },
          "metadata": {},
          "execution_count": 17
        }
      ],
      "source": [
        "# Palabras que MÁS se relacionan con...:\n",
        "w2v_model.wv.most_similar(positive=[\"love\"], topn=10)"
      ]
    },
    {
      "cell_type": "code",
      "execution_count": 29,
      "metadata": {
        "id": "XPLDPgzBmQXt",
        "colab": {
          "base_uri": "https://localhost:8080/"
        },
        "outputId": "b407c6a6-e306-4a8e-80de-4e20994c14a7"
      },
      "outputs": [
        {
          "output_type": "execute_result",
          "data": {
            "text/plain": [
              "[('every', 0.9856407046318054),\n",
              " ('lips', 0.9812637567520142),\n",
              " ('pay', 0.9773721694946289),\n",
              " ('together', 0.9728298783302307),\n",
              " ('safe', 0.9681685566902161)]"
            ]
          },
          "metadata": {},
          "execution_count": 29
        }
      ],
      "source": [
        "# Palabras que MÁS se relacionan con...:\n",
        "w2v_model.wv.most_similar(positive=[\"dreams\"], topn=5)"
      ]
    },
    {
      "cell_type": "markdown",
      "source": [
        "### Interesante que con su comportamiento y letras no figure \"sad\""
      ],
      "metadata": {
        "id": "AWTKVjWtNjGO"
      }
    },
    {
      "cell_type": "code",
      "execution_count": 33,
      "metadata": {
        "id": "L_UvHPMMklOr",
        "colab": {
          "base_uri": "https://localhost:8080/",
          "height": 331
        },
        "outputId": "daf826b5-cecf-4ec0-f238-ee27f04fe99e"
      },
      "outputs": [
        {
          "output_type": "error",
          "ename": "KeyError",
          "evalue": "ignored",
          "traceback": [
            "\u001b[0;31m---------------------------------------------------------------------------\u001b[0m",
            "\u001b[0;31mKeyError\u001b[0m                                  Traceback (most recent call last)",
            "\u001b[0;32m<ipython-input-33-68396b06f384>\u001b[0m in \u001b[0;36m<module>\u001b[0;34m\u001b[0m\n\u001b[1;32m      1\u001b[0m \u001b[0;31m# Ensayar con una palabra que no está en el corpus (en vocab):\u001b[0m\u001b[0;34m\u001b[0m\u001b[0;34m\u001b[0m\u001b[0;34m\u001b[0m\u001b[0m\n\u001b[0;32m----> 2\u001b[0;31m \u001b[0mw2v_model\u001b[0m\u001b[0;34m.\u001b[0m\u001b[0mwv\u001b[0m\u001b[0;34m.\u001b[0m\u001b[0mmost_similar\u001b[0m\u001b[0;34m(\u001b[0m\u001b[0mnegative\u001b[0m\u001b[0;34m=\u001b[0m\u001b[0;34m[\u001b[0m\u001b[0;34m\"sad\"\u001b[0m\u001b[0;34m]\u001b[0m\u001b[0;34m)\u001b[0m\u001b[0;34m\u001b[0m\u001b[0;34m\u001b[0m\u001b[0m\n\u001b[0m",
            "\u001b[0;32m/usr/local/lib/python3.7/dist-packages/gensim/models/keyedvectors.py\u001b[0m in \u001b[0;36mmost_similar\u001b[0;34m(self, positive, negative, topn, restrict_vocab, indexer)\u001b[0m\n\u001b[1;32m    529\u001b[0m                 \u001b[0mmean\u001b[0m\u001b[0;34m.\u001b[0m\u001b[0mappend\u001b[0m\u001b[0;34m(\u001b[0m\u001b[0mweight\u001b[0m \u001b[0;34m*\u001b[0m \u001b[0mword\u001b[0m\u001b[0;34m)\u001b[0m\u001b[0;34m\u001b[0m\u001b[0;34m\u001b[0m\u001b[0m\n\u001b[1;32m    530\u001b[0m             \u001b[0;32melse\u001b[0m\u001b[0;34m:\u001b[0m\u001b[0;34m\u001b[0m\u001b[0;34m\u001b[0m\u001b[0m\n\u001b[0;32m--> 531\u001b[0;31m                 \u001b[0mmean\u001b[0m\u001b[0;34m.\u001b[0m\u001b[0mappend\u001b[0m\u001b[0;34m(\u001b[0m\u001b[0mweight\u001b[0m \u001b[0;34m*\u001b[0m \u001b[0mself\u001b[0m\u001b[0;34m.\u001b[0m\u001b[0mword_vec\u001b[0m\u001b[0;34m(\u001b[0m\u001b[0mword\u001b[0m\u001b[0;34m,\u001b[0m \u001b[0muse_norm\u001b[0m\u001b[0;34m=\u001b[0m\u001b[0;32mTrue\u001b[0m\u001b[0;34m)\u001b[0m\u001b[0;34m)\u001b[0m\u001b[0;34m\u001b[0m\u001b[0;34m\u001b[0m\u001b[0m\n\u001b[0m\u001b[1;32m    532\u001b[0m                 \u001b[0;32mif\u001b[0m \u001b[0mword\u001b[0m \u001b[0;32min\u001b[0m \u001b[0mself\u001b[0m\u001b[0;34m.\u001b[0m\u001b[0mvocab\u001b[0m\u001b[0;34m:\u001b[0m\u001b[0;34m\u001b[0m\u001b[0;34m\u001b[0m\u001b[0m\n\u001b[1;32m    533\u001b[0m                     \u001b[0mall_words\u001b[0m\u001b[0;34m.\u001b[0m\u001b[0madd\u001b[0m\u001b[0;34m(\u001b[0m\u001b[0mself\u001b[0m\u001b[0;34m.\u001b[0m\u001b[0mvocab\u001b[0m\u001b[0;34m[\u001b[0m\u001b[0mword\u001b[0m\u001b[0;34m]\u001b[0m\u001b[0;34m.\u001b[0m\u001b[0mindex\u001b[0m\u001b[0;34m)\u001b[0m\u001b[0;34m\u001b[0m\u001b[0;34m\u001b[0m\u001b[0m\n",
            "\u001b[0;32m/usr/local/lib/python3.7/dist-packages/gensim/models/keyedvectors.py\u001b[0m in \u001b[0;36mword_vec\u001b[0;34m(self, word, use_norm)\u001b[0m\n\u001b[1;32m    450\u001b[0m             \u001b[0;32mreturn\u001b[0m \u001b[0mresult\u001b[0m\u001b[0;34m\u001b[0m\u001b[0;34m\u001b[0m\u001b[0m\n\u001b[1;32m    451\u001b[0m         \u001b[0;32melse\u001b[0m\u001b[0;34m:\u001b[0m\u001b[0;34m\u001b[0m\u001b[0;34m\u001b[0m\u001b[0m\n\u001b[0;32m--> 452\u001b[0;31m             \u001b[0;32mraise\u001b[0m \u001b[0mKeyError\u001b[0m\u001b[0;34m(\u001b[0m\u001b[0;34m\"word '%s' not in vocabulary\"\u001b[0m \u001b[0;34m%\u001b[0m \u001b[0mword\u001b[0m\u001b[0;34m)\u001b[0m\u001b[0;34m\u001b[0m\u001b[0;34m\u001b[0m\u001b[0m\n\u001b[0m\u001b[1;32m    453\u001b[0m \u001b[0;34m\u001b[0m\u001b[0m\n\u001b[1;32m    454\u001b[0m     \u001b[0;32mdef\u001b[0m \u001b[0mget_vector\u001b[0m\u001b[0;34m(\u001b[0m\u001b[0mself\u001b[0m\u001b[0;34m,\u001b[0m \u001b[0mword\u001b[0m\u001b[0;34m)\u001b[0m\u001b[0;34m:\u001b[0m\u001b[0;34m\u001b[0m\u001b[0;34m\u001b[0m\u001b[0m\n",
            "\u001b[0;31mKeyError\u001b[0m: \"word 'sad' not in vocabulary\""
          ]
        }
      ],
      "source": [
        "# Ensayar con una palabra que no está en el corpus (en vocab):\n",
        "w2v_model.wv.most_similar(negative=[\"sad\"])"
      ]
    },
    {
      "cell_type": "code",
      "source": [
        "# Palabras que MÁS se relacionan con...:\n",
        "w2v_model.wv.most_similar(positive=[\"night\"], topn=15)"
      ],
      "metadata": {
        "colab": {
          "base_uri": "https://localhost:8080/"
        },
        "id": "vULLTzunNpkZ",
        "outputId": "5648ba9d-5415-40a2-abc0-299c4714aa1e"
      },
      "execution_count": 40,
      "outputs": [
        {
          "output_type": "execute_result",
          "data": {
            "text/plain": [
              "[('sky', 0.9813195466995239),\n",
              " ('above', 0.9800458550453186),\n",
              " ('blue', 0.9718438982963562),\n",
              " ('smoke', 0.9700748920440674),\n",
              " ('head', 0.9688273668289185),\n",
              " ('beat', 0.9653822779655457),\n",
              " ('point', 0.964715838432312),\n",
              " ('wake', 0.962746798992157),\n",
              " ('live', 0.9616473317146301),\n",
              " ('aye', 0.9599539041519165),\n",
              " ('forget', 0.9593154191970825),\n",
              " ('them', 0.9579521417617798),\n",
              " ('shirt', 0.9560445547103882),\n",
              " ('way', 0.9531716704368591),\n",
              " ('two', 0.9527816772460938)]"
            ]
          },
          "metadata": {},
          "execution_count": 40
        }
      ]
    },
    {
      "cell_type": "markdown",
      "source": [
        "### Se puede considerar que \"smoke, men death, final \" etc son parte de la \"vida\" en las canciones de Winehouse."
      ],
      "metadata": {
        "id": "3rCNDNZiWh4p"
      }
    },
    {
      "cell_type": "code",
      "source": [
        "# Palabras que MÁS se relacionan con...:\n",
        "w2v_model.wv.most_similar(positive=[\"live\"], topn=15)"
      ],
      "metadata": {
        "colab": {
          "base_uri": "https://localhost:8080/"
        },
        "id": "57BPe266WXKM",
        "outputId": "4a55e949-0e93-459d-dbf4-01715d3a8f96"
      },
      "execution_count": 45,
      "outputs": [
        {
          "output_type": "execute_result",
          "data": {
            "text/plain": [
              "[('aye', 0.9925061464309692),\n",
              " ('forget', 0.992495059967041),\n",
              " ('them', 0.9913175106048584),\n",
              " ('green', 0.9910521507263184),\n",
              " ('point', 0.9908748865127563),\n",
              " ('death', 0.9902666211128235),\n",
              " ('fighting', 0.9899044632911682),\n",
              " ('consider', 0.9882664680480957),\n",
              " ('stars', 0.9876664280891418),\n",
              " ('without', 0.9873721599578857),\n",
              " ('final', 0.9868655204772949),\n",
              " ('men', 0.9868565797805786),\n",
              " ('smoke', 0.9867504239082336),\n",
              " ('supposed', 0.9857783913612366),\n",
              " ('last', 0.9855659008026123)]"
            ]
          },
          "metadata": {},
          "execution_count": 45
        }
      ]
    },
    {
      "cell_type": "markdown",
      "metadata": {
        "id": "_g8UVWe6lFmh"
      },
      "source": [
        "### 5 - Visualizar agrupación de vectores"
      ]
    },
    {
      "cell_type": "code",
      "execution_count": 34,
      "metadata": {
        "id": "pDxEVXAivjr9"
      },
      "outputs": [],
      "source": [
        "from sklearn.decomposition import IncrementalPCA    \n",
        "from sklearn.manifold import TSNE                   \n",
        "import numpy as np                                  \n",
        "\n",
        "def reduce_dimensions(model):\n",
        "    num_dimensions = 2  \n",
        "\n",
        "    vectors = np.asarray(model.wv.vectors)\n",
        "    labels = np.asarray(model.wv.index2word)  \n",
        "\n",
        "    tsne = TSNE(n_components=num_dimensions, random_state=0)\n",
        "    vectors = tsne.fit_transform(vectors)\n",
        "\n",
        "    x_vals = [v[0] for v in vectors]\n",
        "    y_vals = [v[1] for v in vectors]\n",
        "    return x_vals, y_vals, labels"
      ]
    },
    {
      "cell_type": "code",
      "execution_count": 41,
      "metadata": {
        "id": "NCCXtDpcugmd",
        "colab": {
          "base_uri": "https://localhost:8080/",
          "height": 681
        },
        "outputId": "066c518d-ab75-492e-a6ec-0122f6c39c8d"
      },
      "outputs": [
        {
          "output_type": "stream",
          "name": "stderr",
          "text": [
            "/usr/local/lib/python3.7/dist-packages/sklearn/manifold/_t_sne.py:783: FutureWarning:\n",
            "\n",
            "The default initialization in TSNE will change from 'random' to 'pca' in 1.2.\n",
            "\n",
            "/usr/local/lib/python3.7/dist-packages/sklearn/manifold/_t_sne.py:793: FutureWarning:\n",
            "\n",
            "The default learning rate in TSNE will change from 200.0 to 'auto' in 1.2.\n",
            "\n"
          ]
        },
        {
          "output_type": "display_data",
          "data": {
            "text/html": [
              "<html>\n",
              "<head><meta charset=\"utf-8\" /></head>\n",
              "<body>\n",
              "    <div>            <script src=\"https://cdnjs.cloudflare.com/ajax/libs/mathjax/2.7.5/MathJax.js?config=TeX-AMS-MML_SVG\"></script><script type=\"text/javascript\">if (window.MathJax) {MathJax.Hub.Config({SVG: {font: \"STIX-Web\"}});}</script>                <script type=\"text/javascript\">window.PlotlyConfig = {MathJaxConfig: 'local'};</script>\n",
              "        <script src=\"https://cdn.plot.ly/plotly-2.8.3.min.js\"></script>                <div id=\"e7424179-3bad-49f8-a358-a886cab77f15\" class=\"plotly-graph-div\" style=\"height:525px; width:100%;\"></div>            <script type=\"text/javascript\">                                    window.PLOTLYENV=window.PLOTLYENV || {};                                    if (document.getElementById(\"e7424179-3bad-49f8-a358-a886cab77f15\")) {                    Plotly.newPlot(                        \"e7424179-3bad-49f8-a358-a886cab77f15\",                        [{\"hovertemplate\":\"x=%{x}<br>y=%{y}<br>text=%{text}<extra></extra>\",\"legendgroup\":\"\",\"marker\":{\"color\":\"#636efa\",\"symbol\":\"circle\"},\"mode\":\"markers+text\",\"name\":\"\",\"orientation\":\"v\",\"showlegend\":false,\"text\":[\"you\",\"i\",\"to\",\"the\",\"and\",\"my\",\"me\",\"a\",\"in\",\"your\",\"but\",\"it\",\"so\",\"i'm\",\"for\",\"when\",\"is\",\"that\",\"know\",\"love\",\"be\",\"of\",\"he\",\"all\",\"now\",\"we\",\"just\",\"like\",\"no\",\"don't\",\"amy\",\"with\",\"do\",\"it's\",\"man\",\"what\",\"up\",\"on\",\"will\",\"this\",\"go\",\"you're\",\"get\",\"oh\",\"come\",\"not\",\"yeah\",\"never\",\"day\",\"if\",\"was\",\"can't\",\"are\",\"'cause\",\"time\",\"have\",\"can\",\"think\",\"i've\",\"her\",\"good\",\"right\",\"she\",\"him\",\"from\",\"how\",\"i'll\",\"got\",\"down\",\"his\",\"out\",\"were\",\"through\",\"been\",\"myself\",\"way\",\"won't\",\"at\",\"valerie\",\"aye\",\"did\",\"our\",\"back\",\"should\",\"always\",\"would\",\"only\",\"he's\",\"let\",\"see\",\"there\",\"as\",\"one\",\"tell\",\"put\",\"nothing\",\"help\",\"heart\",\"friends\",\"than\",\"night\",\"over\",\"away\",\"make\",\"again\",\"want\",\"too\",\"need\",\"there's\",\"by\",\"big\",\"still\",\"take\",\"why\",\"well\",\"say\",\"goes\",\"could\",\"mind\",\"knew\",\"some\",\"although\",\"words\",\"head\",\"much\",\"life\",\"that's\",\"feel\",\"baby\",\"heard\",\"own\",\"said\",\"home\",\"magic\",\"every\",\"ya\",\"next\",\"where\",\"before\",\"between\",\"work\",\"huggin'\",\"monkey\",\"more\",\"tears\",\"care\",\"meet\",\"stop\",\"best\",\"everything\",\"long\",\"hand\",\"tomorrow\",\"or\",\"even\",\"black\",\"here\",\"hair\",\"sun\",\"alone\",\"cause\",\"had\",\"mr\",\"bed\",\"little\",\"grown\",\"blue\",\"ooh\",\"girl\",\"cry\",\"cant\",\"eyes\",\"i'd\",\"didn't\",\"rich\",\"someone\",\"understand\",\"soul\",\"dry\",\"boy\",\"they\",\"told\",\"we're\",\"then\",\"takes\",\"yourself\",\"smoke\",\"hard\",\"jeans\",\"gotta\",\"la\",\"box\",\"place\",\"old\",\"mine\",\"who\",\"joy\",\"ain't\",\"cheated\",\"walks\"],\"x\":[8.151284217834473,3.9930365085601807,13.387701034545898,-0.2836949825286865,-15.258466720581055,-6.966343879699707,6.95912504196167,8.89604377746582,-4.557109832763672,-14.146841049194336,15.928980827331543,1.4915273189544678,-10.018322944641113,-14.04129409790039,-14.41157054901123,14.847949981689453,-11.228999137878418,-0.3094310462474823,-2.281414270401001,18.761728286743164,5.265738487243652,4.287503719329834,15.690282821655273,3.4489328861236572,-1.001029372215271,20.345951080322266,-16.240201950073242,2.1083803176879883,-0.0993008017539978,11.498799324035645,6.325937271118164,-13.500195503234863,-0.15401579439640045,-14.177263259887695,-2.3787841796875,-3.51460862159729,-1.8204959630966187,24.14256477355957,19.90570831298828,3.6241655349731445,14.05029582977295,-15.41571044921875,-6.8893022537231445,9.181326866149902,22.117841720581055,-17.956844329833984,-17.801918029785156,18.685352325439453,20.113420486450195,8.294309616088867,2.066480875015259,7.618534564971924,21.361724853515625,-15.675528526306152,1.6815528869628906,-1.4723371267318726,0.32238712906837463,4.180723667144775,10.955293655395508,17.036584854125977,-0.16136017441749573,22.446077346801758,1.2860462665557861,7.308884620666504,-9.57296371459961,6.167047500610352,7.613674163818359,1.59049654006958,-9.698175430297852,-10.2820463180542,3.968989372253418,19.513002395629883,-4.686666011810303,11.462214469909668,-3.2633371353149414,-4.903676986694336,11.98355770111084,14.485093116760254,23.55669593811035,-2.576451539993286,5.413125038146973,20.30058479309082,13.893771171569824,7.08137321472168,0.4094028174877167,3.3697001934051514,3.4950363636016846,-18.368907928466797,15.451498031616211,14.09361457824707,9.988844871520996,-8.453989028930664,2.9520151615142822,7.341312408447266,1.8311212062835693,-12.398408889770508,8.9742431640625,9.520060539245605,22.197784423828125,4.040735721588135,-3.8125953674316406,23.48641014099121,15.3917875289917,12.744582176208496,-3.2886927127838135,6.18374490737915,-10.383171081542969,-4.921456813812256,3.627859354019165,1.640161395072937,-1.5871211290359497,18.952037811279297,14.495329856872559,11.63769245147705,9.935832023620605,-5.844057083129883,-9.121487617492676,-5.886504650115967,-10.399859428405762,3.2143352031707764,7.753625869750977,9.909769058227539,-13.53564739227295,-5.375213623046875,-9.281545639038086,-4.784895420074463,-4.824259281158447,1.594378113746643,-13.457427024841309,-2.7692031860351562,-18.737686157226562,-0.09170757979154587,21.22504997253418,15.486699104309082,17.508512496948242,-9.29426097869873,-18.919153213500977,-2.7656381130218506,-18.512527465820312,8.155282974243164,1.4617376327514648,-1.580213189125061,-1.3646475076675415,2.925952672958374,24.220500946044922,7.349322319030762,2.8590331077575684,3.6188862323760986,22.078800201416016,-5.277528762817383,19.6597843170166,-4.116611003875732,18.871110916137695,3.1102190017700195,1.8173078298568726,7.004923343658447,-18.51908302307129,5.545614719390869,-9.135940551757812,-3.449827194213867,-6.657922744750977,-8.433834075927734,-20.082170486450195,-5.414652347564697,10.554398536682129,18.643198013305664,-4.077030658721924,9.1992826461792,10.576310157775879,2.962635040283203,8.917061805725098,12.825702667236328,4.076949119567871,-0.11594365537166595,10.621197700500488,9.559863090515137,2.23917818069458,-2.439335584640503,24.40738296508789,-10.100323677062988,8.913398742675781,-8.957663536071777,-14.226011276245117,-7.092504501342773,18.77723503112793,8.432501792907715,-1.6474283933639526,-18.06783676147461,-15.621139526367188,-0.9616675972938538,-3.211775779724121,1.0739723443984985,2.0672531127929688,-12.189363479614258,12.990639686584473,-14.695449829101562,-5.497324466705322,1.5764154195785522,-2.1945784091949463,15.452616691589355],\"xaxis\":\"x\",\"y\":[-20.729005813598633,-25.164072036743164,-16.443178176879883,23.640125274658203,13.837532043457031,17.7890625,-14.83251953125,13.869829177856445,19.112184524536133,17.1114559173584,-2.474109172821045,21.297183990478516,-9.3042631149292,-0.22697556018829346,-7.57203483581543,-1.4446340799331665,13.334137916564941,-25.15965461730957,-24.172800064086914,-8.13143253326416,-21.88496208190918,11.17706298828125,10.23764705657959,11.446471214294434,-23.732200622558594,5.460484027862549,-3.468092918395996,-24.233295440673828,-26.663005828857422,-20.804201126098633,18.844633102416992,1.5086137056350708,-28.706151962280273,18.350034713745117,25.338695526123047,-22.944976806640625,26.134132385253906,-2.5903429985046387,-5.596160411834717,-16.801151275634766,-13.76634407043457,-5.066056251525879,-9.596490859985352,24.65949058532715,-4.753807067871094,14.036718368530273,15.805952072143555,16.793195724487305,-4.597932815551758,-25.082334518432617,-10.515568733215332,-25.494035720825195,6.773242950439453,7.042093753814697,12.099081993103027,-19.808874130249023,-20.235431671142578,-11.88729476928711,10.78913402557373,17.567485809326172,-28.735639572143555,8.376269340515137,8.643335342407227,-16.4351806640625,10.959431648254395,-18.5451717376709,-15.434550285339355,-17.164993286132812,22.774751663208008,17.284961700439453,14.54133129119873,4.4714202880859375,-14.842628479003906,10.871499061584473,-16.618879318237305,21.813352584838867,-21.837984085083008,1.7717982530593872,-4.3378729820251465,22.995014190673828,-20.075815200805664,-5.0547003746032715,-12.171022415161133,-22.290170669555664,-18.700881958007812,-25.395000457763672,-4.7828545570373535,-0.452724426984787,-7.619300365447998,-1.7837542295455933,-17.166677474975586,-7.6803364753723145,-4.946631908416748,-19.891698837280273,22.43422508239746,-8.16137981414795,-26.22339630126953,4.331840991973877,7.930304527282715,-22.0102596282959,20.14560317993164,-4.290867328643799,9.884622573852539,-15.428153991699219,-21.3739070892334,-20.231481552124023,-9.160118103027344,-21.723234176635742,-15.49071216583252,13.719039916992188,27.37689208984375,-7.449106693267822,4.635705947875977,-20.789976119995117,-8.687721252441406,-19.837427139282227,22.995359420776367,-19.644556045532227,5.589492321014404,-25.13981819152832,2.351630449295044,11.282126426696777,-7.188120365142822,18.607851028442383,-9.364060401916504,11.040409088134766,-21.285001754760742,-21.37435531616211,-12.93695068359375,-19.131725311279297,-7.053602695465088,-25.483196258544922,-1.6303813457489014,4.2346954345703125,-1.9618996381759644,-18.675201416015625,12.430091857910156,-13.058794975280762,7.333040714263916,24.06639289855957,-23.885297775268555,26.835769653320312,27.075469970703125,-21.561519622802734,-1.171916127204895,-22.072185516357422,-0.8952085375785828,-19.975257873535156,7.7741217613220215,-2.641711711883545,-0.6120619773864746,13.282572746276855,-7.678590297698975,-13.422821998596191,-22.511789321899414,12.775891304016113,7.314602375030518,17.643272399902344,22.962984085083008,21.87727165222168,-5.426456451416016,2.6999621391296387,11.651565551757812,15.810044288635254,17.38206672668457,-2.951303720474243,16.925891876220703,24.6850643157959,17.526540756225586,-20.105636596679688,-24.812801361083984,3.882112979888916,-18.86103057861328,-17.391090393066406,17.99860382080078,-11.026893615722656,-19.14409065246582,9.333283424377441,-1.6506626605987549,-14.083816528320312,-13.883339881896973,-18.016284942626953,-5.637737274169922,-14.971240043640137,-3.0463497638702393,-24.80916404724121,20.30281639099121,-0.8674482703208923,16.38037872314453,-23.686626434326172,24.81888198852539,23.030941009521484,-14.81083869934082,1.1768226623535156,-2.951692819595337,4.987745761871338,-0.925094485282898,-15.849861145019531,-16.44940185546875,9.940439224243164],\"yaxis\":\"y\",\"type\":\"scatter\"}],                        {\"template\":{\"data\":{\"bar\":[{\"error_x\":{\"color\":\"#2a3f5f\"},\"error_y\":{\"color\":\"#2a3f5f\"},\"marker\":{\"line\":{\"color\":\"#E5ECF6\",\"width\":0.5},\"pattern\":{\"fillmode\":\"overlay\",\"size\":10,\"solidity\":0.2}},\"type\":\"bar\"}],\"barpolar\":[{\"marker\":{\"line\":{\"color\":\"#E5ECF6\",\"width\":0.5},\"pattern\":{\"fillmode\":\"overlay\",\"size\":10,\"solidity\":0.2}},\"type\":\"barpolar\"}],\"carpet\":[{\"aaxis\":{\"endlinecolor\":\"#2a3f5f\",\"gridcolor\":\"white\",\"linecolor\":\"white\",\"minorgridcolor\":\"white\",\"startlinecolor\":\"#2a3f5f\"},\"baxis\":{\"endlinecolor\":\"#2a3f5f\",\"gridcolor\":\"white\",\"linecolor\":\"white\",\"minorgridcolor\":\"white\",\"startlinecolor\":\"#2a3f5f\"},\"type\":\"carpet\"}],\"choropleth\":[{\"colorbar\":{\"outlinewidth\":0,\"ticks\":\"\"},\"type\":\"choropleth\"}],\"contour\":[{\"colorbar\":{\"outlinewidth\":0,\"ticks\":\"\"},\"colorscale\":[[0.0,\"#0d0887\"],[0.1111111111111111,\"#46039f\"],[0.2222222222222222,\"#7201a8\"],[0.3333333333333333,\"#9c179e\"],[0.4444444444444444,\"#bd3786\"],[0.5555555555555556,\"#d8576b\"],[0.6666666666666666,\"#ed7953\"],[0.7777777777777778,\"#fb9f3a\"],[0.8888888888888888,\"#fdca26\"],[1.0,\"#f0f921\"]],\"type\":\"contour\"}],\"contourcarpet\":[{\"colorbar\":{\"outlinewidth\":0,\"ticks\":\"\"},\"type\":\"contourcarpet\"}],\"heatmap\":[{\"colorbar\":{\"outlinewidth\":0,\"ticks\":\"\"},\"colorscale\":[[0.0,\"#0d0887\"],[0.1111111111111111,\"#46039f\"],[0.2222222222222222,\"#7201a8\"],[0.3333333333333333,\"#9c179e\"],[0.4444444444444444,\"#bd3786\"],[0.5555555555555556,\"#d8576b\"],[0.6666666666666666,\"#ed7953\"],[0.7777777777777778,\"#fb9f3a\"],[0.8888888888888888,\"#fdca26\"],[1.0,\"#f0f921\"]],\"type\":\"heatmap\"}],\"heatmapgl\":[{\"colorbar\":{\"outlinewidth\":0,\"ticks\":\"\"},\"colorscale\":[[0.0,\"#0d0887\"],[0.1111111111111111,\"#46039f\"],[0.2222222222222222,\"#7201a8\"],[0.3333333333333333,\"#9c179e\"],[0.4444444444444444,\"#bd3786\"],[0.5555555555555556,\"#d8576b\"],[0.6666666666666666,\"#ed7953\"],[0.7777777777777778,\"#fb9f3a\"],[0.8888888888888888,\"#fdca26\"],[1.0,\"#f0f921\"]],\"type\":\"heatmapgl\"}],\"histogram\":[{\"marker\":{\"pattern\":{\"fillmode\":\"overlay\",\"size\":10,\"solidity\":0.2}},\"type\":\"histogram\"}],\"histogram2d\":[{\"colorbar\":{\"outlinewidth\":0,\"ticks\":\"\"},\"colorscale\":[[0.0,\"#0d0887\"],[0.1111111111111111,\"#46039f\"],[0.2222222222222222,\"#7201a8\"],[0.3333333333333333,\"#9c179e\"],[0.4444444444444444,\"#bd3786\"],[0.5555555555555556,\"#d8576b\"],[0.6666666666666666,\"#ed7953\"],[0.7777777777777778,\"#fb9f3a\"],[0.8888888888888888,\"#fdca26\"],[1.0,\"#f0f921\"]],\"type\":\"histogram2d\"}],\"histogram2dcontour\":[{\"colorbar\":{\"outlinewidth\":0,\"ticks\":\"\"},\"colorscale\":[[0.0,\"#0d0887\"],[0.1111111111111111,\"#46039f\"],[0.2222222222222222,\"#7201a8\"],[0.3333333333333333,\"#9c179e\"],[0.4444444444444444,\"#bd3786\"],[0.5555555555555556,\"#d8576b\"],[0.6666666666666666,\"#ed7953\"],[0.7777777777777778,\"#fb9f3a\"],[0.8888888888888888,\"#fdca26\"],[1.0,\"#f0f921\"]],\"type\":\"histogram2dcontour\"}],\"mesh3d\":[{\"colorbar\":{\"outlinewidth\":0,\"ticks\":\"\"},\"type\":\"mesh3d\"}],\"parcoords\":[{\"line\":{\"colorbar\":{\"outlinewidth\":0,\"ticks\":\"\"}},\"type\":\"parcoords\"}],\"pie\":[{\"automargin\":true,\"type\":\"pie\"}],\"scatter\":[{\"marker\":{\"colorbar\":{\"outlinewidth\":0,\"ticks\":\"\"}},\"type\":\"scatter\"}],\"scatter3d\":[{\"line\":{\"colorbar\":{\"outlinewidth\":0,\"ticks\":\"\"}},\"marker\":{\"colorbar\":{\"outlinewidth\":0,\"ticks\":\"\"}},\"type\":\"scatter3d\"}],\"scattercarpet\":[{\"marker\":{\"colorbar\":{\"outlinewidth\":0,\"ticks\":\"\"}},\"type\":\"scattercarpet\"}],\"scattergeo\":[{\"marker\":{\"colorbar\":{\"outlinewidth\":0,\"ticks\":\"\"}},\"type\":\"scattergeo\"}],\"scattergl\":[{\"marker\":{\"colorbar\":{\"outlinewidth\":0,\"ticks\":\"\"}},\"type\":\"scattergl\"}],\"scattermapbox\":[{\"marker\":{\"colorbar\":{\"outlinewidth\":0,\"ticks\":\"\"}},\"type\":\"scattermapbox\"}],\"scatterpolar\":[{\"marker\":{\"colorbar\":{\"outlinewidth\":0,\"ticks\":\"\"}},\"type\":\"scatterpolar\"}],\"scatterpolargl\":[{\"marker\":{\"colorbar\":{\"outlinewidth\":0,\"ticks\":\"\"}},\"type\":\"scatterpolargl\"}],\"scatterternary\":[{\"marker\":{\"colorbar\":{\"outlinewidth\":0,\"ticks\":\"\"}},\"type\":\"scatterternary\"}],\"surface\":[{\"colorbar\":{\"outlinewidth\":0,\"ticks\":\"\"},\"colorscale\":[[0.0,\"#0d0887\"],[0.1111111111111111,\"#46039f\"],[0.2222222222222222,\"#7201a8\"],[0.3333333333333333,\"#9c179e\"],[0.4444444444444444,\"#bd3786\"],[0.5555555555555556,\"#d8576b\"],[0.6666666666666666,\"#ed7953\"],[0.7777777777777778,\"#fb9f3a\"],[0.8888888888888888,\"#fdca26\"],[1.0,\"#f0f921\"]],\"type\":\"surface\"}],\"table\":[{\"cells\":{\"fill\":{\"color\":\"#EBF0F8\"},\"line\":{\"color\":\"white\"}},\"header\":{\"fill\":{\"color\":\"#C8D4E3\"},\"line\":{\"color\":\"white\"}},\"type\":\"table\"}]},\"layout\":{\"annotationdefaults\":{\"arrowcolor\":\"#2a3f5f\",\"arrowhead\":0,\"arrowwidth\":1},\"autotypenumbers\":\"strict\",\"coloraxis\":{\"colorbar\":{\"outlinewidth\":0,\"ticks\":\"\"}},\"colorscale\":{\"diverging\":[[0,\"#8e0152\"],[0.1,\"#c51b7d\"],[0.2,\"#de77ae\"],[0.3,\"#f1b6da\"],[0.4,\"#fde0ef\"],[0.5,\"#f7f7f7\"],[0.6,\"#e6f5d0\"],[0.7,\"#b8e186\"],[0.8,\"#7fbc41\"],[0.9,\"#4d9221\"],[1,\"#276419\"]],\"sequential\":[[0.0,\"#0d0887\"],[0.1111111111111111,\"#46039f\"],[0.2222222222222222,\"#7201a8\"],[0.3333333333333333,\"#9c179e\"],[0.4444444444444444,\"#bd3786\"],[0.5555555555555556,\"#d8576b\"],[0.6666666666666666,\"#ed7953\"],[0.7777777777777778,\"#fb9f3a\"],[0.8888888888888888,\"#fdca26\"],[1.0,\"#f0f921\"]],\"sequentialminus\":[[0.0,\"#0d0887\"],[0.1111111111111111,\"#46039f\"],[0.2222222222222222,\"#7201a8\"],[0.3333333333333333,\"#9c179e\"],[0.4444444444444444,\"#bd3786\"],[0.5555555555555556,\"#d8576b\"],[0.6666666666666666,\"#ed7953\"],[0.7777777777777778,\"#fb9f3a\"],[0.8888888888888888,\"#fdca26\"],[1.0,\"#f0f921\"]]},\"colorway\":[\"#636efa\",\"#EF553B\",\"#00cc96\",\"#ab63fa\",\"#FFA15A\",\"#19d3f3\",\"#FF6692\",\"#B6E880\",\"#FF97FF\",\"#FECB52\"],\"font\":{\"color\":\"#2a3f5f\"},\"geo\":{\"bgcolor\":\"white\",\"lakecolor\":\"white\",\"landcolor\":\"#E5ECF6\",\"showlakes\":true,\"showland\":true,\"subunitcolor\":\"white\"},\"hoverlabel\":{\"align\":\"left\"},\"hovermode\":\"closest\",\"mapbox\":{\"style\":\"light\"},\"paper_bgcolor\":\"white\",\"plot_bgcolor\":\"#E5ECF6\",\"polar\":{\"angularaxis\":{\"gridcolor\":\"white\",\"linecolor\":\"white\",\"ticks\":\"\"},\"bgcolor\":\"#E5ECF6\",\"radialaxis\":{\"gridcolor\":\"white\",\"linecolor\":\"white\",\"ticks\":\"\"}},\"scene\":{\"xaxis\":{\"backgroundcolor\":\"#E5ECF6\",\"gridcolor\":\"white\",\"gridwidth\":2,\"linecolor\":\"white\",\"showbackground\":true,\"ticks\":\"\",\"zerolinecolor\":\"white\"},\"yaxis\":{\"backgroundcolor\":\"#E5ECF6\",\"gridcolor\":\"white\",\"gridwidth\":2,\"linecolor\":\"white\",\"showbackground\":true,\"ticks\":\"\",\"zerolinecolor\":\"white\"},\"zaxis\":{\"backgroundcolor\":\"#E5ECF6\",\"gridcolor\":\"white\",\"gridwidth\":2,\"linecolor\":\"white\",\"showbackground\":true,\"ticks\":\"\",\"zerolinecolor\":\"white\"}},\"shapedefaults\":{\"line\":{\"color\":\"#2a3f5f\"}},\"ternary\":{\"aaxis\":{\"gridcolor\":\"white\",\"linecolor\":\"white\",\"ticks\":\"\"},\"baxis\":{\"gridcolor\":\"white\",\"linecolor\":\"white\",\"ticks\":\"\"},\"bgcolor\":\"#E5ECF6\",\"caxis\":{\"gridcolor\":\"white\",\"linecolor\":\"white\",\"ticks\":\"\"}},\"title\":{\"x\":0.05},\"xaxis\":{\"automargin\":true,\"gridcolor\":\"white\",\"linecolor\":\"white\",\"ticks\":\"\",\"title\":{\"standoff\":15},\"zerolinecolor\":\"white\",\"zerolinewidth\":2},\"yaxis\":{\"automargin\":true,\"gridcolor\":\"white\",\"linecolor\":\"white\",\"ticks\":\"\",\"title\":{\"standoff\":15},\"zerolinecolor\":\"white\",\"zerolinewidth\":2}}},\"xaxis\":{\"anchor\":\"y\",\"domain\":[0.0,1.0],\"title\":{\"text\":\"x\"}},\"yaxis\":{\"anchor\":\"x\",\"domain\":[0.0,1.0],\"title\":{\"text\":\"y\"}},\"legend\":{\"tracegroupgap\":0},\"margin\":{\"t\":60}},                        {\"responsive\": true}                    ).then(function(){\n",
              "                            \n",
              "var gd = document.getElementById('e7424179-3bad-49f8-a358-a886cab77f15');\n",
              "var x = new MutationObserver(function (mutations, observer) {{\n",
              "        var display = window.getComputedStyle(gd).display;\n",
              "        if (!display || display === 'none') {{\n",
              "            console.log([gd, 'removed!']);\n",
              "            Plotly.purge(gd);\n",
              "            observer.disconnect();\n",
              "        }}\n",
              "}});\n",
              "\n",
              "// Listen for the removal of the full notebook cells\n",
              "var notebookContainer = gd.closest('#notebook-container');\n",
              "if (notebookContainer) {{\n",
              "    x.observe(notebookContainer, {childList: true});\n",
              "}}\n",
              "\n",
              "// Listen for the clearing of the current output cell\n",
              "var outputEl = gd.closest('.output');\n",
              "if (outputEl) {{\n",
              "    x.observe(outputEl, {childList: true});\n",
              "}}\n",
              "\n",
              "                        })                };                            </script>        </div>\n",
              "</body>\n",
              "</html>"
            ]
          },
          "metadata": {}
        }
      ],
      "source": [
        "# Graficar los embedddings en 2D\n",
        "import plotly.graph_objects as go\n",
        "import plotly.express as px\n",
        "\n",
        "x_vals, y_vals, labels = reduce_dimensions(w2v_model)\n",
        "\n",
        "MAX_WORDS=200\n",
        "fig = px.scatter(x=x_vals[:MAX_WORDS], y=y_vals[:MAX_WORDS], text=labels[:MAX_WORDS])\n",
        "fig.show(renderer=\"colab\") # esto para plotly en colab"
      ]
    },
    {
      "cell_type": "markdown",
      "metadata": {
        "id": "yMM_SHSaZ9N-"
      },
      "source": [
        "### Alumno"
      ]
    },
    {
      "cell_type": "markdown",
      "metadata": {
        "id": "WivQZ3ZCZ9N_"
      },
      "source": [
        "- Crear sus propios vectores con Gensim basado en lo visto en clase con otro dataset.\n",
        "- Probar términos de interés y explicar similitudes en el espacio de embeddings (sacar conclusiones entre palabras similitudes y diferencias).\n",
        "- Graficarlos.\n",
        "- Obtener conclusiones."
      ]
    },
    {
      "cell_type": "markdown",
      "source": [
        "[link text](https:// [link text](https://))"
      ],
      "metadata": {
        "id": "DYB3tWhbTsAY"
      }
    },
    {
      "cell_type": "markdown",
      "source": [
        "## Conclusiones\n",
        "\n",
        "#### Se eligió las canciones de \"Amy Winehouse\" - cantante de blues, soul y jazz- Se analizaron palabras relacionadas a sus canciones, por ejemplo love, stay , etc. Aunque son palabras que abundan en las canciones tambien es interesante como el algoritmo relaciona algunas con \"night\" y ninguna con \"sad\". Siendo que las canciones de amy tienen a ese sentimiento. \n",
        "#### Entre palabras muy relacionadas tenemos he-walks-away, tears-dry, still-love-tomorrow, best-friends-right, siendo estas relaciones \"nostalgicas\" por otro lado tenemos huggin-monkey-big y muy cerca \"man\", y tambien \"night, blue, man, smoke, life, soul\" que seria el ambiente de sus canciones.. \n",
        "\n",
        "\n",
        "![newplot(1).png](data:image/png;base64,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)\n",
        "\n",
        "### Por lo tanto 'Gensim' como generador de embeddings es muy útil para determinar en el caso de canciones el tipo y genero si se utiliza otro algoritmo detectar estas relaciones... Además veo la posibilidad de un artista que puede tomar en Amy Winehouse inspiración para sus propias canciones al ver las relaciones y/o comparar artistas y determinar si pertenecen a un genero de música similar. "
      ],
      "metadata": {
        "id": "_9HPDZ1ATvYv"
      }
    },
    {
      "cell_type": "code",
      "source": [],
      "metadata": {
        "id": "zGVQtzA9Uzuh"
      },
      "execution_count": null,
      "outputs": []
    }
  ],
  "metadata": {
    "colab": {
      "collapsed_sections": [],
      "provenance": []
    },
    "kernelspec": {
      "display_name": "Python 3",
      "language": "python",
      "name": "python3"
    },
    "language_info": {
      "codemirror_mode": {
        "name": "ipython",
        "version": 3
      },
      "file_extension": ".py",
      "mimetype": "text/x-python",
      "name": "python",
      "nbconvert_exporter": "python",
      "pygments_lexer": "ipython3",
      "version": "3.8.10"
    }
  },
  "nbformat": 4,
  "nbformat_minor": 0
}