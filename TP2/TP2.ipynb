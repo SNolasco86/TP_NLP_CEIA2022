{
  "cells": [
    {
      "cell_type": "markdown",
      "metadata": {
        "id": "NV8wZ0MTKjv_",
        "pycharm": {
          "name": "#%% md\n"
        }
      },
      "source": [
        "<img src=\"https://github.com/hernancontigiani/ceia_memorias_especializacion/raw/master/Figures/logoFIUBA.jpg\" width=\"500\" align=\"center\">\n",
        "\n",
        "\n",
        "# Procesamiento de lenguaje natural\n",
        "## Bot basado en reglas con DNN + Spacy"
      ]
    },
    {
      "cell_type": "markdown",
      "metadata": {
        "id": "Z_9z3H-yKrcK",
        "pycharm": {
          "name": "#%% md\n"
        }
      },
      "source": [
        "#### Datos\n",
        "Este ejemplo se inspiró en otro Bot en inglés creado con NLTK, lo tienen como referencia para hacer lo mismo en inglés:\\\n",
        "[LINK](https://towardsdatascience.com/a-simple-chatbot-in-python-with-deep-learning-3e8669997758)"
      ]
    },
    {
      "cell_type": "markdown",
      "metadata": {
        "id": "oCVZakCzAjGN",
        "pycharm": {
          "name": "#%% md\n"
        }
      },
      "source": [
        "### 1 - Instalar dependencias\n",
        "Para poder utilizar Spacy en castellano es necesario agregar la librería \"spacy-stanza\" para lematizar palabras en español."
      ]
    },
    {
      "cell_type": "code",
      "execution_count": 1,
      "metadata": {
        "id": "Zd8NLa4gsSmT",
        "pycharm": {
          "name": "#%%\n"
        },
        "colab": {
          "base_uri": "https://localhost:8080/"
        },
        "outputId": "8d71a7a5-01db-4272-b02f-1d72b9442257"
      },
      "outputs": [
        {
          "output_type": "stream",
          "name": "stdout",
          "text": [
            "\u001b[K     |████████████████████████████████| 6.3 MB 5.0 MB/s \n",
            "\u001b[K     |████████████████████████████████| 11.1 MB 34.1 MB/s \n",
            "\u001b[K     |████████████████████████████████| 342 kB 5.2 MB/s \n",
            "\u001b[?25h"
          ]
        }
      ],
      "source": [
        "# La última versión de spacy-stanza (>1.0) es compatible solo con spacy >=3.0\n",
        "# Nota: spacy 3.0 incorpora al pepiline nlp transformers\n",
        "!pip install -U spacy==3.4.1 --quiet\n",
        "!pip install -U spacy-stanza==1.0.0 --quiet"
      ]
    },
    {
      "cell_type": "code",
      "execution_count": 2,
      "metadata": {
        "id": "kzao7XO9NJAq",
        "pycharm": {
          "name": "#%%\n"
        }
      },
      "outputs": [],
      "source": [
        "import json\n",
        "import string\n",
        "import random \n",
        "import numpy as np\n",
        "import tensorflow as tf \n",
        "from tensorflow.keras import Sequential \n",
        "from tensorflow.keras.layers import Dense, Dropout"
      ]
    },
    {
      "cell_type": "code",
      "execution_count": 3,
      "metadata": {
        "id": "Z_ExOb8uvjqK",
        "pycharm": {
          "name": "#%%\n"
        },
        "colab": {
          "base_uri": "https://localhost:8080/",
          "height": 500,
          "referenced_widgets": [
            "9c3f5e10dce84d3484752654cb204106",
            "212869634efc4edbba2aa8e2fe67e6ab",
            "8db02502f8e84f28bbe1143f8d07debd",
            "049d6bea0a454e81b6b7c1d560f1d5aa",
            "c68e37b019aa449ebfb5bd17038115c2",
            "cc0a5783ebdb4d389934764e7259450a",
            "de7fb96a73e74520b072c246853cc87c",
            "0532f967ad5c409d9888c812c9062fd8",
            "7a8b9c8397304ed191be824de6d82426",
            "fcb8034ed436430db2e928ddabddd648",
            "283f0cac38774c2f9198f6b563316e8f",
            "36a7ce33d3264aef8b2f78b44a4b8b53",
            "fa67dcdc104e46198e4189d6773362e2",
            "258bad91a08f44e6b79f526b40e583e2",
            "554862db834f4b12898c9037ce011e2f",
            "c542702909a74d81ad25e3e62676644d",
            "f7202df4d01b423eb5ffa7568bdf5ca4",
            "c9ea12b954f04195b05960c39ecfffe3",
            "aabdff23cc96430d93ea3ee5892e9293",
            "10b283dddf784e7581543e0106f921fd",
            "c384d4cc925b40018558ccfc6b946718",
            "a4833984da7e49e6b3721aecd702a924"
          ]
        },
        "outputId": "058629e1-5152-480e-a136-357eb8c0be17"
      },
      "outputs": [
        {
          "output_type": "display_data",
          "data": {
            "text/plain": [
              "Downloading https://raw.githubusercontent.com/stanfordnlp/stanza-resources/main/resources_1.2.2.json:   0%|   …"
            ],
            "application/vnd.jupyter.widget-view+json": {
              "version_major": 2,
              "version_minor": 0,
              "model_id": "9c3f5e10dce84d3484752654cb204106"
            }
          },
          "metadata": {}
        },
        {
          "output_type": "stream",
          "name": "stderr",
          "text": [
            "INFO:stanza:Downloading default packages for language: es (Spanish)...\n"
          ]
        },
        {
          "output_type": "display_data",
          "data": {
            "text/plain": [
              "Downloading http://nlp.stanford.edu/software/stanza/1.2.2/es/default.zip:   0%|          | 0.00/566M [00:00<?,…"
            ],
            "application/vnd.jupyter.widget-view+json": {
              "version_major": 2,
              "version_minor": 0,
              "model_id": "36a7ce33d3264aef8b2f78b44a4b8b53"
            }
          },
          "metadata": {}
        },
        {
          "output_type": "stream",
          "name": "stderr",
          "text": [
            "INFO:stanza:Finished downloading models and saved to /root/stanza_resources.\n",
            "INFO:stanza:Loading these models for language: es (Spanish):\n",
            "=======================\n",
            "| Processor | Package |\n",
            "-----------------------\n",
            "| tokenize  | ancora  |\n",
            "| mwt       | ancora  |\n",
            "| pos       | ancora  |\n",
            "| lemma     | ancora  |\n",
            "| depparse  | ancora  |\n",
            "| ner       | conll02 |\n",
            "=======================\n",
            "\n",
            "INFO:stanza:Use device: cpu\n",
            "INFO:stanza:Loading: tokenize\n",
            "INFO:stanza:Loading: mwt\n",
            "INFO:stanza:Loading: pos\n",
            "INFO:stanza:Loading: lemma\n",
            "INFO:stanza:Loading: depparse\n",
            "INFO:stanza:Loading: ner\n",
            "INFO:stanza:Done loading processors!\n"
          ]
        }
      ],
      "source": [
        "import stanza\n",
        "import spacy_stanza\n",
        "\n",
        "# Vamos a usar SpaCy-Stanza. Stanza es una librería de NLP de Stanford\n",
        "# SpaCy armó un wrapper para los pipelines y modelos de Stanza\n",
        "# https://stanfordnlp.github.io/stanza/\n",
        "\n",
        "# Descargar el diccionario en español y armar el pipeline de NLP con spacy\n",
        "stanza.download(\"es\")\n",
        "nlp = spacy_stanza.load_pipeline(\"es\")"
      ]
    },
    {
      "cell_type": "markdown",
      "metadata": {
        "id": "_wF10RjVMBdV",
        "pycharm": {
          "name": "#%% md\n"
        }
      },
      "source": [
        "### 2 - Herramientas de preprocesamiento de datos\n",
        "Entre las tareas de procesamiento de texto en español se implementa:\n",
        "- Quitar acentos y caracteres especiales\n",
        "- Quitar números\n",
        "- Quitar símbolos de puntuación"
      ]
    },
    {
      "cell_type": "code",
      "execution_count": 4,
      "metadata": {
        "id": "ZxoD2hEExmuX",
        "pycharm": {
          "name": "#%%\n"
        }
      },
      "outputs": [],
      "source": [
        "import re\n",
        "import unicodedata\n",
        "\n",
        "# El preprocesamento en castellano requiere más trabajo\n",
        "\n",
        "# Referencia de regex:\n",
        "# https://docs.python.org/3/library/re.html\n",
        "\n",
        "def preprocess_clean_text(text):    \n",
        "    # sacar tildes de las palabras:\n",
        "    text = unicodedata.normalize('NFKD', text).encode('ascii', 'ignore').decode('utf-8', 'ignore')\n",
        "    # quitar caracteres especiales\n",
        "    #pattern = r'[^a-zA-z0-9.,!?/:;\\\"\\'\\s]' # [^ : ningún caracter de todos estos\n",
        "    # (termina eliminando cualquier caracter distinto de los del regex)\n",
        "    #text = re.sub(pattern, '', text)\n",
        "    #pattern = r'[^a-zA-z.,!?/:;\\\"\\'\\s]' # igual al anterior pero sin cifras numéricas\n",
        "    pattern = r'[^a-z0-9.,!?/:;\\\"\\'\\s]' # igual al anterior pero sin cifras numéricas\n",
        "    # quitar números\n",
        "    text = re.sub(pattern, '', text)\n",
        "    # quitar caracteres de puntuación\n",
        "    text = ''.join([c for c in text if c not in string.punctuation])\n",
        "    return text"
      ]
    },
    {
      "cell_type": "code",
      "execution_count": 5,
      "metadata": {
        "id": "q-MiMZjh5fu2",
        "pycharm": {
          "name": "#%%\n"
        },
        "colab": {
          "base_uri": "https://localhost:8080/",
          "height": 35
        },
        "outputId": "3ef81fcf-fc71-45ef-f3a8-b7119f88feb5"
      },
      "outputs": [
        {
          "output_type": "execute_result",
          "data": {
            "text/plain": [
              "'personas ideas estas cosas 12 y los peces y los murcielagos 33 nanp'"
            ],
            "application/vnd.google.colaboratory.intrinsic+json": {
              "type": "string"
            }
          },
          "metadata": {},
          "execution_count": 5
        }
      ],
      "source": [
        "text = \"personas Ideas! estás cosas 12 y los_? peces. y los mUrciélagos 33 ñañp\"\n",
        "\n",
        "# Antes de preprocesar los datos se pasa a minúsculas todo el texto\n",
        "preprocess_clean_text(text.lower())"
      ]
    },
    {
      "cell_type": "code",
      "execution_count": 6,
      "metadata": {
        "id": "I9V-S8JbrtNn",
        "pycharm": {
          "name": "#%%\n"
        },
        "colab": {
          "base_uri": "https://localhost:8080/"
        },
        "outputId": "ba37c702-0350-4843-c745-39c0a9773698"
      },
      "outputs": [
        {
          "output_type": "stream",
          "name": "stdout",
          "text": [
            "tokens: hola personas ideas estas cosas y los peces y los murcielagos\n",
            "Lematización de cada token:\n",
            "[hola, 'holar']\n",
            "[personas, 'persona']\n",
            "[ideas, 'idea']\n",
            "[estas, 'este']\n",
            "[cosas, 'cosa']\n",
            "[y, 'y']\n",
            "[los, 'el']\n",
            "[peces, 'pez']\n",
            "[y, 'y']\n",
            "[los, 'el']\n",
            "[murcielagos, 'murcielago']\n"
          ]
        }
      ],
      "source": [
        "# Ejemplo de como fuciona\n",
        "text = \"hola personas Ideas! estás cosas y los peces y los murciélagos\"\n",
        "\n",
        "# Antes de preprocesar los datos se pasa a minúsculas todo el texto\n",
        "tokes = nlp(preprocess_clean_text(text.lower()))\n",
        "print(\"tokens:\", tokes)\n",
        "print(\"Lematización de cada token:\")\n",
        "for token in tokes:\n",
        "    print([token, token.lemma_])"
      ]
    },
    {
      "cell_type": "markdown",
      "metadata": {
        "id": "ilRbn0KfMm2r",
        "pycharm": {
          "name": "#%% md\n"
        }
      },
      "source": [
        "### 3 - Diccionario de entrada"
      ]
    },
    {
      "cell_type": "code",
      "execution_count": 27,
      "metadata": {
        "id": "NgIGpjymNEH7",
        "pycharm": {
          "name": "#%%\n"
        }
      },
      "outputs": [],
      "source": [
        "# Dataset en formato JSON que representa las posibles preguntas (patterns)\n",
        "# y las posibles respuestas por categoría (tag)\n",
        "# Los \"patterns\" van a formar el corpus para entrenar el clasificador que clasifica en tags\n",
        "# \"respones\" son las respuestas predeterminadas posibles para cada tag\n",
        "dataset = {\"intents\": [\n",
        "             {\"tag\": \"bienvenida\",\n",
        "              \"patterns\": [\"Hola\", \"¿Cómo estás?\", \"¿Qué tal?\", \"Buenas\",\"hi\"],\n",
        "              \"responses\": [\"Hola!\", \"Hola amig@\", \"Buenos dias\" ]\n",
        "             },\n",
        "             {\"tag\": \"nombre\",\n",
        "              \"patterns\": [\"¿Cúal es tu nombre?\", \"¿Quién sos?\", \"¿Donde estoy?\"],\n",
        "              \"responses\": [\"Estacionamiento Centro, a su servicio\", \"Estacionamiento Centro\"]\n",
        "             },\n",
        "              {\"tag\": \"lugar\",\n",
        "              \"patterns\": [\"lugar\", \"¿Adonde voy?\", \"¿Hay lugar?\", \"¿Hay lugar en la playa?\", \"¿Donde estaciono?\", \"¿Número de lugar?\", \"¿Por donde voy?\", \"¿Por donde me meto?\"],\n",
        "              \"responses\": [\"Siga la flecha y su zona es <numero>\", \"Su estacionamiento será <numero>\", \"Estacionamiento asignado <numero>\", \"Siga las indicaciones, su número es <numero> de estacionamiento\"]\n",
        "             },\n",
        "            {\"tag\": \"tiempo\",\n",
        "              \"patterns\": [\"tiempo\", \"¿Cuanto es el tiempo maximo?\", \"¿Hasta que hora están?\", \"¿A que hora cierran?\", \"¿A que hora abren?\"],\n",
        "              \"responses\": [\"Estamos abiertos de 8hs a 22hs\", \"Horario corrido de 8hs a 22hs\"]\n",
        "             },\n",
        "             {\"tag\": \"fraccion\",\n",
        "              \"patterns\": [\"se fracciona la hora\", \"¿Cuanto es el tiempo minimo?\", \"¿la fraccion?\",\"¿Cúal es el tiempo minimo?\", \"¿Puedo estar menos de la hora?\"],\n",
        "              \"responses\": [\"Fraccion de 15min luego de 2 horas\", \"2 horas, luego se fracciona en 15 min\"]\n",
        "             },\n",
        "            {\"tag\": \"clima\",\n",
        "              \"patterns\": [\"¿como está el clima?\", \"¿como está el tiempo?\", \"¿tienen seguro?\", \"¿Que pasa si vandalizan el auto?\",\"Estoy en un lugar seguro\"],\n",
        "              \"responses\": [\"Tenemos seguro\", \"Playa techada y segura\", \"Seguridad 24hs\", \"Siga las novedades con el <link>\", \"Lugar iluminado y seguro\"]\n",
        "             },\n",
        "            {\"tag\": \"precios\",\n",
        "              \"patterns\": [\"precio\", \"Me podrás pasar los precios por hora\", \"¿Cuánto vale?\", \"¿Cuánto sale?\", \"¿Cuanto pago?\"],\n",
        "              \"responses\": [\"Precio por hora es $100\"]\n",
        "             },\n",
        "            {\"tag\": \"pagos\",\n",
        "              \"patterns\": [\"medios de pago\", \"tarjeta de crédito\", \"tarjetas\", \"cuotas\", \"Se ¿puede pagar efectivo?\",\"que medios aceptan de pago\", \"¿Donde hago el pago?\"],\n",
        "              \"responses\": [\"A la salida podrá pagar por distintos medios\", \"Pagos a la salida\", \"Aceptamos distintos pagos\"]\n",
        "             },\n",
        "             {\"tag\": \"salida\",\n",
        "              \"patterns\": [\"Por donde salgo\", \"¿Donde está la salida?\", \"salida\", \"¿Por donde me retiro?\", \"Como salgo\", \"Por donde voy\"],\n",
        "              \"responses\": [\"A la salida podrá pagar por distintos medios, siga las indicaciones\", \"Atento a las flechas de salida\", \"Siga las señales de indicación\"]\n",
        "             },\n",
        "            {\"tag\": \"agradecimientos\",\n",
        "              \"patterns\": [ \"Muchas gracias\", \"Gracias\"],\n",
        "              \"responses\": [\"Por nada!, lo estaremos esperando\"]\n",
        "             },\n",
        "             {\"tag\": \"despedida\",\n",
        "              \"patterns\": [ \"Chau\", \"Hasta luego!\"],\n",
        "              \"responses\": [\"Hasta luego!\", \"Lo esperamos, en la proxima visita!\"]\n",
        "             }\n",
        "]}"
      ]
    },
    {
      "cell_type": "markdown",
      "metadata": {
        "id": "19PEDmIDfLRu",
        "pycharm": {
          "name": "#%% md\n"
        }
      },
      "source": [
        "### 4 - Preprocesamiento y armado del dataset"
      ]
    },
    {
      "cell_type": "code",
      "execution_count": 28,
      "metadata": {
        "id": "b3HP8abHNRk3",
        "pycharm": {
          "name": "#%%\n"
        }
      },
      "outputs": [],
      "source": [
        "# Datos que necesitaremos, las palabras o vocabulario\n",
        "words = []\n",
        "classes = []\n",
        "doc_X = []\n",
        "doc_y = []\n",
        "\n",
        "# Por cada intención (intents) debemos tomar los patrones que la caracterízan\n",
        "# a esa intención y transformarla a tokens para almacenar en doc_X\n",
        "\n",
        "# El tag de cada intención se almacena como doc_Y (la clase a predecir)\n",
        "# En `words` vamos a guardar el vocabulario\n",
        "# En `class` las posibles clases o tags\n",
        "\n",
        "for intent in dataset[\"intents\"]:\n",
        "    for pattern in intent[\"patterns\"]:\n",
        "        # trasformar el patron a tokens\n",
        "        tokens = nlp(preprocess_clean_text(pattern.lower()))\n",
        "        # lematizar los tokens\n",
        "        for token in tokens:            \n",
        "            words.append(token.lemma_)\n",
        "        \n",
        "        doc_X.append(pattern)\n",
        "        doc_y.append(intent[\"tag\"])\n",
        "    \n",
        "    # Agregar el tag a las clases\n",
        "    if intent[\"tag\"] not in classes:\n",
        "        classes.append(intent[\"tag\"])\n",
        "\n",
        "# Elminar duplicados con \"set\" y ordenar el vocubulario y las clases por orden alfabético\n",
        "words = sorted(set(words))\n",
        "classes = sorted(set(classes))"
      ]
    },
    {
      "cell_type": "code",
      "execution_count": 30,
      "metadata": {
        "id": "Acy-gcugNbMH",
        "pycharm": {
          "name": "#%%\n"
        },
        "colab": {
          "base_uri": "https://localhost:8080/"
        },
        "outputId": "a8c61c0e-d775-4445-a0f2-34b8a9942020"
      },
      "outputs": [
        {
          "output_type": "stream",
          "name": "stdout",
          "text": [
            "words: ['a', 'abrir', 'aceptar', 'adonde', 'auto', 'buen', 'cerrar', 'chau', 'clima', 'como', 'credito', 'cual', 'cuanto', 'cuota', 'de', 'donde', 'e', 'efectivo', 'el', 'en', 'estacionar', 'estar', 'este', 'fraccion', 'fraccionar', 'gracias', 'haber', 'hacer', 'hasta', 'hi', 'holar', 'hora', 'ir', 'luego', 'lugar', 'maximo', 'medio', 'menos', 'meter', 'minimo', 'mucho', 'nombre', 'numero', 'pagar', 'pago', 'pasar', 'playa', 'poder', 'por', 'precio', 'que', 'quien', 'retiro', 'salida', 'salir', 'seguro', 'ser', 'si', 'tal', 'tarjeta', 'tener', 'tiempo', 'tu', 'uno', 'valer', 'vandalizar', 'yo', 'él']\n",
            "classes: ['agradecimientos', 'bienvenida', 'clima', 'despedida', 'fraccion', 'lugar', 'nombre', 'pagos', 'precios', 'salida', 'tiempo']\n",
            "doc_X: ['Hola', '¿Cómo estás?', '¿Qué tal?', 'Buenas', 'hi', '¿Cúal es tu nombre?', '¿Quién sos?', '¿Donde estoy?', 'lugar', '¿Adonde voy?', '¿Hay lugar?', '¿Hay lugar en la playa?', '¿Donde estaciono?', '¿Número de lugar?', '¿Por donde voy?', '¿Por donde me meto?', 'tiempo', '¿Cuanto es el tiempo maximo?', '¿Hasta que hora están?', '¿A que hora cierran?', '¿A que hora abren?', 'se fracciona la hora', '¿Cuanto es el tiempo minimo?', '¿la fraccion?', '¿Cúal es el tiempo minimo?', '¿Puedo estar menos de la hora?', '¿como está el clima?', '¿como está el tiempo?', '¿tienen seguro?', '¿Que pasa si vandalizan el auto?', 'Estoy en un lugar seguro', 'precio', 'Me podrás pasar los precios por hora', '¿Cuánto vale?', '¿Cuánto sale?', '¿Cuanto pago?', 'medios de pago', 'tarjeta de crédito', 'tarjetas', 'cuotas', 'Se ¿puede pagar efectivo?', 'que medios aceptan de pago', '¿Donde hago el pago?', 'Por donde salgo', '¿Donde está la salida?', 'salida', '¿Por donde me retiro?', 'Como salgo', 'Por donde voy', 'Muchas gracias', 'Gracias', 'Chau', 'Hasta luego!']\n",
            "doc_y: ['bienvenida', 'bienvenida', 'bienvenida', 'bienvenida', 'bienvenida', 'nombre', 'nombre', 'nombre', 'lugar', 'lugar', 'lugar', 'lugar', 'lugar', 'lugar', 'lugar', 'lugar', 'tiempo', 'tiempo', 'tiempo', 'tiempo', 'tiempo', 'fraccion', 'fraccion', 'fraccion', 'fraccion', 'fraccion', 'clima', 'clima', 'clima', 'clima', 'clima', 'precios', 'precios', 'precios', 'precios', 'precios', 'pagos', 'pagos', 'pagos', 'pagos', 'pagos', 'pagos', 'pagos', 'salida', 'salida', 'salida', 'salida', 'salida', 'salida', 'agradecimientos', 'agradecimientos', 'despedida', 'despedida']\n"
          ]
        }
      ],
      "source": [
        "print(\"words:\", words)\n",
        "print(\"classes:\", classes)\n",
        "print(\"doc_X:\", doc_X)\n",
        "print(\"doc_y:\", doc_y)"
      ]
    },
    {
      "cell_type": "code",
      "execution_count": 31,
      "metadata": {
        "id": "YI0L2U7IQcvy",
        "pycharm": {
          "name": "#%%\n"
        },
        "colab": {
          "base_uri": "https://localhost:8080/"
        },
        "outputId": "2f1e08d6-981a-4c15-d17e-7b0d7d1e926e"
      },
      "outputs": [
        {
          "output_type": "stream",
          "name": "stdout",
          "text": [
            "Vocabulario: 68\n"
          ]
        }
      ],
      "source": [
        "# Tamaño del vocabulario\n",
        "print(\"Vocabulario:\", len(words))"
      ]
    },
    {
      "cell_type": "code",
      "execution_count": 32,
      "metadata": {
        "id": "hqBeGKRk_q4r",
        "pycharm": {
          "name": "#%%\n"
        },
        "colab": {
          "base_uri": "https://localhost:8080/"
        },
        "outputId": "2d67f84e-0d4c-452c-a9ff-bed5d240bb68"
      },
      "outputs": [
        {
          "output_type": "stream",
          "name": "stdout",
          "text": [
            "Tags: 11\n"
          ]
        }
      ],
      "source": [
        "# Cantidad de tags\n",
        "print(\"Tags:\", len(classes))"
      ]
    },
    {
      "cell_type": "code",
      "execution_count": 33,
      "metadata": {
        "id": "vpbJ0guPN2Uq",
        "pycharm": {
          "name": "#%%\n"
        },
        "colab": {
          "base_uri": "https://localhost:8080/"
        },
        "outputId": "4960ae25-4759-4b45-f3fe-575ed4029173"
      },
      "outputs": [
        {
          "output_type": "stream",
          "name": "stdout",
          "text": [
            "X: [0, 0, 0, 0, 0, 0, 0, 0, 0, 0, 0, 0, 0, 0, 0, 0, 0, 0, 0, 0, 0, 0, 0, 0, 0, 0, 0, 0, 0, 0, 1, 0, 0, 0, 0, 0, 0, 0, 0, 0, 0, 0, 0, 0, 0, 0, 0, 0, 0, 0, 0, 0, 0, 0, 0, 0, 0, 0, 0, 0, 0, 0, 0, 0, 0, 0, 0, 0] y: [0, 1, 0, 0, 0, 0, 0, 0, 0, 0, 0]\n",
            "X: [0, 0, 0, 0, 0, 0, 0, 0, 0, 1, 0, 0, 0, 0, 0, 0, 0, 0, 0, 0, 0, 0, 1, 0, 0, 0, 0, 0, 0, 0, 0, 0, 0, 0, 0, 0, 0, 0, 0, 0, 0, 0, 0, 0, 0, 0, 0, 0, 0, 0, 0, 0, 0, 0, 0, 0, 0, 0, 0, 0, 0, 0, 0, 0, 0, 0, 0, 0] y: [0, 1, 0, 0, 0, 0, 0, 0, 0, 0, 0]\n",
            "X: [0, 0, 0, 0, 0, 0, 0, 0, 0, 0, 0, 0, 0, 0, 0, 0, 0, 0, 0, 0, 0, 0, 0, 0, 0, 0, 0, 0, 0, 0, 0, 0, 0, 0, 0, 0, 0, 0, 0, 0, 0, 0, 0, 0, 0, 0, 0, 0, 0, 0, 1, 0, 0, 0, 0, 0, 0, 0, 1, 0, 0, 0, 0, 0, 0, 0, 0, 0] y: [0, 1, 0, 0, 0, 0, 0, 0, 0, 0, 0]\n",
            "X: [0, 0, 0, 0, 0, 1, 0, 0, 0, 0, 0, 0, 0, 0, 0, 0, 0, 0, 0, 0, 0, 0, 0, 0, 0, 0, 0, 0, 0, 0, 0, 0, 0, 0, 0, 0, 0, 0, 0, 0, 0, 0, 0, 0, 0, 0, 0, 0, 0, 0, 0, 0, 0, 0, 0, 0, 0, 0, 0, 0, 0, 0, 0, 0, 0, 0, 0, 0] y: [0, 1, 0, 0, 0, 0, 0, 0, 0, 0, 0]\n",
            "X: [0, 0, 0, 0, 0, 0, 0, 0, 0, 0, 0, 0, 0, 0, 0, 0, 0, 0, 0, 0, 0, 0, 0, 0, 0, 0, 0, 0, 0, 1, 0, 0, 0, 0, 0, 0, 0, 0, 0, 0, 0, 0, 0, 0, 0, 0, 0, 0, 0, 0, 0, 0, 0, 0, 0, 0, 0, 0, 0, 0, 0, 0, 0, 0, 0, 0, 0, 0] y: [0, 1, 0, 0, 0, 0, 0, 0, 0, 0, 0]\n",
            "X: [0, 0, 0, 0, 0, 0, 0, 0, 0, 0, 0, 1, 0, 0, 0, 0, 0, 0, 0, 0, 0, 0, 0, 0, 0, 0, 0, 0, 0, 0, 0, 0, 0, 0, 0, 0, 0, 0, 0, 0, 0, 1, 0, 0, 0, 0, 0, 0, 0, 0, 0, 0, 0, 0, 0, 0, 1, 0, 0, 0, 0, 0, 1, 0, 0, 0, 0, 0] y: [0, 0, 0, 0, 0, 0, 1, 0, 0, 0, 0]\n",
            "X: [0, 0, 0, 0, 0, 0, 0, 0, 0, 0, 0, 0, 0, 0, 0, 0, 0, 0, 0, 0, 0, 0, 0, 0, 0, 0, 0, 0, 0, 0, 0, 0, 0, 0, 0, 0, 0, 0, 0, 0, 0, 0, 0, 0, 0, 0, 0, 0, 0, 0, 0, 1, 0, 0, 0, 0, 1, 0, 0, 0, 0, 0, 0, 0, 0, 0, 0, 0] y: [0, 0, 0, 0, 0, 0, 1, 0, 0, 0, 0]\n",
            "X: [0, 0, 0, 0, 0, 0, 0, 0, 0, 0, 0, 0, 0, 0, 0, 1, 0, 0, 0, 0, 0, 1, 0, 0, 0, 0, 0, 0, 0, 0, 0, 0, 0, 0, 0, 0, 0, 0, 0, 0, 0, 0, 0, 0, 0, 0, 0, 0, 0, 0, 0, 0, 0, 0, 0, 0, 0, 0, 0, 0, 0, 0, 0, 0, 0, 0, 0, 0] y: [0, 0, 0, 0, 0, 0, 1, 0, 0, 0, 0]\n",
            "X: [0, 0, 0, 0, 0, 0, 0, 0, 0, 0, 0, 0, 0, 0, 0, 0, 0, 0, 0, 0, 0, 0, 0, 0, 0, 0, 0, 0, 0, 0, 0, 0, 0, 0, 1, 0, 0, 0, 0, 0, 0, 0, 0, 0, 0, 0, 0, 0, 0, 0, 0, 0, 0, 0, 0, 0, 0, 0, 0, 0, 0, 0, 0, 0, 0, 0, 0, 0] y: [0, 0, 0, 0, 0, 1, 0, 0, 0, 0, 0]\n",
            "X: [0, 0, 0, 1, 0, 0, 0, 0, 0, 0, 0, 0, 0, 0, 0, 0, 0, 0, 0, 0, 0, 0, 0, 0, 0, 0, 0, 0, 0, 0, 0, 0, 1, 0, 0, 0, 0, 0, 0, 0, 0, 0, 0, 0, 0, 0, 0, 0, 0, 0, 0, 0, 0, 0, 0, 0, 0, 0, 0, 0, 0, 0, 0, 0, 0, 0, 0, 0] y: [0, 0, 0, 0, 0, 1, 0, 0, 0, 0, 0]\n",
            "X: [0, 0, 0, 0, 0, 0, 0, 0, 0, 0, 0, 0, 0, 0, 0, 0, 0, 0, 0, 0, 0, 0, 0, 0, 0, 0, 1, 0, 0, 0, 0, 0, 0, 0, 1, 0, 0, 0, 0, 0, 0, 0, 0, 0, 0, 0, 0, 0, 0, 0, 0, 0, 0, 0, 0, 0, 0, 0, 0, 0, 0, 0, 0, 0, 0, 0, 0, 0] y: [0, 0, 0, 0, 0, 1, 0, 0, 0, 0, 0]\n",
            "X: [0, 0, 0, 0, 0, 0, 0, 0, 0, 0, 0, 0, 0, 0, 0, 0, 0, 0, 1, 1, 0, 0, 0, 0, 0, 0, 1, 0, 0, 0, 0, 0, 0, 0, 1, 0, 0, 0, 0, 0, 0, 0, 0, 0, 0, 0, 1, 0, 0, 0, 0, 0, 0, 0, 0, 0, 0, 0, 0, 0, 0, 0, 0, 0, 0, 0, 0, 0] y: [0, 0, 0, 0, 0, 1, 0, 0, 0, 0, 0]\n",
            "X: [0, 0, 0, 0, 0, 0, 0, 0, 0, 0, 0, 0, 0, 0, 0, 1, 0, 0, 0, 0, 1, 0, 0, 0, 0, 0, 0, 0, 0, 0, 0, 0, 0, 0, 0, 0, 0, 0, 0, 0, 0, 0, 0, 0, 0, 0, 0, 0, 0, 0, 0, 0, 0, 0, 0, 0, 0, 0, 0, 0, 0, 0, 0, 0, 0, 0, 0, 0] y: [0, 0, 0, 0, 0, 1, 0, 0, 0, 0, 0]\n",
            "X: [0, 0, 0, 0, 0, 0, 0, 0, 0, 0, 0, 0, 0, 0, 1, 0, 0, 0, 0, 0, 0, 0, 0, 0, 0, 0, 0, 0, 0, 0, 0, 0, 0, 0, 1, 0, 0, 0, 0, 0, 0, 0, 1, 0, 0, 0, 0, 0, 0, 0, 0, 0, 0, 0, 0, 0, 0, 0, 0, 0, 0, 0, 0, 0, 0, 0, 0, 0] y: [0, 0, 0, 0, 0, 1, 0, 0, 0, 0, 0]\n",
            "X: [0, 0, 0, 0, 0, 0, 0, 0, 0, 0, 0, 0, 0, 0, 0, 1, 0, 0, 0, 0, 0, 0, 0, 0, 0, 0, 0, 0, 0, 0, 0, 0, 1, 0, 0, 0, 0, 0, 0, 0, 0, 0, 0, 0, 0, 0, 0, 0, 1, 0, 0, 0, 0, 0, 0, 0, 0, 0, 0, 0, 0, 0, 0, 0, 0, 0, 0, 0] y: [0, 0, 0, 0, 0, 1, 0, 0, 0, 0, 0]\n",
            "X: [0, 0, 0, 0, 0, 0, 0, 0, 0, 0, 0, 0, 0, 0, 0, 1, 0, 0, 0, 0, 0, 0, 0, 0, 0, 0, 0, 0, 0, 0, 0, 0, 0, 0, 0, 0, 0, 0, 1, 0, 0, 0, 0, 0, 0, 0, 0, 0, 1, 0, 0, 0, 0, 0, 0, 0, 0, 0, 0, 0, 0, 0, 0, 0, 0, 0, 1, 0] y: [0, 0, 0, 0, 0, 1, 0, 0, 0, 0, 0]\n",
            "X: [0, 0, 0, 0, 0, 0, 0, 0, 0, 0, 0, 0, 0, 0, 0, 0, 0, 0, 0, 0, 0, 0, 0, 0, 0, 0, 0, 0, 0, 0, 0, 0, 0, 0, 0, 0, 0, 0, 0, 0, 0, 0, 0, 0, 0, 0, 0, 0, 0, 0, 0, 0, 0, 0, 0, 0, 0, 0, 0, 0, 0, 1, 0, 0, 0, 0, 0, 0] y: [0, 0, 0, 0, 0, 0, 0, 0, 0, 0, 1]\n",
            "X: [0, 0, 0, 0, 0, 0, 0, 0, 0, 0, 0, 0, 1, 0, 0, 0, 0, 0, 1, 0, 0, 0, 0, 0, 0, 0, 0, 0, 0, 0, 0, 0, 0, 0, 0, 1, 0, 0, 0, 0, 0, 0, 0, 0, 0, 0, 0, 0, 0, 0, 0, 0, 0, 0, 0, 0, 1, 0, 0, 0, 0, 1, 0, 0, 0, 0, 0, 0] y: [0, 0, 0, 0, 0, 0, 0, 0, 0, 0, 1]\n",
            "X: [0, 0, 0, 0, 0, 0, 0, 0, 0, 0, 0, 0, 0, 0, 0, 0, 0, 0, 0, 0, 0, 1, 0, 0, 0, 0, 0, 0, 1, 0, 0, 1, 0, 0, 0, 0, 0, 0, 0, 0, 0, 0, 0, 0, 0, 0, 0, 0, 0, 0, 1, 0, 0, 0, 0, 0, 0, 0, 0, 0, 0, 0, 0, 0, 0, 0, 0, 0] y: [0, 0, 0, 0, 0, 0, 0, 0, 0, 0, 1]\n",
            "X: [1, 0, 0, 0, 0, 0, 1, 0, 0, 0, 0, 0, 0, 0, 0, 0, 0, 0, 0, 0, 0, 0, 0, 0, 0, 0, 0, 0, 0, 0, 0, 1, 0, 0, 0, 0, 0, 0, 0, 0, 0, 0, 0, 0, 0, 0, 0, 0, 0, 0, 1, 0, 0, 0, 0, 0, 0, 0, 0, 0, 0, 0, 0, 0, 0, 0, 0, 0] y: [0, 0, 0, 0, 0, 0, 0, 0, 0, 0, 1]\n",
            "X: [1, 1, 0, 0, 0, 0, 0, 0, 0, 0, 0, 0, 0, 0, 0, 0, 0, 0, 0, 0, 0, 0, 0, 0, 0, 0, 0, 0, 0, 0, 0, 1, 0, 0, 0, 0, 0, 0, 0, 0, 0, 0, 0, 0, 0, 0, 0, 0, 0, 0, 1, 0, 0, 0, 0, 0, 0, 0, 0, 0, 0, 0, 0, 0, 0, 0, 0, 0] y: [0, 0, 0, 0, 0, 0, 0, 0, 0, 0, 1]\n",
            "X: [0, 0, 0, 0, 0, 0, 0, 0, 0, 0, 0, 0, 0, 0, 0, 0, 0, 0, 1, 0, 0, 0, 0, 0, 1, 0, 0, 0, 0, 0, 0, 1, 0, 0, 0, 0, 0, 0, 0, 0, 0, 0, 0, 0, 0, 0, 0, 0, 0, 0, 0, 0, 0, 0, 0, 0, 0, 0, 0, 0, 0, 0, 0, 0, 0, 0, 0, 1] y: [0, 0, 0, 0, 1, 0, 0, 0, 0, 0, 0]\n",
            "X: [0, 0, 0, 0, 0, 0, 0, 0, 0, 0, 0, 0, 1, 0, 0, 0, 0, 0, 1, 0, 0, 0, 0, 0, 0, 0, 0, 0, 0, 0, 0, 0, 0, 0, 0, 0, 0, 0, 0, 1, 0, 0, 0, 0, 0, 0, 0, 0, 0, 0, 0, 0, 0, 0, 0, 0, 1, 0, 0, 0, 0, 1, 0, 0, 0, 0, 0, 0] y: [0, 0, 0, 0, 1, 0, 0, 0, 0, 0, 0]\n",
            "X: [0, 0, 0, 0, 0, 0, 0, 0, 0, 0, 0, 0, 0, 0, 0, 0, 0, 0, 1, 0, 0, 0, 0, 1, 0, 0, 0, 0, 0, 0, 0, 0, 0, 0, 0, 0, 0, 0, 0, 0, 0, 0, 0, 0, 0, 0, 0, 0, 0, 0, 0, 0, 0, 0, 0, 0, 0, 0, 0, 0, 0, 0, 0, 0, 0, 0, 0, 0] y: [0, 0, 0, 0, 1, 0, 0, 0, 0, 0, 0]\n",
            "X: [0, 0, 0, 0, 0, 0, 0, 0, 0, 0, 0, 1, 0, 0, 0, 0, 0, 0, 1, 0, 0, 0, 0, 0, 0, 0, 0, 0, 0, 0, 0, 0, 0, 0, 0, 0, 0, 0, 0, 1, 0, 0, 0, 0, 0, 0, 0, 0, 0, 0, 0, 0, 0, 0, 0, 0, 1, 0, 0, 0, 0, 1, 0, 0, 0, 0, 0, 0] y: [0, 0, 0, 0, 1, 0, 0, 0, 0, 0, 0]\n",
            "X: [0, 0, 0, 0, 0, 0, 0, 0, 0, 0, 0, 0, 0, 0, 1, 0, 0, 0, 1, 0, 0, 1, 0, 0, 0, 0, 0, 0, 0, 0, 0, 1, 0, 0, 0, 0, 0, 1, 0, 0, 0, 0, 0, 0, 0, 0, 0, 1, 0, 0, 0, 0, 0, 0, 0, 0, 0, 0, 0, 0, 0, 0, 0, 0, 0, 0, 0, 0] y: [0, 0, 0, 0, 1, 0, 0, 0, 0, 0, 0]\n",
            "X: [0, 0, 0, 0, 0, 0, 0, 0, 1, 1, 0, 0, 0, 0, 0, 0, 0, 0, 1, 0, 0, 0, 1, 0, 0, 0, 0, 0, 0, 0, 0, 0, 0, 0, 0, 0, 0, 0, 0, 0, 0, 0, 0, 0, 0, 0, 0, 0, 0, 0, 0, 0, 0, 0, 0, 0, 0, 0, 0, 0, 0, 0, 0, 0, 0, 0, 0, 0] y: [0, 0, 1, 0, 0, 0, 0, 0, 0, 0, 0]\n",
            "X: [0, 0, 0, 0, 0, 0, 0, 0, 0, 1, 0, 0, 0, 0, 0, 0, 0, 0, 1, 0, 0, 0, 1, 0, 0, 0, 0, 0, 0, 0, 0, 0, 0, 0, 0, 0, 0, 0, 0, 0, 0, 0, 0, 0, 0, 0, 0, 0, 0, 0, 0, 0, 0, 0, 0, 0, 0, 0, 0, 0, 0, 1, 0, 0, 0, 0, 0, 0] y: [0, 0, 1, 0, 0, 0, 0, 0, 0, 0, 0]\n",
            "X: [0, 0, 0, 0, 0, 0, 0, 0, 0, 0, 0, 0, 0, 0, 0, 0, 0, 0, 0, 0, 0, 0, 0, 0, 0, 0, 0, 0, 0, 0, 0, 0, 0, 0, 0, 0, 0, 0, 0, 0, 0, 0, 0, 0, 0, 0, 0, 0, 0, 0, 0, 0, 0, 0, 0, 1, 0, 0, 0, 0, 1, 0, 0, 0, 0, 0, 0, 0] y: [0, 0, 1, 0, 0, 0, 0, 0, 0, 0, 0]\n",
            "X: [0, 0, 0, 0, 1, 0, 0, 0, 0, 0, 0, 0, 0, 0, 0, 0, 0, 0, 1, 0, 0, 0, 0, 0, 0, 0, 0, 0, 0, 0, 0, 0, 0, 0, 0, 0, 0, 0, 0, 0, 0, 0, 0, 0, 0, 1, 0, 0, 0, 0, 1, 0, 0, 0, 0, 0, 0, 1, 0, 0, 0, 0, 0, 0, 0, 1, 0, 0] y: [0, 0, 1, 0, 0, 0, 0, 0, 0, 0, 0]\n",
            "X: [0, 0, 0, 0, 0, 0, 0, 0, 0, 0, 0, 0, 0, 0, 0, 0, 0, 0, 0, 1, 0, 1, 0, 0, 0, 0, 0, 0, 0, 0, 0, 0, 0, 0, 1, 0, 0, 0, 0, 0, 0, 0, 0, 0, 0, 0, 0, 0, 0, 0, 0, 0, 0, 0, 0, 1, 0, 0, 0, 0, 0, 0, 0, 1, 0, 0, 0, 0] y: [0, 0, 1, 0, 0, 0, 0, 0, 0, 0, 0]\n",
            "X: [0, 0, 0, 0, 0, 0, 0, 0, 0, 0, 0, 0, 0, 0, 0, 0, 0, 0, 0, 0, 0, 0, 0, 0, 0, 0, 0, 0, 0, 0, 0, 0, 0, 0, 0, 0, 0, 0, 0, 0, 0, 0, 0, 0, 0, 0, 0, 0, 0, 1, 0, 0, 0, 0, 0, 0, 0, 0, 0, 0, 0, 0, 0, 0, 0, 0, 0, 0] y: [0, 0, 0, 0, 0, 0, 0, 0, 1, 0, 0]\n",
            "X: [0, 0, 0, 0, 0, 0, 0, 0, 0, 0, 0, 0, 0, 0, 0, 0, 0, 0, 1, 0, 0, 0, 0, 0, 0, 0, 0, 0, 0, 0, 0, 1, 0, 0, 0, 0, 0, 0, 0, 0, 0, 0, 0, 0, 0, 1, 0, 1, 1, 1, 0, 0, 0, 0, 0, 0, 0, 0, 0, 0, 0, 0, 0, 0, 0, 0, 1, 0] y: [0, 0, 0, 0, 0, 0, 0, 0, 1, 0, 0]\n",
            "X: [0, 0, 0, 0, 0, 0, 0, 0, 0, 0, 0, 0, 1, 0, 0, 0, 0, 0, 0, 0, 0, 0, 0, 0, 0, 0, 0, 0, 0, 0, 0, 0, 0, 0, 0, 0, 0, 0, 0, 0, 0, 0, 0, 0, 0, 0, 0, 0, 0, 0, 0, 0, 0, 0, 0, 0, 0, 0, 0, 0, 0, 0, 0, 0, 1, 0, 0, 0] y: [0, 0, 0, 0, 0, 0, 0, 0, 1, 0, 0]\n",
            "X: [0, 0, 0, 0, 0, 0, 0, 0, 0, 0, 0, 0, 1, 0, 0, 0, 0, 0, 0, 0, 0, 0, 0, 0, 0, 0, 0, 0, 0, 0, 0, 0, 0, 0, 0, 0, 0, 0, 0, 0, 0, 0, 0, 0, 0, 0, 0, 0, 0, 0, 0, 0, 0, 0, 1, 0, 0, 0, 0, 0, 0, 0, 0, 0, 0, 0, 0, 0] y: [0, 0, 0, 0, 0, 0, 0, 0, 1, 0, 0]\n",
            "X: [0, 0, 0, 0, 0, 0, 0, 0, 0, 0, 0, 0, 1, 0, 0, 0, 0, 0, 0, 0, 0, 0, 0, 0, 0, 0, 0, 0, 0, 0, 0, 0, 0, 0, 0, 0, 0, 0, 0, 0, 0, 0, 0, 0, 1, 0, 0, 0, 0, 0, 0, 0, 0, 0, 0, 0, 0, 0, 0, 0, 0, 0, 0, 0, 0, 0, 0, 0] y: [0, 0, 0, 0, 0, 0, 0, 0, 1, 0, 0]\n",
            "X: [0, 0, 0, 0, 0, 0, 0, 0, 0, 0, 0, 0, 0, 0, 1, 0, 0, 0, 0, 0, 0, 0, 0, 0, 0, 0, 0, 0, 0, 0, 0, 0, 0, 0, 0, 0, 1, 0, 0, 0, 0, 0, 0, 0, 1, 0, 0, 0, 0, 0, 0, 0, 0, 0, 0, 0, 0, 0, 0, 0, 0, 0, 0, 0, 0, 0, 0, 0] y: [0, 0, 0, 0, 0, 0, 0, 1, 0, 0, 0]\n",
            "X: [0, 0, 0, 0, 0, 0, 0, 0, 0, 0, 1, 0, 0, 0, 1, 0, 0, 0, 0, 0, 0, 0, 0, 0, 0, 0, 0, 0, 0, 0, 0, 0, 0, 0, 0, 0, 0, 0, 0, 0, 0, 0, 0, 0, 0, 0, 0, 0, 0, 0, 0, 0, 0, 0, 0, 0, 0, 0, 0, 1, 0, 0, 0, 0, 0, 0, 0, 0] y: [0, 0, 0, 0, 0, 0, 0, 1, 0, 0, 0]\n",
            "X: [0, 0, 0, 0, 0, 0, 0, 0, 0, 0, 0, 0, 0, 0, 0, 0, 0, 0, 0, 0, 0, 0, 0, 0, 0, 0, 0, 0, 0, 0, 0, 0, 0, 0, 0, 0, 0, 0, 0, 0, 0, 0, 0, 0, 0, 0, 0, 0, 0, 0, 0, 0, 0, 0, 0, 0, 0, 0, 0, 1, 0, 0, 0, 0, 0, 0, 0, 0] y: [0, 0, 0, 0, 0, 0, 0, 1, 0, 0, 0]\n",
            "X: [0, 0, 0, 0, 0, 0, 0, 0, 0, 0, 0, 0, 0, 1, 0, 0, 0, 0, 0, 0, 0, 0, 0, 0, 0, 0, 0, 0, 0, 0, 0, 0, 0, 0, 0, 0, 0, 0, 0, 0, 0, 0, 0, 0, 0, 0, 0, 0, 0, 0, 0, 0, 0, 0, 0, 0, 0, 0, 0, 0, 0, 0, 0, 0, 0, 0, 0, 0] y: [0, 0, 0, 0, 0, 0, 0, 1, 0, 0, 0]\n",
            "X: [0, 0, 0, 0, 0, 0, 0, 0, 0, 0, 0, 0, 0, 0, 0, 0, 1, 1, 0, 0, 0, 0, 0, 0, 0, 0, 0, 0, 0, 0, 0, 0, 0, 0, 0, 0, 0, 0, 0, 0, 0, 0, 0, 1, 0, 0, 0, 1, 0, 0, 0, 0, 0, 0, 0, 0, 0, 0, 0, 0, 0, 0, 0, 0, 0, 0, 0, 1] y: [0, 0, 0, 0, 0, 0, 0, 1, 0, 0, 0]\n",
            "X: [0, 0, 1, 0, 0, 0, 0, 0, 0, 0, 0, 0, 0, 0, 1, 0, 0, 0, 0, 0, 0, 0, 0, 0, 0, 0, 0, 0, 0, 0, 0, 0, 0, 0, 0, 0, 1, 0, 0, 0, 0, 0, 0, 0, 1, 0, 0, 0, 0, 0, 1, 0, 0, 0, 0, 0, 0, 0, 0, 0, 0, 0, 0, 0, 0, 0, 0, 0] y: [0, 0, 0, 0, 0, 0, 0, 1, 0, 0, 0]\n",
            "X: [0, 0, 0, 0, 0, 0, 0, 0, 0, 0, 0, 0, 0, 0, 0, 1, 0, 0, 1, 0, 0, 0, 0, 0, 0, 0, 0, 1, 0, 0, 0, 0, 0, 0, 0, 0, 0, 0, 0, 0, 0, 0, 0, 0, 1, 0, 0, 0, 0, 0, 0, 0, 0, 0, 0, 0, 0, 0, 0, 0, 0, 0, 0, 0, 0, 0, 0, 0] y: [0, 0, 0, 0, 0, 0, 0, 1, 0, 0, 0]\n",
            "X: [0, 0, 0, 0, 0, 0, 0, 0, 0, 0, 0, 0, 0, 0, 0, 1, 0, 0, 0, 0, 0, 0, 0, 0, 0, 0, 0, 0, 0, 0, 0, 0, 0, 0, 0, 0, 0, 0, 0, 0, 0, 0, 0, 0, 0, 0, 0, 0, 1, 0, 0, 0, 0, 0, 1, 0, 0, 0, 0, 0, 0, 0, 0, 0, 0, 0, 0, 0] y: [0, 0, 0, 0, 0, 0, 0, 0, 0, 1, 0]\n",
            "X: [0, 0, 0, 0, 0, 0, 0, 0, 0, 0, 0, 0, 0, 0, 0, 1, 0, 0, 1, 0, 0, 0, 1, 0, 0, 0, 0, 0, 0, 0, 0, 0, 0, 0, 0, 0, 0, 0, 0, 0, 0, 0, 0, 0, 0, 0, 0, 0, 0, 0, 0, 0, 0, 1, 0, 0, 0, 0, 0, 0, 0, 0, 0, 0, 0, 0, 0, 0] y: [0, 0, 0, 0, 0, 0, 0, 0, 0, 1, 0]\n",
            "X: [0, 0, 0, 0, 0, 0, 0, 0, 0, 0, 0, 0, 0, 0, 0, 0, 0, 0, 0, 0, 0, 0, 0, 0, 0, 0, 0, 0, 0, 0, 0, 0, 0, 0, 0, 0, 0, 0, 0, 0, 0, 0, 0, 0, 0, 0, 0, 0, 0, 0, 0, 0, 0, 1, 0, 0, 0, 0, 0, 0, 0, 0, 0, 0, 0, 0, 0, 0] y: [0, 0, 0, 0, 0, 0, 0, 0, 0, 1, 0]\n",
            "X: [0, 0, 0, 0, 0, 0, 0, 0, 0, 0, 0, 0, 0, 0, 0, 1, 0, 0, 0, 0, 0, 0, 0, 0, 0, 0, 0, 0, 0, 0, 0, 0, 0, 0, 0, 0, 0, 0, 0, 0, 0, 0, 0, 0, 0, 0, 0, 0, 1, 0, 0, 0, 1, 0, 0, 0, 0, 0, 0, 0, 0, 0, 0, 0, 0, 0, 1, 0] y: [0, 0, 0, 0, 0, 0, 0, 0, 0, 1, 0]\n",
            "X: [0, 0, 0, 0, 0, 0, 0, 0, 0, 1, 0, 0, 0, 0, 0, 0, 0, 0, 0, 0, 0, 0, 0, 0, 0, 0, 0, 0, 0, 0, 0, 0, 0, 0, 0, 0, 0, 0, 0, 0, 0, 0, 0, 0, 0, 0, 0, 0, 0, 0, 0, 0, 0, 0, 1, 0, 0, 0, 0, 0, 0, 0, 0, 0, 0, 0, 0, 0] y: [0, 0, 0, 0, 0, 0, 0, 0, 0, 1, 0]\n",
            "X: [0, 0, 0, 0, 0, 0, 0, 0, 0, 0, 0, 0, 0, 0, 0, 1, 0, 0, 0, 0, 0, 0, 0, 0, 0, 0, 0, 0, 0, 0, 0, 0, 1, 0, 0, 0, 0, 0, 0, 0, 0, 0, 0, 0, 0, 0, 0, 0, 1, 0, 0, 0, 0, 0, 0, 0, 0, 0, 0, 0, 0, 0, 0, 0, 0, 0, 0, 0] y: [0, 0, 0, 0, 0, 0, 0, 0, 0, 1, 0]\n",
            "X: [0, 0, 0, 0, 0, 0, 0, 0, 0, 0, 0, 0, 0, 0, 0, 0, 0, 0, 0, 0, 0, 0, 0, 0, 0, 1, 0, 0, 0, 0, 0, 0, 0, 0, 0, 0, 0, 0, 0, 0, 1, 0, 0, 0, 0, 0, 0, 0, 0, 0, 0, 0, 0, 0, 0, 0, 0, 0, 0, 0, 0, 0, 0, 0, 0, 0, 0, 0] y: [1, 0, 0, 0, 0, 0, 0, 0, 0, 0, 0]\n",
            "X: [0, 0, 0, 0, 0, 0, 0, 0, 0, 0, 0, 0, 0, 0, 0, 0, 0, 0, 0, 0, 0, 0, 0, 0, 0, 1, 0, 0, 0, 0, 0, 0, 0, 0, 0, 0, 0, 0, 0, 0, 0, 0, 0, 0, 0, 0, 0, 0, 0, 0, 0, 0, 0, 0, 0, 0, 0, 0, 0, 0, 0, 0, 0, 0, 0, 0, 0, 0] y: [1, 0, 0, 0, 0, 0, 0, 0, 0, 0, 0]\n",
            "X: [0, 0, 0, 0, 0, 0, 0, 1, 0, 0, 0, 0, 0, 0, 0, 0, 0, 0, 0, 0, 0, 0, 0, 0, 0, 0, 0, 0, 0, 0, 0, 0, 0, 0, 0, 0, 0, 0, 0, 0, 0, 0, 0, 0, 0, 0, 0, 0, 0, 0, 0, 0, 0, 0, 0, 0, 0, 0, 0, 0, 0, 0, 0, 0, 0, 0, 0, 0] y: [0, 0, 0, 1, 0, 0, 0, 0, 0, 0, 0]\n",
            "X: [0, 0, 0, 0, 0, 0, 0, 0, 0, 0, 0, 0, 0, 0, 0, 0, 0, 0, 0, 0, 0, 0, 0, 0, 0, 0, 0, 0, 1, 0, 0, 0, 0, 1, 0, 0, 0, 0, 0, 0, 0, 0, 0, 0, 0, 0, 0, 0, 0, 0, 0, 0, 0, 0, 0, 0, 0, 0, 0, 0, 0, 0, 0, 0, 0, 0, 0, 0] y: [0, 0, 0, 1, 0, 0, 0, 0, 0, 0, 0]\n"
          ]
        }
      ],
      "source": [
        "# Transformar doc_X en bag of words por oneHotEncoding\n",
        "# Transformar doc_Y en un vector de clases multicategórico con oneHotEncoding\n",
        "\n",
        "training = []\n",
        "out_empty = [0] * len(classes)\n",
        "\n",
        "for idx, doc in enumerate(doc_X):\n",
        "    # Transformar la pregunta (input) en tokens y lematizar\n",
        "    text = []\n",
        "    tokens = nlp(preprocess_clean_text(doc.lower()))\n",
        "    for token in tokens:\n",
        "        text.append(token.lemma_)\n",
        "\n",
        "    # Transformar los tokens en \"Bag of words\" (arrays de 1 y 0)\n",
        "    bow = []\n",
        "    for word in words:\n",
        "        bow.append(1) if word in text else bow.append(0)\n",
        "    \n",
        "    # Crear el array de salida (class output) correspondiente\n",
        "    output_row = list(out_empty)\n",
        "    output_row[classes.index(doc_y[idx])] = 1\n",
        "\n",
        "    print(\"X:\", bow, \"y:\", output_row)\n",
        "    training.append([bow, output_row])\n",
        "\n",
        "# Mezclar los datos\n",
        "random.shuffle(training)\n",
        "training = np.array(training, dtype=object)\n",
        "# Dividir en datos de entrada y salida\n",
        "train_X = np.array(list(training[:, 0]))\n",
        "train_y = np.array(list(training[:, 1]))"
      ]
    },
    {
      "cell_type": "markdown",
      "metadata": {
        "id": "a_Hr8QaDfRf3",
        "pycharm": {
          "name": "#%% md\n"
        }
      },
      "source": [
        "### 5 - Entrenamiento del modelo"
      ]
    },
    {
      "cell_type": "code",
      "execution_count": 34,
      "metadata": {
        "id": "fopb3NqcAGTz",
        "pycharm": {
          "name": "#%%\n"
        },
        "colab": {
          "base_uri": "https://localhost:8080/"
        },
        "outputId": "da339f20-e838-48a4-ef55-b036ce5b8b64"
      },
      "outputs": [
        {
          "output_type": "stream",
          "name": "stdout",
          "text": [
            "input: (68,) output: 11\n"
          ]
        }
      ],
      "source": [
        "# Shape de entrada y salida\n",
        "input_shape = (train_X.shape[1],)\n",
        "output_shape = train_y.shape[1]\n",
        "print(\"input:\", input_shape, \"output:\", output_shape)"
      ]
    },
    {
      "cell_type": "code",
      "execution_count": 35,
      "metadata": {
        "id": "xy7tzkwdOZx9",
        "pycharm": {
          "name": "#%%\n"
        },
        "colab": {
          "base_uri": "https://localhost:8080/"
        },
        "outputId": "faecfa5f-9d19-416c-8990-259eb7fd2d04"
      },
      "outputs": [
        {
          "output_type": "stream",
          "name": "stdout",
          "text": [
            "Model: \"sequential_1\"\n",
            "_________________________________________________________________\n",
            " Layer (type)                Output Shape              Param #   \n",
            "=================================================================\n",
            " dense_4 (Dense)             (None, 128)               8832      \n",
            "                                                                 \n",
            " dropout_3 (Dropout)         (None, 128)               0         \n",
            "                                                                 \n",
            " dense_5 (Dense)             (None, 64)                8256      \n",
            "                                                                 \n",
            " dropout_4 (Dropout)         (None, 64)                0         \n",
            "                                                                 \n",
            " dense_6 (Dense)             (None, 64)                4160      \n",
            "                                                                 \n",
            " dropout_5 (Dropout)         (None, 64)                0         \n",
            "                                                                 \n",
            " dense_7 (Dense)             (None, 11)                715       \n",
            "                                                                 \n",
            "=================================================================\n",
            "Total params: 21,963\n",
            "Trainable params: 21,963\n",
            "Non-trainable params: 0\n",
            "_________________________________________________________________\n",
            "None\n"
          ]
        }
      ],
      "source": [
        "# Entrenamiento del modelo DNN\n",
        "# - Modelo secuencial\n",
        "# - Con regularización\n",
        "# - softmax y optimizador Adam\n",
        "model = Sequential()\n",
        "model.add(Dense(128, input_shape=input_shape, activation=\"relu\"))\n",
        "model.add(Dropout(0.5))\n",
        "model.add(Dense(64, activation=\"relu\"))\n",
        "model.add(Dropout(0.5))\n",
        "model.add(Dense(64, activation=\"relu\"))\n",
        "model.add(Dropout(0.5))\n",
        "model.add(Dense(output_shape, activation = \"softmax\"))\n",
        "\n",
        "model.compile(loss='categorical_crossentropy',\n",
        "              optimizer=\"Adam\",\n",
        "              metrics=[\"accuracy\"])\n",
        "print(model.summary())"
      ]
    },
    {
      "cell_type": "code",
      "execution_count": 36,
      "metadata": {
        "id": "r6hi4EcdOghm",
        "pycharm": {
          "name": "#%%\n"
        },
        "colab": {
          "base_uri": "https://localhost:8080/"
        },
        "outputId": "f8a75cdb-08b9-41e0-9afb-5e2a7f0c99c7"
      },
      "outputs": [
        {
          "output_type": "stream",
          "name": "stdout",
          "text": [
            "Epoch 1/200\n",
            "2/2 [==============================] - 1s 8ms/step - loss: 2.4332 - accuracy: 0.0943\n",
            "Epoch 2/200\n",
            "2/2 [==============================] - 0s 7ms/step - loss: 2.4608 - accuracy: 0.0566\n",
            "Epoch 3/200\n",
            "2/2 [==============================] - 0s 9ms/step - loss: 2.4286 - accuracy: 0.1509\n",
            "Epoch 4/200\n",
            "2/2 [==============================] - 0s 8ms/step - loss: 2.3927 - accuracy: 0.1132\n",
            "Epoch 5/200\n",
            "2/2 [==============================] - 0s 8ms/step - loss: 2.3809 - accuracy: 0.0566\n",
            "Epoch 6/200\n",
            "2/2 [==============================] - 0s 8ms/step - loss: 2.3487 - accuracy: 0.1321\n",
            "Epoch 7/200\n",
            "2/2 [==============================] - 0s 6ms/step - loss: 2.3697 - accuracy: 0.1321\n",
            "Epoch 8/200\n",
            "2/2 [==============================] - 0s 6ms/step - loss: 2.3516 - accuracy: 0.1698\n",
            "Epoch 9/200\n",
            "2/2 [==============================] - 0s 7ms/step - loss: 2.3702 - accuracy: 0.1321\n",
            "Epoch 10/200\n",
            "2/2 [==============================] - 0s 8ms/step - loss: 2.3740 - accuracy: 0.1698\n",
            "Epoch 11/200\n",
            "2/2 [==============================] - 0s 9ms/step - loss: 2.3700 - accuracy: 0.0943\n",
            "Epoch 12/200\n",
            "2/2 [==============================] - 0s 7ms/step - loss: 2.3606 - accuracy: 0.1698\n",
            "Epoch 13/200\n",
            "2/2 [==============================] - 0s 6ms/step - loss: 2.3369 - accuracy: 0.1698\n",
            "Epoch 14/200\n",
            "2/2 [==============================] - 0s 7ms/step - loss: 2.3505 - accuracy: 0.1509\n",
            "Epoch 15/200\n",
            "2/2 [==============================] - 0s 7ms/step - loss: 2.3252 - accuracy: 0.1698\n",
            "Epoch 16/200\n",
            "2/2 [==============================] - 0s 8ms/step - loss: 2.3612 - accuracy: 0.1509\n",
            "Epoch 17/200\n",
            "2/2 [==============================] - 0s 6ms/step - loss: 2.3238 - accuracy: 0.1509\n",
            "Epoch 18/200\n",
            "2/2 [==============================] - 0s 6ms/step - loss: 2.3018 - accuracy: 0.2075\n",
            "Epoch 19/200\n",
            "2/2 [==============================] - 0s 7ms/step - loss: 2.2944 - accuracy: 0.2075\n",
            "Epoch 20/200\n",
            "2/2 [==============================] - 0s 7ms/step - loss: 2.3115 - accuracy: 0.1509\n",
            "Epoch 21/200\n",
            "2/2 [==============================] - 0s 7ms/step - loss: 2.3018 - accuracy: 0.2075\n",
            "Epoch 22/200\n",
            "2/2 [==============================] - 0s 7ms/step - loss: 2.3230 - accuracy: 0.1509\n",
            "Epoch 23/200\n",
            "2/2 [==============================] - 0s 8ms/step - loss: 2.2452 - accuracy: 0.1509\n",
            "Epoch 24/200\n",
            "2/2 [==============================] - 0s 8ms/step - loss: 2.3331 - accuracy: 0.1509\n",
            "Epoch 25/200\n",
            "2/2 [==============================] - 0s 9ms/step - loss: 2.2990 - accuracy: 0.1509\n",
            "Epoch 26/200\n",
            "2/2 [==============================] - 0s 7ms/step - loss: 2.2471 - accuracy: 0.2075\n",
            "Epoch 27/200\n",
            "2/2 [==============================] - 0s 7ms/step - loss: 2.2349 - accuracy: 0.2264\n",
            "Epoch 28/200\n",
            "2/2 [==============================] - 0s 7ms/step - loss: 2.2332 - accuracy: 0.1321\n",
            "Epoch 29/200\n",
            "2/2 [==============================] - 0s 7ms/step - loss: 2.2988 - accuracy: 0.2075\n",
            "Epoch 30/200\n",
            "2/2 [==============================] - 0s 8ms/step - loss: 2.1682 - accuracy: 0.2830\n",
            "Epoch 31/200\n",
            "2/2 [==============================] - 0s 6ms/step - loss: 2.2882 - accuracy: 0.1698\n",
            "Epoch 32/200\n",
            "2/2 [==============================] - 0s 7ms/step - loss: 2.1981 - accuracy: 0.2642\n",
            "Epoch 33/200\n",
            "2/2 [==============================] - 0s 7ms/step - loss: 2.2235 - accuracy: 0.2264\n",
            "Epoch 34/200\n",
            "2/2 [==============================] - 0s 7ms/step - loss: 2.1800 - accuracy: 0.2642\n",
            "Epoch 35/200\n",
            "2/2 [==============================] - 0s 7ms/step - loss: 2.1258 - accuracy: 0.2264\n",
            "Epoch 36/200\n",
            "2/2 [==============================] - 0s 8ms/step - loss: 2.1796 - accuracy: 0.2453\n",
            "Epoch 37/200\n",
            "2/2 [==============================] - 0s 7ms/step - loss: 2.1488 - accuracy: 0.2642\n",
            "Epoch 38/200\n",
            "2/2 [==============================] - 0s 7ms/step - loss: 2.0839 - accuracy: 0.3585\n",
            "Epoch 39/200\n",
            "2/2 [==============================] - 0s 7ms/step - loss: 2.2065 - accuracy: 0.2453\n",
            "Epoch 40/200\n",
            "2/2 [==============================] - 0s 8ms/step - loss: 2.1374 - accuracy: 0.2642\n",
            "Epoch 41/200\n",
            "2/2 [==============================] - 0s 7ms/step - loss: 2.1382 - accuracy: 0.3019\n",
            "Epoch 42/200\n",
            "2/2 [==============================] - 0s 7ms/step - loss: 2.2019 - accuracy: 0.1698\n",
            "Epoch 43/200\n",
            "2/2 [==============================] - 0s 7ms/step - loss: 2.1469 - accuracy: 0.2453\n",
            "Epoch 44/200\n",
            "2/2 [==============================] - 0s 7ms/step - loss: 2.1466 - accuracy: 0.2264\n",
            "Epoch 45/200\n",
            "2/2 [==============================] - 0s 7ms/step - loss: 2.0971 - accuracy: 0.3208\n",
            "Epoch 46/200\n",
            "2/2 [==============================] - 0s 7ms/step - loss: 2.0327 - accuracy: 0.2453\n",
            "Epoch 47/200\n",
            "2/2 [==============================] - 0s 9ms/step - loss: 2.0795 - accuracy: 0.3019\n",
            "Epoch 48/200\n",
            "2/2 [==============================] - 0s 7ms/step - loss: 2.0147 - accuracy: 0.3019\n",
            "Epoch 49/200\n",
            "2/2 [==============================] - 0s 7ms/step - loss: 2.1044 - accuracy: 0.2830\n",
            "Epoch 50/200\n",
            "2/2 [==============================] - 0s 7ms/step - loss: 2.0040 - accuracy: 0.2453\n",
            "Epoch 51/200\n",
            "2/2 [==============================] - 0s 10ms/step - loss: 2.0130 - accuracy: 0.2264\n",
            "Epoch 52/200\n",
            "2/2 [==============================] - 0s 7ms/step - loss: 2.0019 - accuracy: 0.2453\n",
            "Epoch 53/200\n",
            "2/2 [==============================] - 0s 7ms/step - loss: 2.0304 - accuracy: 0.3396\n",
            "Epoch 54/200\n",
            "2/2 [==============================] - 0s 6ms/step - loss: 2.0126 - accuracy: 0.2453\n",
            "Epoch 55/200\n",
            "2/2 [==============================] - 0s 7ms/step - loss: 2.0620 - accuracy: 0.1698\n",
            "Epoch 56/200\n",
            "2/2 [==============================] - 0s 6ms/step - loss: 2.0657 - accuracy: 0.2453\n",
            "Epoch 57/200\n",
            "2/2 [==============================] - 0s 6ms/step - loss: 1.8814 - accuracy: 0.3585\n",
            "Epoch 58/200\n",
            "2/2 [==============================] - 0s 5ms/step - loss: 1.9954 - accuracy: 0.3019\n",
            "Epoch 59/200\n",
            "2/2 [==============================] - 0s 7ms/step - loss: 1.9502 - accuracy: 0.3019\n",
            "Epoch 60/200\n",
            "2/2 [==============================] - 0s 7ms/step - loss: 1.9073 - accuracy: 0.3774\n",
            "Epoch 61/200\n",
            "2/2 [==============================] - 0s 8ms/step - loss: 1.7700 - accuracy: 0.3585\n",
            "Epoch 62/200\n",
            "2/2 [==============================] - 0s 9ms/step - loss: 1.8365 - accuracy: 0.3774\n",
            "Epoch 63/200\n",
            "2/2 [==============================] - 0s 7ms/step - loss: 1.9505 - accuracy: 0.2642\n",
            "Epoch 64/200\n",
            "2/2 [==============================] - 0s 7ms/step - loss: 1.7885 - accuracy: 0.3962\n",
            "Epoch 65/200\n",
            "2/2 [==============================] - 0s 8ms/step - loss: 1.8060 - accuracy: 0.4151\n",
            "Epoch 66/200\n",
            "2/2 [==============================] - 0s 10ms/step - loss: 1.8152 - accuracy: 0.4151\n",
            "Epoch 67/200\n",
            "2/2 [==============================] - 0s 8ms/step - loss: 1.6604 - accuracy: 0.5472\n",
            "Epoch 68/200\n",
            "2/2 [==============================] - 0s 6ms/step - loss: 1.7701 - accuracy: 0.4340\n",
            "Epoch 69/200\n",
            "2/2 [==============================] - 0s 8ms/step - loss: 1.7468 - accuracy: 0.3585\n",
            "Epoch 70/200\n",
            "2/2 [==============================] - 0s 4ms/step - loss: 1.7385 - accuracy: 0.3962\n",
            "Epoch 71/200\n",
            "2/2 [==============================] - 0s 10ms/step - loss: 1.7796 - accuracy: 0.3585\n",
            "Epoch 72/200\n",
            "2/2 [==============================] - 0s 10ms/step - loss: 1.7278 - accuracy: 0.4528\n",
            "Epoch 73/200\n",
            "2/2 [==============================] - 0s 6ms/step - loss: 1.6752 - accuracy: 0.4151\n",
            "Epoch 74/200\n",
            "2/2 [==============================] - 0s 7ms/step - loss: 1.6075 - accuracy: 0.5660\n",
            "Epoch 75/200\n",
            "2/2 [==============================] - 0s 6ms/step - loss: 1.6245 - accuracy: 0.4340\n",
            "Epoch 76/200\n",
            "2/2 [==============================] - 0s 8ms/step - loss: 1.6518 - accuracy: 0.4528\n",
            "Epoch 77/200\n",
            "2/2 [==============================] - 0s 8ms/step - loss: 1.6413 - accuracy: 0.3585\n",
            "Epoch 78/200\n",
            "2/2 [==============================] - 0s 8ms/step - loss: 1.6840 - accuracy: 0.4340\n",
            "Epoch 79/200\n",
            "2/2 [==============================] - 0s 8ms/step - loss: 1.5353 - accuracy: 0.4340\n",
            "Epoch 80/200\n",
            "2/2 [==============================] - 0s 8ms/step - loss: 1.6037 - accuracy: 0.4340\n",
            "Epoch 81/200\n",
            "2/2 [==============================] - 0s 8ms/step - loss: 1.5525 - accuracy: 0.5660\n",
            "Epoch 82/200\n",
            "2/2 [==============================] - 0s 8ms/step - loss: 1.6299 - accuracy: 0.4528\n",
            "Epoch 83/200\n",
            "2/2 [==============================] - 0s 8ms/step - loss: 1.5063 - accuracy: 0.4151\n",
            "Epoch 84/200\n",
            "2/2 [==============================] - 0s 6ms/step - loss: 1.5562 - accuracy: 0.3208\n",
            "Epoch 85/200\n",
            "2/2 [==============================] - 0s 5ms/step - loss: 1.5899 - accuracy: 0.5094\n",
            "Epoch 86/200\n",
            "2/2 [==============================] - 0s 10ms/step - loss: 1.6768 - accuracy: 0.4528\n",
            "Epoch 87/200\n",
            "2/2 [==============================] - 0s 10ms/step - loss: 1.3443 - accuracy: 0.5472\n",
            "Epoch 88/200\n",
            "2/2 [==============================] - 0s 6ms/step - loss: 1.4937 - accuracy: 0.4717\n",
            "Epoch 89/200\n",
            "2/2 [==============================] - 0s 7ms/step - loss: 1.5705 - accuracy: 0.4717\n",
            "Epoch 90/200\n",
            "2/2 [==============================] - 0s 9ms/step - loss: 1.4107 - accuracy: 0.5094\n",
            "Epoch 91/200\n",
            "2/2 [==============================] - 0s 8ms/step - loss: 1.3505 - accuracy: 0.5283\n",
            "Epoch 92/200\n",
            "2/2 [==============================] - 0s 10ms/step - loss: 1.4452 - accuracy: 0.4906\n",
            "Epoch 93/200\n",
            "2/2 [==============================] - 0s 9ms/step - loss: 1.4162 - accuracy: 0.5849\n",
            "Epoch 94/200\n",
            "2/2 [==============================] - 0s 9ms/step - loss: 1.3421 - accuracy: 0.5283\n",
            "Epoch 95/200\n",
            "2/2 [==============================] - 0s 8ms/step - loss: 1.3169 - accuracy: 0.5849\n",
            "Epoch 96/200\n",
            "2/2 [==============================] - 0s 10ms/step - loss: 1.3493 - accuracy: 0.5849\n",
            "Epoch 97/200\n",
            "2/2 [==============================] - 0s 9ms/step - loss: 1.1727 - accuracy: 0.6415\n",
            "Epoch 98/200\n",
            "2/2 [==============================] - 0s 7ms/step - loss: 1.2376 - accuracy: 0.6226\n",
            "Epoch 99/200\n",
            "2/2 [==============================] - 0s 8ms/step - loss: 1.2831 - accuracy: 0.5660\n",
            "Epoch 100/200\n",
            "2/2 [==============================] - 0s 8ms/step - loss: 1.2807 - accuracy: 0.5472\n",
            "Epoch 101/200\n",
            "2/2 [==============================] - 0s 7ms/step - loss: 1.3798 - accuracy: 0.5472\n",
            "Epoch 102/200\n",
            "2/2 [==============================] - 0s 8ms/step - loss: 1.3150 - accuracy: 0.5849\n",
            "Epoch 103/200\n",
            "2/2 [==============================] - 0s 8ms/step - loss: 1.2125 - accuracy: 0.5849\n",
            "Epoch 104/200\n",
            "2/2 [==============================] - 0s 8ms/step - loss: 1.1871 - accuracy: 0.5660\n",
            "Epoch 105/200\n",
            "2/2 [==============================] - 0s 8ms/step - loss: 1.2399 - accuracy: 0.5660\n",
            "Epoch 106/200\n",
            "2/2 [==============================] - 0s 8ms/step - loss: 1.0568 - accuracy: 0.7358\n",
            "Epoch 107/200\n",
            "2/2 [==============================] - 0s 6ms/step - loss: 1.2873 - accuracy: 0.5094\n",
            "Epoch 108/200\n",
            "2/2 [==============================] - 0s 9ms/step - loss: 1.0638 - accuracy: 0.6226\n",
            "Epoch 109/200\n",
            "2/2 [==============================] - 0s 11ms/step - loss: 1.1309 - accuracy: 0.6038\n",
            "Epoch 110/200\n",
            "2/2 [==============================] - 0s 8ms/step - loss: 1.1835 - accuracy: 0.5660\n",
            "Epoch 111/200\n",
            "2/2 [==============================] - 0s 7ms/step - loss: 0.9934 - accuracy: 0.6038\n",
            "Epoch 112/200\n",
            "2/2 [==============================] - 0s 7ms/step - loss: 1.0933 - accuracy: 0.6415\n",
            "Epoch 113/200\n",
            "2/2 [==============================] - 0s 8ms/step - loss: 0.9979 - accuracy: 0.7170\n",
            "Epoch 114/200\n",
            "2/2 [==============================] - 0s 8ms/step - loss: 1.0405 - accuracy: 0.6038\n",
            "Epoch 115/200\n",
            "2/2 [==============================] - 0s 7ms/step - loss: 1.0557 - accuracy: 0.6604\n",
            "Epoch 116/200\n",
            "2/2 [==============================] - 0s 7ms/step - loss: 1.1926 - accuracy: 0.5660\n",
            "Epoch 117/200\n",
            "2/2 [==============================] - 0s 7ms/step - loss: 1.0793 - accuracy: 0.7170\n",
            "Epoch 118/200\n",
            "2/2 [==============================] - 0s 9ms/step - loss: 1.0212 - accuracy: 0.6792\n",
            "Epoch 119/200\n",
            "2/2 [==============================] - 0s 8ms/step - loss: 0.9547 - accuracy: 0.7170\n",
            "Epoch 120/200\n",
            "2/2 [==============================] - 0s 7ms/step - loss: 0.8998 - accuracy: 0.6981\n",
            "Epoch 121/200\n",
            "2/2 [==============================] - 0s 8ms/step - loss: 0.9951 - accuracy: 0.6792\n",
            "Epoch 122/200\n",
            "2/2 [==============================] - 0s 7ms/step - loss: 1.1296 - accuracy: 0.6792\n",
            "Epoch 123/200\n",
            "2/2 [==============================] - 0s 8ms/step - loss: 1.0106 - accuracy: 0.6415\n",
            "Epoch 124/200\n",
            "2/2 [==============================] - 0s 11ms/step - loss: 0.7767 - accuracy: 0.7925\n",
            "Epoch 125/200\n",
            "2/2 [==============================] - 0s 8ms/step - loss: 0.9454 - accuracy: 0.6604\n",
            "Epoch 126/200\n",
            "2/2 [==============================] - 0s 10ms/step - loss: 0.9951 - accuracy: 0.6604\n",
            "Epoch 127/200\n",
            "2/2 [==============================] - 0s 8ms/step - loss: 1.0406 - accuracy: 0.5849\n",
            "Epoch 128/200\n",
            "2/2 [==============================] - 0s 9ms/step - loss: 0.8169 - accuracy: 0.7547\n",
            "Epoch 129/200\n",
            "2/2 [==============================] - 0s 7ms/step - loss: 0.8964 - accuracy: 0.6792\n",
            "Epoch 130/200\n",
            "2/2 [==============================] - 0s 7ms/step - loss: 0.8144 - accuracy: 0.7358\n",
            "Epoch 131/200\n",
            "2/2 [==============================] - 0s 8ms/step - loss: 0.8718 - accuracy: 0.6792\n",
            "Epoch 132/200\n",
            "2/2 [==============================] - 0s 8ms/step - loss: 0.8769 - accuracy: 0.6415\n",
            "Epoch 133/200\n",
            "2/2 [==============================] - 0s 7ms/step - loss: 1.1564 - accuracy: 0.6604\n",
            "Epoch 134/200\n",
            "2/2 [==============================] - 0s 9ms/step - loss: 0.8570 - accuracy: 0.7925\n",
            "Epoch 135/200\n",
            "2/2 [==============================] - 0s 7ms/step - loss: 0.8933 - accuracy: 0.7170\n",
            "Epoch 136/200\n",
            "2/2 [==============================] - 0s 6ms/step - loss: 0.9424 - accuracy: 0.7547\n",
            "Epoch 137/200\n",
            "2/2 [==============================] - 0s 8ms/step - loss: 0.9390 - accuracy: 0.6792\n",
            "Epoch 138/200\n",
            "2/2 [==============================] - 0s 8ms/step - loss: 1.0698 - accuracy: 0.6226\n",
            "Epoch 139/200\n",
            "2/2 [==============================] - 0s 7ms/step - loss: 0.8786 - accuracy: 0.7170\n",
            "Epoch 140/200\n",
            "2/2 [==============================] - 0s 7ms/step - loss: 0.7823 - accuracy: 0.7925\n",
            "Epoch 141/200\n",
            "2/2 [==============================] - 0s 8ms/step - loss: 0.9067 - accuracy: 0.6604\n",
            "Epoch 142/200\n",
            "2/2 [==============================] - 0s 7ms/step - loss: 0.7775 - accuracy: 0.7736\n",
            "Epoch 143/200\n",
            "2/2 [==============================] - 0s 6ms/step - loss: 0.7555 - accuracy: 0.7736\n",
            "Epoch 144/200\n",
            "2/2 [==============================] - 0s 6ms/step - loss: 0.6300 - accuracy: 0.7547\n",
            "Epoch 145/200\n",
            "2/2 [==============================] - 0s 6ms/step - loss: 0.7781 - accuracy: 0.7358\n",
            "Epoch 146/200\n",
            "2/2 [==============================] - 0s 10ms/step - loss: 0.7281 - accuracy: 0.7358\n",
            "Epoch 147/200\n",
            "2/2 [==============================] - 0s 7ms/step - loss: 0.6623 - accuracy: 0.7736\n",
            "Epoch 148/200\n",
            "2/2 [==============================] - 0s 8ms/step - loss: 0.7251 - accuracy: 0.7547\n",
            "Epoch 149/200\n",
            "2/2 [==============================] - 0s 7ms/step - loss: 0.7153 - accuracy: 0.8113\n",
            "Epoch 150/200\n",
            "2/2 [==============================] - 0s 9ms/step - loss: 0.8821 - accuracy: 0.7547\n",
            "Epoch 151/200\n",
            "2/2 [==============================] - 0s 8ms/step - loss: 0.7955 - accuracy: 0.7358\n",
            "Epoch 152/200\n",
            "2/2 [==============================] - 0s 6ms/step - loss: 0.8695 - accuracy: 0.7358\n",
            "Epoch 153/200\n",
            "2/2 [==============================] - 0s 7ms/step - loss: 0.7993 - accuracy: 0.8113\n",
            "Epoch 154/200\n",
            "2/2 [==============================] - 0s 6ms/step - loss: 0.7531 - accuracy: 0.7358\n",
            "Epoch 155/200\n",
            "2/2 [==============================] - 0s 7ms/step - loss: 0.8611 - accuracy: 0.7170\n",
            "Epoch 156/200\n",
            "2/2 [==============================] - 0s 6ms/step - loss: 0.6366 - accuracy: 0.8302\n",
            "Epoch 157/200\n",
            "2/2 [==============================] - 0s 8ms/step - loss: 0.8104 - accuracy: 0.7358\n",
            "Epoch 158/200\n",
            "2/2 [==============================] - 0s 9ms/step - loss: 0.5719 - accuracy: 0.8491\n",
            "Epoch 159/200\n",
            "2/2 [==============================] - 0s 8ms/step - loss: 0.7893 - accuracy: 0.7358\n",
            "Epoch 160/200\n",
            "2/2 [==============================] - 0s 8ms/step - loss: 0.5835 - accuracy: 0.9057\n",
            "Epoch 161/200\n",
            "2/2 [==============================] - 0s 7ms/step - loss: 0.6595 - accuracy: 0.7736\n",
            "Epoch 162/200\n",
            "2/2 [==============================] - 0s 9ms/step - loss: 0.5348 - accuracy: 0.8868\n",
            "Epoch 163/200\n",
            "2/2 [==============================] - 0s 9ms/step - loss: 0.5570 - accuracy: 0.8491\n",
            "Epoch 164/200\n",
            "2/2 [==============================] - 0s 7ms/step - loss: 0.6155 - accuracy: 0.8113\n",
            "Epoch 165/200\n",
            "2/2 [==============================] - 0s 8ms/step - loss: 0.6549 - accuracy: 0.7736\n",
            "Epoch 166/200\n",
            "2/2 [==============================] - 0s 7ms/step - loss: 0.7155 - accuracy: 0.7547\n",
            "Epoch 167/200\n",
            "2/2 [==============================] - 0s 6ms/step - loss: 0.6648 - accuracy: 0.8491\n",
            "Epoch 168/200\n",
            "2/2 [==============================] - 0s 9ms/step - loss: 0.5687 - accuracy: 0.8302\n",
            "Epoch 169/200\n",
            "2/2 [==============================] - 0s 9ms/step - loss: 0.6478 - accuracy: 0.7925\n",
            "Epoch 170/200\n",
            "2/2 [==============================] - 0s 10ms/step - loss: 0.6297 - accuracy: 0.7925\n",
            "Epoch 171/200\n",
            "2/2 [==============================] - 0s 7ms/step - loss: 0.4891 - accuracy: 0.8868\n",
            "Epoch 172/200\n",
            "2/2 [==============================] - 0s 6ms/step - loss: 0.5806 - accuracy: 0.7925\n",
            "Epoch 173/200\n",
            "2/2 [==============================] - 0s 6ms/step - loss: 0.5082 - accuracy: 0.7925\n",
            "Epoch 174/200\n",
            "2/2 [==============================] - 0s 6ms/step - loss: 0.5822 - accuracy: 0.8868\n",
            "Epoch 175/200\n",
            "2/2 [==============================] - 0s 9ms/step - loss: 0.6176 - accuracy: 0.7170\n",
            "Epoch 176/200\n",
            "2/2 [==============================] - 0s 11ms/step - loss: 0.5901 - accuracy: 0.7925\n",
            "Epoch 177/200\n",
            "2/2 [==============================] - 0s 7ms/step - loss: 0.5590 - accuracy: 0.8113\n",
            "Epoch 178/200\n",
            "2/2 [==============================] - 0s 6ms/step - loss: 0.7397 - accuracy: 0.7547\n",
            "Epoch 179/200\n",
            "2/2 [==============================] - 0s 7ms/step - loss: 0.5633 - accuracy: 0.8113\n",
            "Epoch 180/200\n",
            "2/2 [==============================] - 0s 7ms/step - loss: 0.5215 - accuracy: 0.8491\n",
            "Epoch 181/200\n",
            "2/2 [==============================] - 0s 6ms/step - loss: 0.5356 - accuracy: 0.8113\n",
            "Epoch 182/200\n",
            "2/2 [==============================] - 0s 7ms/step - loss: 0.6423 - accuracy: 0.8302\n",
            "Epoch 183/200\n",
            "2/2 [==============================] - 0s 6ms/step - loss: 0.6469 - accuracy: 0.7925\n",
            "Epoch 184/200\n",
            "2/2 [==============================] - 0s 6ms/step - loss: 0.5524 - accuracy: 0.8302\n",
            "Epoch 185/200\n",
            "2/2 [==============================] - 0s 6ms/step - loss: 0.5487 - accuracy: 0.7736\n",
            "Epoch 186/200\n",
            "2/2 [==============================] - 0s 9ms/step - loss: 0.6250 - accuracy: 0.7925\n",
            "Epoch 187/200\n",
            "2/2 [==============================] - 0s 11ms/step - loss: 0.5039 - accuracy: 0.8113\n",
            "Epoch 188/200\n",
            "2/2 [==============================] - 0s 7ms/step - loss: 0.4436 - accuracy: 0.8679\n",
            "Epoch 189/200\n",
            "2/2 [==============================] - 0s 6ms/step - loss: 0.6115 - accuracy: 0.7736\n",
            "Epoch 190/200\n",
            "2/2 [==============================] - 0s 9ms/step - loss: 0.6028 - accuracy: 0.7736\n",
            "Epoch 191/200\n",
            "2/2 [==============================] - 0s 6ms/step - loss: 0.5540 - accuracy: 0.7925\n",
            "Epoch 192/200\n",
            "2/2 [==============================] - 0s 8ms/step - loss: 0.4984 - accuracy: 0.8302\n",
            "Epoch 193/200\n",
            "2/2 [==============================] - 0s 7ms/step - loss: 0.4493 - accuracy: 0.8302\n",
            "Epoch 194/200\n",
            "2/2 [==============================] - 0s 8ms/step - loss: 0.4671 - accuracy: 0.8679\n",
            "Epoch 195/200\n",
            "2/2 [==============================] - 0s 8ms/step - loss: 0.4175 - accuracy: 0.8302\n",
            "Epoch 196/200\n",
            "2/2 [==============================] - 0s 7ms/step - loss: 0.4989 - accuracy: 0.8302\n",
            "Epoch 197/200\n",
            "2/2 [==============================] - 0s 9ms/step - loss: 0.5497 - accuracy: 0.8302\n",
            "Epoch 198/200\n",
            "2/2 [==============================] - 0s 8ms/step - loss: 0.5008 - accuracy: 0.8868\n",
            "Epoch 199/200\n",
            "2/2 [==============================] - 0s 7ms/step - loss: 0.4446 - accuracy: 0.9057\n",
            "Epoch 200/200\n",
            "2/2 [==============================] - 0s 9ms/step - loss: 0.5209 - accuracy: 0.8113\n"
          ]
        }
      ],
      "source": [
        "hist = model.fit(x=train_X, y=train_y, epochs=200)"
      ]
    },
    {
      "cell_type": "code",
      "execution_count": 37,
      "metadata": {
        "id": "Pb1GZDjGRP6Q",
        "pycharm": {
          "name": "#%%\n"
        },
        "colab": {
          "base_uri": "https://localhost:8080/",
          "height": 265
        },
        "outputId": "0a39fd0e-b4f7-4ba8-f767-008c6f7c3a87"
      },
      "outputs": [
        {
          "output_type": "display_data",
          "data": {
            "text/plain": [
              "<Figure size 432x288 with 1 Axes>"
            ],
            "image/png": "[encoded data removed]"
          },
          "metadata": {
            "needs_background": "light"
          }
        }
      ],
      "source": [
        "import matplotlib.pyplot as plt\n",
        "import seaborn as sns\n",
        "\n",
        "# Entrenamiento\n",
        "epoch_count = range(1, len(hist.history['accuracy']) + 1)\n",
        "sns.lineplot(x=epoch_count,  y=hist.history['accuracy'], label='train')\n",
        "plt.show()"
      ]
    },
    {
      "cell_type": "code",
      "execution_count": 38,
      "metadata": {
        "id": "eTVDnrV0mDRf",
        "pycharm": {
          "name": "#%%\n"
        }
      },
      "outputs": [],
      "source": [
        "# Guardar lo necesario para poder re-utilizar este modelo en el futuro\n",
        "# el vocabulario utilizado (words)\n",
        "# las posibles clases\n",
        "# el modelo\n",
        "import pickle\n",
        "pickle.dump(words, open('words.pkl','wb'))\n",
        "pickle.dump(classes, open('classes.pkl','wb'))\n",
        "model.save('chatbot_model.h5')"
      ]
    },
    {
      "cell_type": "markdown",
      "metadata": {
        "id": "TnD1WvhBfVYR",
        "pycharm": {
          "name": "#%% md\n"
        }
      },
      "source": [
        "### 6 - Testing y validación"
      ]
    },
    {
      "cell_type": "code",
      "execution_count": 39,
      "metadata": {
        "id": "kqBdSGt8Orkm",
        "pycharm": {
          "name": "#%%\n"
        }
      },
      "outputs": [],
      "source": [
        "# convertir texto de entrada del usuario a tokens\n",
        "def text_to_tokens(text):\n",
        "    lemma_tokens = []\n",
        "    tokens = nlp(preprocess_clean_text(text.lower()))\n",
        "    for token in tokens:\n",
        "        lemma_tokens.append(token.lemma_)\n",
        "    #print(lemma_tokens)\n",
        "    return lemma_tokens\n",
        "\n",
        "# transformar el texto de entrada tokenizado a una representación OHE\n",
        "def bag_of_words(text, vocab): \n",
        "    tokens = text_to_tokens(text)\n",
        "    bow = [0] * len(vocab)\n",
        "    for w in tokens: \n",
        "        for idx, word in enumerate(vocab):\n",
        "            if word == w: \n",
        "                bow[idx] = 1\n",
        "    #print(bow)\n",
        "    return np.array(bow)\n",
        "\n",
        "# usar modelo con la entrada en OHE y los labels posibles (tags)\n",
        "def pred_class(text, vocab, labels): \n",
        "    bow = bag_of_words(text, vocab)\n",
        "    words_recognized = sum(bow)\n",
        "\n",
        "    return_list = []\n",
        "    if words_recognized > 0: # sólo si reconoció alguna palabra del vocabulario\n",
        "        result = model.predict(np.array([bow]))[0] # es un array de softmax\n",
        "        thresh = 0.2\n",
        "        # filtrar aquellas entradas menores al umbral `thresh`\n",
        "        y_pred = [[idx, res] for idx, res in enumerate(result) if res > thresh]\n",
        "        # ordenar keys de acuerdo al valor softmax\n",
        "        y_pred.sort(key=lambda x: x[1], reverse=True)\n",
        "    \n",
        "        # return_list es una lista de los labels de mayor a menor\n",
        "        for r in y_pred:\n",
        "            return_list.append(labels[r[0]])\n",
        "            #print(labels[r[0]], r[1])\n",
        "\n",
        "    # si no reconoció palabras del vocabulario se devuelve una lista vacía\n",
        "    return return_list\n",
        "\n",
        "# obtener una respuesta predeterminada \n",
        "def get_response(intents_list, intents_json):\n",
        "    tag = intents_list[0] # tomar el tag con el mejor valor softmax\n",
        "    list_of_intents = intents_json[\"intents\"] # intents_json es todo el dataset\n",
        "    for i in list_of_intents: \n",
        "        if i[\"tag\"] == tag: # buscar el tag correspoindiente y dar una respuesta predeterminada aleatoria \n",
        "            result = random.choice(i[\"responses\"])\n",
        "            break\n",
        "    return result"
      ]
    },
    {
      "cell_type": "markdown",
      "source": [
        "### CHATBOT de Playa de Estacionamiento"
      ],
      "metadata": {
        "id": "j1q9pQ_H5Y_b"
      }
    },
    {
      "cell_type": "code",
      "execution_count": 41,
      "metadata": {
        "id": "Xp1vXQwdOvl7",
        "pycharm": {
          "name": "#%%\n"
        },
        "colab": {
          "base_uri": "https://localhost:8080/",
          "height": 1000
        },
        "outputId": "f35b468e-f788-4eb3-8f76-91f57a7b786f"
      },
      "outputs": [
        {
          "output_type": "stream",
          "name": "stdout",
          "text": [
            "Buenas\n",
            "Q: Buenas\n",
            "1/1 [==============================] - 0s 17ms/step\n",
            "BOT: Hola amig@\n",
            "¿Donde me estaciono?\n",
            "Q: ¿Donde me estaciono?\n",
            "1/1 [==============================] - 0s 17ms/step\n",
            "BOT: Siga las indicaciones, su número es <numero> de estacionamiento\n",
            "Cuanto cuesta\n",
            "Q: Cuanto cuesta\n",
            "1/1 [==============================] - 0s 17ms/step\n",
            "BOT: Precio por hora es $100\n",
            "horarios?\n",
            "Q: horarios?\n",
            "BOT: Perdón, no comprendo la pregunta.\n",
            "¿Cierran a la noche?\n",
            "Q: ¿Cierran a la noche?\n",
            "1/1 [==============================] - 0s 22ms/step\n",
            "BOT: Horario corrido de 8hs a 22hs\n",
            "Me voy ¿Donde pago?\n",
            "Q: Me voy ¿Donde pago?\n",
            "1/1 [==============================] - 0s 19ms/step\n",
            "BOT: Su estacionamiento será <numero>\n",
            "¿Adonde tengo que pagar?\n",
            "Q: ¿Adonde tengo que pagar?\n",
            "1/1 [==============================] - 0s 17ms/step\n",
            "BOT: Estacionamiento asignado <numero>\n",
            "¿Por donde me voy?\n",
            "Q: ¿Por donde me voy?\n",
            "1/1 [==============================] - 0s 18ms/step\n",
            "BOT: Estacionamiento asignado <numero>\n",
            "Quiero pagar \n",
            "Q: Quiero pagar \n",
            "1/1 [==============================] - 0s 17ms/step\n",
            "BOT: Aceptamos distintos pagos\n",
            "Por donde salgo?\n",
            "Q: Por donde salgo?\n",
            "1/1 [==============================] - 0s 17ms/step\n",
            "BOT: Atento a las flechas de salida\n",
            "sigo la salida?\n",
            "Q: sigo la salida?\n",
            "1/1 [==============================] - 0s 17ms/step\n",
            "BOT: Atento a las flechas de salida\n",
            "¿Aceptan efectivo?\n",
            "Q: ¿Aceptan efectivo?\n",
            "1/1 [==============================] - 0s 18ms/step\n",
            "BOT: A la salida podrá pagar por distintos medios\n",
            "bueno, chau\n",
            "Q: bueno, chau\n",
            "1/1 [==============================] - 0s 17ms/step\n",
            "BOT: Hola!\n",
            "me despido\n",
            "Q: me despido\n",
            "1/1 [==============================] - 0s 18ms/step\n",
            "BOT: Su estacionamiento será <numero>\n",
            "hasta luego\n",
            "Q: hasta luego\n",
            "1/1 [==============================] - 0s 17ms/step\n",
            "BOT: Lo esperamos, en la proxima visita!\n"
          ]
        },
        {
          "output_type": "error",
          "ename": "KeyboardInterrupt",
          "evalue": "ignored",
          "traceback": [
            "\u001b[0;31m---------------------------------------------------------------------------\u001b[0m",
            "\u001b[0;31mKeyboardInterrupt\u001b[0m                         Traceback (most recent call last)",
            "\u001b[0;32m<ipython-input-41-a132b4d00fe1>\u001b[0m in \u001b[0;36m<module>\u001b[0;34m\u001b[0m\n\u001b[1;32m      1\u001b[0m \u001b[0;32mwhile\u001b[0m \u001b[0;32mTrue\u001b[0m\u001b[0;34m:\u001b[0m\u001b[0;34m\u001b[0m\u001b[0;34m\u001b[0m\u001b[0m\n\u001b[1;32m      2\u001b[0m     \u001b[0;31m# pedir input al usuario\u001b[0m\u001b[0;34m\u001b[0m\u001b[0;34m\u001b[0m\u001b[0;34m\u001b[0m\u001b[0m\n\u001b[0;32m----> 3\u001b[0;31m     \u001b[0mmessage\u001b[0m \u001b[0;34m=\u001b[0m \u001b[0minput\u001b[0m\u001b[0;34m(\u001b[0m\u001b[0;34m\"\"\u001b[0m\u001b[0;34m)\u001b[0m\u001b[0;34m\u001b[0m\u001b[0;34m\u001b[0m\u001b[0m\n\u001b[0m\u001b[1;32m      4\u001b[0m     \u001b[0mprint\u001b[0m\u001b[0;34m(\u001b[0m\u001b[0;34m\"Q:\"\u001b[0m\u001b[0;34m,\u001b[0m \u001b[0mmessage\u001b[0m\u001b[0;34m)\u001b[0m\u001b[0;34m\u001b[0m\u001b[0;34m\u001b[0m\u001b[0m\n\u001b[1;32m      5\u001b[0m \u001b[0;34m\u001b[0m\u001b[0m\n",
            "\u001b[0;32m/usr/local/lib/python3.7/dist-packages/ipykernel/kernelbase.py\u001b[0m in \u001b[0;36mraw_input\u001b[0;34m(self, prompt)\u001b[0m\n\u001b[1;32m    861\u001b[0m             \u001b[0mself\u001b[0m\u001b[0;34m.\u001b[0m\u001b[0m_parent_ident\u001b[0m\u001b[0;34m,\u001b[0m\u001b[0;34m\u001b[0m\u001b[0;34m\u001b[0m\u001b[0m\n\u001b[1;32m    862\u001b[0m             \u001b[0mself\u001b[0m\u001b[0;34m.\u001b[0m\u001b[0m_parent_header\u001b[0m\u001b[0;34m,\u001b[0m\u001b[0;34m\u001b[0m\u001b[0;34m\u001b[0m\u001b[0m\n\u001b[0;32m--> 863\u001b[0;31m             \u001b[0mpassword\u001b[0m\u001b[0;34m=\u001b[0m\u001b[0;32mFalse\u001b[0m\u001b[0;34m,\u001b[0m\u001b[0;34m\u001b[0m\u001b[0;34m\u001b[0m\u001b[0m\n\u001b[0m\u001b[1;32m    864\u001b[0m         )\n\u001b[1;32m    865\u001b[0m \u001b[0;34m\u001b[0m\u001b[0m\n",
            "\u001b[0;32m/usr/local/lib/python3.7/dist-packages/ipykernel/kernelbase.py\u001b[0m in \u001b[0;36m_input_request\u001b[0;34m(self, prompt, ident, parent, password)\u001b[0m\n\u001b[1;32m    902\u001b[0m             \u001b[0;32mexcept\u001b[0m \u001b[0mKeyboardInterrupt\u001b[0m\u001b[0;34m:\u001b[0m\u001b[0;34m\u001b[0m\u001b[0;34m\u001b[0m\u001b[0m\n\u001b[1;32m    903\u001b[0m                 \u001b[0;31m# re-raise KeyboardInterrupt, to truncate traceback\u001b[0m\u001b[0;34m\u001b[0m\u001b[0;34m\u001b[0m\u001b[0;34m\u001b[0m\u001b[0m\n\u001b[0;32m--> 904\u001b[0;31m                 \u001b[0;32mraise\u001b[0m \u001b[0mKeyboardInterrupt\u001b[0m\u001b[0;34m(\u001b[0m\u001b[0;34m\"Interrupted by user\"\u001b[0m\u001b[0;34m)\u001b[0m \u001b[0;32mfrom\u001b[0m \u001b[0;32mNone\u001b[0m\u001b[0;34m\u001b[0m\u001b[0;34m\u001b[0m\u001b[0m\n\u001b[0m\u001b[1;32m    905\u001b[0m             \u001b[0;32mexcept\u001b[0m \u001b[0mException\u001b[0m \u001b[0;32mas\u001b[0m \u001b[0me\u001b[0m\u001b[0;34m:\u001b[0m\u001b[0;34m\u001b[0m\u001b[0;34m\u001b[0m\u001b[0m\n\u001b[1;32m    906\u001b[0m                 \u001b[0mself\u001b[0m\u001b[0;34m.\u001b[0m\u001b[0mlog\u001b[0m\u001b[0;34m.\u001b[0m\u001b[0mwarning\u001b[0m\u001b[0;34m(\u001b[0m\u001b[0;34m\"Invalid Message:\"\u001b[0m\u001b[0;34m,\u001b[0m \u001b[0mexc_info\u001b[0m\u001b[0;34m=\u001b[0m\u001b[0;32mTrue\u001b[0m\u001b[0;34m)\u001b[0m\u001b[0;34m\u001b[0m\u001b[0;34m\u001b[0m\u001b[0m\n",
            "\u001b[0;31mKeyboardInterrupt\u001b[0m: Interrupted by user"
          ]
        }
      ],
      "source": [
        "while True:\n",
        "    # pedir input al usuario\n",
        "    message = input(\"\")\n",
        "    print(\"Q:\", message)\n",
        "\n",
        "    intents = pred_class(message, words, classes)\n",
        "    if len(intents) > 0:\n",
        "        result = get_response(intents, dataset)\n",
        "        print(\"BOT:\", result)\n",
        "    else: # si no hubo ningún resultado que supere el umbral\n",
        "        print(\"BOT: Perdón, no comprendo la pregunta.\")\n",
        "    "
      ]
    },
    {
      "cell_type": "markdown",
      "metadata": {
        "id": "ayatkwp4fYQx",
        "pycharm": {
          "name": "#%% md\n"
        }
      },
      "source": [
        "### 7 - Conclusiones\n",
        "El bot tal cual está definido es capaz de responder a bastantes tipos de preguntas con gran precisión. Algunas técnicas que podrían ensayarse para evaluar como impactan en el sistema son:\n",
        "- Filtrar los stop words\n",
        "- Utilizar TF-IDF en vez de bag of words"
      ]
    },
    {
      "cell_type": "markdown",
      "source": [
        "Interesante las opciones de respuestas, ya que el entrenamiento toma en cuenta las palabras claves. En esta situación en particular (Playa de estacionamiento) la conjunción entre IOT y IA puede llevar a automatizar la asignacion de lugares de acuerdo al tiempo estimado por los propios usuarios y/o el sistema aprendiendo el tiempo de acuerdo al dia de la semana. asignando lugares en el fondo y mas cerca de la salida a los que solo van por tiempos cor"
      ],
      "metadata": {
        "id": "aMfqIw2pVifl"
      }
    },
    {
      "cell_type": "markdown",
      "metadata": {
        "pycharm": {
          "name": "#%% md\n"
        },
        "id": "FwPi-5qj41-s"
      },
      "source": [
        "### Alumno"
      ]
    },
    {
      "cell_type": "markdown",
      "metadata": {
        "pycharm": {
          "name": "#%% md\n"
        },
        "id": "KxU6_Dk841-s"
      },
      "source": [
        "- Tomar un ejemplo de los bots utilizados (uno de los dos) y construir el propio.\n",
        "- Sacar conclusiones de los resultados.\n",
        "\n",
        "__IMPORTANTE__: Recuerde para la entrega del ejercicio debe quedar registrado en el colab las preguntas y las respuestas del BOT para que podamos evaluar el desempeño final."
      ]
    }
  ],
  "metadata": {
    "colab": {
      "collapsed_sections": [],
      "provenance": []
    },
    "kernelspec": {
      "display_name": "Python 3",
      "language": "python",
      "name": "python3"
    },
    "language_info": {
      "codemirror_mode": {
        "name": "ipython",
        "version": 3
      },
      "file_extension": ".py",
      "mimetype": "text/x-python",
      "name": "python",
      "nbconvert_exporter": "python",
      "pygments_lexer": "ipython3",
      "version": "3.8.10"
    },
    "widgets": {
      "application/vnd.jupyter.widget-state+json": {
        "9c3f5e10dce84d3484752654cb204106": {
          "model_module": "@jupyter-widgets/controls",
          "model_name": "HBoxModel",
          "model_module_version": "1.5.0",
          "state": {
            "_dom_classes": [],
            "_model_module": "@jupyter-widgets/controls",
            "_model_module_version": "1.5.0",
            "_model_name": "HBoxModel",
            "_view_count": null,
            "_view_module": "@jupyter-widgets/controls",
            "_view_module_version": "1.5.0",
            "_view_name": "HBoxView",
            "box_style": "",
            "children": [
              "IPY_MODEL_212869634efc4edbba2aa8e2fe67e6ab",
              "IPY_MODEL_8db02502f8e84f28bbe1143f8d07debd",
              "IPY_MODEL_049d6bea0a454e81b6b7c1d560f1d5aa"
            ],
            "layout": "IPY_MODEL_c68e37b019aa449ebfb5bd17038115c2"
          }
        },
        "212869634efc4edbba2aa8e2fe67e6ab": {
          "model_module": "@jupyter-widgets/controls",
          "model_name": "HTMLModel",
          "model_module_version": "1.5.0",
          "state": {
            "_dom_classes": [],
            "_model_module": "@jupyter-widgets/controls",
            "_model_module_version": "1.5.0",
            "_model_name": "HTMLModel",
            "_view_count": null,
            "_view_module": "@jupyter-widgets/controls",
            "_view_module_version": "1.5.0",
            "_view_name": "HTMLView",
            "description": "",
            "description_tooltip": null,
            "layout": "IPY_MODEL_cc0a5783ebdb4d389934764e7259450a",
            "placeholder": "​",
            "style": "IPY_MODEL_de7fb96a73e74520b072c246853cc87c",
            "value": "Downloading https://raw.githubusercontent.com/stanfordnlp/stanza-resources/main/resources_1.2.2.json: "
          }
        },
        "8db02502f8e84f28bbe1143f8d07debd": {
          "model_module": "@jupyter-widgets/controls",
          "model_name": "FloatProgressModel",
          "model_module_version": "1.5.0",
          "state": {
            "_dom_classes": [],
            "_model_module": "@jupyter-widgets/controls",
            "_model_module_version": "1.5.0",
            "_model_name": "FloatProgressModel",
            "_view_count": null,
            "_view_module": "@jupyter-widgets/controls",
            "_view_module_version": "1.5.0",
            "_view_name": "ProgressView",
            "bar_style": "success",
            "description": "",
            "description_tooltip": null,
            "layout": "IPY_MODEL_0532f967ad5c409d9888c812c9062fd8",
            "max": 24144,
            "min": 0,
            "orientation": "horizontal",
            "style": "IPY_MODEL_7a8b9c8397304ed191be824de6d82426",
            "value": 24144
          }
        },
        "049d6bea0a454e81b6b7c1d560f1d5aa": {
          "model_module": "@jupyter-widgets/controls",
          "model_name": "HTMLModel",
          "model_module_version": "1.5.0",
          "state": {
            "_dom_classes": [],
            "_model_module": "@jupyter-widgets/controls",
            "_model_module_version": "1.5.0",
            "_model_name": "HTMLModel",
            "_view_count": null,
            "_view_module": "@jupyter-widgets/controls",
            "_view_module_version": "1.5.0",
            "_view_name": "HTMLView",
            "description": "",
            "description_tooltip": null,
            "layout": "IPY_MODEL_fcb8034ed436430db2e928ddabddd648",
            "placeholder": "​",
            "style": "IPY_MODEL_283f0cac38774c2f9198f6b563316e8f",
            "value": " 140k/? [00:00&lt;00:00, 1.09MB/s]"
          }
        },
        "c68e37b019aa449ebfb5bd17038115c2": {
          "model_module": "@jupyter-widgets/base",
          "model_name": "LayoutModel",
          "model_module_version": "1.2.0",
          "state": {
            "_model_module": "@jupyter-widgets/base",
            "_model_module_version": "1.2.0",
            "_model_name": "LayoutModel",
            "_view_count": null,
            "_view_module": "@jupyter-widgets/base",
            "_view_module_version": "1.2.0",
            "_view_name": "LayoutView",
            "align_content": null,
            "align_items": null,
            "align_self": null,
            "border": null,
            "bottom": null,
            "display": null,
            "flex": null,
            "flex_flow": null,
            "grid_area": null,
            "grid_auto_columns": null,
            "grid_auto_flow": null,
            "grid_auto_rows": null,
            "grid_column": null,
            "grid_gap": null,
            "grid_row": null,
            "grid_template_areas": null,
            "grid_template_columns": null,
            "grid_template_rows": null,
            "height": null,
            "justify_content": null,
            "justify_items": null,
            "left": null,
            "margin": null,
            "max_height": null,
            "max_width": null,
            "min_height": null,
            "min_width": null,
            "object_fit": null,
            "object_position": null,
            "order": null,
            "overflow": null,
            "overflow_x": null,
            "overflow_y": null,
            "padding": null,
            "right": null,
            "top": null,
            "visibility": null,
            "width": null
          }
        },
        "cc0a5783ebdb4d389934764e7259450a": {
          "model_module": "@jupyter-widgets/base",
          "model_name": "LayoutModel",
          "model_module_version": "1.2.0",
          "state": {
            "_model_module": "@jupyter-widgets/base",
            "_model_module_version": "1.2.0",
            "_model_name": "LayoutModel",
            "_view_count": null,
            "_view_module": "@jupyter-widgets/base",
            "_view_module_version": "1.2.0",
            "_view_name": "LayoutView",
            "align_content": null,
            "align_items": null,
            "align_self": null,
            "border": null,
            "bottom": null,
            "display": null,
            "flex": null,
            "flex_flow": null,
            "grid_area": null,
            "grid_auto_columns": null,
            "grid_auto_flow": null,
            "grid_auto_rows": null,
            "grid_column": null,
            "grid_gap": null,
            "grid_row": null,
            "grid_template_areas": null,
            "grid_template_columns": null,
            "grid_template_rows": null,
            "height": null,
            "justify_content": null,
            "justify_items": null,
            "left": null,
            "margin": null,
            "max_height": null,
            "max_width": null,
            "min_height": null,
            "min_width": null,
            "object_fit": null,
            "object_position": null,
            "order": null,
            "overflow": null,
            "overflow_x": null,
            "overflow_y": null,
            "padding": null,
            "right": null,
            "top": null,
            "visibility": null,
            "width": null
          }
        },
        "de7fb96a73e74520b072c246853cc87c": {
          "model_module": "@jupyter-widgets/controls",
          "model_name": "DescriptionStyleModel",
          "model_module_version": "1.5.0",
          "state": {
            "_model_module": "@jupyter-widgets/controls",
            "_model_module_version": "1.5.0",
            "_model_name": "DescriptionStyleModel",
            "_view_count": null,
            "_view_module": "@jupyter-widgets/base",
            "_view_module_version": "1.2.0",
            "_view_name": "StyleView",
            "description_width": ""
          }
        },
        "0532f967ad5c409d9888c812c9062fd8": {
          "model_module": "@jupyter-widgets/base",
          "model_name": "LayoutModel",
          "model_module_version": "1.2.0",
          "state": {
            "_model_module": "@jupyter-widgets/base",
            "_model_module_version": "1.2.0",
            "_model_name": "LayoutModel",
            "_view_count": null,
            "_view_module": "@jupyter-widgets/base",
            "_view_module_version": "1.2.0",
            "_view_name": "LayoutView",
            "align_content": null,
            "align_items": null,
            "align_self": null,
            "border": null,
            "bottom": null,
            "display": null,
            "flex": null,
            "flex_flow": null,
            "grid_area": null,
            "grid_auto_columns": null,
            "grid_auto_flow": null,
            "grid_auto_rows": null,
            "grid_column": null,
            "grid_gap": null,
            "grid_row": null,
            "grid_template_areas": null,
            "grid_template_columns": null,
            "grid_template_rows": null,
            "height": null,
            "justify_content": null,
            "justify_items": null,
            "left": null,
            "margin": null,
            "max_height": null,
            "max_width": null,
            "min_height": null,
            "min_width": null,
            "object_fit": null,
            "object_position": null,
            "order": null,
            "overflow": null,
            "overflow_x": null,
            "overflow_y": null,
            "padding": null,
            "right": null,
            "top": null,
            "visibility": null,
            "width": null
          }
        },
        "7a8b9c8397304ed191be824de6d82426": {
          "model_module": "@jupyter-widgets/controls",
          "model_name": "ProgressStyleModel",
          "model_module_version": "1.5.0",
          "state": {
            "_model_module": "@jupyter-widgets/controls",
            "_model_module_version": "1.5.0",
            "_model_name": "ProgressStyleModel",
            "_view_count": null,
            "_view_module": "@jupyter-widgets/base",
            "_view_module_version": "1.2.0",
            "_view_name": "StyleView",
            "bar_color": null,
            "description_width": ""
          }
        },
        "fcb8034ed436430db2e928ddabddd648": {
          "model_module": "@jupyter-widgets/base",
          "model_name": "LayoutModel",
          "model_module_version": "1.2.0",
          "state": {
            "_model_module": "@jupyter-widgets/base",
            "_model_module_version": "1.2.0",
            "_model_name": "LayoutModel",
            "_view_count": null,
            "_view_module": "@jupyter-widgets/base",
            "_view_module_version": "1.2.0",
            "_view_name": "LayoutView",
            "align_content": null,
            "align_items": null,
            "align_self": null,
            "border": null,
            "bottom": null,
            "display": null,
            "flex": null,
            "flex_flow": null,
            "grid_area": null,
            "grid_auto_columns": null,
            "grid_auto_flow": null,
            "grid_auto_rows": null,
            "grid_column": null,
            "grid_gap": null,
            "grid_row": null,
            "grid_template_areas": null,
            "grid_template_columns": null,
            "grid_template_rows": null,
            "height": null,
            "justify_content": null,
            "justify_items": null,
            "left": null,
            "margin": null,
            "max_height": null,
            "max_width": null,
            "min_height": null,
            "min_width": null,
            "object_fit": null,
            "object_position": null,
            "order": null,
            "overflow": null,
            "overflow_x": null,
            "overflow_y": null,
            "padding": null,
            "right": null,
            "top": null,
            "visibility": null,
            "width": null
          }
        },
        "283f0cac38774c2f9198f6b563316e8f": {
          "model_module": "@jupyter-widgets/controls",
          "model_name": "DescriptionStyleModel",
          "model_module_version": "1.5.0",
          "state": {
            "_model_module": "@jupyter-widgets/controls",
            "_model_module_version": "1.5.0",
            "_model_name": "DescriptionStyleModel",
            "_view_count": null,
            "_view_module": "@jupyter-widgets/base",
            "_view_module_version": "1.2.0",
            "_view_name": "StyleView",
            "description_width": ""
          }
        },
        "36a7ce33d3264aef8b2f78b44a4b8b53": {
          "model_module": "@jupyter-widgets/controls",
          "model_name": "HBoxModel",
          "model_module_version": "1.5.0",
          "state": {
            "_dom_classes": [],
            "_model_module": "@jupyter-widgets/controls",
            "_model_module_version": "1.5.0",
            "_model_name": "HBoxModel",
            "_view_count": null,
            "_view_module": "@jupyter-widgets/controls",
            "_view_module_version": "1.5.0",
            "_view_name": "HBoxView",
            "box_style": "",
            "children": [
              "IPY_MODEL_fa67dcdc104e46198e4189d6773362e2",
              "IPY_MODEL_258bad91a08f44e6b79f526b40e583e2",
              "IPY_MODEL_554862db834f4b12898c9037ce011e2f"
            ],
            "layout": "IPY_MODEL_c542702909a74d81ad25e3e62676644d"
          }
        },
        "fa67dcdc104e46198e4189d6773362e2": {
          "model_module": "@jupyter-widgets/controls",
          "model_name": "HTMLModel",
          "model_module_version": "1.5.0",
          "state": {
            "_dom_classes": [],
            "_model_module": "@jupyter-widgets/controls",
            "_model_module_version": "1.5.0",
            "_model_name": "HTMLModel",
            "_view_count": null,
            "_view_module": "@jupyter-widgets/controls",
            "_view_module_version": "1.5.0",
            "_view_name": "HTMLView",
            "description": "",
            "description_tooltip": null,
            "layout": "IPY_MODEL_f7202df4d01b423eb5ffa7568bdf5ca4",
            "placeholder": "​",
            "style": "IPY_MODEL_c9ea12b954f04195b05960c39ecfffe3",
            "value": "Downloading http://nlp.stanford.edu/software/stanza/1.2.2/es/default.zip: 100%"
          }
        },
        "258bad91a08f44e6b79f526b40e583e2": {
          "model_module": "@jupyter-widgets/controls",
          "model_name": "FloatProgressModel",
          "model_module_version": "1.5.0",
          "state": {
            "_dom_classes": [],
            "_model_module": "@jupyter-widgets/controls",
            "_model_module_version": "1.5.0",
            "_model_name": "FloatProgressModel",
            "_view_count": null,
            "_view_module": "@jupyter-widgets/controls",
            "_view_module_version": "1.5.0",
            "_view_name": "ProgressView",
            "bar_style": "success",
            "description": "",
            "description_tooltip": null,
            "layout": "IPY_MODEL_aabdff23cc96430d93ea3ee5892e9293",
            "max": 565553347,
            "min": 0,
            "orientation": "horizontal",
            "style": "IPY_MODEL_10b283dddf784e7581543e0106f921fd",
            "value": 565553347
          }
        },
        "554862db834f4b12898c9037ce011e2f": {
          "model_module": "@jupyter-widgets/controls",
          "model_name": "HTMLModel",
          "model_module_version": "1.5.0",
          "state": {
            "_dom_classes": [],
            "_model_module": "@jupyter-widgets/controls",
            "_model_module_version": "1.5.0",
            "_model_name": "HTMLModel",
            "_view_count": null,
            "_view_module": "@jupyter-widgets/controls",
            "_view_module_version": "1.5.0",
            "_view_name": "HTMLView",
            "description": "",
            "description_tooltip": null,
            "layout": "IPY_MODEL_c384d4cc925b40018558ccfc6b946718",
            "placeholder": "​",
            "style": "IPY_MODEL_a4833984da7e49e6b3721aecd702a924",
            "value": " 566M/566M [01:42&lt;00:00, 5.32MB/s]"
          }
        },
        "c542702909a74d81ad25e3e62676644d": {
          "model_module": "@jupyter-widgets/base",
          "model_name": "LayoutModel",
          "model_module_version": "1.2.0",
          "state": {
            "_model_module": "@jupyter-widgets/base",
            "_model_module_version": "1.2.0",
            "_model_name": "LayoutModel",
            "_view_count": null,
            "_view_module": "@jupyter-widgets/base",
            "_view_module_version": "1.2.0",
            "_view_name": "LayoutView",
            "align_content": null,
            "align_items": null,
            "align_self": null,
            "border": null,
            "bottom": null,
            "display": null,
            "flex": null,
            "flex_flow": null,
            "grid_area": null,
            "grid_auto_columns": null,
            "grid_auto_flow": null,
            "grid_auto_rows": null,
            "grid_column": null,
            "grid_gap": null,
            "grid_row": null,
            "grid_template_areas": null,
            "grid_template_columns": null,
            "grid_template_rows": null,
            "height": null,
            "justify_content": null,
            "justify_items": null,
            "left": null,
            "margin": null,
            "max_height": null,
            "max_width": null,
            "min_height": null,
            "min_width": null,
            "object_fit": null,
            "object_position": null,
            "order": null,
            "overflow": null,
            "overflow_x": null,
            "overflow_y": null,
            "padding": null,
            "right": null,
            "top": null,
            "visibility": null,
            "width": null
          }
        },
        "f7202df4d01b423eb5ffa7568bdf5ca4": {
          "model_module": "@jupyter-widgets/base",
          "model_name": "LayoutModel",
          "model_module_version": "1.2.0",
          "state": {
            "_model_module": "@jupyter-widgets/base",
            "_model_module_version": "1.2.0",
            "_model_name": "LayoutModel",
            "_view_count": null,
            "_view_module": "@jupyter-widgets/base",
            "_view_module_version": "1.2.0",
            "_view_name": "LayoutView",
            "align_content": null,
            "align_items": null,
            "align_self": null,
            "border": null,
            "bottom": null,
            "display": null,
            "flex": null,
            "flex_flow": null,
            "grid_area": null,
            "grid_auto_columns": null,
            "grid_auto_flow": null,
            "grid_auto_rows": null,
            "grid_column": null,
            "grid_gap": null,
            "grid_row": null,
            "grid_template_areas": null,
            "grid_template_columns": null,
            "grid_template_rows": null,
            "height": null,
            "justify_content": null,
            "justify_items": null,
            "left": null,
            "margin": null,
            "max_height": null,
            "max_width": null,
            "min_height": null,
            "min_width": null,
            "object_fit": null,
            "object_position": null,
            "order": null,
            "overflow": null,
            "overflow_x": null,
            "overflow_y": null,
            "padding": null,
            "right": null,
            "top": null,
            "visibility": null,
            "width": null
          }
        },
        "c9ea12b954f04195b05960c39ecfffe3": {
          "model_module": "@jupyter-widgets/controls",
          "model_name": "DescriptionStyleModel",
          "model_module_version": "1.5.0",
          "state": {
            "_model_module": "@jupyter-widgets/controls",
            "_model_module_version": "1.5.0",
            "_model_name": "DescriptionStyleModel",
            "_view_count": null,
            "_view_module": "@jupyter-widgets/base",
            "_view_module_version": "1.2.0",
            "_view_name": "StyleView",
            "description_width": ""
          }
        },
        "aabdff23cc96430d93ea3ee5892e9293": {
          "model_module": "@jupyter-widgets/base",
          "model_name": "LayoutModel",
          "model_module_version": "1.2.0",
          "state": {
            "_model_module": "@jupyter-widgets/base",
            "_model_module_version": "1.2.0",
            "_model_name": "LayoutModel",
            "_view_count": null,
            "_view_module": "@jupyter-widgets/base",
            "_view_module_version": "1.2.0",
            "_view_name": "LayoutView",
            "align_content": null,
            "align_items": null,
            "align_self": null,
            "border": null,
            "bottom": null,
            "display": null,
            "flex": null,
            "flex_flow": null,
            "grid_area": null,
            "grid_auto_columns": null,
            "grid_auto_flow": null,
            "grid_auto_rows": null,
            "grid_column": null,
            "grid_gap": null,
            "grid_row": null,
            "grid_template_areas": null,
            "grid_template_columns": null,
            "grid_template_rows": null,
            "height": null,
            "justify_content": null,
            "justify_items": null,
            "left": null,
            "margin": null,
            "max_height": null,
            "max_width": null,
            "min_height": null,
            "min_width": null,
            "object_fit": null,
            "object_position": null,
            "order": null,
            "overflow": null,
            "overflow_x": null,
            "overflow_y": null,
            "padding": null,
            "right": null,
            "top": null,
            "visibility": null,
            "width": null
          }
        },
        "10b283dddf784e7581543e0106f921fd": {
          "model_module": "@jupyter-widgets/controls",
          "model_name": "ProgressStyleModel",
          "model_module_version": "1.5.0",
          "state": {
            "_model_module": "@jupyter-widgets/controls",
            "_model_module_version": "1.5.0",
            "_model_name": "ProgressStyleModel",
            "_view_count": null,
            "_view_module": "@jupyter-widgets/base",
            "_view_module_version": "1.2.0",
            "_view_name": "StyleView",
            "bar_color": null,
            "description_width": ""
          }
        },
        "c384d4cc925b40018558ccfc6b946718": {
          "model_module": "@jupyter-widgets/base",
          "model_name": "LayoutModel",
          "model_module_version": "1.2.0",
          "state": {
            "_model_module": "@jupyter-widgets/base",
            "_model_module_version": "1.2.0",
            "_model_name": "LayoutModel",
            "_view_count": null,
            "_view_module": "@jupyter-widgets/base",
            "_view_module_version": "1.2.0",
            "_view_name": "LayoutView",
            "align_content": null,
            "align_items": null,
            "align_self": null,
            "border": null,
            "bottom": null,
            "display": null,
            "flex": null,
            "flex_flow": null,
            "grid_area": null,
            "grid_auto_columns": null,
            "grid_auto_flow": null,
            "grid_auto_rows": null,
            "grid_column": null,
            "grid_gap": null,
            "grid_row": null,
            "grid_template_areas": null,
            "grid_template_columns": null,
            "grid_template_rows": null,
            "height": null,
            "justify_content": null,
            "justify_items": null,
            "left": null,
            "margin": null,
            "max_height": null,
            "max_width": null,
            "min_height": null,
            "min_width": null,
            "object_fit": null,
            "object_position": null,
            "order": null,
            "overflow": null,
            "overflow_x": null,
            "overflow_y": null,
            "padding": null,
            "right": null,
            "top": null,
            "visibility": null,
            "width": null
          }
        },
        "a4833984da7e49e6b3721aecd702a924": {
          "model_module": "@jupyter-widgets/controls",
          "model_name": "DescriptionStyleModel",
          "model_module_version": "1.5.0",
          "state": {
            "_model_module": "@jupyter-widgets/controls",
            "_model_module_version": "1.5.0",
            "_model_name": "DescriptionStyleModel",
            "_view_count": null,
            "_view_module": "@jupyter-widgets/base",
            "_view_module_version": "1.2.0",
            "_view_name": "StyleView",
            "description_width": ""
          }
        }
      }
    }
  },
  "nbformat": 4,
  "nbformat_minor": 0
}